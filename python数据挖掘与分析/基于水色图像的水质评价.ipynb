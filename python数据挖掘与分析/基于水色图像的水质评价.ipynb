{
 "cells": [
  {
   "cell_type": "markdown",
   "metadata": {},
   "source": [
    "## 1、模型的输入"
   ]
  },
  {
   "cell_type": "code",
   "execution_count": 57,
   "metadata": {
    "collapsed": false
   },
   "outputs": [
    {
     "data": {
      "text/html": [
       "<div>\n",
       "<table border=\"1\" class=\"dataframe\">\n",
       "  <thead>\n",
       "    <tr style=\"text-align: right;\">\n",
       "      <th></th>\n",
       "      <th>类别</th>\n",
       "      <th>序号</th>\n",
       "      <th>R通道一阶矩</th>\n",
       "      <th>G通道一阶矩</th>\n",
       "      <th>B通道一阶矩</th>\n",
       "      <th>R通道二阶矩</th>\n",
       "      <th>G通道二阶矩</th>\n",
       "      <th>B通道二阶矩</th>\n",
       "      <th>R通道三阶矩</th>\n",
       "      <th>G通道三阶矩</th>\n",
       "      <th>B通道三阶矩</th>\n",
       "    </tr>\n",
       "  </thead>\n",
       "  <tbody>\n",
       "    <tr>\n",
       "      <th>0</th>\n",
       "      <td>1</td>\n",
       "      <td>1</td>\n",
       "      <td>0.582823</td>\n",
       "      <td>0.543774</td>\n",
       "      <td>0.252829</td>\n",
       "      <td>0.014192</td>\n",
       "      <td>0.016144</td>\n",
       "      <td>0.041075</td>\n",
       "      <td>-0.012643</td>\n",
       "      <td>-0.016090</td>\n",
       "      <td>-0.041536</td>\n",
       "    </tr>\n",
       "    <tr>\n",
       "      <th>1</th>\n",
       "      <td>1</td>\n",
       "      <td>10</td>\n",
       "      <td>0.641660</td>\n",
       "      <td>0.570657</td>\n",
       "      <td>0.213728</td>\n",
       "      <td>0.015439</td>\n",
       "      <td>0.011178</td>\n",
       "      <td>0.013708</td>\n",
       "      <td>0.009727</td>\n",
       "      <td>-0.003724</td>\n",
       "      <td>-0.003779</td>\n",
       "    </tr>\n",
       "    <tr>\n",
       "      <th>2</th>\n",
       "      <td>1</td>\n",
       "      <td>11</td>\n",
       "      <td>0.603684</td>\n",
       "      <td>0.576719</td>\n",
       "      <td>0.282254</td>\n",
       "      <td>0.008659</td>\n",
       "      <td>0.007075</td>\n",
       "      <td>0.012204</td>\n",
       "      <td>-0.004695</td>\n",
       "      <td>-0.002571</td>\n",
       "      <td>-0.009451</td>\n",
       "    </tr>\n",
       "    <tr>\n",
       "      <th>3</th>\n",
       "      <td>1</td>\n",
       "      <td>12</td>\n",
       "      <td>0.589706</td>\n",
       "      <td>0.593743</td>\n",
       "      <td>0.252242</td>\n",
       "      <td>0.007908</td>\n",
       "      <td>0.005941</td>\n",
       "      <td>0.010568</td>\n",
       "      <td>0.003303</td>\n",
       "      <td>-0.003417</td>\n",
       "      <td>-0.005273</td>\n",
       "    </tr>\n",
       "    <tr>\n",
       "      <th>4</th>\n",
       "      <td>1</td>\n",
       "      <td>13</td>\n",
       "      <td>0.591096</td>\n",
       "      <td>0.592093</td>\n",
       "      <td>0.253595</td>\n",
       "      <td>0.007448</td>\n",
       "      <td>0.006495</td>\n",
       "      <td>0.012152</td>\n",
       "      <td>0.000496</td>\n",
       "      <td>-0.002236</td>\n",
       "      <td>-0.005096</td>\n",
       "    </tr>\n",
       "  </tbody>\n",
       "</table>\n",
       "</div>"
      ],
      "text/plain": [
       "   类别  序号    R通道一阶矩    G通道一阶矩    B通道一阶矩    R通道二阶矩    G通道二阶矩    B通道二阶矩  \\\n",
       "0   1   1  0.582823  0.543774  0.252829  0.014192  0.016144  0.041075   \n",
       "1   1  10  0.641660  0.570657  0.213728  0.015439  0.011178  0.013708   \n",
       "2   1  11  0.603684  0.576719  0.282254  0.008659  0.007075  0.012204   \n",
       "3   1  12  0.589706  0.593743  0.252242  0.007908  0.005941  0.010568   \n",
       "4   1  13  0.591096  0.592093  0.253595  0.007448  0.006495  0.012152   \n",
       "\n",
       "     R通道三阶矩    G通道三阶矩    B通道三阶矩  \n",
       "0 -0.012643 -0.016090 -0.041536  \n",
       "1  0.009727 -0.003724 -0.003779  \n",
       "2 -0.004695 -0.002571 -0.009451  \n",
       "3  0.003303 -0.003417 -0.005273  \n",
       "4  0.000496 -0.002236 -0.005096  "
      ]
     },
     "execution_count": 57,
     "metadata": {},
     "output_type": "execute_result"
    }
   ],
   "source": [
    "import pandas as pd\n",
    "input_file='E://learnFile//chapter9//demo//data/moment.csv'\n",
    "data=pd.read_csv(input_file,encoding='gbk')#如果.csv文件不是utf-8的，也就是报错那里出现utf-8字眼，考虑一下设置encoding='gbk'\n",
    "data.head()"
   ]
  },
  {
   "cell_type": "code",
   "execution_count": 58,
   "metadata": {
    "collapsed": false
   },
   "outputs": [
    {
     "data": {
      "text/plain": [
       "array([1, 2, 3, 4, 5], dtype=int64)"
      ]
     },
     "execution_count": 58,
     "metadata": {},
     "output_type": "execute_result"
    }
   ],
   "source": [
    "data['类别'].unique()"
   ]
  },
  {
   "cell_type": "code",
   "execution_count": 59,
   "metadata": {
    "collapsed": true
   },
   "outputs": [],
   "source": [
    "#先将DataFrame类型的数据转换为矩阵，然后打乱数据，截止80%的数据作为训练集，剩下的作为测试集\n",
    "data=data.as_matrix()\n",
    "from random import shuffle\n",
    "shuffle(data)\n",
    "train=data[:int(0.8*len(data)),:]\n",
    "test=data[int(0.8*len(data)):,:]"
   ]
  },
  {
   "cell_type": "code",
   "execution_count": 60,
   "metadata": {
    "collapsed": true
   },
   "outputs": [],
   "source": [
    "#构造特征和标签\n",
    "x_train=train[:,2:]*15\n",
    "y_train=train[:,0].astype(int)\n",
    "x_test=test[:,2:]*15\n",
    "y_test=test[:,0].astype(int)\n"
   ]
  },
  {
   "cell_type": "code",
   "execution_count": 61,
   "metadata": {
    "collapsed": true
   },
   "outputs": [],
   "source": [
    "#导入模型相关的函数，建立并且训练模型\n",
    "from sklearn import svm\n",
    "model=svm.SVC()\n",
    "model.fit(x_train,y_train)\n",
    "import pickle#保存模型与读取模型\n",
    "pickle.dump(model,open('svm.model','wb'))\n",
    "model=pickle.load(open('svm.model','rb'))"
   ]
  },
  {
   "cell_type": "code",
   "execution_count": 62,
   "metadata": {
    "collapsed": false
   },
   "outputs": [
    {
     "name": "stdout",
     "output_type": "stream",
     "text": [
      "===============训练集混淆矩阵跟准确率==================\n"
     ]
    },
    {
     "data": {
      "image/png": "[encoded data removed]",
      "text/plain": [
       "<matplotlib.figure.Figure at 0xc218b35da0>"
      ]
     },
     "metadata": {},
     "output_type": "display_data"
    },
    {
     "name": "stdout",
     "output_type": "stream",
     "text": [
      "准确率: 0.987654320988\n",
      "===============测试集混淆矩阵跟准确率==================\n"
     ]
    },
    {
     "data": {
      "image/png": "[encoded data removed]",
      "text/plain": [
       "<matplotlib.figure.Figure at 0xc2176edcc0>"
      ]
     },
     "metadata": {},
     "output_type": "display_data"
    },
    {
     "name": "stdout",
     "output_type": "stream",
     "text": [
      "测试集: 0.951219512195\n"
     ]
    }
   ],
   "source": [
    "import matplotlib.pyplot as plt #导入作图库\n",
    "from sklearn.metrics import confusion_matrix #导入混淆矩阵函数\n",
    "def cm_plot(y, yp):\n",
    "    cm = confusion_matrix(y, yp) #混淆矩阵\n",
    "    plt.matshow(cm, cmap=plt.cm.Greens) #画混淆矩阵图，配色风格使用cm.Greens，更多风格请参考官网。\n",
    "    plt.colorbar() #颜色标签\n",
    "    for x in range(len(cm)): #数据标签\n",
    "        for y in range(len(cm)):\n",
    "            plt.annotate(cm[x,y], xy=(x, y), horizontalalignment='center', verticalalignment='center')\n",
    "    plt.ylabel('True label') #坐标轴标签\n",
    "    plt.xlabel('Predicted label') #坐标轴标签\n",
    "    return plt\n",
    "print(\"===============训练集混淆矩阵跟准确率==================\")\n",
    "cm_plot(y_train,model.predict(x_train)).show()\n",
    "print(\"准确率:\",model.score(x_train,y_train))\n",
    "\n",
    "print(\"===============测试集混淆矩阵跟准确率==================\")\n",
    "cm_plot(y_test,model.predict(x_test)).show()\n",
    "print(\"测试集:\",model.score(x_test,y_test))"
   ]
  },
  {
   "cell_type": "markdown",
   "metadata": {},
   "source": [
    "## 拓展思考"
   ]
  },
  {
   "cell_type": "code",
   "execution_count": 45,
   "metadata": {
    "collapsed": false
   },
   "outputs": [
    {
     "data": {
      "text/html": [
       "<div>\n",
       "<table border=\"1\" class=\"dataframe\">\n",
       "  <thead>\n",
       "    <tr style=\"text-align: right;\">\n",
       "      <th></th>\n",
       "      <th>SO2</th>\n",
       "      <th>NO</th>\n",
       "      <th>NO2</th>\n",
       "      <th>NOx</th>\n",
       "      <th>PM10</th>\n",
       "      <th>PM2-5</th>\n",
       "      <th>空气等级</th>\n",
       "    </tr>\n",
       "  </thead>\n",
       "  <tbody>\n",
       "    <tr>\n",
       "      <th>0</th>\n",
       "      <td>0.031</td>\n",
       "      <td>0.0</td>\n",
       "      <td>0.046</td>\n",
       "      <td>0.047</td>\n",
       "      <td>0.085</td>\n",
       "      <td>0.058</td>\n",
       "      <td>I</td>\n",
       "    </tr>\n",
       "    <tr>\n",
       "      <th>1</th>\n",
       "      <td>0.022</td>\n",
       "      <td>0.0</td>\n",
       "      <td>0.053</td>\n",
       "      <td>0.053</td>\n",
       "      <td>0.070</td>\n",
       "      <td>0.048</td>\n",
       "      <td>II</td>\n",
       "    </tr>\n",
       "    <tr>\n",
       "      <th>2</th>\n",
       "      <td>0.017</td>\n",
       "      <td>0.0</td>\n",
       "      <td>0.029</td>\n",
       "      <td>0.029</td>\n",
       "      <td>0.057</td>\n",
       "      <td>0.040</td>\n",
       "      <td>I</td>\n",
       "    </tr>\n",
       "    <tr>\n",
       "      <th>3</th>\n",
       "      <td>0.026</td>\n",
       "      <td>0.0</td>\n",
       "      <td>0.026</td>\n",
       "      <td>0.026</td>\n",
       "      <td>0.049</td>\n",
       "      <td>0.034</td>\n",
       "      <td>I</td>\n",
       "    </tr>\n",
       "    <tr>\n",
       "      <th>4</th>\n",
       "      <td>0.018</td>\n",
       "      <td>0.0</td>\n",
       "      <td>0.027</td>\n",
       "      <td>0.027</td>\n",
       "      <td>0.051</td>\n",
       "      <td>0.035</td>\n",
       "      <td>I</td>\n",
       "    </tr>\n",
       "  </tbody>\n",
       "</table>\n",
       "</div>"
      ],
      "text/plain": [
       "     SO2   NO    NO2    NOx   PM10  PM2-5 空气等级\n",
       "0  0.031  0.0  0.046  0.047  0.085  0.058    I\n",
       "1  0.022  0.0  0.053  0.053  0.070  0.048   II\n",
       "2  0.017  0.0  0.029  0.029  0.057  0.040    I\n",
       "3  0.026  0.0  0.026  0.026  0.049  0.034    I\n",
       "4  0.018  0.0  0.027  0.027  0.051  0.035    I"
      ]
     },
     "execution_count": 45,
     "metadata": {},
     "output_type": "execute_result"
    }
   ],
   "source": [
    "import pandas as pd\n",
    "input_file='E://learnFile//chapter9/sikao.xls'\n",
    "data=pd.read_excel(input_file)#如果.csv文件不是utf-8的，也就是报错那里出现utf-8字眼，考虑一下设置encoding='gbk'\n",
    "data.head()"
   ]
  },
  {
   "cell_type": "code",
   "execution_count": 46,
   "metadata": {
    "collapsed": false
   },
   "outputs": [
    {
     "data": {
      "text/plain": [
       "array(['I', 'II', 'III', 'IV', 'V', 'VI', 'VII'], dtype=object)"
      ]
     },
     "execution_count": 46,
     "metadata": {},
     "output_type": "execute_result"
    }
   ],
   "source": [
    "tmp=data['空气等级'].unique()\n",
    "tmp"
   ]
  },
  {
   "cell_type": "code",
   "execution_count": 47,
   "metadata": {
    "collapsed": false
   },
   "outputs": [
    {
     "data": {
      "text/plain": [
       "'I'"
      ]
     },
     "execution_count": 47,
     "metadata": {},
     "output_type": "execute_result"
    }
   ],
   "source": [
    "tmp[0]"
   ]
  },
  {
   "cell_type": "code",
   "execution_count": 48,
   "metadata": {
    "collapsed": true
   },
   "outputs": [],
   "source": [
    "for i in range(len(tmp)):\n",
    "    data['空气等级']=data['空气等级'].replace(tmp[i],i+1)"
   ]
  },
  {
   "cell_type": "code",
   "execution_count": 49,
   "metadata": {
    "collapsed": false
   },
   "outputs": [
    {
     "data": {
      "text/html": [
       "<div>\n",
       "<table border=\"1\" class=\"dataframe\">\n",
       "  <thead>\n",
       "    <tr style=\"text-align: right;\">\n",
       "      <th></th>\n",
       "      <th>SO2</th>\n",
       "      <th>NO</th>\n",
       "      <th>NO2</th>\n",
       "      <th>NOx</th>\n",
       "      <th>PM10</th>\n",
       "      <th>PM2-5</th>\n",
       "      <th>空气等级</th>\n",
       "    </tr>\n",
       "  </thead>\n",
       "  <tbody>\n",
       "    <tr>\n",
       "      <th>0</th>\n",
       "      <td>0.031</td>\n",
       "      <td>0.0</td>\n",
       "      <td>0.046</td>\n",
       "      <td>0.047</td>\n",
       "      <td>0.085</td>\n",
       "      <td>0.058</td>\n",
       "      <td>1</td>\n",
       "    </tr>\n",
       "    <tr>\n",
       "      <th>1</th>\n",
       "      <td>0.022</td>\n",
       "      <td>0.0</td>\n",
       "      <td>0.053</td>\n",
       "      <td>0.053</td>\n",
       "      <td>0.070</td>\n",
       "      <td>0.048</td>\n",
       "      <td>2</td>\n",
       "    </tr>\n",
       "    <tr>\n",
       "      <th>2</th>\n",
       "      <td>0.017</td>\n",
       "      <td>0.0</td>\n",
       "      <td>0.029</td>\n",
       "      <td>0.029</td>\n",
       "      <td>0.057</td>\n",
       "      <td>0.040</td>\n",
       "      <td>1</td>\n",
       "    </tr>\n",
       "    <tr>\n",
       "      <th>3</th>\n",
       "      <td>0.026</td>\n",
       "      <td>0.0</td>\n",
       "      <td>0.026</td>\n",
       "      <td>0.026</td>\n",
       "      <td>0.049</td>\n",
       "      <td>0.034</td>\n",
       "      <td>1</td>\n",
       "    </tr>\n",
       "    <tr>\n",
       "      <th>4</th>\n",
       "      <td>0.018</td>\n",
       "      <td>0.0</td>\n",
       "      <td>0.027</td>\n",
       "      <td>0.027</td>\n",
       "      <td>0.051</td>\n",
       "      <td>0.035</td>\n",
       "      <td>1</td>\n",
       "    </tr>\n",
       "  </tbody>\n",
       "</table>\n",
       "</div>"
      ],
      "text/plain": [
       "     SO2   NO    NO2    NOx   PM10  PM2-5  空气等级\n",
       "0  0.031  0.0  0.046  0.047  0.085  0.058     1\n",
       "1  0.022  0.0  0.053  0.053  0.070  0.048     2\n",
       "2  0.017  0.0  0.029  0.029  0.057  0.040     1\n",
       "3  0.026  0.0  0.026  0.026  0.049  0.034     1\n",
       "4  0.018  0.0  0.027  0.027  0.051  0.035     1"
      ]
     },
     "execution_count": 49,
     "metadata": {},
     "output_type": "execute_result"
    }
   ],
   "source": [
    "data.head()"
   ]
  },
  {
   "cell_type": "code",
   "execution_count": 50,
   "metadata": {
    "collapsed": false
   },
   "outputs": [],
   "source": [
    "from random import shuffle\n",
    "data=data.as_matrix()\n",
    "shuffle(data)\n",
    "train=data[:int(len(data)*0.8),:]\n",
    "test=data[int(len(data)*0.8):,:]"
   ]
  },
  {
   "cell_type": "code",
   "execution_count": 51,
   "metadata": {
    "collapsed": false
   },
   "outputs": [
    {
     "data": {
      "text/plain": [
       "(256, 7)"
      ]
     },
     "execution_count": 51,
     "metadata": {},
     "output_type": "execute_result"
    }
   ],
   "source": [
    "train.shape"
   ]
  },
  {
   "cell_type": "code",
   "execution_count": 56,
   "metadata": {
    "collapsed": false
   },
   "outputs": [
    {
     "name": "stdout",
     "output_type": "stream",
     "text": [
      "===============训练集混淆矩阵跟准确率==================\n"
     ]
    },
    {
     "data": {
      "image/png": "[encoded data removed]",
      "text/plain": [
       "<matplotlib.figure.Figure at 0xc218a5af60>"
      ]
     },
     "metadata": {},
     "output_type": "display_data"
    },
    {
     "name": "stdout",
     "output_type": "stream",
     "text": [
      "准确率: 1.0\n",
      "===============测试集混淆矩阵跟准确率==================\n"
     ]
    },
    {
     "data": {
      "image/png": "[encoded data removed]",
      "text/plain": [
       "<matplotlib.figure.Figure at 0xc21880a320>"
      ]
     },
     "metadata": {},
     "output_type": "display_data"
    },
    {
     "name": "stdout",
     "output_type": "stream",
     "text": [
      "测试集: 0.921875\n"
     ]
    },
    {
     "data": {
      "image/png": "[encoded data removed]",
      "text/plain": [
       "<matplotlib.figure.Figure at 0xc218926390>"
      ]
     },
     "metadata": {},
     "output_type": "display_data"
    }
   ],
   "source": [
    "from sklearn.tree import DecisionTreeClassifier\n",
    "tree=DecisionTreeClassifier()\n",
    "tree.fit(train[:,:6],train[:,6])\n",
    "\n",
    "import matplotlib.pyplot as plt #导入作图库\n",
    "from sklearn.metrics import confusion_matrix #导入混淆矩阵函数\n",
    "def cm_plot(y, yp):\n",
    "    cm = confusion_matrix(y, yp) #混淆矩阵\n",
    "    plt.matshow(cm, cmap=plt.cm.Greens) #画混淆矩阵图，配色风格使用cm.Greens，更多风格请参考官网。\n",
    "    plt.colorbar() #颜色标签\n",
    "    for x in range(len(cm)): #数据标签\n",
    "        for y in range(len(cm)):\n",
    "            plt.annotate(cm[x,y], xy=(x, y), horizontalalignment='center', verticalalignment='center')\n",
    "    plt.ylabel('True label') #坐标轴标签\n",
    "    plt.xlabel('Predicted label') #坐标轴标签\n",
    "    return plt\n",
    "print(\"===============训练集混淆矩阵跟准确率==================\")\n",
    "cm_plot(train[:,6],tree.predict(train[:,:6])).show()\n",
    "print(\"准确率:\",tree.score(train[:,:6],train[:,6]))\n",
    "\n",
    "print(\"===============测试集混淆矩阵跟准确率==================\")\n",
    "cm_plot(test[:,6],tree.predict(test[:,:6])).show()\n",
    "print(\"测试集:\",tree.score(test[:,:6],test[:,6]))\n",
    "\n",
    "from sklearn.metrics import roc_curve \n",
    "fpr,tpr,thresholds=roc_curve(test[:,6],tree.predict_proba(test[:,:6])[:,1],pos_label=1)\n",
    "plt.plot(fpr,tpr,linewidth=2,label='ROC or CART')\n",
    "plt.xlabel(\"False Positive Rate\")\n",
    "plt.ylabel(\"True Postive Rate\")\n",
    "plt.ylim(0,1.05)\n",
    "plt.xlim(0,1.05)\n",
    "plt.legend(loc=4)\n",
    "plt.show()"
   ]
  },
  {
   "cell_type": "code",
   "execution_count": null,
   "metadata": {
    "collapsed": true
   },
   "outputs": [],
   "source": []
  }
 ],
 "metadata": {
  "kernelspec": {
   "display_name": "Python 3",
   "language": "python",
   "name": "python3"
  },
  "language_info": {
   "codemirror_mode": {
    "name": "ipython",
    "version": 3
   },
   "file_extension": ".py",
   "mimetype": "text/x-python",
   "name": "python",
   "nbconvert_exporter": "python",
   "pygments_lexer": "ipython3",
   "version": "3.6.0"
  }
 },
 "nbformat": 4,
 "nbformat_minor": 2
}
