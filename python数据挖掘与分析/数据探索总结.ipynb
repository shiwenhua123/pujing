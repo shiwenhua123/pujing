{
 "cells": [
  {
   "cell_type": "markdown",
   "metadata": {},
   "source": [
    "2017\n",
    "华华"
   ]
  },
  {
   "cell_type": "markdown",
   "metadata": {},
   "source": [
    "## 数据探索"
   ]
  },
  {
   "cell_type": "markdown",
   "metadata": {},
   "source": [
    "数据探索：\n",
    "\t通过检验数据集的数据质量、 绘制图表、 计算某些特征量等手段， 对样本数据集的结构和规律进行分析的过程就是数据探索。\n",
    "\t数据探索有助于选择合适的数据预处理和建模方法， 甚至可以完成一些通常由数据挖掘解决的问题。\n",
    "\t\t\n",
    "\n",
    "\t\t\n",
    "数据探索可以从数据质量分析和数据特征分析这两个角度来进行\n",
    "\n",
    "\n",
    "数据质量分析：数据预处理的前提，数据挖掘分析结论有效性和准确性的基础\n",
    "\n",
    "\n",
    "数据质量分析的主要任务是：检查原始数据是否存在脏数据。\n",
    "\n",
    "脏数据：不符合要求，以及不能直接进行相应分析的数据。包括：缺失值、异常值、不一致的值。重复数据以及特殊符号的数据。\n",
    "\n",
    "\n",
    "缺失值的分析：\n",
    "\n",
    "数据的缺失主要包括记录的缺失和记录中某个字段信息的缺失。\n",
    "（1） 缺失值产生的原因\n",
    "\t1） 有些信息暂时无法获取， 或者获取信息的代价太大。\n",
    "\t2） 有些信息是被遗漏的。 可能是因为输入时认为不重要、 忘记填写或对数据理解错误等一些人为因素而遗漏， 也可能是由于数据采集设备的故障、 存储\n",
    "\t\t介质的故障、 传输媒体的故障等非人为原因而丢失。\n",
    "\t3） 属性值不存在。 在某些情况下， 缺失值并不意味着数据有错误。 对一些对象来说某些属性值是不存在的， 如一个未婚者的配偶姓名、 一个儿童的固定\n",
    "\t\t收入等。\n",
    "\t\t\n",
    "（2） 缺失值的影响\n",
    "\t1） 数据挖掘建模将丢失大量的有用信息。\n",
    "\t2） 数据挖掘模型所表现出的不确定性更加显著， 模型中蕴涵的规律更难把握。\n",
    "\t3） 包含空值的数据会使建模过程陷入混乱， 导致不可靠的输出。\n",
    "\t\n",
    "（3） 缺失值的分析\n",
    "\t使用简单的统计分析， 可以得到含有缺失值的属性的个数， 以及每个属性的未缺失数、 缺失数与缺失率等。\n",
    "\t\n",
    "缺失值的处理分为删除存在缺失值的记录、对可能值进行插补和不处理3种情况\n",
    "\n",
    "\n",
    "异常值的分析：\n",
    "\n",
    "异常值的分析是：检验数据是否有录入错误以及含有不合常理的数据。\n",
    "\n",
    "异常值是指样本中的个别值，其数据明显偏离其余的观测值，也称为离群点，所以也叫离群点的分析。\n",
    "有以下方法：\n",
    "\n",
    "（1） 简单统计量分析\n",
    "\t可以先对变量做一个描述性统计， 进而查看哪些数据是不合理的。 最常用的统计量是最大值和\n",
    "\t最小值， 用来判断这个变量的取值是否超出了合理的范\n",
    "\t围。 如客户年龄的最大值为199岁， 则该变量的取值存在异常。\n",
    "（2） 3σ原则\n",
    "\t如果数据服从正态分布， 在3σ原则下， 异常值被定义为一组测定值中与平均值的偏差超过3倍标准差的值。 在正态\n",
    "\t分布的假设下， 距离平均值3σ之外的值出现的概率为P（ ｜x-μ｜>3σ） ≤0.003， 属于极个别的小概率事件。\n",
    "\t如果数据不服从正态分布， 也可以用远离平均值的多少倍标准差来描述。\n",
    "\t\n",
    "（3）箱型图分析：\n",
    "\t箱型图提供了识别异常值的一个标准： 异常值通常被定义为小于QL －1.5IQR或大于QU ＋1.5IQR的值。 \n",
    "\tQL 称为下四分位数， 表\t示全部观察值中有四分之\n",
    "\t一的数据取值比它小； QU 称为上四分位数， 表示全部观察值中有四分之一的数据取值比它大； \n",
    "\tIQR称为四分位数间距， 是上四\t分位数QU 与下四分位数QL 之\n",
    "\t差， 其间包含了全部观察值的一半。"
   ]
  },
  {
   "cell_type": "code",
   "execution_count": 123,
   "metadata": {
    "collapsed": false
   },
   "outputs": [
    {
     "name": "stdout",
     "output_type": "stream",
     "text": [
      "<class 'pandas.core.frame.DataFrame'>\n",
      "DatetimeIndex: 201 entries, 2015-03-01 to 2014-08-02\n",
      "Data columns (total 1 columns):\n",
      "销量    200 non-null float64\n",
      "dtypes: float64(1)\n",
      "memory usage: 3.1 KB\n"
     ]
    }
   ],
   "source": [
    "import pandas as pd\n",
    "catering_sale='E://learnFile//chapter3//demo//data/catering_sale.xls'\n",
    "data=pd.read_excel(catering_sale,index_col='日期')#指定日期为索引列\n",
    "data.info()  #查看数据信息"
   ]
  },
  {
   "cell_type": "code",
   "execution_count": 124,
   "metadata": {
    "collapsed": false
   },
   "outputs": [
    {
     "data": {
      "text/html": [
       "<div>\n",
       "<table border=\"1\" class=\"dataframe\">\n",
       "  <thead>\n",
       "    <tr style=\"text-align: right;\">\n",
       "      <th></th>\n",
       "      <th>销量</th>\n",
       "    </tr>\n",
       "  </thead>\n",
       "  <tbody>\n",
       "    <tr>\n",
       "      <th>count</th>\n",
       "      <td>200.000000</td>\n",
       "    </tr>\n",
       "    <tr>\n",
       "      <th>mean</th>\n",
       "      <td>2755.214700</td>\n",
       "    </tr>\n",
       "    <tr>\n",
       "      <th>std</th>\n",
       "      <td>751.029772</td>\n",
       "    </tr>\n",
       "    <tr>\n",
       "      <th>min</th>\n",
       "      <td>22.000000</td>\n",
       "    </tr>\n",
       "    <tr>\n",
       "      <th>25%</th>\n",
       "      <td>2451.975000</td>\n",
       "    </tr>\n",
       "    <tr>\n",
       "      <th>50%</th>\n",
       "      <td>2655.850000</td>\n",
       "    </tr>\n",
       "    <tr>\n",
       "      <th>75%</th>\n",
       "      <td>3026.125000</td>\n",
       "    </tr>\n",
       "    <tr>\n",
       "      <th>max</th>\n",
       "      <td>9106.440000</td>\n",
       "    </tr>\n",
       "  </tbody>\n",
       "</table>\n",
       "</div>"
      ],
      "text/plain": [
       "                销量\n",
       "count   200.000000\n",
       "mean   2755.214700\n",
       "std     751.029772\n",
       "min      22.000000\n",
       "25%    2451.975000\n",
       "50%    2655.850000\n",
       "75%    3026.125000\n",
       "max    9106.440000"
      ]
     },
     "execution_count": 124,
     "metadata": {},
     "output_type": "execute_result"
    }
   ],
   "source": [
    "data.describe()#查看数据集的一些基本统计量"
   ]
  },
  {
   "cell_type": "code",
   "execution_count": 125,
   "metadata": {
    "collapsed": false
   },
   "outputs": [
    {
     "data": {
      "text/plain": [
       "Index(['销量'], dtype='object')"
      ]
     },
     "execution_count": 125,
     "metadata": {},
     "output_type": "execute_result"
    }
   ],
   "source": [
    "data.columns#查看有多少个特征向量"
   ]
  },
  {
   "cell_type": "code",
   "execution_count": 126,
   "metadata": {
    "collapsed": false
   },
   "outputs": [
    {
     "data": {
      "text/plain": [
       "201"
      ]
     },
     "execution_count": 126,
     "metadata": {},
     "output_type": "execute_result"
    }
   ],
   "source": [
    "len(data)#查看总共有多少条数据"
   ]
  },
  {
   "cell_type": "markdown",
   "metadata": {},
   "source": [
    "### 箱型图来检测异常值"
   ]
  },
  {
   "cell_type": "code",
   "execution_count": 127,
   "metadata": {
    "collapsed": false
   },
   "outputs": [],
   "source": [
    "import matplotlib.pyplot as plt\n",
    "import pandas as pd\n",
    "catering_sale='E://learnFile//chapter3//demo//data/catering_sale.xls'\n",
    "data=pd.read_excel(catering_sale)"
   ]
  },
  {
   "cell_type": "code",
   "execution_count": 128,
   "metadata": {
    "collapsed": false,
    "scrolled": true
   },
   "outputs": [
    {
     "data": {
      "image/png": "[encoded data removed]",
      "text/plain": [
       "<matplotlib.figure.Figure at 0x1c93078898>"
      ]
     },
     "metadata": {},
     "output_type": "display_data"
    }
   ],
   "source": [
    "#把list导入到pandas的数据结构中，dataframe\n",
    "data = pd.DataFrame({\"销量\":data['销量']})\n",
    "data.boxplot()#这里，pandas自己有处理的过程，很方便哦。\n",
    "plt.ylabel(\"销量值\")\n",
    "plt.xlabel(\"箱型图\")#我们设置横纵坐标的标题。\n",
    "plt.show()"
   ]
  },
  {
   "cell_type": "markdown",
   "metadata": {},
   "source": [
    "## 数据特征分析"
   ]
  },
  {
   "cell_type": "markdown",
   "metadata": {},
   "source": [
    "数据特征分析：通过绘制图表、 计算某些特征量等手段进行数据的特征分析。\n",
    "\n",
    "\n",
    "数据特征分析包括：\n",
    "\t1、分布分析：\n",
    "\t\t分布分析能揭示数据的分布特征和分布类型。 对于定量数据， 欲了解其分布形式是对称的\n",
    "\t\t还是非对称的， 发现某些特大或特小的可疑值， 可通过绘制频率分布表、 绘制频率分布直方\n",
    "\t\t图、 绘制茎叶图进行直观地分析； 对于定性分类数据， 可用饼图和条形图直观地显示分布情况。\n",
    "\t\t\n",
    "\t\t1）、定量数据的分布分析\n",
    "\t\t2）、定性数据的分布分析\n",
    "\n",
    "\t2、对比分析：\n",
    "\t\t1）、绝对值比较\n",
    "\t\t2）、相对值比较\n",
    "\t\t\n",
    "\t3、统计量分析：\n",
    "\t\t1）、集中趋势度量\n",
    "\t\t2）、离中趋势度量\n",
    "\t\t\n",
    "\t4、周期性分析\n",
    "\t\n",
    "\t5、贡献度分析\n",
    "\t\n",
    "\t6、相关性分析\n",
    "\t\t1）、直接绘制散点图\n",
    "\t\t2）、绘制散点图矩阵\n",
    "\t\t3）、计算相关系数\n",
    "\n",
    "\t\t\n",
    "\n",
    "\n",
    "1.定量数据的分布分析\n",
    "\t对于定量变量而言， 选择“组数”和“组宽”是做频率分布分析时最主要的问题， 一般按照以下步骤进行。\n",
    "\t1） 求极差。\n",
    "\t2） 决定组距与组数。\n",
    "\t3） 决定分点。\n",
    "\t4） 列出频率分布表。\n",
    "\t5） 绘制频率分布直方图。\n",
    "\t\n",
    "\t遵循的主要原则如下：\n",
    "\t1） 各组之间必须是相互排斥的。\n",
    "\t2） 各组必须将所有的数据包含在内。\n",
    "\t3） 各组的组宽最好相等。\n",
    "\n",
    "\n",
    "2.定性数据的分布分析\n",
    "\t对于定性变量， 常常根据变量的分类类型来分组， 可以采用饼图和条形图来描述定性变量的分布。\n",
    "\t饼图的每一个扇形部分代表每一类型的百分比或频数， 根据定性变量的类型数目将饼图分成几个部分， \n",
    "\t每一部分的大小与每一类型的频数成正比； 条形图的高度代表每一类型的百分比\n",
    "\t或频数， 条形图的宽度没有意义\n",
    "\n",
    "\n",
    "\t\t\n",
    "统计量分析\n",
    "\t用统计指标对定量数据进行统计描述， 常从集中趋势和离中趋势两个方面进行分析。\n",
    "\t平均水平的指标是对个体集中趋势的度量， 使用最广泛的是均值和中位数； 反映变异程度的指标则\n",
    "\t是对个体离开平均水平的度量， 使用较广泛的是标准差（ 方差） 、 四分位间距。\n",
    "\t1、集中趋势度量：均值、中位数、众数。\n",
    "\t2、离中趋势度量：极差、标准差、变异系数（度量标准差相对于均值的离中趋势）、四分位数间距。\n",
    "\n",
    "\t\n",
    "四分位数间距：\n",
    "\t四分位数包括上四分位数和下四分位数。 将所有数值由小到大排列并分成四等份， 处于第一个分割点位置的数值是下四分位数， 处于第二个分割点位置（ 中间位置） 的数值是中位数，\n",
    "\t处于第三个分割点位置的数值是上四分位数。\t\n",
    "四分位数间距， 是上四分位数QU 与下四分位数QL 之差， 其间包含了全部观察值的一半。 其值越大， 说明数据的变异程度越大； 反之， 说明变异程度越小。\n"
   ]
  },
  {
   "cell_type": "markdown",
   "metadata": {},
   "source": [
    "## 相关统计量分析"
   ]
  },
  {
   "cell_type": "code",
   "execution_count": 129,
   "metadata": {
    "collapsed": false
   },
   "outputs": [],
   "source": [
    "#-*- coding:utf-8 -*-\n",
    "import pandas as pd\n",
    "catering_sale='E://learnFile//chapter3//demo//data/catering_sale.xls'\n",
    "data=pd.read_excel(catering_sale)\n",
    "data=data[(data['销量']>400)&(data['销量']<5000)]#过滤异常数据"
   ]
  },
  {
   "cell_type": "code",
   "execution_count": 130,
   "metadata": {
    "collapsed": false
   },
   "outputs": [
    {
     "data": {
      "text/plain": [
       "日期    2015-02-28 00:00:00\n",
       "销量                 4065.2\n",
       "dtype: object"
      ]
     },
     "execution_count": 130,
     "metadata": {},
     "output_type": "execute_result"
    }
   ],
   "source": [
    "data.max()"
   ]
  },
  {
   "cell_type": "code",
   "execution_count": 131,
   "metadata": {
    "collapsed": false
   },
   "outputs": [
    {
     "data": {
      "text/plain": [
       "日期    2014-08-02 00:00:00\n",
       "销量                    865\n",
       "dtype: object"
      ]
     },
     "execution_count": 131,
     "metadata": {},
     "output_type": "execute_result"
    }
   ],
   "source": [
    "data.min()"
   ]
  },
  {
   "cell_type": "code",
   "execution_count": 132,
   "metadata": {
    "collapsed": true
   },
   "outputs": [],
   "source": [
    "statistics=data.describe()"
   ]
  },
  {
   "cell_type": "code",
   "execution_count": 133,
   "metadata": {
    "collapsed": false
   },
   "outputs": [
    {
     "data": {
      "text/plain": [
       "销量    195.0\n",
       "Name: count, dtype: float64"
      ]
     },
     "execution_count": 133,
     "metadata": {},
     "output_type": "execute_result"
    }
   ],
   "source": [
    "statistics.loc['count']#根据索引选择"
   ]
  },
  {
   "cell_type": "code",
   "execution_count": 134,
   "metadata": {
    "collapsed": false
   },
   "outputs": [],
   "source": [
    "statistics.loc['range']=statistics.loc['max']-statistics.loc['min']\n",
    "statistics.loc['var']=statistics.loc['std']/statistics.loc['mean']\n",
    "statistics.loc['dis']=statistics.loc['75%']-statistics.loc['25%']"
   ]
  },
  {
   "cell_type": "code",
   "execution_count": 135,
   "metadata": {
    "collapsed": false
   },
   "outputs": [
    {
     "data": {
      "text/html": [
       "<div>\n",
       "<table border=\"1\" class=\"dataframe\">\n",
       "  <thead>\n",
       "    <tr style=\"text-align: right;\">\n",
       "      <th></th>\n",
       "      <th>销量</th>\n",
       "    </tr>\n",
       "  </thead>\n",
       "  <tbody>\n",
       "    <tr>\n",
       "      <th>count</th>\n",
       "      <td>195.000000</td>\n",
       "    </tr>\n",
       "    <tr>\n",
       "      <th>mean</th>\n",
       "      <td>2744.595385</td>\n",
       "    </tr>\n",
       "    <tr>\n",
       "      <th>std</th>\n",
       "      <td>424.739407</td>\n",
       "    </tr>\n",
       "    <tr>\n",
       "      <th>min</th>\n",
       "      <td>865.000000</td>\n",
       "    </tr>\n",
       "    <tr>\n",
       "      <th>25%</th>\n",
       "      <td>2460.600000</td>\n",
       "    </tr>\n",
       "    <tr>\n",
       "      <th>50%</th>\n",
       "      <td>2655.900000</td>\n",
       "    </tr>\n",
       "    <tr>\n",
       "      <th>75%</th>\n",
       "      <td>3023.200000</td>\n",
       "    </tr>\n",
       "    <tr>\n",
       "      <th>max</th>\n",
       "      <td>4065.200000</td>\n",
       "    </tr>\n",
       "    <tr>\n",
       "      <th>range</th>\n",
       "      <td>3200.200000</td>\n",
       "    </tr>\n",
       "    <tr>\n",
       "      <th>var</th>\n",
       "      <td>0.154755</td>\n",
       "    </tr>\n",
       "    <tr>\n",
       "      <th>dis</th>\n",
       "      <td>562.600000</td>\n",
       "    </tr>\n",
       "  </tbody>\n",
       "</table>\n",
       "</div>"
      ],
      "text/plain": [
       "                销量\n",
       "count   195.000000\n",
       "mean   2744.595385\n",
       "std     424.739407\n",
       "min     865.000000\n",
       "25%    2460.600000\n",
       "50%    2655.900000\n",
       "75%    3023.200000\n",
       "max    4065.200000\n",
       "range  3200.200000\n",
       "var       0.154755\n",
       "dis     562.600000"
      ]
     },
     "execution_count": 135,
     "metadata": {},
     "output_type": "execute_result"
    }
   ],
   "source": [
    "statistics"
   ]
  },
  {
   "cell_type": "markdown",
   "metadata": {},
   "source": [
    "周期性分析是探索某个变量是否随着时间变化而呈现出某种周期变化趋势。 时间尺度相对较长的周期性趋势有年度\n",
    "周期性趋势、 季节性周期趋势， 相对较短的有月度周期性趋势、 周度\n",
    "周期性趋势， 甚至更短的天、 小时周期性趋势。\n",
    "\n",
    "贡献度分析又称帕累托分析， 它的原理是帕累托法则， 又称20/80定律。 同样的投入放在不同的地方会产生不同\n",
    "的效益。 例如， 对一个公司来讲， 80%的利润常常来自于20%最畅销的产\n",
    "品， 而其他80%的产品只产生了20%的利润。\n"
   ]
  },
  {
   "cell_type": "markdown",
   "metadata": {},
   "source": [
    "## 绘制帕累托图"
   ]
  },
  {
   "cell_type": "code",
   "execution_count": 136,
   "metadata": {
    "collapsed": true
   },
   "outputs": [],
   "source": [
    "#-*- coding:utf-8 -*-\n",
    "import pandas as pd\n",
    "dish_profit='E://learnFile//chapter3//demo//data/catering_dish_profit.xls'\n",
    "data=pd.read_excel(dish_profit,index_col='菜品名')"
   ]
  },
  {
   "cell_type": "code",
   "execution_count": 137,
   "metadata": {
    "collapsed": false
   },
   "outputs": [],
   "source": [
    "data=data['盈利'].copy()"
   ]
  },
  {
   "cell_type": "code",
   "execution_count": 138,
   "metadata": {
    "collapsed": false
   },
   "outputs": [
    {
     "data": {
      "text/plain": [
       "菜品名\n",
       "A1     9173\n",
       "A2     5729\n",
       "A3     4811\n",
       "A4     3594\n",
       "A5     3195\n",
       "A6     3026\n",
       "A7     2378\n",
       "A8     1970\n",
       "A9     1877\n",
       "A10    1782\n",
       "Name: 盈利, dtype: int64"
      ]
     },
     "execution_count": 138,
     "metadata": {},
     "output_type": "execute_result"
    }
   ],
   "source": [
    "data"
   ]
  },
  {
   "cell_type": "code",
   "execution_count": 139,
   "metadata": {
    "collapsed": false
   },
   "outputs": [
    {
     "name": "stderr",
     "output_type": "stream",
     "text": [
      "C:\\Users\\pujing\\Anaconda3\\lib\\site-packages\\ipykernel\\__main__.py:1: FutureWarning: sort is deprecated, use sort_values(inplace=True) for INPLACE sorting\n",
      "  if __name__ == '__main__':\n"
     ]
    }
   ],
   "source": [
    "data.sort(ascending=False)#降序排序，true为升序排序"
   ]
  },
  {
   "cell_type": "code",
   "execution_count": 140,
   "metadata": {
    "collapsed": false
   },
   "outputs": [
    {
     "data": {
      "text/plain": [
       "菜品名\n",
       "A1     9173\n",
       "A2     5729\n",
       "A3     4811\n",
       "A4     3594\n",
       "A5     3195\n",
       "A6     3026\n",
       "A7     2378\n",
       "A8     1970\n",
       "A9     1877\n",
       "A10    1782\n",
       "Name: 盈利, dtype: int64"
      ]
     },
     "execution_count": 140,
     "metadata": {},
     "output_type": "execute_result"
    }
   ],
   "source": [
    "data"
   ]
  },
  {
   "cell_type": "code",
   "execution_count": 141,
   "metadata": {
    "collapsed": false
   },
   "outputs": [
    {
     "data": {
      "text/plain": [
       "<matplotlib.text.Text at 0x1c9ed90588>"
      ]
     },
     "execution_count": 141,
     "metadata": {},
     "output_type": "execute_result"
    }
   ],
   "source": [
    "import matplotlib.pyplot as plt  #导入图像库\n",
    "plt.rcParams['font.sans-serif']=['SimHei']#用来正常显示中文标签\n",
    "plt.rcParams['axes.unicode_minus']=False#用来正常显示负号\n",
    "plt.figure()\n",
    "data.plot(kind='bar')\n",
    "plt.ylabel('盈利')"
   ]
  },
  {
   "cell_type": "code",
   "execution_count": 142,
   "metadata": {
    "collapsed": false
   },
   "outputs": [
    {
     "data": {
      "image/png": "[encoded data removed]",
      "text/plain": [
       "<matplotlib.figure.Figure at 0x1c931b8b00>"
      ]
     },
     "metadata": {},
     "output_type": "display_data"
    }
   ],
   "source": [
    "p = 1.0*data.cumsum()/data.sum()\n",
    "p.plot(color = 'r', secondary_y = True, style = '-o',linewidth = 2)\n",
    "plt.annotate(format(p[6], '.4%'), xy = (6, p[6]), xytext=(6*0.9, p[6]*0.9), arrowprops=dict(arrowstyle=\"->\", connectionstyle=\"arc3,rad=.2\")) #添加注释，即85%处的标记。这里包括了指定箭头样式。\n",
    "plt.ylabel(u'盈利（比例）')\n",
    "plt.show()"
   ]
  },
  {
   "cell_type": "markdown",
   "metadata": {},
   "source": [
    "## 分析连续变量之间线性相关程度的强弱， 并用适当的统计指标表示出来的过程称为相关分析。"
   ]
  },
  {
   "cell_type": "markdown",
   "metadata": {},
   "source": [
    "为了更加准确地描述变量之间的线性相关程度， 可以通过计算相关系数来进行相关分析。 在二元变量的相关分析过程中比较常用的有Pearson相关系数、 Spearman秩相关系数和判定系数。"
   ]
  },
  {
   "cell_type": "code",
   "execution_count": 143,
   "metadata": {
    "collapsed": true
   },
   "outputs": [],
   "source": [
    "#-*- coding:utf-8 -*-\n",
    "import pandas as pd\n",
    "catering_sale='E://learnFile//chapter3//demo//data/catering_sale_all.xls'"
   ]
  },
  {
   "cell_type": "code",
   "execution_count": 144,
   "metadata": {
    "collapsed": false
   },
   "outputs": [
    {
     "name": "stdout",
     "output_type": "stream",
     "text": [
      "            百合酱蒸凤爪  翡翠蒸香茜饺  金银蒜汁蒸排骨  乐膳真味鸡  蜜汁焗餐包  生炒菜心  铁板酸菜豆腐  香煎韭菜饺  香煎罗卜糕  \\\n",
      "日期                                                                              \n",
      "2015-01-01      17       6        8     24   13.0    13      18     10     10   \n",
      "2015-01-02      11      15       14     13    9.0    10      19     13     14   \n",
      "2015-01-03      10       8       12     13    8.0     3       7     11     10   \n",
      "2015-01-04       9       6        6      3   10.0     9       9     13     14   \n",
      "2015-01-05       4      10       13      8   12.0    10      17     11     13   \n",
      "2015-01-06      13      10       13     16    8.0     9      12     11      5   \n",
      "2015-01-07       9       7       13      8    5.0     7      10      8     10   \n",
      "2015-01-08       9      12       13      6    7.0     8       6     12     11   \n",
      "2015-01-12       6       8        8      3    NaN     4       5      5      7   \n",
      "2015-01-13       9      11       13      6    8.0     7       6      9      8   \n",
      "2015-01-14       6       7        8      9    4.0     7       8      5      3   \n",
      "2015-01-15       5       9        4      7    8.0     9      15      9     13   \n",
      "2015-01-16       9       7       11      9   11.0     8      14      9      9   \n",
      "2015-01-17      10       8       10      6   14.0    13      16      9      4   \n",
      "2015-01-18      13      12       12     10    9.0    11       8     12      9   \n",
      "2015-01-19       4       8       12     11    9.0     7      10      6     11   \n",
      "2015-01-20       6      12       10      9   11.0     4       8     14      6   \n",
      "2015-01-21       9      15        4     12    7.0     9       1      5     12   \n",
      "2015-01-22       3      10       13     13   13.0     8      13      5     11   \n",
      "2015-01-23       8       7        9     20    5.0    12       8      7      8   \n",
      "2015-01-24      11       6       11      8    7.0     8       9      7     10   \n",
      "2015-01-25      11       6        5     15    7.0    14      14      7      6   \n",
      "2015-01-26       4       7       10      7    6.0    10       9     12      7   \n",
      "2015-01-27       7       5        6      7   12.0    15       6     12      9   \n",
      "2015-01-28       8       8       12     14    8.0    11       7     12     10   \n",
      "2015-01-29       4      10       12      9    7.0     8       8     10     10   \n",
      "2015-01-30       6       7        7     11    7.0     7       9     16     10   \n",
      "2015-01-31       8       5       11     10    8.0    11       8     10     10   \n",
      "2015-02-01       8       6        7      9    6.0     4       6     11      6   \n",
      "\n",
      "            原汁原味菜心  \n",
      "日期                  \n",
      "2015-01-01      27  \n",
      "2015-01-02      13  \n",
      "2015-01-03       9  \n",
      "2015-01-04      13  \n",
      "2015-01-05      14  \n",
      "2015-01-06       9  \n",
      "2015-01-07       7  \n",
      "2015-01-08       5  \n",
      "2015-01-12      10  \n",
      "2015-01-13       9  \n",
      "2015-01-14      10  \n",
      "2015-01-15       9  \n",
      "2015-01-16      15  \n",
      "2015-01-17      14  \n",
      "2015-01-18      15  \n",
      "2015-01-19      11  \n",
      "2015-01-20      13  \n",
      "2015-01-21       8  \n",
      "2015-01-22      11  \n",
      "2015-01-23      11  \n",
      "2015-01-24       9  \n",
      "2015-01-25       8  \n",
      "2015-01-26       5  \n",
      "2015-01-27       4  \n",
      "2015-01-28       6  \n",
      "2015-01-29      11  \n",
      "2015-01-30      11  \n",
      "2015-01-31       9  \n",
      "2015-02-01       9  \n"
     ]
    }
   ],
   "source": [
    "data=pd.read_excel(catering_sale,index_col='日期')\n",
    "print(data)"
   ]
  },
  {
   "cell_type": "code",
   "execution_count": 145,
   "metadata": {
    "collapsed": false
   },
   "outputs": [
    {
     "name": "stdout",
     "output_type": "stream",
     "text": [
      "           百合酱蒸凤爪    翡翠蒸香茜饺   金银蒜汁蒸排骨     乐膳真味鸡     蜜汁焗餐包      生炒菜心    铁板酸菜豆腐  \\\n",
      "百合酱蒸凤爪   1.000000  0.009206  0.016799  0.455638  0.098085  0.308496  0.204898   \n",
      "翡翠蒸香茜饺   0.009206  1.000000  0.304434 -0.012279  0.058745 -0.180446 -0.026908   \n",
      "金银蒜汁蒸排骨  0.016799  0.304434  1.000000  0.035135  0.096218 -0.184290  0.187272   \n",
      "乐膳真味鸡    0.455638 -0.012279  0.035135  1.000000  0.016006  0.325462  0.297692   \n",
      "蜜汁焗餐包    0.098085  0.058745  0.096218  0.016006  1.000000  0.308454  0.502025   \n",
      "生炒菜心     0.308496 -0.180446 -0.184290  0.325462  0.308454  1.000000  0.369787   \n",
      "铁板酸菜豆腐   0.204898 -0.026908  0.187272  0.297692  0.502025  0.369787  1.000000   \n",
      "香煎韭菜饺    0.127448  0.062344  0.121543 -0.068866  0.155428  0.038233  0.095543   \n",
      "香煎罗卜糕   -0.090276  0.270276  0.077808 -0.030222  0.171005  0.049898  0.157958   \n",
      "原汁原味菜心   0.428316  0.020462  0.029074  0.421878  0.527844  0.122988  0.567332   \n",
      "\n",
      "            香煎韭菜饺     香煎罗卜糕    原汁原味菜心  \n",
      "百合酱蒸凤爪   0.127448 -0.090276  0.428316  \n",
      "翡翠蒸香茜饺   0.062344  0.270276  0.020462  \n",
      "金银蒜汁蒸排骨  0.121543  0.077808  0.029074  \n",
      "乐膳真味鸡   -0.068866 -0.030222  0.421878  \n",
      "蜜汁焗餐包    0.155428  0.171005  0.527844  \n",
      "生炒菜心     0.038233  0.049898  0.122988  \n",
      "铁板酸菜豆腐   0.095543  0.157958  0.567332  \n",
      "香煎韭菜饺    1.000000  0.178336  0.049689  \n",
      "香煎罗卜糕    0.178336  1.000000  0.088980  \n",
      "原汁原味菜心   0.049689  0.088980  1.000000  \n"
     ]
    }
   ],
   "source": [
    "print(data.corr())  #显示任意两个特征向量的相关系数"
   ]
  },
  {
   "cell_type": "code",
   "execution_count": 146,
   "metadata": {
    "collapsed": false
   },
   "outputs": [
    {
     "data": {
      "text/plain": [
       "0.0092058030518364746"
      ]
     },
     "execution_count": 146,
     "metadata": {},
     "output_type": "execute_result"
    }
   ],
   "source": [
    "data['百合酱蒸凤爪'].corr(data['翡翠蒸香茜饺'])#计算两个特征的相关系数"
   ]
  },
  {
   "cell_type": "markdown",
   "metadata": {},
   "source": [
    "pandas的主要统计特征函数：\n",
    "sum():按列计算数据样本的总和。\n",
    "mean():计算数据样本的算数平均数。\n",
    "var():计算数据样本的方差。\n",
    "std():计算数据样本的标准差。\n",
    "corr():计算数据样本的Spearman(Pearson)相关系数矩阵。\n",
    "cov():计算数据样本的协方差矩阵。\n",
    "skew():样本值得偏度(三阶矩)。\n",
    "skew():样本值得峰度(四阶矩)。\n",
    "describe():给出样本的描述。\n",
    "\n",
    "\n",
    "\n",
    "·实例： 计算两个列向量的相关系数， 采用Spearman方法。\n",
    "D = pd.DataFrame([range(1, 8), range(2, 9)]) #生成样本D， 一行为1~7， 一行为2~8\n",
    "D.corr(method='spearson') #计算相关系数矩阵\n",
    "S1 = D.loc[0] #提取第一行\n",
    "S2 = D.loc[1] #提取第二行\n",
    "S1.corr(S2, method='pearson') #计算S1、S2的相关系数\n",
    "\n",
    "\n",
    "·实例： 计算6×5随机矩阵的协方差矩阵。\n",
    "import numpy as np\n",
    "D = pd.DataFrame(np.random.randn(6, 5)) #产生6×5随机矩阵\n",
    "D.cov() #计算协方差矩阵\n",
    "0 1 2 3 4\n",
    "0 1.745257 -0.299968 0.850216 -0.484931 1.068187\n",
    "1 -1.453670 1.460928 0.347299 1.585089 0.595347\n",
    "2 -0.751128 0.504498 -1.244944 -0.672183 -0.595296\n",
    "3 -0.423802 -1.086470 0.637264 0.873043 -0.506736\n",
    "4 0.969907 0.721997 -0.550993 1.033300 -0.903234\n",
    "5 -0.705159 0.385077 0.120580 0.347470 2.036798\n",
    "D[0].cov(D[1]) #计算第一列和第二列的协方差\n",
    "0.5\n",
    "\n",
    "\n",
    "实例： 计算6×5随机矩阵的偏度（ 三阶矩） /峰度（ 四阶矩） 。\n",
    "import numpy as np\n",
    "D = pd.DataFrame(np.random.randn(6, 5)) #产生6×5随机矩阵\n",
    "D.skew()\n",
    "\n",
    "0 -0.210246\n",
    "1 -0.348367\n",
    "2 -1.152183\n",
    "3 -0.378802\n",
    "4 -0.859889\n",
    "dtype: float64\n",
    "\n",
    "D.kurt()\n",
    "\n",
    "\n",
    "0 -0.191062\n",
    "1 -1.831973\n",
    "2 1.171797\n",
    "3 -1.529854\n",
    "4 1.494526\n",
    "dtype: float64\n",
    "\n",
    "实例： 给出6×5随机矩阵的describe。\n",
    "import numpy as np\n",
    "D = pd.DataFrame(np.random.randn(6, 5)) #产生\n",
    "6×5随机矩阵\n",
    "D.describe()\n",
    "0 1 2 3 4\n",
    "count 6.000000 6.000000 6.000000 6.000000 6.000000\n",
    "mean 0.006958 -0.069822 0.113711 -0.168115 -0.584493\n",
    "std 1.224979 1.017829 0.939980 1.173083 0.539911\n",
    "min -1.777763 -1.330542 -1.512842 -1.674685 -1.507229\n",
    "25% -0.669088 -0.937504 -0.202329 -1.109370 -0.721853\n",
    "50% 0.176010 0.130924 0.472093 0.115791 -0.537366\n",
    "75% 0.578993 0.650975 0.516907 0.538483 -0.305514\n",
    "max 1.704960 1.119084 1.146215 1.272789 0.086585\n"
   ]
  },
  {
   "cell_type": "code",
   "execution_count": null,
   "metadata": {
    "collapsed": true
   },
   "outputs": [],
   "source": []
  }
 ],
 "metadata": {
  "kernelspec": {
   "display_name": "Python 3",
   "language": "python",
   "name": "python3"
  },
  "language_info": {
   "codemirror_mode": {
    "name": "ipython",
    "version": 3
   },
   "file_extension": ".py",
   "mimetype": "text/x-python",
   "name": "python",
   "nbconvert_exporter": "python",
   "pygments_lexer": "ipython3",
   "version": "3.6.0"
  }
 },
 "nbformat": 4,
 "nbformat_minor": 2
}
