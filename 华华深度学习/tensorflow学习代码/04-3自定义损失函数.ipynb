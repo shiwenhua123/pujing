{
 "cells": [
  {
   "cell_type": "code",
   "execution_count": 11,
   "metadata": {
    "collapsed": false
   },
   "outputs": [
    {
     "name": "stdout",
     "output_type": "stream",
     "text": [
      "After 0 training step(s),loss 1.89805\n",
      "After 1000 training step(s),loss 0.655075\n",
      "After 2000 training step(s),loss 0.626172\n",
      "After 3000 training step(s),loss 0.615096\n",
      "After 4000 training step(s),loss 0.610309\n"
     ]
    }
   ],
   "source": [
    "import tensorflow as tf\n",
    "from numpy.random import RandomState\n",
    "\n",
    "\n",
    "#定义神经网络的参数以及变量\n",
    "batch_size=8\n",
    "w1=tf.Variable(tf.random_normal([2,3],stddev=1,seed=1))\n",
    "w2=tf.Variable(tf.random_normal([3,1],stddev=1,seed=1))\n",
    "x=tf.placeholder(tf.float32,shape=(None,2),name='x')\n",
    "y_=tf.placeholder(tf.float32,shape=(None,1),name='y')\n",
    "\n",
    "a=tf.matmul(x,w1)\n",
    "y=tf.matmul(a,w2)\n",
    "\n",
    "#定义损失函数\n",
    "cross_entropy=tf.nn.sigmoid_cross_entropy_with_logits(logits=y,labels=y_)\n",
    "loss=tf.reduce_mean(cross_entropy)\n",
    "train_step=tf.train.AdamOptimizer(0.001).minimize(loss)\n",
    "\n",
    "#生成模拟数据\n",
    "rdm=RandomState(1)\n",
    "X=rdm.rand(128,2)\n",
    "Y=[[x1+x2+(rdm.rand()/10.0-0.05)] for (x1,x2) in X]\n",
    "\n",
    "\n",
    "#训练模型\n",
    "with tf.Session() as sess:\n",
    "    tf.global_variables_initializer().run()\n",
    "    step=5000\n",
    "    for i in range(step):\n",
    "        start=(i*batch_size)%128\n",
    "        end=(i*batch_size)%128+batch_size\n",
    "        sess.run(train_step,feed_dict={x:X[start:end],y_:Y[start:end]})\n",
    "        if(i%1000==0):\n",
    "            a=sess.run(loss,feed_dict={x:X,y_:Y})\n",
    "            print(\"After %d training step(s),loss %g\"%(i,a))"
   ]
  },
  {
   "cell_type": "code",
   "execution_count": null,
   "metadata": {
    "collapsed": true
   },
   "outputs": [],
   "source": []
  }
 ],
 "metadata": {
  "kernelspec": {
   "display_name": "Python 3",
   "language": "python",
   "name": "python3"
  },
  "language_info": {
   "codemirror_mode": {
    "name": "ipython",
    "version": 3
   },
   "file_extension": ".py",
   "mimetype": "text/x-python",
   "name": "python",
   "nbconvert_exporter": "python",
   "pygments_lexer": "ipython3",
   "version": "3.6.0"
  }
 },
 "nbformat": 4,
 "nbformat_minor": 2
}
