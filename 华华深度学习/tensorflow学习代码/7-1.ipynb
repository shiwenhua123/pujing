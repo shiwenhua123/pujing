{
 "cells": [
  {
   "cell_type": "code",
   "execution_count": 1,
   "metadata": {
    "collapsed": false
   },
   "outputs": [
    {
     "name": "stdout",
     "output_type": "stream",
     "text": [
      "Extracting /tmp/data/train-images-idx3-ubyte.gz\n",
      "Extracting /tmp/data/train-labels-idx1-ubyte.gz\n",
      "Extracting /tmp/data/t10k-images-idx3-ubyte.gz\n",
      "Extracting /tmp/data/t10k-labels-idx1-ubyte.gz\n"
     ]
    }
   ],
   "source": [
    "import tensorflow as tf\n",
    "from tensorflow.examples.tutorials.mnist import input_data\n",
    "import numpy as np\n",
    "def _int64_feature(value):\n",
    "    return tf.train.Feature(int64_list=tf.train.Int64List(value=[value]))\n",
    "def _bytes_feature(value):\n",
    "    return tf.train.Feature(bytes_list=tf.train.BytesList(value=[value]))\n",
    "\n",
    "#读取mnist数据集\n",
    "mnist=input_data.read_data_sets('/tmp/data/',dtype=tf.uint8,one_hot=True)"
   ]
  },
  {
   "cell_type": "code",
   "execution_count": 2,
   "metadata": {
    "collapsed": true
   },
   "outputs": [],
   "source": [
    "images=mnist.train.images"
   ]
  },
  {
   "cell_type": "code",
   "execution_count": 3,
   "metadata": {
    "collapsed": false
   },
   "outputs": [
    {
     "data": {
      "image/png": "[encoded data removed]",
      "text/plain": [
       "<matplotlib.figure.Figure at 0xaa16731b00>"
      ]
     },
     "metadata": {},
     "output_type": "display_data"
    }
   ],
   "source": [
    "image_0=np.reshape(images[2],(28,28))\n",
    "image_0.shape\n",
    "import matplotlib.pyplot as plt\n",
    "plt.imshow(image_0)\n",
    "plt.show()"
   ]
  },
  {
   "cell_type": "code",
   "execution_count": 4,
   "metadata": {
    "collapsed": false
   },
   "outputs": [],
   "source": [
    "labels=mnist.train.labels"
   ]
  },
  {
   "cell_type": "code",
   "execution_count": 5,
   "metadata": {
    "collapsed": true
   },
   "outputs": [],
   "source": [
    "pixls=images.shape[1]"
   ]
  },
  {
   "cell_type": "code",
   "execution_count": 6,
   "metadata": {
    "collapsed": false
   },
   "outputs": [],
   "source": [
    "num_examples=mnist.train.num_examples"
   ]
  },
  {
   "cell_type": "code",
   "execution_count": 7,
   "metadata": {
    "collapsed": false
   },
   "outputs": [
    {
     "data": {
      "text/plain": [
       "55000"
      ]
     },
     "execution_count": 7,
     "metadata": {},
     "output_type": "execute_result"
    }
   ],
   "source": [
    "num_examples"
   ]
  },
  {
   "cell_type": "code",
   "execution_count": 8,
   "metadata": {
    "collapsed": false
   },
   "outputs": [
    {
     "data": {
      "text/plain": [
       "4"
      ]
     },
     "execution_count": 8,
     "metadata": {},
     "output_type": "execute_result"
    }
   ],
   "source": [
    "np.argmax(labels[2])"
   ]
  },
  {
   "cell_type": "code",
   "execution_count": 9,
   "metadata": {
    "collapsed": false
   },
   "outputs": [
    {
     "name": "stdout",
     "output_type": "stream",
     "text": [
      "文件已经保存！\n"
     ]
    }
   ],
   "source": [
    "filename=\"cc/output.tfrecords\"\n",
    "\n",
    "writer=tf.python_io.TFRecordWriter(filename)\n",
    "for index in range(num_examples):\n",
    "    image_raw=images[index].tostring()\n",
    "    example=tf.train.Example(features=tf.train.Features(feature={\n",
    "        'pixels':_int64_feature(pixls),\n",
    "        'label':_int64_feature(np.argmax(labels[index])),\n",
    "        'image_raw':_bytes_feature(image_raw)\n",
    "    }))\n",
    "    writer.write(example.SerializeToString())\n",
    "writer.close()\n",
    "print(\"文件已经保存！\")"
   ]
  },
  {
   "cell_type": "markdown",
   "metadata": {},
   "source": [
    "## 读取文件"
   ]
  },
  {
   "cell_type": "code",
   "execution_count": 10,
   "metadata": {
    "collapsed": false
   },
   "outputs": [],
   "source": [
    "reader=tf.TFRecordReader()\n",
    "filename_queue=tf.train.string_input_producer([\"cc/output.tfrecords\"])\n",
    "_,serialized_example=reader.read(filename_queue)\n",
    "features=tf.parse_single_example(\n",
    "    serialized_example,\n",
    "    features={\n",
    "        'image_raw':tf.FixedLenFeature([],tf.string),\n",
    "        'pixels':tf.FixedLenFeature([],tf.int64),\n",
    "        'label':tf.FixedLenFeature([],tf.int64) \n",
    "    }\n",
    ")\n",
    "images=tf.decode_raw(features['image_raw'],tf.uint8)\n",
    "labels=tf.cast(features['label'],tf.int32)\n",
    "pixels=tf.cast(features['pixels'],tf.int32)\n",
    "sess=tf.Session()\n",
    "coord=tf.train.Coordinator()\n",
    "threads=tf.train.start_queue_runners(sess,coord)\n",
    "for i in range(10):\n",
    "    image,label,pixl=sess.run([images,labels,pixels])\n",
    "    "
   ]
  },
  {
   "cell_type": "code",
   "execution_count": 11,
   "metadata": {
    "collapsed": false
   },
   "outputs": [
    {
     "data": {
      "image/png": "[encoded data removed]",
      "text/plain": [
       "<matplotlib.figure.Figure at 0x7c37a609e8>"
      ]
     },
     "metadata": {},
     "output_type": "display_data"
    }
   ],
   "source": [
    "image=np.reshape(image,(28,28))\n",
    "plt.imshow(image)\n",
    "plt.show()"
   ]
  },
  {
   "cell_type": "code",
   "execution_count": 20,
   "metadata": {
    "collapsed": false
   },
   "outputs": [],
   "source": [
    "images=mnist.train.images"
   ]
  },
  {
   "cell_type": "code",
   "execution_count": 21,
   "metadata": {
    "collapsed": false
   },
   "outputs": [],
   "source": [
    "images_5000=np.reshape(images[50000],(28,28))"
   ]
  },
  {
   "cell_type": "code",
   "execution_count": 22,
   "metadata": {
    "collapsed": false
   },
   "outputs": [
    {
     "data": {
      "image/png": "[encoded data removed]",
      "text/plain": [
       "<matplotlib.figure.Figure at 0xb53929b278>"
      ]
     },
     "metadata": {},
     "output_type": "display_data"
    }
   ],
   "source": [
    "plt.imshow(images_5000)\n",
    "plt.show()"
   ]
  },
  {
   "cell_type": "markdown",
   "metadata": {
    "collapsed": true
   },
   "source": [
    "## 制作狗的TFRECORD文件"
   ]
  },
  {
   "cell_type": "code",
   "execution_count": 29,
   "metadata": {
    "collapsed": false
   },
   "outputs": [],
   "source": [
    "import os\n",
    "import tensorflow as tf\n",
    "from PIL import Image\n",
    "import matplotlib.pyplot as plt\n",
    "import numpy as np\n",
    "cwd='E:\\\\aa\\\\'\n",
    "classes={'husky','chihuahua'}#认为设定为两类\n",
    "writer=tf.python_io.TFRecordWriter('dog_train.tfrecords')#要生成的文件\n",
    "for index,name in enumerate(classes):\n",
    "    class_path=cwd+name+\"\\\\\"\n",
    "    for img_name in os.listdir(class_path):\n",
    "        img_path=class_path+img_name\n",
    "        img=Image.open(img_path)\n",
    "        img=img.resize((128,128))\n",
    "        img_raw=img.tobytes()#将格式转化为二进制格式\n",
    "        example=tf.train.Example(features=tf.train.Features(feature={\n",
    "            'label':tf.train.Feature(int64_list=tf.train.Int64List(value=[index])),\n",
    "            'img_raw':tf.train.Feature(bytes_list=tf.train.BytesList(value=[img_raw]))\n",
    "        }))\n",
    "        writer.write(example.SerializeToString())\n",
    "writer.close()"
   ]
  },
  {
   "cell_type": "markdown",
   "metadata": {},
   "source": [
    "## 读取TFRECORD文件"
   ]
  },
  {
   "cell_type": "code",
   "execution_count": 30,
   "metadata": {
    "collapsed": false
   },
   "outputs": [],
   "source": [
    "def read_and_decode(filename):\n",
    "    filename_queue=tf.train.string_input_producer([filename])#生成一个queue队列\n",
    "    reader=tf.TFRecordReader()\n",
    "    _,serialized_example=reader.read(filename_queue)#返回文件名和文件\n",
    "    features=tf.parse_single_example(\n",
    "        serialized_example,\n",
    "        features={\n",
    "            'label':tf.FixedLenFeature([],tf.int64),\n",
    "            'img_raw':tf.FixedLenFeature([],tf.string)\n",
    "        }\n",
    "    )\n",
    "    img=tf.decode_raw(features['img_raw'],tf.uint8)\n",
    "    img=tf.reshape(img,[128,128,3])\n",
    "    #img=tf.cast(img,tf.float32)* (1. / 255) - 0.5\n",
    "    label=tf.cast(features['label'],tf.int32)\n",
    "    return img,label\n"
   ]
  },
  {
   "cell_type": "code",
   "execution_count": 31,
   "metadata": {
    "collapsed": false
   },
   "outputs": [],
   "source": [
    "images,labels=read_and_decode('dog_train.tfrecords')"
   ]
  },
  {
   "cell_type": "code",
   "execution_count": 32,
   "metadata": {
    "collapsed": false
   },
   "outputs": [
    {
     "data": {
      "text/plain": [
       "<tf.Tensor 'Reshape_3:0' shape=(128, 128, 3) dtype=uint8>"
      ]
     },
     "execution_count": 32,
     "metadata": {},
     "output_type": "execute_result"
    }
   ],
   "source": [
    "images"
   ]
  },
  {
   "cell_type": "code",
   "execution_count": 33,
   "metadata": {
    "collapsed": false,
    "scrolled": false
   },
   "outputs": [],
   "source": [
    "import os\n",
    "import tensorflow as tf\n",
    "from PIL import Image\n",
    "import matplotlib.pyplot as plt\n",
    "import numpy as np\n",
    "cwd='E:\\\\aa\\\\bb\\\\'\n",
    "with tf.Session() as sess:\n",
    "    tf.global_variables_initializer().run()\n",
    "    coord=tf.train.Coordinator()\n",
    "    threads=tf.train.start_queue_runners(coord=coord)\n",
    "    for i in range(20):\n",
    "        example,l=sess.run([images,labels])\n",
    "        img=Image.fromarray(example,'RGB')\n",
    "        img.save(cwd+str(i)+'_''label_'+str(l)+'.jpg')\n",
    "        #print(example,l)\n",
    "    coord.request_stop()\n",
    "    coord.join(threads)"
   ]
  },
  {
   "cell_type": "markdown",
   "metadata": {
    "collapsed": true
   },
   "source": [
    "## 把dog写成两个tfrecord文件"
   ]
  },
  {
   "cell_type": "code",
   "execution_count": 17,
   "metadata": {
    "collapsed": true
   },
   "outputs": [],
   "source": [
    "import os\n",
    "import tensorflow as tf\n",
    "from PIL import Image\n",
    "import matplotlib.pyplot as plt\n",
    "import numpy as np\n",
    "cwd='E:\\\\aa\\\\'\n",
    "bao='E:\\\\aa\\\\bb\\\\'\n",
    "classes={'husky','chihuahua'}#认为设定为两类\n",
    "\n",
    "beat_num=10\n",
    "num=0\n",
    "record=0\n",
    "writer=tf.python_io.TFRecordWriter(bao+'dog_train.tfrecords-'+str(record))#要生成的文件\n",
    "for index,name in enumerate(classes):\n",
    "    class_path=cwd+name+\"\\\\\"\n",
    "    for img_name in os.listdir(class_path):\n",
    "        num=num+1\n",
    "        if(num>beat_num):\n",
    "            num=1\n",
    "            record=record+1\n",
    "            writer=tf.python_io.TFRecordWriter(bao+'dog_train.tfrecords-'+str(record))\n",
    "        img_path=class_path+img_name\n",
    "        img=Image.open(img_path)\n",
    "        img=img.resize((128,128))\n",
    "        img_raw=img.tobytes()#将格式转化为二进制格式\n",
    "        example=tf.train.Example(features=tf.train.Features(feature={\n",
    "            'label':tf.train.Feature(int64_list=tf.train.Int64List(value=[index])),\n",
    "            'img_raw':tf.train.Feature(bytes_list=tf.train.BytesList(value=[img_raw]))\n",
    "        }))\n",
    "        writer.write(example.SerializeToString())\n",
    "writer.close()"
   ]
  },
  {
   "cell_type": "markdown",
   "metadata": {},
   "source": [
    "## 读取两个tfrecord文件"
   ]
  },
  {
   "cell_type": "code",
   "execution_count": 2,
   "metadata": {
    "collapsed": true
   },
   "outputs": [],
   "source": [
    "import os\n",
    "import tensorflow as tf\n",
    "from PIL import Image\n",
    "import matplotlib.pyplot as plt\n",
    "import numpy as np\n",
    "cwd='E:\\\\aa\\\\'\n",
    "bao='E:\\\\aa\\\\bb\\\\'"
   ]
  },
  {
   "cell_type": "code",
   "execution_count": 3,
   "metadata": {
    "collapsed": false
   },
   "outputs": [],
   "source": [
    "data_path=bao+'dog_train.tfrecord*'\n",
    "data_paths=tf.gfile.Glob(data_path)\n",
    "def read_and_decode(data_paths):\n",
    "    filename_queue=tf.train.string_input_producer(data_paths,shuffle=False)#生成一个queue队列\n",
    "    reader=tf.TFRecordReader()\n",
    "    _,serialized_example=reader.read(filename_queue)#返回文件名和文件\n",
    "    features=tf.parse_single_example(\n",
    "        serialized_example,\n",
    "        features={\n",
    "            'label':tf.FixedLenFeature([],tf.int64),\n",
    "            'img_raw':tf.FixedLenFeature([],tf.string)\n",
    "        }\n",
    "    )\n",
    "    img=tf.decode_raw(features['img_raw'],tf.uint8)\n",
    "    img=tf.reshape(img,[128,128,3])\n",
    "    label=tf.cast(features['label'],tf.int32)\n",
    "    return img,label"
   ]
  },
  {
   "cell_type": "code",
   "execution_count": 4,
   "metadata": {
    "collapsed": false
   },
   "outputs": [
    {
     "data": {
      "text/plain": [
       "['E:\\\\aa\\\\bb\\\\dog_train.tfrecords-0', 'E:\\\\aa\\\\bb\\\\dog_train.tfrecords-1']"
      ]
     },
     "execution_count": 4,
     "metadata": {},
     "output_type": "execute_result"
    }
   ],
   "source": [
    "data_paths"
   ]
  },
  {
   "cell_type": "code",
   "execution_count": 5,
   "metadata": {
    "collapsed": false
   },
   "outputs": [],
   "source": [
    "images,labels=read_and_decode(data_paths)"
   ]
  },
  {
   "cell_type": "code",
   "execution_count": 6,
   "metadata": {
    "collapsed": false
   },
   "outputs": [
    {
     "data": {
      "text/plain": [
       "<tf.Tensor 'Reshape:0' shape=(128, 128, 3) dtype=uint8>"
      ]
     },
     "execution_count": 6,
     "metadata": {},
     "output_type": "execute_result"
    }
   ],
   "source": [
    "images"
   ]
  },
  {
   "cell_type": "code",
   "execution_count": 7,
   "metadata": {
    "collapsed": false,
    "scrolled": false
   },
   "outputs": [],
   "source": [
    "import os\n",
    "import tensorflow as tf\n",
    "from PIL import Image\n",
    "import matplotlib.pyplot as plt\n",
    "import numpy as np\n",
    "cwd='E:\\\\aa\\\\bb\\\\'\n",
    "with tf.Session() as sess:\n",
    "    tf.global_variables_initializer().run()\n",
    "    coord=tf.train.Coordinator()\n",
    "    threads=tf.train.start_queue_runners(sess=sess,coord=coord)\n",
    "    for i in range(20):\n",
    "        example,l=sess.run([images,labels])\n",
    "        img=Image.fromarray(example,'RGB')\n",
    "        img.save(cwd+str(i+1)+'_label_'+str(l)+'.jpg')\n",
    "        #print(example,l)\n",
    "    coord.request_stop()\n",
    "    coord.join(threads)"
   ]
  },
  {
   "cell_type": "markdown",
   "metadata": {
    "collapsed": true
   },
   "source": [
    "## 把输出转化为batch"
   ]
  },
  {
   "cell_type": "code",
   "execution_count": 12,
   "metadata": {
    "collapsed": false
   },
   "outputs": [],
   "source": [
    "import os\n",
    "import tensorflow as tf\n",
    "from PIL import Image\n",
    "import matplotlib.pyplot as plt\n",
    "import numpy as np\n",
    "batch_size=5\n",
    "capacity=100+3*batch_size\n",
    "image_batch,label_batch=tf.train.batch([images,labels],batch_size,capacity)\n"
   ]
  },
  {
   "cell_type": "code",
   "execution_count": 13,
   "metadata": {
    "collapsed": false
   },
   "outputs": [
    {
     "data": {
      "text/plain": [
       "<tf.Tensor 'batch_1:0' shape=(5, 128, 128, 3) dtype=uint8>"
      ]
     },
     "execution_count": 13,
     "metadata": {},
     "output_type": "execute_result"
    }
   ],
   "source": [
    "image_batch"
   ]
  },
  {
   "cell_type": "code",
   "execution_count": null,
   "metadata": {
    "collapsed": true
   },
   "outputs": [],
   "source": []
  }
 ],
 "metadata": {
  "kernelspec": {
   "display_name": "Python 3",
   "language": "python",
   "name": "python3"
  },
  "language_info": {
   "codemirror_mode": {
    "name": "ipython",
    "version": 3
   },
   "file_extension": ".py",
   "mimetype": "text/x-python",
   "name": "python",
   "nbconvert_exporter": "python",
   "pygments_lexer": "ipython3",
   "version": "3.6.0"
  }
 },
 "nbformat": 4,
 "nbformat_minor": 2
}
