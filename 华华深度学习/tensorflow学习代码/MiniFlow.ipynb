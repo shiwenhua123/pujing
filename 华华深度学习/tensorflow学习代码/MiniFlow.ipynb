{
 "cells": [
  {
   "cell_type": "code",
   "execution_count": null,
   "metadata": {
    "collapsed": true
   },
   "outputs": [],
   "source": [
    "class Node(object):\n",
    "    def __init__(self,inbound_nodes=[]):\n",
    "        self.inbound_nodes=inbound_nodes\n",
    "        self.value=Node\n",
    "        self.outbound_nodes=[]\n",
    "        self.gradients={}\n",
    "        \n",
    "        for node in inbound_nodes:\n",
    "            node.outbound_nodes.append(self)\n",
    "    def forward(self):\n",
    "        raise NotImplementedError\n",
    "    def backward(self):\n",
    "        raise NotImplementedError\n",
    "class Input(Node):\n",
    "    def __init__(self):\n",
    "        Node.__init__(self)\n",
    "    def forward(self):\n",
    "        pass\n",
    "    def backward(self):\n",
    "        "
   ]
  }
 ],
 "metadata": {
  "kernelspec": {
   "display_name": "Python 3",
   "language": "python",
   "name": "python3"
  },
  "language_info": {
   "codemirror_mode": {
    "name": "ipython",
    "version": 3
   },
   "file_extension": ".py",
   "mimetype": "text/x-python",
   "name": "python",
   "nbconvert_exporter": "python",
   "pygments_lexer": "ipython3",
   "version": "3.6.0"
  }
 },
 "nbformat": 4,
 "nbformat_minor": 2
}
