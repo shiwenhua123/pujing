{
 "cells": [
  {
   "cell_type": "code",
   "execution_count": 1,
   "metadata": {
    "collapsed": false
   },
   "outputs": [
    {
     "name": "stdout",
     "output_type": "stream",
     "text": [
      "0\n",
      "10\n",
      "1\n",
      "11\n",
      "2\n"
     ]
    }
   ],
   "source": [
    "import tensorflow as tf\n",
    "q=tf.FIFOQueue(2,\"int32\")\n",
    "init=q.enqueue_many(([0,10],))\n",
    "X=q.dequeue()\n",
    "y=X+1\n",
    "q_inc=q.enqueue([y])\n",
    "with tf.Session() as sess:\n",
    "    tf.global_variables_initializer().run()\n",
    "    init.run()#一定要先初始化队列，不然运行不了，会卡住\n",
    "    for _ in range(5):\n",
    "        v,_=sess.run([X,q_inc])\n",
    "        print(v)"
   ]
  },
  {
   "cell_type": "code",
   "execution_count": 3,
   "metadata": {
    "collapsed": false,
    "scrolled": false
   },
   "outputs": [
    {
     "name": "stdout",
     "output_type": "stream",
     "text": [
      "Working on id:0\n",
      "Working on id:3\n",
      "Working on id:2\n",
      "Working on id:4\n",
      " Working on id:1\n",
      "  None None None\n",
      "None\n",
      "None\n",
      "\n",
      "\n",
      "Working on id:3\n",
      "Working on id:2\n",
      " None \n",
      "None\n",
      "Working on id:4\n",
      " NoneWorking on id:1\n",
      "Working on id:0\n",
      "\n",
      "  NoneNone\n",
      "\n",
      "Working on id:2\n",
      " Working on id:3\n",
      "None\n",
      " None\n",
      "Working on id:4\n",
      " None\n",
      "Working on id:1\n",
      "Working on id:0\n",
      "  NoneNone\n",
      "\n",
      "Working on id:2\n",
      " NoneWorking on id:3\n",
      "\n",
      " None\n",
      "Stop from id:3\n",
      " None\n",
      "Working on id:4\n",
      " None\n",
      "Working on id:0\n",
      " None\n",
      "Working on id:1\n",
      " None\n",
      "Working on id:2\n",
      " None\n"
     ]
    }
   ],
   "source": [
    "import tensorflow as tf\n",
    "import numpy as np\n",
    "import threading\n",
    "import time\n",
    "def MyLoop(coord,worker_id):\n",
    "    while(not coord.should_stop()):\n",
    "        if(np.random.rand()<0.1):\n",
    "            print(\"Stop from id:%d\\n\" % worker_id,coord.request_stop())\n",
    "        else:\n",
    "            print(\"Working on id:%d\\n\" % worker_id,time.sleep(1))\n",
    "coord=tf.train.Coordinator()\n",
    "\n",
    "threads=[threading.Thread(target=MyLoop,args=(coord,i,)) for i in range(5)]\n",
    "for t in threads:\n",
    "    t.start()\n",
    "coord.join(threads)"
   ]
  },
  {
   "cell_type": "code",
   "execution_count": 7,
   "metadata": {
    "collapsed": false
   },
   "outputs": [
    {
     "name": "stdout",
     "output_type": "stream",
     "text": [
      "-1.64617\n",
      "-1.12697\n",
      "1.05122\n"
     ]
    }
   ],
   "source": [
    "import tensorflow as tf\n",
    "queue=tf.FIFOQueue(100,\"float\")#队列中最多有100个元素\n",
    "enqueue_op=queue.enqueue([tf.random_normal([1])])\n",
    "qr=tf.train.QueueRunner(queue,[enqueue_op]*5)\n",
    "tf.train.add_queue_runner(qr)\n",
    "out_tensor=queue.dequeue()\n",
    "with tf.Session() as sess:\n",
    "    coord=tf.train.Coordinator()\n",
    "    threads=tf.train.start_queue_runners(sess,coord)\n",
    "    for _ in range(3):\n",
    "        print(sess.run(out_tensor)[0])\n",
    "    coord.request_stop()\n",
    "    coord.join(threads)\n",
    "    \n",
    "    "
   ]
  },
  {
   "cell_type": "code",
   "execution_count": 82,
   "metadata": {
    "collapsed": false
   },
   "outputs": [
    {
     "name": "stdout",
     "output_type": "stream",
     "text": [
      "0\n",
      "chihuahua\n",
      "1\n",
      "husky\n"
     ]
    }
   ],
   "source": [
    "import tensorflow as tf\n",
    "import os\n",
    "from PIL import Image\n",
    "import matplotlib.pyplot as plt\n",
    "import numpy as np\n",
    "#图片路径\n",
    "cwd='E://aa//'\n",
    "#文件路径\n",
    "filepath='E://aa//'\n",
    "#保存图片个数\n",
    "bestnum=10\n",
    "#第几个图片\n",
    "num=0\n",
    "#第几个TFRecord文件\n",
    "recordfilenum=0\n",
    "\n",
    "#类别\n",
    "classes={'husky','chihuahua'}\n",
    "#tfrecord格式文件名\n",
    "tfrecordfilename=(\"data.tfrecords-%.3d\" % recordfilenum)\n",
    "writer=tf.python_io.TFRecordWriter(filepath+tfrecordfilename)\n",
    "#类别和路径\n",
    "for index,name in enumerate(classes):\n",
    "    print(index)\n",
    "    print(name)\n",
    "    class_path=cwd+name+'\\\\'\n",
    "    for img_name in os.listdir(class_path):\n",
    "        num+=1\n",
    "        if(num>bestnum):\n",
    "            num=1\n",
    "            recordfilenum=recordfilenum+1\n",
    "            tfrecordfilename=(\"data.tfrecords-%.3d\" % recordfilenum)\n",
    "            writer=tf.python_io.TFRecordWriter(filepath+tfrecordfilename)\n",
    "        img_path=class_path+img_name\n",
    "        img=Image.open(img_path)\n",
    "        img_raw=img.tobytes()\n",
    "        examle=tf.train.Example(\n",
    "        features=tf.train.Features(feature={\n",
    "            \"label\":tf.train.Feature(int64_list=tf.train.Int64List(value=[index])),\n",
    "            \"img_raw\":tf.train.Feature(bytes_list=tf.train.BytesList(value=[img_raw]))\n",
    "        }))\n",
    "        writer.write(examle.SerializeToString())\n",
    "    writer.close()"
   ]
  },
  {
   "cell_type": "code",
   "execution_count": 74,
   "metadata": {
    "collapsed": true
   },
   "outputs": [],
   "source": [
    "filename_queue = tf.train.string_input_producer([\"data.tfrecords-000\"]) #读入流中"
   ]
  },
  {
   "cell_type": "code",
   "execution_count": 85,
   "metadata": {
    "collapsed": false,
    "scrolled": false
   },
   "outputs": [
    {
     "name": "stdout",
     "output_type": "stream",
     "text": [
      "INFO:tensorflow:Error reported to Coordinator: <class 'tensorflow.python.framework.errors_impl.FailedPreconditionError'>, Attempting to use uninitialized value matching_filenames\n",
      "\t [[Node: matching_filenames/read = Identity[T=DT_STRING, _class=[\"loc:@matching_filenames\"], _device=\"/job:localhost/replica:0/task:0/device:CPU:0\"](matching_filenames)]]\n"
     ]
    },
    {
     "ename": "TypeError",
     "evalue": "a bytes-like object is required, not 'Tensor'",
     "output_type": "error",
     "traceback": [
      "\u001b[0;31m---------------------------------------------------------------------------\u001b[0m",
      "\u001b[0;31mTypeError\u001b[0m                                 Traceback (most recent call last)",
      "\u001b[0;32m<ipython-input-85-ba3b3f2c7d83>\u001b[0m in \u001b[0;36m<module>\u001b[0;34m()\u001b[0m\n\u001b[1;32m     18\u001b[0m     \u001b[1;32mfor\u001b[0m \u001b[0mi\u001b[0m \u001b[1;32min\u001b[0m \u001b[0mrange\u001b[0m\u001b[1;33m(\u001b[0m\u001b[1;36m20\u001b[0m\u001b[1;33m)\u001b[0m\u001b[1;33m:\u001b[0m\u001b[1;33m\u001b[0m\u001b[0m\n\u001b[1;32m     19\u001b[0m         \u001b[0mexample\u001b[0m\u001b[1;33m,\u001b[0m\u001b[0ml\u001b[0m\u001b[1;33m=\u001b[0m\u001b[0msess\u001b[0m\u001b[1;33m.\u001b[0m\u001b[0mrun\u001b[0m\u001b[1;33m(\u001b[0m\u001b[1;33m[\u001b[0m\u001b[0mimage\u001b[0m\u001b[1;33m,\u001b[0m\u001b[0mlabel\u001b[0m\u001b[1;33m]\u001b[0m\u001b[1;33m)\u001b[0m\u001b[1;33m\u001b[0m\u001b[0m\n\u001b[0;32m---> 20\u001b[0;31m         \u001b[0mimg\u001b[0m \u001b[1;33m=\u001b[0m \u001b[0mnp\u001b[0m\u001b[1;33m.\u001b[0m\u001b[0mfromstring\u001b[0m\u001b[1;33m(\u001b[0m\u001b[0mimage\u001b[0m\u001b[1;33m,\u001b[0m \u001b[0mdtype\u001b[0m\u001b[1;33m=\u001b[0m\u001b[0mnp\u001b[0m\u001b[1;33m.\u001b[0m\u001b[0mfloat32\u001b[0m\u001b[1;33m)\u001b[0m\u001b[1;33m\u001b[0m\u001b[0m\n\u001b[0m\u001b[1;32m     21\u001b[0m         \u001b[1;31m#img=Image.fromarray(example,'RGB')\u001b[0m\u001b[1;33m\u001b[0m\u001b[1;33m\u001b[0m\u001b[0m\n\u001b[1;32m     22\u001b[0m         \u001b[1;31m#img=tf.reshape(img,[256,256,3])\u001b[0m\u001b[1;33m\u001b[0m\u001b[1;33m\u001b[0m\u001b[0m\n",
      "\u001b[0;31mTypeError\u001b[0m: a bytes-like object is required, not 'Tensor'"
     ]
    }
   ],
   "source": [
    "import numpy as np\n",
    "reader=tf.TFRecordReader()\n",
    "_,serialized_example=reader.read(filename_queue)\n",
    "features=tf.parse_single_example(serialized_example,\n",
    "                                 features={\n",
    "                                     'label':tf.FixedLenFeature([],tf.int64),\n",
    "                                     'img_raw':tf.FixedLenFeature([],tf.string),\n",
    "                                 })\n",
    "image=tf.decode_raw(features['img_raw'],tf.uint8)\n",
    "#image=tf.reshape(image,[128,128,3])\n",
    "label=tf.cast(features['label'],tf.int32)\n",
    "with tf.Session() as sess:\n",
    "    init_op = tf.initialize_all_variables()\n",
    "    sess.run(init_op)\n",
    "    coord=tf.train.Coordinator()\n",
    "    threads=tf.train.start_queue_runners(sess=sess,coord=coord)\n",
    "    \n",
    "    for i in range(20):\n",
    "        example,l=sess.run([image,label])\n",
    "        img = np.fromstring(image, dtype=np.float32) \n",
    "        #img=Image.fromarray(example,'RGB')\n",
    "        #img=tf.reshape(img,[256,256,3])\n",
    "        img.save(cwd+str(i)+'_Label_'+str(i)+'.jpg')\n",
    "        print(example,l)\n",
    "    coord.request_stop()\n",
    "    coord.join(threads)"
   ]
  },
  {
   "cell_type": "code",
   "execution_count": null,
   "metadata": {
    "collapsed": true
   },
   "outputs": [],
   "source": []
  },
  {
   "cell_type": "code",
   "execution_count": null,
   "metadata": {
    "collapsed": true
   },
   "outputs": [],
   "source": []
  }
 ],
 "metadata": {
  "kernelspec": {
   "display_name": "Python 3",
   "language": "python",
   "name": "python3"
  },
  "language_info": {
   "codemirror_mode": {
    "name": "ipython",
    "version": 3
   },
   "file_extension": ".py",
   "mimetype": "text/x-python",
   "name": "python",
   "nbconvert_exporter": "python",
   "pygments_lexer": "ipython3",
   "version": "3.6.0"
  }
 },
 "nbformat": 4,
 "nbformat_minor": 2
}
