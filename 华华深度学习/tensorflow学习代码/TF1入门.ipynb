{
 "cells": [
  {
   "cell_type": "code",
   "execution_count": 2,
   "metadata": {
    "collapsed": false
   },
   "outputs": [
    {
     "name": "stdout",
     "output_type": "stream",
     "text": [
      "tensorflow version: 1.4.0-rc0\n"
     ]
    }
   ],
   "source": [
    "import tensorflow as tf\n",
    "print(\"tensorflow version:\",tf.VERSION)"
   ]
  },
  {
   "cell_type": "code",
   "execution_count": 13,
   "metadata": {
    "collapsed": false
   },
   "outputs": [
    {
     "name": "stdout",
     "output_type": "stream",
     "text": [
      "[ 3.  5.]\n"
     ]
    }
   ],
   "source": [
    "def func00_def():\n",
    "    a=tf.Variable([1.0,2.0],name=\"a\")\n",
    "    b=tf.Variable([2.0,3.0],name='b')\n",
    "    g=tf.Graph()\n",
    "    with tf.Session() as sess:\n",
    "        with g.device('/cpu:0'):\n",
    "            tf.global_variables_initializer().run()\n",
    "            result=a+b\n",
    "            print(sess.run(result))\n",
    "func00_def()"
   ]
  },
  {
   "cell_type": "code",
   "execution_count": 16,
   "metadata": {
    "collapsed": false
   },
   "outputs": [
    {
     "name": "stdout",
     "output_type": "stream",
     "text": [
      "[[ 2.67441988]]\n"
     ]
    }
   ],
   "source": [
    "def func_01_constant():\n",
    "    w1=tf.Variable(tf.random_normal([2,3],stddev=1))\n",
    "    w2=tf.Variable(tf.random_normal([3,1],stddev=1))\n",
    "    x=tf.constant([[0.7,0.9]])\n",
    "    a=tf.matmul(x,w1)\n",
    "    y=tf.matmul(a,w2)\n",
    "    with tf.Session() as sess:\n",
    "        tf.global_variables_initializer().run()\n",
    "        print(sess.run(y))\n",
    "func_01_constant()    "
   ]
  },
  {
   "cell_type": "code",
   "execution_count": 23,
   "metadata": {
    "collapsed": false
   },
   "outputs": [
    {
     "name": "stdout",
     "output_type": "stream",
     "text": [
      "[[-1.05000949]]\n"
     ]
    }
   ],
   "source": [
    "def func_02_plcaeholder():\n",
    "    w1=tf.Variable(tf.random_normal([2,3],stddev=1))\n",
    "    w2=tf.Variable(tf.random_normal([3,1],stddev=1))\n",
    "    x=tf.placeholder(tf.float32,shape=(None,2),name='x')\n",
    "    a=tf.matmul(x,w1)\n",
    "    y=tf.matmul(a,w2)\n",
    "    with tf.Session() as sess:\n",
    "        tf.global_variables_initializer().run()\n",
    "        print(sess.run(y,feed_dict={x:[[0.7,0.9]]}))\n",
    "\n",
    "func_02_plcaeholder()"
   ]
  },
  {
   "cell_type": "code",
   "execution_count": 1,
   "metadata": {
    "collapsed": false
   },
   "outputs": [
    {
     "name": "stdout",
     "output_type": "stream",
     "text": [
      "w1: [[-0.81131822  1.48459876  0.06532937]\n",
      " [-2.4427042   0.0992484   0.59122431]]\n",
      "w2: [[-0.81131822]\n",
      " [ 1.48459876]\n",
      " [ 0.06532937]]\n",
      "\n",
      "\n",
      "After 0 training step(s),cross entropy on all data is 1.89805\n",
      "After 1000 training step(s),cross entropy on all data is 0.655075\n",
      "After 2000 training step(s),cross entropy on all data is 0.626172\n",
      "After 3000 training step(s),cross entropy on all data is 0.615096\n",
      "After 4000 training step(s),cross entropy on all data is 0.610309\n",
      "\n",
      "\n",
      "w1: [[ 0.02476986  0.5694868   1.6921941 ]\n",
      " [-2.19773483 -0.23668924  1.11438966]]\n",
      "w2: [[-0.45544708]\n",
      " [ 0.49110925]\n",
      " [-0.98110336]]\n"
     ]
    }
   ],
   "source": [
    "import tensorflow as tf\n",
    "from numpy.random import RandomState\n",
    "\n",
    "#定义神经网络的参数，输入和输出节点\n",
    "batch_size=8\n",
    "w1=tf.Variable(tf.random_normal([2,3],stddev=1,seed=1))\n",
    "w2=tf.Variable(tf.random_normal([3,1],stddev=1,seed=1))\n",
    "x=tf.placeholder(tf.float32,shape=(None,2),name='X')\n",
    "y_=tf.placeholder(tf.float32,shape=(None,1),name='y')\n",
    "\n",
    "\n",
    "#定义前向传播过程，损失函数以及方向传播算法\n",
    "a=tf.matmul(x,w1)\n",
    "y=tf.matmul(a,w2)\n",
    "cross_entropy=tf.reduce_mean(tf.nn.sigmoid_cross_entropy_with_logits(logits=y,labels=y_))\n",
    "train_step=tf.train.AdamOptimizer(0.001).minimize(cross_entropy)\n",
    "\n",
    "#生成模拟数据集\n",
    "rdm=RandomState(1)\n",
    "X=rdm.rand(128,2)\n",
    "Y=[[int(x1+x2<1)] for (x1,x2) in X]\n",
    "\n",
    "#创建一个会话运行tensorflow程序\n",
    "with tf.Session() as sess:\n",
    "    tf.global_variables_initializer().run()\n",
    "    #输出目前未训练的参数取值\n",
    "    print(\"w1:\",sess.run(w1))\n",
    "    print(\"w2:\",sess.run(w2))\n",
    "    print(\"\\n\")\n",
    "    #训练模型\n",
    "    step=5000\n",
    "    for i in range(step):\n",
    "        start=(i*batch_size)%128\n",
    "        end=(i*batch_size)%128+batch_size\n",
    "        sess.run(train_step,feed_dict={x:X[start:end],y_:Y[start:end]})\n",
    "        if(i%1000==0):\n",
    "            total_crosee_entropy=sess.run(cross_entropy,feed_dict={x:X,y_:Y})\n",
    "            print(\"After %d training step(s),cross entropy on all data is %g\"%(i,total_crosee_entropy))\n",
    "    print(\"\\n\")\n",
    "    print(\"w1:\",sess.run(w1))\n",
    "    print(\"w2:\",sess.run(w2))"
   ]
  },
  {
   "cell_type": "code",
   "execution_count": null,
   "metadata": {
    "collapsed": true
   },
   "outputs": [],
   "source": []
  }
 ],
 "metadata": {
  "kernelspec": {
   "display_name": "Python 3",
   "language": "python",
   "name": "python3"
  },
  "language_info": {
   "codemirror_mode": {
    "name": "ipython",
    "version": 3
   },
   "file_extension": ".py",
   "mimetype": "text/x-python",
   "name": "python",
   "nbconvert_exporter": "python",
   "pygments_lexer": "ipython3",
   "version": "3.6.0"
  }
 },
 "nbformat": 4,
 "nbformat_minor": 2
}
