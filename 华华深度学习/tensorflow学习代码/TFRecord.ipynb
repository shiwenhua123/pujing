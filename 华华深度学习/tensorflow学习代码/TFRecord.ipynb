{
 "cells": [
  {
   "cell_type": "code",
   "execution_count": 30,
   "metadata": {
    "collapsed": false
   },
   "outputs": [],
   "source": [
    "import tensorflow as tf\n",
    "from PIL import Image\n",
    "import matplotlib.pyplot as plt\n",
    "import numpy as np\n",
    "import os\n",
    "\n",
    "mulu='E://aa//'\n",
    "classes={'husky':1,'chihuahua':2}#分为两类\n",
    "writer=tf.python_io.TFRecordWriter(\"dog_train.tfrecords\")#要生成的文件\n",
    "for index,name in enumerate(classes):\n",
    "    class_path=mulu+name+'//'\n",
    "    for img_name in os.listdir(class_path):#读取目录下的图片\n",
    "        img_path=class_path+img_name#每一张图片的地址\n",
    "        img=Image.open(img_path)#打开每一张图片\n",
    "        img=img.resize((128,128))\n",
    "        img_raw=img.tobytes()#将图片转化为二进制格式\n",
    "        example=tf.train.Example(\n",
    "            features=tf.train.Features(\n",
    "                feature={\n",
    "                    \"label\":tf.train.Feature(int64_list=tf.train.Int64List(value=[index])),\n",
    "                    'img_raw': tf.train.Feature(bytes_list=tf.train.BytesList(value=[img_raw]))\n",
    "                }\n",
    "            )\n",
    "        )\n",
    "        writer.write(example.SerializeToString())\n",
    "        \n",
    "writer.close()"
   ]
  },
  {
   "cell_type": "code",
   "execution_count": 25,
   "metadata": {
    "collapsed": false
   },
   "outputs": [],
   "source": [
    "def read_and_decode(filename):\n",
    "    filename_queue=tf.train.string_input_producer([filename])#生成一个队里\n",
    "    reader=tf.TFRecordReader()\n",
    "    _,serialized_example=reader.read(filename_queue)#返回文件名和文件\n",
    "    #将image数据和label取出来\n",
    "    features=tf.parse_single_example(serialized_example,\n",
    "                                     features={\n",
    "                                        'label': tf.FixedLenFeature([], tf.int64),\n",
    "                                        'img_raw' : tf.FixedLenFeature([], tf.string),\n",
    "                                     }\n",
    "                                    )\n",
    "    img=tf.decode_raw(features['img_raw'],tf.uint8)\n",
    "    img=tf.reshape(img,[128,128,3])\n",
    "    img=tf.cast(img,tf.float32)*(1./255)-0.5#在流中抛出img张量\n",
    "    label=tf.cast(features['label'],tf.int32)#在流中抛出label张量\n",
    "    return img,label\n"
   ]
  },
  {
   "cell_type": "code",
   "execution_count": 26,
   "metadata": {
    "collapsed": false
   },
   "outputs": [],
   "source": [
    "image,label=read_and_decode(\"dog_train.tfrecords\")"
   ]
  },
  {
   "cell_type": "code",
   "execution_count": 28,
   "metadata": {
    "collapsed": false
   },
   "outputs": [
    {
     "name": "stdout",
     "output_type": "stream",
     "text": [
      "Tensor(\"sub_2:0\", shape=(128, 128, 3), dtype=float32)\n",
      "Tensor(\"Cast_7:0\", shape=(), dtype=int32)\n"
     ]
    }
   ],
   "source": [
    "print(image)\n",
    "print(label)"
   ]
  },
  {
   "cell_type": "code",
   "execution_count": 29,
   "metadata": {
    "collapsed": false
   },
   "outputs": [],
   "source": [
    "with tf.Session() as sess:\n",
    "    tf.global_variables_initializer().run()\n",
    "    coord=tf.train.Coordinator()\n",
    "    threads=tf.train.start_queue_runners(coord=coord)\n",
    "    for i in range(20):\n",
    "        #在会话中提取image和label\n",
    "        example,l=sess.run([image,label])\n",
    "        img=Image.fromarray(example,'RGB')\n",
    "        img.save('E://aa//'+str(i)+'_''Label_'+str(l)+'.jpg')#存下图片\n",
    "        #print(example,1)\n",
    "    coord.request_stop()\n",
    "    coord.join(threads)"
   ]
  },
  {
   "cell_type": "code",
   "execution_count": 18,
   "metadata": {
    "collapsed": false
   },
   "outputs": [
    {
     "data": {
      "text/plain": [
       "<tf.Tensor 'sub:0' shape=(128, 128, 3) dtype=float32>"
      ]
     },
     "execution_count": 18,
     "metadata": {},
     "output_type": "execute_result"
    }
   ],
   "source": []
  },
  {
   "cell_type": "code",
   "execution_count": 1,
   "metadata": {
    "collapsed": false
   },
   "outputs": [],
   "source": [
    "import os \n",
    "import tensorflow as tf \n",
    "from PIL import Image  #注意Image,后面会用到\n",
    "import matplotlib.pyplot as plt \n",
    "import numpy as np\n",
    " \n",
    "cwd='E://aa//'\n",
    "classes={'husky','chihuahua'} #人为 设定 2 类\n",
    "writer= tf.python_io.TFRecordWriter(\"dog_train.tfrecords\") #要生成的文件\n",
    " \n",
    "for index,name in enumerate(classes):\n",
    "    class_path=cwd+name+'\\\\'\n",
    "    for img_name in os.listdir(class_path): \n",
    "        img_path=class_path+img_name #每一个图片的地址\n",
    " \n",
    "        img=Image.open(img_path)\n",
    "        img= img.resize((512,512))\n",
    "        img_raw=img.tobytes()#将图片转化为二进制格式\n",
    "        example = tf.train.Example(features=tf.train.Features(feature={\n",
    "            \"label\": tf.train.Feature(int64_list=tf.train.Int64List(value=[index])),\n",
    "            'img_raw': tf.train.Feature(bytes_list=tf.train.BytesList(value=[img_raw]))\n",
    "        })) #example对象对label和image数据进行封装\n",
    "        writer.write(example.SerializeToString())  #序列化为字符串\n",
    "writer.close()"
   ]
  },
  {
   "cell_type": "code",
   "execution_count": 2,
   "metadata": {
    "collapsed": false
   },
   "outputs": [
    {
     "name": "stdout",
     "output_type": "stream",
     "text": [
      "WARNING:tensorflow:From C:\\Users\\pujing\\Anaconda3\\lib\\site-packages\\tensorflow\\python\\util\\tf_should_use.py:107: initialize_all_variables (from tensorflow.python.ops.variables) is deprecated and will be removed after 2017-03-02.\n",
      "Instructions for updating:\n",
      "Use `tf.global_variables_initializer` instead.\n"
     ]
    }
   ],
   "source": [
    "filename_queue = tf.train.string_input_producer([\"dog_train.tfrecords\"]) #读入流中\n",
    "reader = tf.TFRecordReader()\n",
    "_, serialized_example = reader.read(filename_queue)   #返回文件名和文件\n",
    "features = tf.parse_single_example(serialized_example,\n",
    "                                   features={\n",
    "                                       'label': tf.FixedLenFeature([], tf.int64),\n",
    "                                       'img_raw' : tf.FixedLenFeature([], tf.string),\n",
    "                                   })  #取出包含image和label的feature对象\n",
    "image = tf.decode_raw(features['img_raw'], tf.uint8)\n",
    "image = tf.reshape(image, [512, 512, 3])\n",
    "label = tf.cast(features['label'], tf.int32)\n",
    "with tf.Session() as sess: #开始一个会话\n",
    "    init_op = tf.initialize_all_variables()\n",
    "    sess.run(init_op)\n",
    "    coord=tf.train.Coordinator()\n",
    "    threads= tf.train.start_queue_runners(coord=coord)\n",
    "    for i in range(20):\n",
    "        example, l = sess.run([image,label])#在会话中取出image和label\n",
    "        img=Image.fromarray(example, 'RGB')#这里Image是之前提到的\n",
    "        img.save(cwd+str(i)+'_''Label_'+str(l)+'.jpg')#存下图片\n",
    "        #print(example, l)\n",
    "    coord.request_stop()\n",
    "    coord.join(threads)"
   ]
  },
  {
   "cell_type": "code",
   "execution_count": null,
   "metadata": {
    "collapsed": true
   },
   "outputs": [],
   "source": []
  }
 ],
 "metadata": {
  "kernelspec": {
   "display_name": "Python 3",
   "language": "python",
   "name": "python3"
  },
  "language_info": {
   "codemirror_mode": {
    "name": "ipython",
    "version": 3
   },
   "file_extension": ".py",
   "mimetype": "text/x-python",
   "name": "python",
   "nbconvert_exporter": "python",
   "pygments_lexer": "ipython3",
   "version": "3.6.0"
  }
 },
 "nbformat": 4,
 "nbformat_minor": 2
}
