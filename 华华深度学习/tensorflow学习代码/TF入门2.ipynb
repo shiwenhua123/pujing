{
 "cells": [
  {
   "cell_type": "code",
   "execution_count": 5,
   "metadata": {
    "collapsed": false
   },
   "outputs": [
    {
     "name": "stdout",
     "output_type": "stream",
     "text": [
      "[[ 2.5  2.5  3. ]\n",
      " [ 4.   4.5  4.5]]\n",
      "[ 0.          0.69314718  1.09861231]\n"
     ]
    }
   ],
   "source": [
    "import tensorflow as tf\n",
    "v=tf.constant([[1.0,2.0,3.0],[4.0,5.0,6.0]])\n",
    "v1=tf.constant([1.0,2.0,3.0])\n",
    "with tf.Session() as sess:\n",
    "    tf.global_variables_initializer().run()\n",
    "    print(sess.run(tf.clip_by_value(v,2.5,4.5)))\n",
    "    print(sess.run(tf.log(v1)))"
   ]
  },
  {
   "cell_type": "code",
   "execution_count": 8,
   "metadata": {
    "collapsed": false
   },
   "outputs": [
    {
     "name": "stdout",
     "output_type": "stream",
     "text": [
      "[[  5.  12.]\n",
      " [ 21.  32.]]\n",
      "[[ 19.  22.]\n",
      " [ 43.  50.]]\n",
      "3.5\n"
     ]
    }
   ],
   "source": [
    "v1=tf.constant([[1.0,2.0],[3.0,4.0]])\n",
    "v2=tf.constant([[5.0,6.0],[7.0,8.0]])\n",
    "v=tf.constant([[1.0,2.0,3.0],[4.0,5.0,6.0]])\n",
    "with tf.Session() as sess:\n",
    "    print(sess.run((v1*v2)))\n",
    "    print(sess.run(tf.matmul(v1,v2)))\n",
    "    print(sess.run(tf.reduce_mean(v)))"
   ]
  },
  {
   "cell_type": "code",
   "execution_count": null,
   "metadata": {
    "collapsed": true
   },
   "outputs": [],
   "source": []
  }
 ],
 "metadata": {
  "kernelspec": {
   "display_name": "Python 3",
   "language": "python",
   "name": "python3"
  },
  "language_info": {
   "codemirror_mode": {
    "name": "ipython",
    "version": 3
   },
   "file_extension": ".py",
   "mimetype": "text/x-python",
   "name": "python",
   "nbconvert_exporter": "python",
   "pygments_lexer": "ipython3",
   "version": "3.6.0"
  }
 },
 "nbformat": 4,
 "nbformat_minor": 2
}
