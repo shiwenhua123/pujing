{
 "cells": [
  {
   "cell_type": "code",
   "execution_count": 7,
   "metadata": {
    "collapsed": false
   },
   "outputs": [
    {
     "name": "stdout",
     "output_type": "stream",
     "text": [
      "WARNING:tensorflow:From <ipython-input-7-5f2d2723c8b3>:10: initialize_all_variables (from tensorflow.python.ops.variables) is deprecated and will be removed after 2017-03-02.\n",
      "Instructions for updating:\n",
      "Use `tf.global_variables_initializer` instead.\n",
      "[ 0.]\n",
      "WARNING:tensorflow:From <ipython-input-7-5f2d2723c8b3>:15: initialize_all_variables (from tensorflow.python.ops.variables) is deprecated and will be removed after 2017-03-02.\n",
      "Instructions for updating:\n",
      "Use `tf.global_variables_initializer` instead.\n",
      "[ 1.]\n"
     ]
    }
   ],
   "source": [
    "import tensorflow as tf\n",
    "g1=tf.Graph()\n",
    "with g1.as_default():\n",
    "    v=tf.get_variable(\"v\",shape=[1],initializer=tf.zeros_initializer())\n",
    "g2=tf.Graph()\n",
    "with g2.as_default():\n",
    "    v=tf.get_variable(\"v\",shape=[1],initializer=tf.ones_initializer())\n",
    "\n",
    "with tf.Session(graph=g1) as sess:\n",
    "    tf.initialize_all_variables().run()\n",
    "    with tf.variable_scope(\"\",reuse=True):\n",
    "        print(sess.run(tf.get_variable(\"v\")))\n",
    "\n",
    "with tf.Session(graph=g2) as sess:\n",
    "    tf.initialize_all_variables().run()\n",
    "    with tf.variable_scope(\"\",reuse=True):\n",
    "        print(sess.run(tf.get_variable(\"v\")))"
   ]
  },
  {
   "cell_type": "code",
   "execution_count": 9,
   "metadata": {
    "collapsed": false
   },
   "outputs": [
    {
     "name": "stdout",
     "output_type": "stream",
     "text": [
      "WARNING:tensorflow:From <ipython-input-9-0dc23361f27b>:8: initialize_all_variables (from tensorflow.python.ops.variables) is deprecated and will be removed after 2017-03-02.\n",
      "Instructions for updating:\n",
      "Use `tf.global_variables_initializer` instead.\n",
      "[ 3.  5.]\n"
     ]
    }
   ],
   "source": [
    "import tensorflow as tf\n",
    "graph=tf.Graph()\n",
    "with graph.as_default():\n",
    "    a=tf.constant([1.0,2.0],name=\"a\")\n",
    "    b=tf.constant([2.0,3.0],name=\"b\")\n",
    "    result=tf.add(a,b,name=\"add\")\n",
    "with tf.Session(graph=graph) as sess:\n",
    "    tf.initialize_all_variables().run()\n",
    "    print(sess.run(result))\n"
   ]
  },
  {
   "cell_type": "code",
   "execution_count": 14,
   "metadata": {
    "collapsed": false
   },
   "outputs": [
    {
     "name": "stdout",
     "output_type": "stream",
     "text": [
      "WARNING:tensorflow:From <ipython-input-14-a5933fef48ee>:11: initialize_all_variables (from tensorflow.python.ops.variables) is deprecated and will be removed after 2017-03-02.\n",
      "Instructions for updating:\n",
      "Use `tf.global_variables_initializer` instead.\n",
      "[[ 3.95757794]]\n"
     ]
    }
   ],
   "source": [
    "import tensorflow as tf\n",
    "graph=tf.Graph()\n",
    "with graph.as_default():\n",
    "    w1=tf.Variable(tf.random_normal([2,3],seed=1,stddev=1))\n",
    "    w2=tf.Variable(tf.random_normal([3,1],seed=1,stddev=1))\n",
    "    x=tf.constant([[0.7,0.9]])\n",
    "    a=tf.matmul(x,w1)\n",
    "    y=tf.matmul(a,w2)\n",
    "    \n",
    "with tf.Session(graph=graph) as sess:\n",
    "    tf.initialize_all_variables().run()\n",
    "    print(sess.run(y))"
   ]
  },
  {
   "cell_type": "code",
   "execution_count": 16,
   "metadata": {
    "collapsed": false
   },
   "outputs": [
    {
     "name": "stdout",
     "output_type": "stream",
     "text": [
      "WARNING:tensorflow:From <ipython-input-16-e33b792cba99>:11: initialize_all_variables (from tensorflow.python.ops.variables) is deprecated and will be removed after 2017-03-02.\n",
      "Instructions for updating:\n",
      "Use `tf.global_variables_initializer` instead.\n",
      "[[ 3.95757794]]\n"
     ]
    }
   ],
   "source": [
    "import tensorflow as tf\n",
    "graph=tf.Graph()\n",
    "with graph.as_default():\n",
    "    w1=tf.Variable(tf.random_normal([2,3],stddev=1,seed=1))\n",
    "    w2=tf.Variable(tf.random_normal([3,1],stddev=1,seed=1))\n",
    "    x=tf.placeholder(tf.float32,shape=(1,2),name=\"input\")\n",
    "    \n",
    "    a=tf.matmul(x,w1)\n",
    "    y=tf.matmul(a,w2)\n",
    "with tf.Session(graph=graph) as sess:\n",
    "    tf.initialize_all_variables().run()\n",
    "    print(sess.run(y,feed_dict={x:[[0.7,0.9]]}))\n",
    "        "
   ]
  },
  {
   "cell_type": "code",
   "execution_count": 17,
   "metadata": {
    "collapsed": false
   },
   "outputs": [
    {
     "name": "stdout",
     "output_type": "stream",
     "text": [
      "WARNING:tensorflow:From <ipython-input-17-dd4158cc801e>:12: initialize_all_variables (from tensorflow.python.ops.variables) is deprecated and will be removed after 2017-03-02.\n",
      "Instructions for updating:\n",
      "Use `tf.global_variables_initializer` instead.\n",
      "[[ 3.95757794]\n",
      " [ 1.15376544]\n",
      " [ 3.16749239]]\n"
     ]
    }
   ],
   "source": [
    "import tensorflow as tf\n",
    "graph=tf.Graph()\n",
    "with graph.as_default():\n",
    "    w1=tf.Variable(tf.random_normal([2,3],stddev=1,seed=1))\n",
    "    w2=tf.Variable(tf.random_normal([3,1],stddev=1,seed=1))\n",
    "    \n",
    "    x=tf.placeholder(tf.float32,shape=(None,2),name=\"input\")\n",
    "    a=tf.matmul(x,w1)\n",
    "    y=tf.matmul(a,w2)\n",
    "    X_train=[[0.7,0.9],[0.1,0.4],[0.5,0.8]]\n",
    "with tf.Session(graph=graph) as sess:\n",
    "    tf.initialize_all_variables().run()\n",
    "    print(sess.run(y,feed_dict={x:X_train}))"
   ]
  },
  {
   "cell_type": "code",
   "execution_count": 25,
   "metadata": {
    "collapsed": false,
    "scrolled": false
   },
   "outputs": [
    {
     "name": "stdout",
     "output_type": "stream",
     "text": [
      "WARNING:tensorflow:From <ipython-input-25-8cb97f42af87>:29: initialize_all_variables (from tensorflow.python.ops.variables) is deprecated and will be removed after 2017-03-02.\n",
      "Instructions for updating:\n",
      "Use `tf.global_variables_initializer` instead.\n",
      "[[-0.81131822  1.48459876  0.06532937]\n",
      " [-2.4427042   0.0992484   0.59122431]]\n",
      "[[-0.81131822]\n",
      " [ 1.48459876]\n",
      " [ 0.06532937]]\n",
      "After 0 training step(s) ,交叉熵为：0.0674925\n",
      "After 1000 training step(s) ,交叉熵为：0.0163385\n",
      "After 2000 training step(s) ,交叉熵为：0.00907547\n",
      "After 3000 training step(s) ,交叉熵为：0.00714436\n",
      "After 4000 training step(s) ,交叉熵为：0.00578471\n",
      "[[-1.96182752  2.58235407  1.68203771]\n",
      " [-3.46817183  1.06982315  2.11788988]]\n",
      "[[-1.82471502]\n",
      " [ 2.68546653]\n",
      " [ 1.41819501]]\n"
     ]
    }
   ],
   "source": [
    "import tensorflow as tf\n",
    "from numpy.random import RandomState\n",
    "#定义数据batch的大小\n",
    "batch_size=8\n",
    "graph=tf.Graph()\n",
    "with graph.as_default():\n",
    "    #定义神经网络的参数\n",
    "    w1=tf.Variable(tf.random_normal([2,3],stddev=1,seed=1))\n",
    "    w2=tf.Variable(tf.random_normal([3,1],stddev=1,seed=1))\n",
    "    \n",
    "    x=tf.placeholder(tf.float32,shape=(None,2),name=\"x_input\")\n",
    "    y_=tf.placeholder(tf.float32,shape=(None,1),name=\"y_input\")\n",
    "    \n",
    "    #定义神经网络的前向传播过程\n",
    "    a=tf.matmul(x,w1)\n",
    "    y=tf.matmul(a,w2)\n",
    "    \n",
    "    #定义损失函数和反向传播的算法\n",
    "    #损失函数用于刻画预测值和真实值之间的额差距\n",
    "    cross_entropy=-tf.reduce_mean(y_*tf.log(tf.clip_by_value(y,1e-10,1.0)))\n",
    "    train_step=tf.train.AdamOptimizer(0.001).minimize(cross_entropy)\n",
    "    \n",
    "    #通过随机数生成模拟数据集\n",
    "    rdm=RandomState(1)\n",
    "    dataset_szie=128\n",
    "    X=rdm.rand(dataset_szie,2)\n",
    "    Y=[[int(x1+x2<1)] for (x1,x2) in X]\n",
    "with tf.Session(graph=graph) as sess:\n",
    "    tf.initialize_all_variables().run()\n",
    "    print(sess.run(w1))\n",
    "    print(sess.run(w2))\n",
    "    #设定训练的轮次\n",
    "    STEPS=5000\n",
    "    for i in range(STEPS):\n",
    "        start=(i*batch_size)%dataset_szie\n",
    "        end=min(start+batch_size,dataset_szie)\n",
    "        \n",
    "        #通过选取样本训练神经网络并更新参数\n",
    "        sess.run(train_step,feed_dict={x:X[start:end],y_:Y[start:end]})\n",
    "        if(i%1000==0):\n",
    "            #每隔一段时间计算所有数据上的交叉熵并输出\n",
    "            total_cross_entropy=sess.run(cross_entropy,feed_dict={x:X,y_:Y})\n",
    "            print(\"After %d training step(s) ,交叉熵为：%g\" %(i,total_cross_entropy))\n",
    "    print(sess.run(w1))\n",
    "    print(sess.run(w2))"
   ]
  },
  {
   "cell_type": "code",
   "execution_count": null,
   "metadata": {
    "collapsed": true
   },
   "outputs": [],
   "source": []
  }
 ],
 "metadata": {
  "kernelspec": {
   "display_name": "Python 3",
   "language": "python",
   "name": "python3"
  },
  "language_info": {
   "codemirror_mode": {
    "name": "ipython",
    "version": 3
   },
   "file_extension": ".py",
   "mimetype": "text/x-python",
   "name": "python",
   "nbconvert_exporter": "python",
   "pygments_lexer": "ipython3",
   "version": "3.6.0"
  }
 },
 "nbformat": 4,
 "nbformat_minor": 2
}
