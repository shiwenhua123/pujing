{
 "cells": [
  {
   "cell_type": "code",
   "execution_count": 2,
   "metadata": {
    "collapsed": true
   },
   "outputs": [],
   "source": [
    "import tensorflow as tf\n",
    "def get_weigth(shape,lamb):\n",
    "    var=tf.Variable(tf.random_normal(shape),dtype=tf.float32)\n",
    "    tf.add_to_collection('losses',tf.contrib.l2_regularizer(lamb)(var))\n",
    "    return var\n",
    "\n",
    "x=tf.placeholder(tf.float32,shape=(None,2))\n",
    "y_=tf.placeholder(tf.float32,shape=(None,1))\n",
    "batch_size=8\n",
    "\n",
    "#定义每一层神经网络的节点个数\n",
    "layer_dimension=[2,10,10,10,1]\n",
    "#神经网络的层数\n",
    "n_layers=len(layer_dimension)\n",
    "\n",
    "#这个变量维护的是前向传播时最深层的节点，开始的时候就是输入层。\n",
    "cur_layer=x\n",
    "\n",
    "#当前层的节点个数\n",
    "in_dimension=layer_dimension[0]\n",
    "#通过循环生成全连接的5层神经网络结构\n",
    "for i in range(1,n_layers):\n",
    "    out_dimension=layer_dimension[i]\n",
    "    #生成当前层中权重的变量，并将这个变量的L2正则化损失加入计算图上的集合\n",
    "    weight=get_weigth([in_dimension,out_dimension],0.001)\n",
    "    bias=tf.Variable(tf.constant(0.1,shape=[out_dimension]))\n",
    "    #使用relu激活函数\n",
    "    cur_layer=tf.nn.relu(tf.matmul(cur_layer,weight)+bias)\n",
    "    in_dimension=layer_dimension[i]\n",
    "\n",
    "mse_lose=tf.reduce_mean(tf.square(y_-cur_layer))\n",
    "#将均方误差损失函数加入损失集合\n",
    "tf.add_to_collection('losses',mse_lose)\n",
    "loss=tf.add_n(tf.get_collection('losses'))"
   ]
  },
  {
   "cell_type": "code",
   "execution_count": null,
   "metadata": {
    "collapsed": true
   },
   "outputs": [],
   "source": []
  }
 ],
 "metadata": {
  "kernelspec": {
   "display_name": "Python 3",
   "language": "python",
   "name": "python3"
  },
  "language_info": {
   "codemirror_mode": {
    "name": "ipython",
    "version": 3
   },
   "file_extension": ".py",
   "mimetype": "text/x-python",
   "name": "python",
   "nbconvert_exporter": "python",
   "pygments_lexer": "ipython3",
   "version": "3.6.0"
  }
 },
 "nbformat": 4,
 "nbformat_minor": 2
}
