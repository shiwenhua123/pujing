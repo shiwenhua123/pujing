{
 "cells": [
  {
   "cell_type": "markdown",
   "metadata": {},
   "source": [
    "## 第三章"
   ]
  },
  {
   "cell_type": "code",
   "execution_count": 3,
   "metadata": {
    "collapsed": false
   },
   "outputs": [
    {
     "name": "stdout",
     "output_type": "stream",
     "text": [
      "Extracting /tmp/data/train-images-idx3-ubyte.gz\n",
      "Extracting /tmp/data/train-labels-idx1-ubyte.gz\n",
      "Extracting /tmp/data/t10k-images-idx3-ubyte.gz\n",
      "Extracting /tmp/data/t10k-labels-idx1-ubyte.gz\n"
     ]
    }
   ],
   "source": [
    "import tensorflow as tf\n",
    "from tensorflow.examples.tutorials.mnist import input_data\n",
    "mnist=input_data.read_data_sets('/tmp/data/',one_hot=True)"
   ]
  },
  {
   "cell_type": "code",
   "execution_count": 4,
   "metadata": {
    "collapsed": false
   },
   "outputs": [
    {
     "data": {
      "text/plain": [
       "(55000, 784)"
      ]
     },
     "execution_count": 4,
     "metadata": {},
     "output_type": "execute_result"
    }
   ],
   "source": [
    "mnist.train.images.shape"
   ]
  },
  {
   "cell_type": "code",
   "execution_count": 5,
   "metadata": {
    "collapsed": false
   },
   "outputs": [
    {
     "data": {
      "text/plain": [
       "(55000, 10)"
      ]
     },
     "execution_count": 5,
     "metadata": {},
     "output_type": "execute_result"
    }
   ],
   "source": [
    "mnist.train.labels.shape"
   ]
  },
  {
   "cell_type": "code",
   "execution_count": 7,
   "metadata": {
    "collapsed": false
   },
   "outputs": [
    {
     "name": "stdout",
     "output_type": "stream",
     "text": [
      "Echos:0loss:194.424714131\n",
      "Echos:1loss:46.4549056078\n",
      "Echos:2loss:29.4935318551\n",
      "Echos:3loss:20.8782569373\n",
      "Echos:4loss:15.3581682157\n",
      "Echos:5loss:11.6873083688\n",
      "Echos:6loss:9.05309097827\n",
      "Echos:7loss:6.98041409854\n",
      "Echos:8loss:5.35094055061\n",
      "Echos:9loss:4.23372574576\n",
      "Accuracy: 0.9337\n"
     ]
    }
   ],
   "source": [
    "X=tf.placeholder(tf.float32,shape=[None,784],name='X')\n",
    "Y=tf.placeholder(tf.float32,shape=[None,10],name='Y')\n",
    "\n",
    "W1=tf.Variable(tf.random_normal([784,256]))\n",
    "b1=tf.Variable(tf.random_normal([256]))\n",
    "W2=tf.Variable(tf.random_normal([256,256]))\n",
    "b2=tf.Variable(tf.random_normal([256]))\n",
    "W3=tf.Variable(tf.random_normal([256,10]))\n",
    "b3=tf.Variable(tf.random_normal([10]))\n",
    "\n",
    "layer_1=tf.nn.relu(tf.add(tf.matmul(X,W1),b1))\n",
    "layer_2=tf.nn.relu(tf.add(tf.matmul(layer_1,W2),b2))\n",
    "output=tf.add(tf.matmul(layer_2,W3),b3)\n",
    "\n",
    "cross_entropy=tf.nn.softmax_cross_entropy_with_logits(logits=output,labels=Y)\n",
    "cost=tf.reduce_mean(cross_entropy)\n",
    "\n",
    "train_step=tf.train.AdamOptimizer(0.001).minimize(cost)\n",
    "with tf.Session() as sess:\n",
    "    tf.global_variables_initializer().run()\n",
    "    for i in range(10):\n",
    "        avg_cost=0\n",
    "        total_batch=int(mnist.train.num_examples/128)\n",
    "        for j in range(total_batch):\n",
    "            batch_x,batch_y=mnist.train.next_batch(128)\n",
    "            _,loss=sess.run([train_step,cost],feed_dict={X:batch_x,Y:batch_y})\n",
    "            avg_cost+=loss/total_batch\n",
    "        print(\"Echos:\"+str(i)+\"loss:\"+str(avg_cost))\n",
    "    correct_prediction=tf.equal(tf.argmax(output,1),tf.argmax(Y,1))\n",
    "    #计算准确率\n",
    "    accuracy=tf.reduce_mean(tf.cast(correct_prediction,tf.float32))\n",
    "    print(\"Accuracy:\",accuracy.eval({X: mnist.test.images, Y: mnist.test.labels}))\n",
    "        \n",
    "        "
   ]
  },
  {
   "cell_type": "markdown",
   "metadata": {
    "collapsed": true
   },
   "source": [
    "## 第五章"
   ]
  },
  {
   "cell_type": "code",
   "execution_count": 1,
   "metadata": {
    "collapsed": false
   },
   "outputs": [
    {
     "name": "stdout",
     "output_type": "stream",
     "text": [
      "Extracting /tmp/data/train-images-idx3-ubyte.gz\n",
      "Extracting /tmp/data/train-labels-idx1-ubyte.gz\n",
      "Extracting /tmp/data/t10k-images-idx3-ubyte.gz\n",
      "Extracting /tmp/data/t10k-labels-idx1-ubyte.gz\n"
     ]
    }
   ],
   "source": [
    "import tensorflow as tf\n",
    "from tensorflow.examples.tutorials.mnist import input_data\n",
    "mnist=input_data.read_data_sets(\"/tmp/data/\",one_hot=True)"
   ]
  },
  {
   "cell_type": "code",
   "execution_count": 3,
   "metadata": {
    "collapsed": false,
    "scrolled": false
   },
   "outputs": [
    {
     "name": "stdout",
     "output_type": "stream",
     "text": [
      "echo:0loss:5.7629293371\n",
      "test accuracy 0.8834\n"
     ]
    }
   ],
   "source": [
    "import numpy as np\n",
    "def weight_variable(shape):\n",
    "    return tf.Variable(tf.truncated_normal(shape,stddev=0.1))\n",
    "def bias_variable(shape):\n",
    "    return tf.Variable(tf.constant(0.1,shape=shape))\n",
    "def conv2d(x,W):\n",
    "    return tf.nn.conv2d(x,W,strides=[1,1,1,1],padding='SAME')\n",
    "def max_pool(x):\n",
    "    return tf.nn.max_pool(x,ksize=[1,2,2,1],strides=[1,2,2,1],padding='SAME')\n",
    "\n",
    "X=tf.placeholder(tf.float32,shape=[None,28,28,1],name='X')\n",
    "Y=tf.placeholder(tf.float32,shape=[None,10],name='Y')\n",
    "\n",
    "def qian(X):\n",
    "    w_conv1=weight_variable([5,5,1,32])\n",
    "    b_conv1=bias_variable([32])\n",
    "    h_conv1=tf.nn.relu(conv2d(X,w_conv1)+b_conv1)\n",
    "    h_pool1=max_pool(h_conv1)\n",
    "    \n",
    "    w_conv2=weight_variable([5,5,32,64])\n",
    "    b_conv2=bias_variable([64])\n",
    "    h_conv2=tf.nn.relu(conv2d(h_pool1,w_conv2)+b_conv2)\n",
    "    h_pool2=max_pool(h_conv2)\n",
    "    \n",
    "    w_fc1=weight_variable([7*7*64,64])\n",
    "    b_fc1=bias_variable([64])\n",
    "    h_pool2_flat=tf.reshape(h_pool2,[-1,7*7*64])\n",
    "    h_fc1=tf.nn.relu(tf.matmul(h_pool2_flat,w_fc1)+b_fc1)\n",
    "    \n",
    "    #keep_prob=tf.placeholder(tf.float32,shape=[1])\n",
    "    #h_fc1_drop=tf.nn.dropout(h_fc1,keep_prob)\n",
    "    \n",
    "    w_fc2=weight_variable([64,10])\n",
    "    b_fc2=bias_variable([10])\n",
    "    \n",
    "    pred=tf.nn.softmax(tf.matmul(h_fc1,w_fc2)+b_fc2)\n",
    "    \n",
    "    return pred\n",
    "\n",
    "pred=qian(X)\n",
    "\n",
    "cross_entropy=tf.reduce_mean(tf.nn.softmax_cross_entropy_with_logits(logits=pred,labels=Y))\n",
    "train_step=tf.train.AdamOptimizer(0.001).minimize(cross_entropy)\n",
    "\n",
    "correct_prediction=tf.equal(tf.argmax(pred,1),tf.argmax(Y,1))\n",
    "accuracy=tf.reduce_mean(tf.cast(correct_prediction,tf.float32))\n",
    "\n",
    "with tf.Session() as sess:\n",
    "    tf.global_variables_initializer().run() \n",
    "    for i in range(2):\n",
    "        avg_total=0\n",
    "        num_total=int(mnist.train.num_examples/128)\n",
    "        for j in range(num_total):\n",
    "            batch_x,batch_y=mnist.train.next_batch(128)\n",
    "            batch=np.reshape(batch_x,(128,28,28,1))\n",
    "            _,loss=sess.run([train_step,cross_entropy],feed_dict={X:batch,Y:batch_y})\n",
    "            avg_total+=loss/128\n",
    "        if(i%2==0):\n",
    "            print(\"echo:\"+str(i)+\"loss:\"+str(avg_total))\n",
    "    test_input=mnist.test.images\n",
    "    test_input=np.reshape(test_input,[test_input.shape[0],28,28,1])\n",
    "    print(\"test accuracy %g\" % accuracy.eval(feed_dict={X:test_input,Y:mnist.test.labels}))\n",
    "    "
   ]
  },
  {
   "cell_type": "markdown",
   "metadata": {
    "collapsed": true
   },
   "source": [
    "## 第六章"
   ]
  },
  {
   "cell_type": "code",
   "execution_count": 2,
   "metadata": {
    "collapsed": false
   },
   "outputs": [],
   "source": [
    "from datetime import datetime\n",
    "import math\n",
    "import time\n",
    "import tensorflow as tf\n",
    "batch_size=32\n",
    "num_batchs=100\n",
    "def print_activations(t):\n",
    "    print(t.op.name,\" \",t.get_shape().as_list)\n",
    "\n",
    "    \n",
    "def inference(images):\n",
    "    parameters=[]\n",
    "    with tf.name_scope('conv1') as scope:\n",
    "        kernel=tf.Variable(tf.truncated_normal([11,11,3,64],stddev=0.1),name=\"weights\")\n",
    "        conv=tf.nn.conv2d(images,kernel,[1,4,4,1],padding='SAME')\n",
    "        biases=tf.Variable(tf.constant(0.0,shape=[64],dtype=tf.float32),trainable=True,name='biases')\n",
    "        bias=tf.nn.bias_add(conv,biases)\n",
    "        conv1=tf.nn.relu(bias,name=scope)\n",
    "        \n",
    "        print_activations(conv1)\n",
    "        parameters+=[kernel,biases]\n",
    "        pool1=tf.nn.max_pool(conv1,ksize=[1,3,3,1],strides=[1,2,2,1],padding='SAME',name='pool1')\n",
    "        print_activations(pool1)\n",
    "    with tf.name_scope('conv2') as scope:\n",
    "        kernel=tf.Variable(tf.truncated_normal([5,5,64,192],stddev=0.1,name=\"weights\"))\n",
    "        conv=tf.nn.conv2d(pool1,kernel,strides=[1,1,1,1],padding='SAME')\n",
    "        biases=tf.Variable(tf.constant(0.0,shape=[192],dtype=tf.float32),trainable=True,name='biases')\n",
    "        bias=tf.nn.bias_add(conv,biases)\n",
    "        conv2=tf.nn.relu(bias,name=scope)\n",
    "        parameters+=[kernel,biases]\n",
    "        print_activations(conv2)\n",
    "        pool2=tf.nn.max_pool(conv2,ksize=[1,3,3,1],strides=[1,2,2,1],padding='SMAE',name='pool2')\n",
    "        print_activations(pool2)\n",
    "    with tf.name_scope('conv3') as scope:\n",
    "        kernel=tf.Variable(tf.truncated_normal([3,3,192,384],stddev=0.1,name='weights'))\n",
    "        conv=tf.nn.conv2d(pool2,kernel,strides=[1,1,1,1],padding='SAME')\n",
    "        biases=tf.Variable(tf.constant(0.0,shape=[384],dtype=tf.float32),trainable=True,name='biases')\n",
    "        bias=tf.nn.bias_add(conv,biases)\n",
    "        conv3=tf.nn.relu(bias,name=scope)\n",
    "        parameters+=[kernel,biases]\n",
    "        print_activations(conv3)\n",
    "    with tf.name_scope('conv4') as scope:\n",
    "        kernel=tf.Variable(tf.truncated_normal([3,3,384,256],stddev=0.1,name='weights'))\n",
    "        conv=tf.nn.conv2d(conv3,kernel,strides=[1,1,1,1],padding='SAME')\n",
    "        biases=tf.Variable(tf.constant(0.0,shape=[256],dtype=tf.float32),trainable=True,name='biases')\n",
    "        bias=tf.nn.bias_add(conv,biases)\n",
    "        conv4=tf.nn.relu(bias,name=scope)\n",
    "        parameters+=[kernel,biases]\n",
    "        print_activations(conv4)\n",
    "        \n",
    "    with tf.name_scope('conv5') as scope:\n",
    "        kernel=tf.Variable(tf.truncated_normal([3,3,256,256],stddev=0.1,name='weights'))\n",
    "        conv=tf.nn.conv2d(conv4,kernel,strides=[1,1,1,1],padding='SAME')\n",
    "        biases=tf.Variable(tf.constant(0.0,shape=[256],dtype=tf.float32),trainable=True,name='biases')\n",
    "        bias=tf.nn.bias_add(conv,biases)\n",
    "        conv5=tf.nn.relu(bias,name=scope)\n",
    "        parameters+=[kernel,biases]\n",
    "        print_activations(conv5)\n",
    "        pool5=tf.nn.max_pool(conv5,ksize=[1,3,3,1],strides=[1,2,2,1],padding='SAME',name='pool5')\n",
    "        print(pool5)\n",
    "    return pool5,parameters\n"
   ]
  },
  {
   "cell_type": "code",
   "execution_count": null,
   "metadata": {
    "collapsed": true
   },
   "outputs": [],
   "source": []
  }
 ],
 "metadata": {
  "kernelspec": {
   "display_name": "Python 3",
   "language": "python",
   "name": "python3"
  },
  "language_info": {
   "codemirror_mode": {
    "name": "ipython",
    "version": 3
   },
   "file_extension": ".py",
   "mimetype": "text/x-python",
   "name": "python",
   "nbconvert_exporter": "python",
   "pygments_lexer": "ipython3",
   "version": "3.6.0"
  }
 },
 "nbformat": 4,
 "nbformat_minor": 2
}
