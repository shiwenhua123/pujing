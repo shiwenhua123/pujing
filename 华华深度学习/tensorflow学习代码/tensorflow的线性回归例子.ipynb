{
 "cells": [
  {
   "cell_type": "code",
   "execution_count": 29,
   "metadata": {
    "collapsed": false
   },
   "outputs": [],
   "source": [
    "from __future__ import print_function\n",
    "import tensorflow as tf\n",
    "import numpy as np\n",
    "import matplotlib.pyplot as plt\n",
    "rng=np.random"
   ]
  },
  {
   "cell_type": "code",
   "execution_count": 30,
   "metadata": {
    "collapsed": true
   },
   "outputs": [],
   "source": [
    "#超参数设定\n",
    "#学习率的设置\n",
    "learning_rate=0.01\n",
    "training_epochs=1000\n",
    "display_step=50"
   ]
  },
  {
   "cell_type": "code",
   "execution_count": 31,
   "metadata": {
    "collapsed": false
   },
   "outputs": [],
   "source": [
    "#训练数据\n",
    "train_X=np.asarray([3.3,4.4,5.5,6.71,6.93,4.168,9.779,6.182,7.59,2.167,\\\n",
    "                         7.042,10.791,5.313,7.997,5.654,9.27,3.1])\n",
    "train_Y =np.asarray([1.7,2.76,2.09,3.19,1.694,1.573,3.366,2.596,2.53,1.221,\\\n",
    "                         2.827,3.465,1.65,2.904,2.42,2.94,1.3])\n",
    "n_samples=train_X.shape   #(17,)"
   ]
  },
  {
   "cell_type": "code",
   "execution_count": 43,
   "metadata": {
    "collapsed": false
   },
   "outputs": [
    {
     "name": "stdout",
     "output_type": "stream",
     "text": [
      "WARNING:tensorflow:From <ipython-input-43-bcba1d37b4a4>:13: initialize_all_variables (from tensorflow.python.ops.variables) is deprecated and will be removed after 2017-03-02.\n",
      "Instructions for updating:\n",
      "Use `tf.global_variables_initializer` instead.\n",
      "Epoch: 0050 cost= [ 0.48550707  0.48550707] W= 0.461468 b= -0.80873\n",
      "Epoch: 0100 cost= [ 0.35546413  0.35546413] W= 0.413159 b= -0.449382\n",
      "Epoch: 0150 cost= [ 0.27673611  0.27673611] W= 0.375589 b= -0.169914\n",
      "Epoch: 0200 cost= [ 0.22906123  0.22906123] W= 0.346371 b= 0.0474296\n",
      "Epoch: 0250 cost= [ 0.20018122  0.20018122] W= 0.323647 b= 0.216459\n",
      "Epoch: 0300 cost= [ 0.18267864  0.18267864] W= 0.305975 b= 0.347915\n",
      "Epoch: 0350 cost= [ 0.17206536  0.17206536] W= 0.292231 b= 0.450148\n",
      "Epoch: 0400 cost= [ 0.16562505  0.16562505] W= 0.281543 b= 0.529656\n",
      "Epoch: 0450 cost= [ 0.16171327  0.16171327] W= 0.27323 b= 0.591489\n",
      "Epoch: 0500 cost= [ 0.15933447  0.15933447] W= 0.266765 b= 0.639578\n",
      "Epoch: 0550 cost= [ 0.15788573  0.15788573] W= 0.261738 b= 0.676976\n",
      "Epoch: 0600 cost= [ 0.15700173  0.15700173] W= 0.257828 b= 0.706061\n",
      "Epoch: 0650 cost= [ 0.15646109  0.15646109] W= 0.254787 b= 0.728681\n",
      "Epoch: 0700 cost= [ 0.15612936  0.15612936] W= 0.252422 b= 0.746273\n",
      "Epoch: 0750 cost= [ 0.1559251  0.1559251] W= 0.250583 b= 0.759953\n",
      "Epoch: 0800 cost= [ 0.15579869  0.15579869] W= 0.249152 b= 0.770593\n",
      "Epoch: 0850 cost= [ 0.15572003  0.15572003] W= 0.24804 b= 0.778868\n",
      "Epoch: 0900 cost= [ 0.15567075  0.15567075] W= 0.247175 b= 0.785303\n",
      "Epoch: 0950 cost= [ 0.15563962  0.15563962] W= 0.246502 b= 0.790308\n",
      "Epoch: 1000 cost= [ 0.15561974  0.15561974] W= 0.245979 b= 0.7942\n",
      "Optimization Finished!\n",
      "Training cost= [ 0.15561974  0.15561974] W= 0.245979 b= 0.7942 \n",
      "\n"
     ]
    },
    {
     "data": {
      "image/png": "[encoded data removed]",
      "text/plain": [
       "<matplotlib.figure.Figure at 0xe44ee76a58>"
      ]
     },
     "metadata": {},
     "output_type": "display_data"
    },
    {
     "name": "stdout",
     "output_type": "stream",
     "text": [
      "Testing... (Mean square loss Comparison)\n",
      "Testing cost= 0.0897325\n",
      "Absolute mean square loss difference: [ 0.06588724  0.06588724]\n"
     ]
    },
    {
     "data": {
      "image/png": "[encoded data removed]",
      "text/plain": [
       "<matplotlib.figure.Figure at 0xe44f15e710>"
      ]
     },
     "metadata": {},
     "output_type": "display_data"
    }
   ],
   "source": [
    "X=tf.placeholder(tf.float32)\n",
    "Y=tf.placeholder(tf.float32)\n",
    "#设置模型的参数\n",
    "W=tf.Variable(rng.randn(),name=\"weight\")\n",
    "b=tf.Variable(rng.randn(),name=\"bias\")\n",
    "pred=tf.add(tf.multiply(X,W),b)\n",
    "#均方误差损失函数\n",
    "cost=tf.reduce_sum(tf.pow(pred-Y,2))/(2*n_samples)\n",
    "#进行梯度下降，找到最合适的参数\n",
    "optimizer=tf.train.GradientDescentOptimizer(learning_rate).minimize(cost)\n",
    "\n",
    "with tf.Session() as sess:\n",
    "    tf.initialize_all_variables().run()\n",
    "    #拟合所有训练数据\n",
    "    for epoch in range(training_epochs):\n",
    "        for (x, y) in zip(train_X, train_Y):\n",
    "            sess.run(optimizer, feed_dict={X: x, Y: y})\n",
    "        #显示\n",
    "        if((epoch+1)%display_step==0):\n",
    "            c=sess.run(cost,feed_dict={X:train_X,Y:train_Y})\n",
    "            print(\"Epoch:\", '%04d' % (epoch+1), \"cost=\", c,\"W=\", sess.run(W), \"b=\", sess.run(b))\n",
    "            #print(\"Epoch:\", '%04d' % (epoch+1), \"cost=\", \"{:.9f}\".format(c),\"W=\" ,sess.run(W), \"b=\", sess.run(b))\n",
    "    print(\"Optimization Finished!\")\n",
    "    training_cost=sess.run(cost,feed_dict={X:train_X,Y:train_Y})\n",
    "    print (\"Training cost=\", training_cost, \"W=\", sess.run(W), \"b=\", sess.run(b), '\\n')\n",
    "    #Graphic display\n",
    "    plt.plot(train_X, train_Y, 'ro', label='Original data')\n",
    "    plt.plot(train_X, sess.run(W) * train_X + sess.run(b), label='Fitted line')\n",
    "    plt.legend()\n",
    "    plt.show()\n",
    "    \n",
    "    test_X = numpy.asarray([6.83, 4.668, 8.9, 7.91, 5.7, 8.7, 3.1, 2.1])\n",
    "    test_Y = numpy.asarray([1.84, 2.273, 3.2, 2.831, 2.92, 3.24, 1.35, 1.03])\n",
    "\n",
    "    print(\"Testing... (Mean square loss Comparison)\")\n",
    "    test_cost=sess.run(tf.reduce_sum(tf.pow(pred-Y,2))/(2*test_X.shape[0]),feed_dict={X:test_X,Y:test_Y})\n",
    "    print(\"Testing cost=\", testing_cost)\n",
    "    print(\"Absolute mean square loss difference:\", abs(\n",
    "        training_cost - testing_cost))\n",
    "\n",
    "    plt.plot(test_X, test_Y, 'bo', label='Testing data')\n",
    "    plt.plot(train_X, sess.run(W) * train_X + sess.run(b), label='Fitted line')\n",
    "    plt.legend()\n",
    "    plt.show()"
   ]
  },
  {
   "cell_type": "code",
   "execution_count": 28,
   "metadata": {
    "collapsed": false
   },
   "outputs": [
    {
     "name": "stdout",
     "output_type": "stream",
     "text": [
      "Epoch: 0050 cost= 0.113681354 W= 0.142855 b= 1.56934\n",
      "Epoch: 0100 cost= 0.109455764 W= 0.149203 b= 1.52367\n",
      "Epoch: 0150 cost= 0.105717480 W= 0.155173 b= 1.48072\n",
      "Epoch: 0200 cost= 0.102410078 W= 0.160789 b= 1.44032\n",
      "Epoch: 0250 cost= 0.099483937 W= 0.16607 b= 1.40233\n",
      "Epoch: 0300 cost= 0.096894920 W= 0.171038 b= 1.36659\n",
      "Epoch: 0350 cost= 0.094604261 W= 0.17571 b= 1.33298\n",
      "Epoch: 0400 cost= 0.092577562 W= 0.180104 b= 1.30137\n",
      "Epoch: 0450 cost= 0.090784356 W= 0.184237 b= 1.27164\n",
      "Epoch: 0500 cost= 0.089197733 W= 0.188125 b= 1.24367\n",
      "Epoch: 0550 cost= 0.087793760 W= 0.191781 b= 1.21736\n",
      "Epoch: 0600 cost= 0.086551867 W= 0.195219 b= 1.19263\n",
      "Epoch: 0650 cost= 0.085453093 W= 0.198453 b= 1.16937\n",
      "Epoch: 0700 cost= 0.084480762 W= 0.201494 b= 1.14749\n",
      "Epoch: 0750 cost= 0.083620422 W= 0.204355 b= 1.12691\n",
      "Epoch: 0800 cost= 0.082859166 W= 0.207045 b= 1.10756\n",
      "Epoch: 0850 cost= 0.082185507 W= 0.209575 b= 1.08936\n",
      "Epoch: 0900 cost= 0.081589364 W= 0.211955 b= 1.07224\n",
      "Epoch: 0950 cost= 0.081061788 W= 0.214193 b= 1.05613\n",
      "Epoch: 1000 cost= 0.080594882 W= 0.216299 b= 1.04099\n",
      "Optimization Finished!\n",
      "Training cost= 0.0805949 W= 0.216299 b= 1.04099 \n",
      "\n"
     ]
    },
    {
     "data": {
      "image/png": "[encoded data removed]",
      "text/plain": [
       "<matplotlib.figure.Figure at 0xe44e998860>"
      ]
     },
     "metadata": {},
     "output_type": "display_data"
    },
    {
     "name": "stdout",
     "output_type": "stream",
     "text": [
      "Testing... (Mean square loss Comparison)\n",
      "Testing cost= 0.0897325\n",
      "Absolute mean square loss difference: 0.00913762\n"
     ]
    },
    {
     "data": {
      "image/png": "[encoded data removed]",
      "text/plain": [
       "<matplotlib.figure.Figure at 0xe44ede6550>"
      ]
     },
     "metadata": {},
     "output_type": "display_data"
    }
   ],
   "source": [
    "from __future__ import print_function\n",
    "\n",
    "import tensorflow as tf\n",
    "import numpy\n",
    "import matplotlib.pyplot as plt\n",
    "rng = numpy.random\n",
    "\n",
    "# Parameters\n",
    "learning_rate = 0.01\n",
    "training_epochs = 1000\n",
    "display_step = 50\n",
    "\n",
    "# Training Data\n",
    "train_X = numpy.asarray([3.3,4.4,5.5,6.71,6.93,4.168,9.779,6.182,7.59,2.167,\n",
    "                         7.042,10.791,5.313,7.997,5.654,9.27,3.1])\n",
    "train_Y = numpy.asarray([1.7,2.76,2.09,3.19,1.694,1.573,3.366,2.596,2.53,1.221,\n",
    "                         2.827,3.465,1.65,2.904,2.42,2.94,1.3])\n",
    "n_samples = train_X.shape[0]\n",
    "\n",
    "# tf Graph Input\n",
    "X = tf.placeholder(\"float\")\n",
    "Y = tf.placeholder(\"float\")\n",
    "\n",
    "# Set model weights\n",
    "W = tf.Variable(rng.randn(), name=\"weight\")\n",
    "b = tf.Variable(rng.randn(), name=\"bias\")\n",
    "\n",
    "# Construct a linear model\n",
    "pred = tf.add(tf.multiply(X, W), b)\n",
    "\n",
    "# Mean squared error\n",
    "cost = tf.reduce_sum(tf.pow(pred-Y, 2))/(2*n_samples)\n",
    "# Gradient descent\n",
    "#  Note, minimize() knows to modify W and b because Variable objects are trainable=True by default\n",
    "optimizer = tf.train.GradientDescentOptimizer(learning_rate).minimize(cost)\n",
    "\n",
    "# Initialize the variables (i.e. assign their default value)\n",
    "init = tf.global_variables_initializer()\n",
    "\n",
    "# Start training\n",
    "with tf.Session() as sess:\n",
    "\n",
    "    # Run the initializer\n",
    "    sess.run(init)\n",
    "\n",
    "    # Fit all training data\n",
    "    for epoch in range(training_epochs):\n",
    "        for (x, y) in zip(train_X, train_Y):\n",
    "            sess.run(optimizer, feed_dict={X: x, Y: y})\n",
    "\n",
    "        # Display logs per epoch step\n",
    "        if (epoch+1) % display_step == 0:\n",
    "            c = sess.run(cost, feed_dict={X: train_X, Y:train_Y})\n",
    "            print(\"Epoch:\", '%04d' % (epoch+1), \"cost=\", \"{:.9f}\".format(c), \\\n",
    "                \"W=\", sess.run(W), \"b=\", sess.run(b))\n",
    "\n",
    "    print(\"Optimization Finished!\")\n",
    "    training_cost = sess.run(cost, feed_dict={X: train_X, Y: train_Y})\n",
    "    print(\"Training cost=\", training_cost, \"W=\", sess.run(W), \"b=\", sess.run(b), '\\n')\n",
    "\n",
    "    # Graphic display\n",
    "    plt.plot(train_X, train_Y, 'ro', label='Original data')\n",
    "    plt.plot(train_X, sess.run(W) * train_X + sess.run(b), label='Fitted line')\n",
    "    plt.legend()\n",
    "    plt.show()\n",
    "\n",
    "    # Testing example, as requested (Issue #2)\n",
    "    test_X = numpy.asarray([6.83, 4.668, 8.9, 7.91, 5.7, 8.7, 3.1, 2.1])\n",
    "    test_Y = numpy.asarray([1.84, 2.273, 3.2, 2.831, 2.92, 3.24, 1.35, 1.03])\n",
    "\n",
    "    print(\"Testing... (Mean square loss Comparison)\")\n",
    "    testing_cost = sess.run(\n",
    "        tf.reduce_sum(tf.pow(pred - Y, 2)) / (2 * test_X.shape[0]),\n",
    "        feed_dict={X: test_X, Y: test_Y})  # same function as cost above\n",
    "    print(\"Testing cost=\", testing_cost)\n",
    "    print(\"Absolute mean square loss difference:\", abs(\n",
    "        training_cost - testing_cost))\n",
    "\n",
    "    plt.plot(test_X, test_Y, 'bo', label='Testing data')\n",
    "    plt.plot(train_X, sess.run(W) * train_X + sess.run(b), label='Fitted line')\n",
    "    plt.legend()\n",
    "    plt.show()\n",
    "    "
   ]
  },
  {
   "cell_type": "code",
   "execution_count": null,
   "metadata": {
    "collapsed": true
   },
   "outputs": [],
   "source": []
  }
 ],
 "metadata": {
  "kernelspec": {
   "display_name": "Python 3",
   "language": "python",
   "name": "python3"
  },
  "language_info": {
   "codemirror_mode": {
    "name": "ipython",
    "version": 3
   },
   "file_extension": ".py",
   "mimetype": "text/x-python",
   "name": "python",
   "nbconvert_exporter": "python",
   "pygments_lexer": "ipython3",
   "version": "3.6.0"
  }
 },
 "nbformat": 4,
 "nbformat_minor": 2
}
