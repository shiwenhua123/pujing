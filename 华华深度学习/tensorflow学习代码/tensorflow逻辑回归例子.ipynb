{
 "cells": [
  {
   "cell_type": "code",
   "execution_count": 1,
   "metadata": {
    "collapsed": false
   },
   "outputs": [
    {
     "name": "stdout",
     "output_type": "stream",
     "text": [
      "Extracting /path/to/MNIST_data/train-images-idx3-ubyte.gz\n",
      "Extracting /path/to/MNIST_data/train-labels-idx1-ubyte.gz\n",
      "Extracting /path/to/MNIST_data/t10k-images-idx3-ubyte.gz\n",
      "Extracting /path/to/MNIST_data/t10k-labels-idx1-ubyte.gz\n"
     ]
    }
   ],
   "source": [
    "import tensorflow as tf\n",
    "# Import MINST data\n",
    "from tensorflow.examples.tutorials.mnist import input_data\n",
    "mnist=input_data.read_data_sets(\"/path/to/MNIST_data/\",one_hot=True)"
   ]
  },
  {
   "cell_type": "code",
   "execution_count": null,
   "metadata": {
    "collapsed": true
   },
   "outputs": [],
   "source": [
    "x=tf.placeholder(tf.float32,shape=(None,784),name=\"X\")"
   ]
  },
  {
   "cell_type": "code",
   "execution_count": 2,
   "metadata": {
    "collapsed": false
   },
   "outputs": [
    {
     "name": "stdout",
     "output_type": "stream",
     "text": [
      "WARNING:tensorflow:From <ipython-input-2-e322e6742d0d>:26: initialize_all_variables (from tensorflow.python.ops.variables) is deprecated and will be removed after 2017-03-02.\n",
      "Instructions for updating:\n",
      "Use `tf.global_variables_initializer` instead.\n",
      "Epoch: 0001 cost= 100.57769304969088\n",
      "Epoch: 0002 cost= 53.16760211597787\n",
      "Epoch: 0003 cost= 45.94347208196467\n",
      "Epoch: 0004 cost= 41.4312249963934\n",
      "Epoch: 0005 cost= 39.06750251943411\n",
      "Epoch: 0006 cost= 37.156203214471965\n",
      "Epoch: 0007 cost= nan\n",
      "Epoch: 0008 cost= nan\n",
      "Epoch: 0009 cost= nan\n",
      "Epoch: 0010 cost= nan\n",
      "Epoch: 0011 cost= nan\n",
      "Epoch: 0012 cost= nan\n",
      "Epoch: 0013 cost= nan\n",
      "Epoch: 0014 cost= nan\n",
      "Epoch: 0015 cost= nan\n",
      "Epoch: 0016 cost= nan\n",
      "Epoch: 0017 cost= nan\n",
      "Epoch: 0018 cost= nan\n",
      "Epoch: 0019 cost= nan\n",
      "Epoch: 0020 cost= nan\n",
      "Epoch: 0021 cost= nan\n",
      "Epoch: 0022 cost= nan\n",
      "Epoch: 0023 cost= nan\n",
      "Epoch: 0024 cost= nan\n",
      "Epoch: 0025 cost= nan\n",
      "Optimization Finished!\n",
      "Accuracy: 0.0903333\n",
      "Accuracy: 0.0989818\n"
     ]
    }
   ],
   "source": [
    "#参数设置\n",
    "#设置学习率\n",
    "learning_rate=0.01\n",
    "#设置循环次数\n",
    "training_epochs=25\n",
    "#设置一个循环梯度下降的batch_size的大小\n",
    "batch_size=100\n",
    "display_step=1\n",
    "\n",
    "#计算图的输入节点\n",
    "x=tf.placeholder(tf.float32,[None,784],name=\"x_input\") #像素为28*28=784\n",
    "y=tf.placeholder(tf.float32,[None,10],name=\"y_input\")  #预测结果为0到9共10个数据\n",
    "\n",
    "#设置模型的参数\n",
    "W=tf.Variable(tf.random_normal([784,10],seed=1,stddev=1))\n",
    "b=tf.Variable(tf.zeros([10]))\n",
    "\n",
    "#构建模型\n",
    "pred=tf.nn.softmax(tf.matmul(x,W)+b)  #softmax\n",
    "#损失函数\n",
    "cost=tf.reduce_sum(-tf.reduce_sum(y*tf.log(pred),reduction_indices=1))\n",
    "#梯度下降\n",
    "optimizer=tf.train.GradientDescentOptimizer(learning_rate).minimize(cost)\n",
    "\n",
    "with tf.Session() as sess:\n",
    "    tf.initialize_all_variables().run()\n",
    "    for epoch in range(training_epochs):\n",
    "        avg_cost=0\n",
    "        total_batch=int(mnist.train.num_examples/batch_size)\n",
    "        #随机梯度下降循环所有的batch\n",
    "        for i in range(total_batch):\n",
    "            batch_xs,batch_ys=mnist.train.next_batch(batch_size)\n",
    "            y_,c=sess.run([optimizer,cost],feed_dict={x:batch_xs,y:batch_ys})\n",
    "            #计算平均损失\n",
    "            avg_cost+=c/total_batch\n",
    "        #显示每一次的损失以及参数的值\n",
    "        if (epoch+1) % display_step == 0:\n",
    "            print (\"Epoch:\", '%04d' % (epoch+1), \"cost=\",format(avg_cost))\n",
    "    print(\"Optimization Finished!\")\n",
    "    # Test model\n",
    "    correct_prediction = tf.equal(tf.argmax(pred, 1), tf.argmax(y, 1))\n",
    "    # Calculate accuracy for 3000 examples\n",
    "    accuracy = tf.reduce_mean(tf.cast(correct_prediction, tf.float32))\n",
    "    print (\"Accuracy:\", accuracy.eval({x: mnist.test.images[:3000], y: mnist.test.labels[:3000]}))\n",
    "    \n",
    "    print (\"Accuracy:\", accuracy.eval({x: mnist.train.images[:55000], y: mnist.train.labels[:55000]}))"
   ]
  },
  {
   "cell_type": "code",
   "execution_count": 1,
   "metadata": {
    "collapsed": false
   },
   "outputs": [
    {
     "name": "stdout",
     "output_type": "stream",
     "text": [
      "Extracting /path/to/MNIST_data/train-images-idx3-ubyte.gz\n",
      "Extracting /path/to/MNIST_data/train-labels-idx1-ubyte.gz\n",
      "Extracting /path/to/MNIST_data/t10k-images-idx3-ubyte.gz\n",
      "Extracting /path/to/MNIST_data/t10k-labels-idx1-ubyte.gz\n"
     ]
    }
   ],
   "source": [
    "import tensorflow as tf\n",
    "# Import MINST data\n",
    "from tensorflow.examples.tutorials.mnist import input_data\n",
    "mnist=input_data.read_data_sets(\"/path/to/MNIST_data/\",one_hot=True)"
   ]
  },
  {
   "cell_type": "code",
   "execution_count": 16,
   "metadata": {
    "collapsed": false
   },
   "outputs": [
    {
     "name": "stdout",
     "output_type": "stream",
     "text": [
      "WARNING:tensorflow:From <ipython-input-16-1eccc6ab3f43>:22: initialize_all_variables (from tensorflow.python.ops.variables) is deprecated and will be removed after 2017-03-02.\n",
      "Instructions for updating:\n",
      "Use `tf.global_variables_initializer` instead.\n",
      "Epoch: 0001 cost= 102.001461875\n",
      "Epoch: 0002 cost= 52.655762686\n",
      "Epoch: 0003 cost= 45.156134933\n",
      "Epoch: 0004 cost= 41.308121797\n",
      "Epoch: 0005 cost= 38.857600524\n",
      "Epoch: 0006 cost= 37.163382456\n",
      "Epoch: 0007 cost= 35.534144376\n",
      "Epoch: 0008 cost= 34.521539896\n",
      "Epoch: 0009 cost= 32.561660346\n",
      "Epoch: 0010 cost= 33.118289812\n",
      "Epoch: 0011 cost= 31.710601918\n",
      "Epoch: 0012 cost= 31.909846699\n",
      "Epoch: 0013 cost= 30.680147720\n",
      "Epoch: 0014 cost= 30.519698694\n",
      "Epoch: 0015 cost= 30.031726289\n",
      "Epoch: 0016 cost= 30.186045572\n",
      "Epoch: 0017 cost= 29.569554860\n",
      "Epoch: 0018 cost= 29.734019609\n",
      "Epoch: 0019 cost= 28.944843954\n",
      "Epoch: 0020 cost= 28.680299333\n",
      "Epoch: 0021 cost= 29.421899874\n",
      "Epoch: 0022 cost= 27.817705069\n",
      "Epoch: 0023 cost= 28.108319208\n",
      "Epoch: 0024 cost= 28.007594715\n",
      "Epoch: 0025 cost= 29.054972657\n",
      "Optimization Finished!\n",
      "Accuracy: 0.9169\n"
     ]
    }
   ],
   "source": [
    "learning_rate=0.01\n",
    "training_epochs=25\n",
    "batch_size=100\n",
    "display_step=1\n",
    "\n",
    "\n",
    "#计算图的输入节点\n",
    "x=tf.placeholder(tf.float32,[None,784],name=\"x_input\") #像素为28*28=784\n",
    "y=tf.placeholder(tf.float32,[None,10],name=\"y_input\")  #预测结果为0到9共10个数据\n",
    "\n",
    "#设置模型的参数\n",
    "W=tf.Variable(tf.random_normal([784,10],seed=1,stddev=1))\n",
    "b=tf.Variable(tf.zeros([10]))\n",
    "\n",
    "#构建模型\n",
    "pred=tf.nn.softmax(tf.matmul(x,W)+b)  #softmax\n",
    "\n",
    "cost=tf.reduce_mean(-tf.reduce_sum(y*tf.log(pred)))\n",
    "optimizer=tf.train.GradientDescentOptimizer(learning_rate).minimize(cost)\n",
    "\n",
    "with tf.Session() as sess:\n",
    "    tf.initialize_all_variables().run()\n",
    "    for epoch in range(training_epochs):\n",
    "        avg_cost=0\n",
    "        total_batch = int(mnist.train.num_examples/batch_size)\n",
    "        for i in range(total_batch):\n",
    "            batch_xs, batch_ys = mnist.train.next_batch(batch_size)\n",
    "            _,c=sess.run([optimizer,cost],feed_dict={x:batch_xs,y:batch_ys})\n",
    "            avg_cost+=c/total_batch\n",
    "        if (epoch+1) % display_step == 0:\n",
    "            print(\"Epoch:\", '%04d' % (epoch+1), \"cost=\", \"{:.9f}\".format(avg_cost))\n",
    "    print(\"Optimization Finished!\")\n",
    "\n",
    "    # Test model\n",
    "    correct_prediction = tf.equal(tf.argmax(pred, 1), tf.argmax(y, 1))\n",
    "    # Calculate accuracy\n",
    "    accuracy = tf.reduce_mean(tf.cast(correct_prediction, tf.float32))\n",
    "    print(\"Accuracy:\", accuracy.eval({x: mnist.test.images, y: mnist.test.labels}))"
   ]
  },
  {
   "cell_type": "code",
   "execution_count": null,
   "metadata": {
    "collapsed": true
   },
   "outputs": [],
   "source": []
  }
 ],
 "metadata": {
  "kernelspec": {
   "display_name": "Python 3",
   "language": "python",
   "name": "python3"
  },
  "language_info": {
   "codemirror_mode": {
    "name": "ipython",
    "version": 3
   },
   "file_extension": ".py",
   "mimetype": "text/x-python",
   "name": "python",
   "nbconvert_exporter": "python",
   "pygments_lexer": "ipython3",
   "version": "3.6.0"
  }
 },
 "nbformat": 4,
 "nbformat_minor": 2
}
