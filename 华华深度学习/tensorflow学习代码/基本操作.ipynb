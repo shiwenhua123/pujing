{
 "cells": [
  {
   "cell_type": "code",
   "execution_count": 2,
   "metadata": {
    "collapsed": false
   },
   "outputs": [
    {
     "name": "stdout",
     "output_type": "stream",
     "text": [
      "a:2 b:3\n",
      "Addition with constant:5\n",
      "Multiplication with constant:6\n"
     ]
    }
   ],
   "source": [
    "import tensorflow as tf\n",
    "a=tf.constant(2)\n",
    "b=tf.constant(3)\n",
    "#Launch the default graph.\n",
    "with tf.Session() as sess:\n",
    "    print(\"a:%i\" % sess.run(a),\"b:%i\" % sess.run(b))\n",
    "    print(\"Addition with constant:%i\" % sess.run(a+b))\n",
    "    print(\"Multiplication with constant:%i\" % sess.run(a*b))"
   ]
  },
  {
   "cell_type": "code",
   "execution_count": 3,
   "metadata": {
    "collapsed": false
   },
   "outputs": [
    {
     "name": "stdout",
     "output_type": "stream",
     "text": [
      "Addition with variables:5\n",
      "Multiplication with variables:20\n"
     ]
    }
   ],
   "source": [
    "a=tf.placeholder(tf.int16)\n",
    "b=tf.placeholder(tf.int16)\n",
    "add=tf.add(a,b)\n",
    "mul=tf.multiply(a,b)\n",
    "with tf.Session() as sess:\n",
    "    print(\"Addition with variables:%i\" % sess.run(add,feed_dict={a:2,b:3}))\n",
    "    print(\"Multiplication with variables:%i\" % sess.run(mul,feed_dict={a:5,b:4}))"
   ]
  },
  {
   "cell_type": "code",
   "execution_count": 5,
   "metadata": {
    "collapsed": true
   },
   "outputs": [],
   "source": [
    "#矩阵乘法\n",
    "matrix1=tf.constant([[3,3]])\n",
    "matrix2=tf.constant([[2],[2]])\n",
    "product=tf.matmul(matrix1,matrix2)"
   ]
  },
  {
   "cell_type": "code",
   "execution_count": 6,
   "metadata": {
    "collapsed": false
   },
   "outputs": [
    {
     "name": "stdout",
     "output_type": "stream",
     "text": [
      "WARNING:tensorflow:From <ipython-input-6-bdb860cd7a94>:2: initialize_all_variables (from tensorflow.python.ops.variables) is deprecated and will be removed after 2017-03-02.\n",
      "Instructions for updating:\n",
      "Use `tf.global_variables_initializer` instead.\n",
      "[[12]]\n"
     ]
    }
   ],
   "source": [
    "with tf.Session() as sess:\n",
    "    tf.initialize_all_variables().run()\n",
    "    result=sess.run(product)\n",
    "    print(result)"
   ]
  },
  {
   "cell_type": "code",
   "execution_count": 10,
   "metadata": {
    "collapsed": false
   },
   "outputs": [
    {
     "name": "stdout",
     "output_type": "stream",
     "text": [
      "WARNING:tensorflow:From <ipython-input-10-2a372d21ef5c>:7: initialize_all_variables (from tensorflow.python.ops.variables) is deprecated and will be removed after 2017-03-02.\n",
      "Instructions for updating:\n",
      "Use `tf.global_variables_initializer` instead.\n",
      "[[ 12.]]\n"
     ]
    }
   ],
   "source": [
    "m1=tf.placeholder(tf.float32,shape=(1,2),name='X')\n",
    "m2=tf.placeholder(tf.float32,shape=(2,1),name='Y')\n",
    "X=[[3,3]]\n",
    "Y=[[2],[2]]\n",
    "pro=tf.matmul(m1,m2)\n",
    "with tf.Session() as sess:\n",
    "    tf.initialize_all_variables().run()\n",
    "    print(sess.run(pro,feed_dict={m1:X,m2:Y}))"
   ]
  },
  {
   "cell_type": "code",
   "execution_count": null,
   "metadata": {
    "collapsed": true
   },
   "outputs": [],
   "source": []
  }
 ],
 "metadata": {
  "kernelspec": {
   "display_name": "Python 3",
   "language": "python",
   "name": "python3"
  },
  "language_info": {
   "codemirror_mode": {
    "name": "ipython",
    "version": 3
   },
   "file_extension": ".py",
   "mimetype": "text/x-python",
   "name": "python",
   "nbconvert_exporter": "python",
   "pygments_lexer": "ipython3",
   "version": "3.6.0"
  }
 },
 "nbformat": 4,
 "nbformat_minor": 2
}
