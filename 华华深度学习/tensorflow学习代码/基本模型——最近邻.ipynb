{
 "cells": [
  {
   "cell_type": "markdown",
   "metadata": {},
   "source": [
    "## 最近邻\n",
    "使用TensorFlow库的最近邻学习算法示例。 这个例子是使用手写数字的MNIST数据库"
   ]
  },
  {
   "cell_type": "code",
   "execution_count": 2,
   "metadata": {
    "collapsed": false
   },
   "outputs": [
    {
     "name": "stdout",
     "output_type": "stream",
     "text": [
      "Extracting /tmp/data/train-images-idx3-ubyte.gz\n",
      "Extracting /tmp/data/train-labels-idx1-ubyte.gz\n",
      "Extracting /tmp/data/t10k-images-idx3-ubyte.gz\n",
      "Extracting /tmp/data/t10k-labels-idx1-ubyte.gz\n"
     ]
    }
   ],
   "source": [
    "import numpy as np\n",
    "import tensorflow as tf\n",
    "#import MNIST数据集\n",
    "from tensorflow.examples.tutorials.mnist import input_data\n",
    "mnist=input_data.read_data_sets(\"/tmp/data/\",one_hot=True)"
   ]
  },
  {
   "cell_type": "code",
   "execution_count": 3,
   "metadata": {
    "collapsed": true
   },
   "outputs": [],
   "source": [
    "#In this example,we limit mnist data\n",
    "Xtr,Ytr=mnist.train.next_batch(5000)\n",
    "Xte,Yte=mnist.test.next_batch(200)\n",
    "\n",
    "#tf Graph Input\n",
    "xtr=tf.placeholder(tf.float32,[None,784],name='xtr')\n",
    "xte=tf.placeholder(tf.float32,[784],name='xte')\n",
    "\n",
    "#使用L1距离的最近邻计算计算L1距离\n",
    "distance=tf.reduce_sum(tf.abs(tf.add(xtr,tf.negative(xte))),reduction_indices=1)\n",
    "pred=tf.arg_min(distance,0)\n",
    "accuracy=0"
   ]
  },
  {
   "cell_type": "code",
   "execution_count": null,
   "metadata": {
    "collapsed": true
   },
   "outputs": [],
   "source": [
    "with tf.Session() as sess:\n",
    "    tf.global_variables_initializer().run()\n",
    "    for i in range(len(Ste)):\n",
    "        nn_index=sess.run(pred,feed_dict={xtr:Xtr,xte:Xte[i,:]})\n",
    "        print(\"Test\",i,\"Prediction:\",np.argmax(Ytr[nn_index]),\"True class:\",np.argmax(Yte[i]))\n",
    "        if(np.argmax(Ytr[nn_index])==np.argmax(Yte[i])):\n",
    "            accuracy+=1./len(Xte)\n",
    "        print(Done)"
   ]
  }
 ],
 "metadata": {
  "kernelspec": {
   "display_name": "Python 3",
   "language": "python",
   "name": "python3"
  },
  "language_info": {
   "codemirror_mode": {
    "name": "ipython",
    "version": 3
   },
   "file_extension": ".py",
   "mimetype": "text/x-python",
   "name": "python",
   "nbconvert_exporter": "python",
   "pygments_lexer": "ipython3",
   "version": "3.6.0"
  }
 },
 "nbformat": 4,
 "nbformat_minor": 2
}
