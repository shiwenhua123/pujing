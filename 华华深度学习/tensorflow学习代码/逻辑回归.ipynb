{
 "cells": [
  {
   "cell_type": "markdown",
   "metadata": {},
   "source": [
    "## 逻辑回归实例\n",
    "使用TensorFlow库的逻辑回归学习算法示例。 这个例子是使用手写数字的MNIST数据库（http://yann.lecun.com/exdb/mnist/）## "
   ]
  },
  {
   "cell_type": "code",
   "execution_count": 2,
   "metadata": {
    "collapsed": false
   },
   "outputs": [
    {
     "name": "stdout",
     "output_type": "stream",
     "text": [
      "Extracting /tmp/data/train-images-idx3-ubyte.gz\n",
      "Extracting /tmp/data/train-labels-idx1-ubyte.gz\n",
      "Extracting /tmp/data/t10k-images-idx3-ubyte.gz\n",
      "Extracting /tmp/data/t10k-labels-idx1-ubyte.gz\n"
     ]
    }
   ],
   "source": [
    "import tensorflow as tf\n",
    "from tensorflow.examples.tutorials.mnist import input_data\n",
    "mnist=input_data.read_data_sets(\"/tmp/data/\",one_hot=True)"
   ]
  },
  {
   "cell_type": "code",
   "execution_count": 20,
   "metadata": {
    "collapsed": false
   },
   "outputs": [],
   "source": [
    "#设置参数\n",
    "learning_rate=0.1\n",
    "training_epochs=200\n",
    "batch_size=100\n",
    "display_step=10\n",
    "\n",
    "#计算图的输入\n",
    "x=tf.placeholder(tf.float32,[None,784])\n",
    "y=tf.placeholder(tf.float32,[None,10])\n",
    "\n",
    "#设置模型的参数\n",
    "#W=tf.Variable(tf.zeros([784,10]))\n",
    "#b=tf.Variable(tf.zeros([10]))\n",
    "\n",
    "W=tf.Variable(tf.truncated_normal([784,10]))\n",
    "b=tf.Variable(tf.truncated_normal([10]))\n",
    "\n",
    "#构建模型\n",
    "pred=tf.nn.softmax(tf.matmul(x,W)+b)\n",
    "\n",
    "#使用交叉熵最小化错误\n",
    "cost=tf.reduce_mean(-tf.reduce_sum(y*tf.log(pred),reduction_indices=1))\n",
    "\n",
    "optimizer=tf.train.GradientDescentOptimizer(learning_rate).minimize(cost)\n"
   ]
  },
  {
   "cell_type": "code",
   "execution_count": 21,
   "metadata": {
    "collapsed": false
   },
   "outputs": [
    {
     "name": "stdout",
     "output_type": "stream",
     "text": [
      "Epoch: 0010 cost= 0.497704024\n",
      "Epoch: 0020 cost= 0.397512487\n",
      "Epoch: 0030 cost= 0.355361621\n",
      "Epoch: 0040 cost= 0.334946731\n",
      "Epoch: 0050 cost= 0.314614407\n",
      "Epoch: 0060 cost= 0.302927434\n",
      "Epoch: 0070 cost= 0.296142197\n",
      "Epoch: 0080 cost= 0.283746516\n",
      "Epoch: 0090 cost= 0.278256903\n",
      "Epoch: 0100 cost= 0.270576145\n",
      "Epoch: 0110 cost= 0.271946754\n",
      "Epoch: 0120 cost= 0.263991310\n",
      "Epoch: 0130 cost= 0.256912818\n",
      "Epoch: 0140 cost= 0.256540604\n",
      "Epoch: 0150 cost= 0.254305297\n",
      "Epoch: 0160 cost= 0.254202516\n",
      "Epoch: 0170 cost= 0.254058414\n",
      "Epoch: 0180 cost= 0.249608602\n",
      "Epoch: 0190 cost= 0.244869653\n",
      "Epoch: 0200 cost= 0.246145587\n",
      "Optimization Finished\n",
      "Accuracy: 0.900333\n"
     ]
    }
   ],
   "source": [
    "with tf.Session() as sess:\n",
    "    tf.global_variables_initializer().run()\n",
    "    for epoch in range(training_epochs):\n",
    "        avg_cost=0\n",
    "        total_batch=int(mnist.train.num_examples/batch_size)\n",
    "        for i in range(total_batch):\n",
    "            batch_xs,batch_ys=mnist.train.next_batch(batch_size)\n",
    "            #训练模型，拟合参数\n",
    "            _,c=sess.run([optimizer,cost],feed_dict={x:batch_xs,y:batch_ys})\n",
    "            \n",
    "            #计算平均损失\n",
    "            avg_cost+=c/total_batch\n",
    "        if((epoch+1) % display_step==0):\n",
    "            print(\"Epoch:\",'%04d' % (epoch+1),\"cost=\",\"{:.9f}\".format(avg_cost))\n",
    "    print(\"Optimization Finished\")\n",
    "    \n",
    "    #测试模型\n",
    "    correct_prediction=tf.equal(tf.argmax(pred,1),tf.argmax(y,1))\n",
    "    #计算3000个样例的准确率\n",
    "    accuracy=tf.reduce_mean(tf.cast(correct_prediction,tf.float32))\n",
    "    print(\"Accuracy:\",accuracy.eval({x:mnist.test.images[:3000],y:mnist.test.labels[:3000]}))\n",
    "            "
   ]
  },
  {
   "cell_type": "code",
   "execution_count": null,
   "metadata": {
    "collapsed": true
   },
   "outputs": [],
   "source": []
  }
 ],
 "metadata": {
  "kernelspec": {
   "display_name": "Python 3",
   "language": "python",
   "name": "python3"
  },
  "language_info": {
   "codemirror_mode": {
    "name": "ipython",
    "version": 3
   },
   "file_extension": ".py",
   "mimetype": "text/x-python",
   "name": "python",
   "nbconvert_exporter": "python",
   "pygments_lexer": "ipython3",
   "version": "3.6.0"
  }
 },
 "nbformat": 4,
 "nbformat_minor": 2
}
