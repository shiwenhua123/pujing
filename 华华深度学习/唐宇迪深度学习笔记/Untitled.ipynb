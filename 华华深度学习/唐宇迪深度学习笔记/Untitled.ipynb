{
 "cells": [
  {
   "cell_type": "code",
   "execution_count": 2,
   "metadata": {
    "collapsed": false
   },
   "outputs": [
    {
     "name": "stdout",
     "output_type": "stream",
     "text": [
      "[[ 2.]]\n"
     ]
    }
   ],
   "source": [
    "import tensorflow as tf\n",
    "w=tf.Variable([[0.5,1.0]])\n",
    "x=tf.Variable([[2.0],[1.0]])\n",
    "y=tf.matmul(w,x)\n",
    "with tf.Session() as sess:\n",
    "    tf.global_variables_initializer().run()\n",
    "    print(sess.run(y))"
   ]
  },
  {
   "cell_type": "code",
   "execution_count": 5,
   "metadata": {
    "collapsed": false
   },
   "outputs": [
    {
     "name": "stdout",
     "output_type": "stream",
     "text": [
      "[[4 3]\n",
      " [1 2]\n",
      " [5 6]]\n"
     ]
    }
   ],
   "source": [
    "c=tf.constant([[1,2],[4,3],[5,6]])\n",
    "shuff=tf.random_shuffle(c)\n",
    "with tf.Session() as sess:\n",
    "    tf.global_variables_initializer().run()\n",
    "    print(sess.run(shuff))"
   ]
  },
  {
   "cell_type": "code",
   "execution_count": 6,
   "metadata": {
    "collapsed": false
   },
   "outputs": [
    {
     "name": "stdout",
     "output_type": "stream",
     "text": [
      "<tf.Variable 'Variable_2:0' shape=() dtype=int32_ref>\n",
      "1\n",
      "2\n",
      "3\n"
     ]
    }
   ],
   "source": [
    "state=tf.Variable(0)\n",
    "new_value=tf.add(state,tf.constant(1))\n",
    "update=tf.assign(state,new_value)\n",
    "with tf.Session() as sess:\n",
    "    tf.global_variables_initializer().run()\n",
    "    print(state)\n",
    "    for _ in range(3):\n",
    "        sess.run(update)\n",
    "        print(sess.run(state))"
   ]
  },
  {
   "cell_type": "code",
   "execution_count": 14,
   "metadata": {
    "collapsed": false
   },
   "outputs": [
    {
     "name": "stdout",
     "output_type": "stream",
     "text": [
      "INFO:tensorflow:Froze 2 variables.\n",
      "Converted 2 variables to const ops.\n"
     ]
    }
   ],
   "source": [
    "from tensorflow.python.framework import graph_util\n",
    "w=tf.Variable([[0.5,1.0]])\n",
    "x=tf.Variable([[2.0],[1.0]])\n",
    "y=tf.matmul(w,x,name='mat')\n",
    "with tf.Session() as sess:\n",
    "    tf.global_variables_initializer().run()\n",
    "    graph_def=tf.get_default_graph().as_graph_def()\n",
    "    \n",
    "    output_graph_def=graph_util.convert_variables_to_constants(sess,graph_def,['mat'])\n",
    "    with tf.gfile.GFile(\"F:\\\\hua\\\\model.pb\",\"wb\") as f:\n",
    "        f.write(output_graph_def.SerializeToString())"
   ]
  },
  {
   "cell_type": "code",
   "execution_count": 16,
   "metadata": {
    "collapsed": false
   },
   "outputs": [
    {
     "name": "stdout",
     "output_type": "stream",
     "text": [
      "[array([[ 2.]], dtype=float32)]\n"
     ]
    }
   ],
   "source": [
    "import tensorflow as tf\n",
    "from tensorflow.python.platform import gfile\n",
    "with tf.Session() as sess:\n",
    "    model=\"F:\\\\hua\\\\model.pb\"\n",
    "    with gfile.FastGFile(model,'rb') as f:\n",
    "        graph_def=tf.GraphDef()\n",
    "        graph_def.ParseFromString(f.read())\n",
    "        result=tf.import_graph_def(graph_def,return_elements=[\"mat:0\"])\n",
    "        print(sess.run(result))"
   ]
  },
  {
   "cell_type": "code",
   "execution_count": 19,
   "metadata": {
    "collapsed": false
   },
   "outputs": [
    {
     "data": {
      "image/png": "[encoded data removed]",
      "text/plain": [
       "<matplotlib.figure.Figure at 0x316e595ba8>"
      ]
     },
     "metadata": {},
     "output_type": "display_data"
    }
   ],
   "source": [
    "import numpy as np\n",
    "import tensorflow as tf\n",
    "import matplotlib.pyplot as plt\n",
    "num_points=1000\n",
    "vactors=[]\n",
    "for i in range(num_points):\n",
    "    x1=np.random.normal(0.0,0.55)\n",
    "    y1=x1*0.1+0.3+np.random.normal(0.0,0.03)\n",
    "    vactors.append([x1,y1])\n",
    "x_data=[v[0] for v in vactors]\n",
    "y_data=[v[1] for v in vactors]\n",
    "plt.scatter(x_data,y_data,c='r')\n",
    "plt.show()"
   ]
  },
  {
   "cell_type": "code",
   "execution_count": 22,
   "metadata": {
    "collapsed": false
   },
   "outputs": [
    {
     "name": "stdout",
     "output_type": "stream",
     "text": [
      "W: [-0.90086567] b= [ 0.67071158] loss 0.451879\n",
      "W: [-0.13073058] b= [ 0.29536813] loss 0.0168734\n",
      "W: [ 0.08145402] b= [ 0.30000192] loss 0.00102447\n",
      "W: [ 0.09838986] b= [ 0.30025199] loss 0.000932651\n",
      "W: [ 0.09864385] b= [ 0.30025601] loss 0.000932631\n",
      "W: [ 0.09864285] b= [ 0.30025601] loss 0.000932631\n",
      "W: [ 0.09864285] b= [ 0.30025601] loss 0.000932631\n",
      "W: [ 0.09864285] b= [ 0.30025601] loss 0.000932631\n",
      "W: [ 0.09864285] b= [ 0.30025601] loss 0.000932631\n",
      "W: [ 0.09864285] b= [ 0.30025601] loss 0.000932631\n"
     ]
    },
    {
     "data": {
      "image/png": "[encoded data removed]",
      "text/plain": [
       "<matplotlib.figure.Figure at 0x316e457ac8>"
      ]
     },
     "metadata": {},
     "output_type": "display_data"
    }
   ],
   "source": [
    "W=tf.Variable(tf.random_normal([1]),name='w')\n",
    "b=tf.Variable(tf.random_normal([1]),name='b')\n",
    "y_=tf.add(tf.multiply(W,x_data),b)\n",
    "loss=tf.reduce_mean(tf.square(y_-y_data),name='loss')\n",
    "optimizer=tf.train.AdamOptimizer(0.01).minimize(loss)\n",
    "with tf.Session() as sess:\n",
    "    tf.global_variables_initializer().run()\n",
    "    for i in range(1000):\n",
    "        _,losses=sess.run([optimizer,loss])\n",
    "        if(i%100==0):\n",
    "            print(\"W:\",sess.run(W),\"b=\",sess.run(b),\"loss\",losses)\n",
    "    plt.scatter(x_data,y_data,c='r')\n",
    "    plt.plot(x_data,sess.run(W)*x_data+sess.run(b))\n",
    "    plt.show()"
   ]
  },
  {
   "cell_type": "code",
   "execution_count": 24,
   "metadata": {
    "collapsed": false
   },
   "outputs": [
    {
     "name": "stdout",
     "output_type": "stream",
     "text": [
      "Extracting /tmp/data/train-images-idx3-ubyte.gz\n",
      "Extracting /tmp/data/train-labels-idx1-ubyte.gz\n",
      "Extracting /tmp/data/t10k-images-idx3-ubyte.gz\n",
      "Extracting /tmp/data/t10k-labels-idx1-ubyte.gz\n"
     ]
    }
   ],
   "source": [
    "import tensorflow as tf\n",
    "import numpy as np\n",
    "from tensorflow.examples.tutorials.mnist import input_data\n",
    "mnist=input_data.read_data_sets('/tmp/data/',one_hot=True)"
   ]
  },
  {
   "cell_type": "code",
   "execution_count": 30,
   "metadata": {
    "collapsed": false
   },
   "outputs": [
    {
     "name": "stdout",
     "output_type": "stream",
     "text": [
      "Epoch: 0 loss 2.26161076834 测试集准确率： 0.8261\n",
      "Epoch: 1 loss 2.95235261811 测试集准确率： 0.8738\n",
      "Epoch: 2 loss 3.46999165325 测试集准确率： 0.8912\n",
      "Epoch: 3 loss 3.92183460351 测试集准确率： 0.8999\n",
      "Epoch: 4 loss 4.32274029255 测试集准确率： 0.9045\n",
      "Epoch: 5 loss 4.7049044342 测试集准确率： 0.9071\n",
      "Epoch: 6 loss 5.0628992119 测试集准确率： 0.9105\n",
      "Epoch: 7 loss 5.39611517018 测试集准确率： 0.9119\n",
      "Epoch: 8 loss 5.72567516637 测试集准确率： 0.9149\n",
      "Epoch: 9 loss 6.04047456368 测试集准确率： 0.9145\n",
      "Epoch: 10 loss 6.34548070718 测试集准确率： 0.9146\n",
      "Epoch: 11 loss 6.64600131204 测试集准确率： 0.916\n",
      "Epoch: 12 loss 6.93759111846 测试集准确率： 0.9185\n",
      "Epoch: 13 loss 7.2295423637 测试集准确率： 0.9183\n",
      "Epoch: 14 loss 7.50747814069 测试集准确率： 0.9175\n",
      "Epoch: 15 loss 7.78442193981 测试集准确率： 0.9221\n",
      "Epoch: 16 loss 8.05882407954 测试集准确率： 0.9203\n",
      "Epoch: 17 loss 8.32789450024 测试集准确率： 0.9157\n",
      "Epoch: 18 loss 8.59816421832 测试集准确率： 0.9173\n",
      "Epoch: 19 loss 8.86273177538 测试集准确率： 0.919\n",
      "Epoch: 20 loss 9.12583594938 测试集准确率： 0.9197\n",
      "Epoch: 21 loss 9.38884005835 测试集准确率： 0.9217\n",
      "Epoch: 22 loss 9.6428733194 测试集准确率： 0.919\n",
      "Epoch: 23 loss 9.89805906657 测试集准确率： 0.921\n",
      "Epoch: 24 loss 10.1589360238 测试集准确率： 0.9169\n",
      "Epoch: 25 loss 10.41182849 测试集准确率： 0.9202\n",
      "Epoch: 26 loss 10.6623854491 测试集准确率： 0.9203\n",
      "Epoch: 27 loss 10.9158603928 测试集准确率： 0.9208\n",
      "Epoch: 28 loss 11.1672134234 测试集准确率： 0.9201\n",
      "Epoch: 29 loss 11.4148786778 测试集准确率： 0.9222\n",
      "Epoch: 30 loss 11.6606322404 测试集准确率： 0.9207\n",
      "Epoch: 31 loss 11.9101458636 测试集准确率： 0.9209\n",
      "Epoch: 32 loss 12.1547655597 测试集准确率： 0.9195\n",
      "Epoch: 33 loss 12.3966435817 测试集准确率： 0.9187\n",
      "Epoch: 34 loss 12.6457333127 测试集准确率： 0.9247\n",
      "Epoch: 35 loss 12.8861253516 测试集准确率： 0.9234\n",
      "Epoch: 36 loss 13.12555705 测试集准确率： 0.9197\n",
      "Epoch: 37 loss 13.3718973206 测试集准确率： 0.9186\n",
      "Epoch: 38 loss 13.6091713276 测试集准确率： 0.9221\n",
      "Epoch: 39 loss 13.8504374274 测试集准确率： 0.9203\n"
     ]
    }
   ],
   "source": [
    "x=tf.placeholder(tf.float32,shape=[None,784],name='x_input')\n",
    "y=tf.placeholder(tf.float32,shape=[None,10],name='y_input')\n",
    "\n",
    "W=tf.Variable(tf.random_normal([784,10]))\n",
    "b=tf.Variable(tf.random_normal([10]))\n",
    "\n",
    "y_=tf.add(tf.matmul(x,W),b)\n",
    "\n",
    "cost=tf.reduce_mean(tf.nn.softmax_cross_entropy_with_logits(logits=y_,labels=y))\n",
    "optm=tf.train.AdamOptimizer(0.005).minimize(cost)\n",
    "batch_size=128\n",
    "with tf.Session() as sess:\n",
    "    tf.global_variables_initializer().run()\n",
    "    avg_loss=0\n",
    "    for epoch in range(40):\n",
    "        num=int(mnist.train.num_examples/batch_size)\n",
    "        for i in range(num):\n",
    "            batch_xs,batch_ys=mnist.train.next_batch(batch_size)\n",
    "            _,l=sess.run([optm,cost],feed_dict={x:batch_xs,y:batch_ys})\n",
    "            avg_loss+=l/num\n",
    "        corr=tf.equal(tf.argmax(y_,1),tf.argmax(y,1))\n",
    "        accr=tf.reduce_mean(tf.cast(corr,tf.float32))\n",
    "        print(\"Epoch:\",epoch,\"loss\",avg_loss,\"测试集准确率：\",accr.eval({x:mnist.test.images,y:mnist.test.labels}))"
   ]
  },
  {
   "cell_type": "code",
   "execution_count": 31,
   "metadata": {
    "collapsed": false
   },
   "outputs": [
    {
     "name": "stdout",
     "output_type": "stream",
     "text": [
      "Extracting /tmp/data/train-images-idx3-ubyte.gz\n",
      "Extracting /tmp/data/train-labels-idx1-ubyte.gz\n",
      "Extracting /tmp/data/t10k-images-idx3-ubyte.gz\n",
      "Extracting /tmp/data/t10k-labels-idx1-ubyte.gz\n"
     ]
    }
   ],
   "source": [
    "import tensorflow as tf\n",
    "import matplotlib.pyplot as plt\n",
    "from tensorflow.examples.tutorials.mnist import input_data\n",
    "mnist=input_data.read_data_sets('/tmp/data/',one_hot=True)"
   ]
  },
  {
   "cell_type": "code",
   "execution_count": 44,
   "metadata": {
    "collapsed": true
   },
   "outputs": [],
   "source": [
    "x=tf.placeholder(tf.float32,shape=[None,784],name='x_input')\n",
    "y=tf.placeholder(tf.float32,shape=[None,10],name='y_input')\n",
    "\n",
    "W1=tf.Variable(tf.random_normal([784,256]),name='W')\n",
    "b1=tf.Variable(tf.random_normal([256]),name='b1')\n",
    "\n",
    "W2=tf.Variable(tf.random_normal([256,256]),name='w2')\n",
    "b2=tf.Variable(tf.random_normal([256]),name='b2')\n",
    "\n",
    "W3=tf.Variable(tf.random_normal([256,10]),name='W3')\n",
    "b3=tf.Variable(tf.random_normal([10]),name='b3')\n",
    "\n",
    "layer_1=tf.nn.relu(tf.add(tf.matmul(x,W1),b1))\n",
    "layer_2=tf.nn.relu(tf.add(tf.matmul(layer_1,W2),b2))\n",
    "pred=tf.add(tf.matmul(layer_2,W3),b3)\n",
    "\n",
    "cost=tf.nn.softmax_cross_entropy_with_logits(logits=pred,labels=y)\n",
    "loss=tf.reduce_mean(cost)\n",
    "optm=tf.train.AdamOptimizer(0.01).minimize(loss)"
   ]
  },
  {
   "cell_type": "code",
   "execution_count": 45,
   "metadata": {
    "collapsed": false,
    "scrolled": true
   },
   "outputs": [
    {
     "name": "stdout",
     "output_type": "stream",
     "text": [
      "Epoch: 0 loss: 58.7949041748 训练集准确率： 0.936182 测试集准确率： 0.9235\n",
      "Epoch: 1 loss: 9.51446243419 训练集准确率： 0.952582 测试集准确率： 0.9311\n",
      "Epoch: 2 loss: 5.09775144421 训练集准确率： 0.967927 测试集准确率： 0.945\n",
      "Epoch: 3 loss: 3.20334699499 训练集准确率： 0.975509 测试集准确率： 0.95\n",
      "Epoch: 4 loss: 2.41886403817 训练集准确率： 0.976727 测试集准确率： 0.954\n",
      "Epoch: 5 loss: 2.01095213395 训练集准确率： 0.978109 测试集准确率： 0.9553\n",
      "Epoch: 6 loss: 1.85156475725 训练集准确率： 0.981509 测试集准确率： 0.9563\n",
      "Epoch: 7 loss: 1.72449184969 训练集准确率： 0.983091 测试集准确率： 0.9589\n",
      "Epoch: 8 loss: 1.56985394695 训练集准确率： 0.984073 测试集准确率： 0.9573\n",
      "Epoch: 9 loss: 1.50056226731 训练集准确率： 0.983127 测试集准确率： 0.9586\n",
      "Epoch: 10 loss: 1.48412450784 训练集准确率： 0.985491 测试集准确率： 0.9602\n",
      "Epoch: 11 loss: 1.47898495388 训练集准确率： 0.9842 测试集准确率： 0.9585\n",
      "Epoch: 12 loss: 1.09006754341 训练集准确率： 0.983509 测试集准确率： 0.9593\n",
      "Epoch: 13 loss: 1.08862391718 训练集准确率： 0.986364 测试集准确率： 0.9645\n",
      "Epoch: 14 loss: 1.06555361677 训练集准确率： 0.986055 测试集准确率： 0.9647\n",
      "Epoch: 15 loss: 1.01629848438 训练集准确率： 0.986582 测试集准确率： 0.9641\n",
      "Epoch: 16 loss: 0.956979779029 训练集准确率： 0.983127 测试集准确率： 0.9601\n",
      "Epoch: 17 loss: 0.880214953818 训练集准确率： 0.981964 测试集准确率： 0.9569\n",
      "Epoch: 18 loss: 0.730391073422 训练集准确率： 0.9882 测试集准确率： 0.9675\n",
      "Epoch: 19 loss: 0.688804125009 训练集准确率： 0.990764 测试集准确率： 0.9706\n"
     ]
    }
   ],
   "source": [
    "batch_size=128\n",
    "with tf.Session() as sess:\n",
    "    tf.global_variables_initializer().run()\n",
    "    for epoch in range(20):\n",
    "        avg_loss=0\n",
    "        num=int(mnist.train.num_examples/batch_size)\n",
    "        for i in range(num):\n",
    "            batch_xs,batch_ys=mnist.train.next_batch(batch_size)\n",
    "            _,l=sess.run([optm,loss],feed_dict={x:batch_xs,y:batch_ys})\n",
    "            avg_loss+=l/num\n",
    "        \n",
    "        corr1=tf.equal(tf.argmax(pred,1),tf.argmax(y,1))\n",
    "        accr1=tf.reduce_mean(tf.cast(corr1,tf.float32))\n",
    "        \n",
    "        corr2=tf.equal(tf.argmax(pred,1),tf.argmax(y,1))\n",
    "        accr2=tf.reduce_mean(tf.cast(corr2,tf.float32))\n",
    "        print(\"Epoch:\",epoch,\"loss:\",avg_loss,\"训练集准确率：\",accr1.eval({x:mnist.train.images,y:mnist.train.labels}),\"测试集准确率：\",accr2.eval({x:mnist.test.images,y:mnist.test.labels}))\n",
    "        #print(\"训练集准确率：\",accr1.eval({x:mnist.train.images,y:mnist.train.labels}))\n",
    "        #print(\"测试集准确率：\",accr2.eval({x:mnist.test.images,y:mnist.test.labels}))\n",
    "        "
   ]
  },
  {
   "cell_type": "code",
   "execution_count": 1,
   "metadata": {
    "collapsed": false
   },
   "outputs": [
    {
     "name": "stdout",
     "output_type": "stream",
     "text": [
      "Extracting /tmp/data/train-images-idx3-ubyte.gz\n",
      "Extracting /tmp/data/train-labels-idx1-ubyte.gz\n",
      "Extracting /tmp/data/t10k-images-idx3-ubyte.gz\n",
      "Extracting /tmp/data/t10k-labels-idx1-ubyte.gz\n"
     ]
    }
   ],
   "source": [
    "import numpy as np\n",
    "import tensorflow as tf\n",
    "from tensorflow.examples.tutorials.mnist import input_data\n",
    "mnist=input_data.read_data_sets('/tmp/data/',one_hot=True)"
   ]
  },
  {
   "cell_type": "code",
   "execution_count": 2,
   "metadata": {
    "collapsed": true
   },
   "outputs": [],
   "source": [
    "def conv_basic(x):\n",
    "    x=tf.reshape(x,shape=[-1,28,28,1])  \n",
    "    with tf.variable_scope('layer1-conv1'):\n",
    "        conv_weights=tf.get_variable('weights',shape=[3,3,1,32],initializer=tf.truncated_normal_initializer(stddev=0.1))\n",
    "        conv_biases=tf.get_variable('biases',shape=[32],initializer=tf.constant_initializer(0.0))\n",
    "        conv1=tf.nn.conv2d(x,conv_weights,strides=[1,1,1,1],padding='SAME')\n",
    "        relu1=tf.nn.relu(tf.nn.bias_add(conv1,conv_biases))\n",
    "    with tf.variable_scope('layer2-pool1'):\n",
    "        pool1=tf.nn.max_pool(relu1,ksize=[1,2,2,1],strides=[1,2,2,1],padding='SAME')\n",
    "    with tf.variable_scope('layer3-conv2'):\n",
    "        conv_weights=tf.get_variable('weights',shape=[3,3,32,64],initializer=tf.truncated_normal_initializer(stddev=0.1))\n",
    "        conv_biases=tf.get_variable('biases',shape=[64],initializer=tf.constant_initializer(0.0))\n",
    "        conv2=tf.nn.conv2d(pool1,conv_weights,strides=[1,1,1,1],padding='SAME')\n",
    "        relu2=tf.nn.relu(tf.nn.bias_add(conv2,conv_biases))\n",
    "    with tf.variable_scope('layer4-pool2'):\n",
    "        pool2=tf.nn.max_pool(relu2,ksize=[1,2,2,1],strides=[1,2,2,1],padding='SAME')\n",
    "    pool2=tf.reshape(pool2,[-1,7*7*64])\n",
    "    with tf.variable_scope('layer5-fc1'):\n",
    "        fc_weights=tf.get_variable('weights',shape=[7*7*64,50],initializer=tf.truncated_normal_initializer(stddev=0.1))\n",
    "        fc_biases=tf.get_variable('biases',shape=[50],initializer=tf.constant_initializer(0.0))\n",
    "        fc1=tf.add(tf.matmul(pool2,fc_weights),fc_biases)\n",
    "        fc1=tf.nn.relu(fc1)\n",
    "    fc1=tf.nn.dropout(fc1,0.8)\n",
    "    with tf.variable_scope('layer6-fc2'):\n",
    "        fc_weights=tf.get_variable('weights',shape=[50,10],initializer=tf.truncated_normal_initializer(stddev=0.1))\n",
    "        fc_biases=tf.get_variable(\"biases\",shape=[10],initializer=tf.constant_initializer(0.0))\n",
    "        out=tf.add(tf.matmul(fc1,fc_weights),fc_biases)\n",
    "    return out"
   ]
  },
  {
   "cell_type": "code",
   "execution_count": 3,
   "metadata": {
    "collapsed": false
   },
   "outputs": [],
   "source": [
    "X=tf.placeholder(tf.float32,shape=[None,784],name='x_input')\n",
    "Y=tf.placeholder(tf.float32,shape=[None,10],name='y_input')\n",
    "\n",
    "pred=conv_basic(X)"
   ]
  },
  {
   "cell_type": "code",
   "execution_count": 4,
   "metadata": {
    "collapsed": true
   },
   "outputs": [],
   "source": [
    "cost=tf.reduce_mean(tf.nn.softmax_cross_entropy_with_logits(logits=pred,labels=Y))\n",
    "optm=tf.train.AdamOptimizer(0.001).minimize(cost)\n",
    "batch_size=128"
   ]
  },
  {
   "cell_type": "code",
   "execution_count": 5,
   "metadata": {
    "collapsed": false
   },
   "outputs": [
    {
     "name": "stdout",
     "output_type": "stream",
     "text": [
      "Epoch: 0 loss: 0.333053181082 测试集准确率： 0.9666\n",
      "Epoch: 1 loss: 0.0971803656304 测试集准确率： 0.9782\n",
      "Epoch: 2 loss: 0.0707796175328 测试集准确率： 0.9813\n",
      "Epoch: 3 loss: 0.0567178035596 测试集准确率： 0.9835\n",
      "Epoch: 4 loss: 0.0490087186082 测试集准确率： 0.9858\n",
      "Epoch: 5 loss: 0.0395221574735 测试集准确率： 0.9843\n",
      "Epoch: 6 loss: 0.0365758888157 测试集准确率： 0.984\n",
      "Epoch: 7 loss: 0.0331258574815 测试集准确率： 0.987\n",
      "Epoch: 8 loss: 0.0285538912611 测试集准确率： 0.9885\n",
      "Epoch: 9 loss: 0.0258788108228 测试集准确率： 0.9874\n",
      "Epoch: 10 loss: 0.0230101658059 测试集准确率： 0.9879\n",
      "Epoch: 11 loss: 0.0205222067054 测试集准确率： 0.9876\n",
      "Epoch: 12 loss: 0.0170778031075 测试集准确率： 0.9878\n",
      "Epoch: 13 loss: 0.0167899932866 测试集准确率： 0.9867\n",
      "Epoch: 14 loss: 0.0166926257446 测试集准确率： 0.9848\n",
      "Epoch: 15 loss: 0.0152652165311 测试集准确率： 0.9869\n",
      "Epoch: 16 loss: 0.0141267939965 测试集准确率： 0.9866\n",
      "Epoch: 17 loss: 0.0135176749346 测试集准确率： 0.9884\n",
      "Epoch: 18 loss: 0.0115601562421 测试集准确率： 0.988\n",
      "Epoch: 19 loss: 0.0106408008582 测试集准确率： 0.9867\n"
     ]
    }
   ],
   "source": [
    "with tf.Session() as sess:\n",
    "    tf.global_variables_initializer().run()\n",
    "    for epoch in range(20):\n",
    "        num=int(mnist.train.num_examples/batch_size)\n",
    "        avg_loss=0\n",
    "        for i in range(num):\n",
    "            batch_xs,batch_ys=mnist.train.next_batch(batch_size)\n",
    "            _,l=sess.run([optm,cost],feed_dict={X:batch_xs,Y:batch_ys})\n",
    "            avg_loss+=l/num\n",
    "        \n",
    "        #corr1=tf.equal(tf.argmax(pred,1),tf.argmax(Y,1))\n",
    "        #arrc1=tf.reduce_mean(tf.ca st(corr1,tf.float32))\n",
    "        \n",
    "        corr2=tf.equal(tf.argmax(pred,1),tf.argmax(Y,1))\n",
    "        arrc2=tf.reduce_mean(tf.cast(corr2,tf.float32))\n",
    "        print(\"Epoch:\",epoch,\"loss:\",avg_loss,\"测试集准确率：\",arrc2.eval({X:mnist.test.images,Y:mnist.test.labels}))\n",
    "       "
   ]
  },
  {
   "cell_type": "code",
   "execution_count": null,
   "metadata": {
    "collapsed": true
   },
   "outputs": [],
   "source": []
  }
 ],
 "metadata": {
  "kernelspec": {
   "display_name": "Python 3",
   "language": "python",
   "name": "python3"
  },
  "language_info": {
   "codemirror_mode": {
    "name": "ipython",
    "version": 3
   },
   "file_extension": ".py",
   "mimetype": "text/x-python",
   "name": "python",
   "nbconvert_exporter": "python",
   "pygments_lexer": "ipython3",
   "version": "3.6.0"
  }
 },
 "nbformat": 4,
 "nbformat_minor": 2
}
