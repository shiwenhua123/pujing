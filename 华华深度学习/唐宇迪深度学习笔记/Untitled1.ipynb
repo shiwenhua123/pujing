{
 "cells": [
  {
   "cell_type": "code",
   "execution_count": 3,
   "metadata": {
    "collapsed": false
   },
   "outputs": [
    {
     "name": "stdout",
     "output_type": "stream",
     "text": [
      "[[ 2.]]\n"
     ]
    }
   ],
   "source": [
    "import tensorflow as tf\n",
    "w=tf.Variable([[0.5,1.0]])\n",
    "x=tf.Variable([[2.0],[1.0]])\n",
    "y=tf.matmul(w,x)\n",
    "with  tf.Session() as sess:\n",
    "    tf.global_variables_initializer().run()\n",
    "    print(sess.run(y))"
   ]
  },
  {
   "cell_type": "code",
   "execution_count": 4,
   "metadata": {
    "collapsed": false
   },
   "outputs": [
    {
     "data": {
      "text/plain": [
       "<tf.Tensor 'zeros:0' shape=(3, 4) dtype=int32>"
      ]
     },
     "execution_count": 4,
     "metadata": {},
     "output_type": "execute_result"
    }
   ],
   "source": [
    "tf.zeros([3,4],tf.int32)"
   ]
  },
  {
   "cell_type": "code",
   "execution_count": 6,
   "metadata": {
    "collapsed": false
   },
   "outputs": [
    {
     "name": "stdout",
     "output_type": "stream",
     "text": [
      "[[ 2.30889344 -5.7253809   0.6952318 ]\n",
      " [-5.68134594 -3.483711    3.61872196]]\n",
      "[[3 4]\n",
      " [1 2]\n",
      " [5 6]]\n"
     ]
    }
   ],
   "source": [
    "#建议大家用float32为主，无论是GPU还是CPU，都支持，不用它的话可能出现莫名其妙的错误\n",
    "norm=tf.random_normal([2,3],mean=-1,stddev=4)\n",
    "c=tf.constant([[1,2],[3,4],[5,6]])\n",
    "\n",
    "shuff=tf.random_shuffle(c)\n",
    "with tf.Session() as sess:\n",
    "    tf.global_variables_initializer().run()\n",
    "    print(sess.run(norm))\n",
    "    print(sess.run(shuff))"
   ]
  },
  {
   "cell_type": "code",
   "execution_count": 7,
   "metadata": {
    "collapsed": false
   },
   "outputs": [
    {
     "name": "stdout",
     "output_type": "stream",
     "text": [
      "<tf.Variable 'Variable_4:0' shape=() dtype=int32_ref>\n",
      "1\n",
      "2\n",
      "3\n"
     ]
    }
   ],
   "source": [
    "state=tf.Variable(0)\n",
    "new_value=tf.add(state,tf.constant(1))\n",
    "update=tf.assign(state,new_value)\n",
    "with tf.Session() as sess:\n",
    "    tf.global_variables_initializer().run()\n",
    "    print(state)\n",
    "    for _ in range(3):\n",
    "        sess.run(update)\n",
    "        print(sess.run(state))"
   ]
  },
  {
   "cell_type": "code",
   "execution_count": 9,
   "metadata": {
    "collapsed": false
   },
   "outputs": [
    {
     "name": "stdout",
     "output_type": "stream",
     "text": [
      "Model saved in file: F:\\hua\\test\n"
     ]
    }
   ],
   "source": [
    "w=tf.Variable([[0.5,1.0]])\n",
    "x=tf.Variable([[2.0],[1.0]])\n",
    "y=tf.matmul(w,x)\n",
    "saver=tf.train.Saver()\n",
    "with tf.Session() as sess:\n",
    "    tf.global_variables_initializer().run()\n",
    "    saver_path=saver.save(sess,\"F:\\\\hua\\\\test\")\n",
    "    print(\"Model saved in file:\",saver_path)"
   ]
  },
  {
   "cell_type": "code",
   "execution_count": 10,
   "metadata": {
    "collapsed": false
   },
   "outputs": [
    {
     "name": "stdout",
     "output_type": "stream",
     "text": [
      "[[ 0.  0.  0.]\n",
      " [ 0.  0.  0.]\n",
      " [ 0.  0.  0.]]\n"
     ]
    }
   ],
   "source": [
    "#tensorflow可以把numpy的格式转换成tensorflow\n",
    "import numpy as np\n",
    "a=np.zeros((3,3))\n",
    "ta=tf.convert_to_tensor(a)\n",
    "with tf.Session() as sess:\n",
    "    print(sess.run(ta))"
   ]
  },
  {
   "cell_type": "code",
   "execution_count": 12,
   "metadata": {
    "collapsed": false
   },
   "outputs": [
    {
     "name": "stdout",
     "output_type": "stream",
     "text": [
      "[array([ 14.], dtype=float32)]\n"
     ]
    }
   ],
   "source": [
    "input1=tf.placeholder(tf.float32)\n",
    "input2=tf.placeholder(tf.float32)\n",
    "input=tf.multiply(input1,input2)\n",
    "with tf.Session() as sess:\n",
    "    print(sess.run([input],feed_dict={input1:[7.0],input2:[2.0]}))\n",
    "    "
   ]
  },
  {
   "cell_type": "code",
   "execution_count": 14,
   "metadata": {
    "collapsed": false
   },
   "outputs": [
    {
     "data": {
      "image/png": "[encoded data removed]",
      "text/plain": [
       "<matplotlib.figure.Figure at 0x388da4ffd0>"
      ]
     },
     "metadata": {},
     "output_type": "display_data"
    }
   ],
   "source": [
    "import numpy as np\n",
    "import tensorflow as tf\n",
    "import matplotlib.pyplot as plt\n",
    "num_points=1000\n",
    "vactors=[]\n",
    "for i in range(num_points):\n",
    "    x1=np.random.normal(0.0,0.55)\n",
    "    y1=x1*0.1+0.3+np.random.normal(0.0,0.03)\n",
    "    vactors.append([x1,y1])\n",
    "#生成一些样本\n",
    "x_data=[v[0] for v in vactors]\n",
    "y_data=[v[1] for v in vactors]\n",
    "plt.scatter(x_data,y_data,c='r')\n",
    "plt.show()"
   ]
  },
  {
   "cell_type": "code",
   "execution_count": 37,
   "metadata": {
    "collapsed": false
   },
   "outputs": [
    {
     "name": "stdout",
     "output_type": "stream",
     "text": [
      "W= [ 1.12544405] b= [ 0.01] loss= 0.426121\n",
      "W= [ 0.34774226] b= [ 0.30078006] loss= 0.0203632\n",
      "W= [ 0.1208424] b= [ 0.29932189] loss= 0.000990399\n",
      "W= [ 0.10016818] b= [ 0.29899737] loss= 0.000845763\n",
      "W= [ 0.0997403] b= [ 0.29899085] loss= 0.000845702\n",
      "W= [ 0.09974119] b= [ 0.29899085] loss= 0.000845702\n",
      "W= [ 0.09974119] b= [ 0.29899085] loss= 0.000845702\n",
      "W= [ 0.09974119] b= [ 0.29899085] loss= 0.000845702\n",
      "W= [ 0.09974119] b= [ 0.29899082] loss= 0.000845702\n",
      "W= [ 0.09974119] b= [ 0.29899082] loss= 0.000845702\n"
     ]
    },
    {
     "data": {
      "image/png": "[encoded data removed]",
      "text/plain": [
       "<matplotlib.figure.Figure at 0x388d5f2cf8>"
      ]
     },
     "metadata": {},
     "output_type": "display_data"
    }
   ],
   "source": [
    "W=tf.Variable(tf.random_normal(shape=[1]),name='w')\n",
    "b=tf.Variable(tf.zeros([1]),name='b')\n",
    "y_=tf.add(tf.multiply(W,x_data),b)\n",
    "loss=tf.reduce_mean(tf.square(y_-y_data),name='loss')\n",
    "optimizer=tf.train.AdamOptimizer(0.01).minimize(loss)\n",
    "with tf.Session() as sess:\n",
    "    tf.global_variables_initializer().run()\n",
    "    for i in range(1000):\n",
    "        _,losses=sess.run([optimizer,loss])\n",
    "        if(i%100==0):\n",
    "            print(\"W=\",sess.run(W),\"b=\",sess.run(b),\"loss=\",losses)\n",
    "    plt.scatter(x_data,y_data,c='r')\n",
    "    plt.plot(x_data,sess.run(W)*x_data+sess.run(b))\n",
    "    plt.show()  "
   ]
  },
  {
   "cell_type": "code",
   "execution_count": null,
   "metadata": {
    "collapsed": true
   },
   "outputs": [],
   "source": []
  }
 ],
 "metadata": {
  "kernelspec": {
   "display_name": "Python 3",
   "language": "python",
   "name": "python3"
  },
  "language_info": {
   "codemirror_mode": {
    "name": "ipython",
    "version": 3
   },
   "file_extension": ".py",
   "mimetype": "text/x-python",
   "name": "python",
   "nbconvert_exporter": "python",
   "pygments_lexer": "ipython3",
   "version": "3.6.0"
  }
 },
 "nbformat": 4,
 "nbformat_minor": 2
}
