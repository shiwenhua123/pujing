{
 "cells": [
  {
   "cell_type": "code",
   "execution_count": 56,
   "metadata": {
    "collapsed": false
   },
   "outputs": [
    {
     "name": "stdout",
     "output_type": "stream",
     "text": [
      "Extracting /tmp/data/train-images-idx3-ubyte.gz\n",
      "Extracting /tmp/data/train-labels-idx1-ubyte.gz\n",
      "Extracting /tmp/data/t10k-images-idx3-ubyte.gz\n",
      "Extracting /tmp/data/t10k-labels-idx1-ubyte.gz\n"
     ]
    }
   ],
   "source": [
    "import numpy as np\n",
    "import tensorflow as tf\n",
    "from tensorflow.examples.tutorials.mnist import input_data\n",
    "mnist=input_data.read_data_sets('/tmp/data/',one_hot=True)"
   ]
  },
  {
   "cell_type": "code",
   "execution_count": 58,
   "metadata": {
    "collapsed": false
   },
   "outputs": [],
   "source": [
    "X=tf.placeholder(tf.float32,shape=[None,784],name='X_input')\n",
    "Y=tf.placeholder(tf.float32,shape=[None,10],name='Y_input')"
   ]
  },
  {
   "cell_type": "code",
   "execution_count": 59,
   "metadata": {
    "collapsed": false
   },
   "outputs": [],
   "source": [
    "n_input=784\n",
    "n_hidden_1=256\n",
    "n_hidden_2=256\n",
    "n_classes=10\n",
    "\n",
    "W1=tf.Variable(tf.random_normal([784,256]),name='W1')\n",
    "b1=tf.Variable(tf.random_normal([n_hidden_1]),name='b1')\n",
    "\n",
    "\n",
    "W2=tf.Variable(tf.random_normal([256,256]),name='W2')\n",
    "b2=tf.Variable(tf.random_normal([n_hidden_2]),name='b2')\n",
    "\n",
    "W3=tf.Variable(tf.random_normal([256,10]),name='W3')\n",
    "b3=tf.Variable(tf.random_normal([n_classes]),name='b3')\n",
    "\n",
    "layer_1=tf.nn.relu(tf.add(tf.matmul(X,W1),b1))\n",
    "layer_2=tf.nn.relu(tf.add(tf.matmul(layer_1,W2),b2))\n",
    "\n",
    "pred=tf.add(tf.matmul(layer_2,W3),b3)"
   ]
  },
  {
   "cell_type": "code",
   "execution_count": 68,
   "metadata": {
    "collapsed": false
   },
   "outputs": [],
   "source": [
    "learning_rate=0.01\n",
    "loss_all=tf.nn.softmax_cross_entropy_with_logits(logits=pred,labels=Y,name='cross_entropy_loss')\n",
    "loss=tf.reduce_mean(loss_all,name='avg_loss')\n",
    "optimizer=tf.train.AdamOptimizer(learning_rate).minimize(loss)"
   ]
  },
  {
   "cell_type": "code",
   "execution_count": 71,
   "metadata": {
    "collapsed": false
   },
   "outputs": [
    {
     "name": "stdout",
     "output_type": "stream",
     "text": [
      "Epochs: 0 loss= 50.3879933802 训练准确率为： 0.936909 测试集准确率： 0.928\n",
      "Epochs: 1 loss= 9.51095211159 训练准确率为： 0.954436 测试集准确率： 0.9375\n",
      "Epochs: 2 loss= 5.52799051546 训练准确率为： 0.968018 测试集准确率： 0.9442\n",
      "Epochs: 3 loss= 3.65050811352 训练准确率为： 0.975418 测试集准确率： 0.9532\n",
      "Epochs: 4 loss= 2.68947137527 训练准确率为： 0.979291 测试集准确率： 0.9557\n",
      "Epochs: 5 loss= 2.05753336534 训练准确率为： 0.980436 测试集准确率： 0.9554\n",
      "Epochs: 6 loss= 2.12336929592 训练准确率为： 0.981109 测试集准确率： 0.9569\n",
      "Epochs: 7 loss= 2.08572052596 训练准确率为： 0.985327 测试集准确率： 0.9608\n",
      "Epochs: 8 loss= 1.68935309489 训练准确率为： 0.983818 测试集准确率： 0.9593\n",
      "Epochs: 9 loss= 1.63841799495 训练准确率为： 0.9802 测试集准确率： 0.9563\n",
      "Epochs: 10 loss= 1.62128998864 训练准确率为： 0.987291 测试集准确率： 0.9649\n",
      "Epochs: 11 loss= 1.50886222417 训练准确率为： 0.987873 测试集准确率： 0.9654\n",
      "Epochs: 12 loss= 1.22675838343 训练准确率为： 0.985182 测试集准确率： 0.9613\n",
      "Epochs: 13 loss= 1.03679004539 训练准确率为： 0.983345 测试集准确率： 0.9581\n",
      "Epochs: 14 loss= 0.92232544597 训练准确率为： 0.987982 测试集准确率： 0.9636\n",
      "Epochs: 15 loss= 1.13131548169 训练准确率为： 0.985545 测试集准确率： 0.9617\n",
      "Epochs: 16 loss= 1.02494025004 训练准确率为： 0.987473 测试集准确率： 0.965\n",
      "Epochs: 17 loss= 0.83248261128 训练准确率为： 0.987927 测试集准确率： 0.9659\n",
      "Epochs: 18 loss= 0.845208401129 训练准确率为： 0.990582 测试集准确率： 0.9687\n",
      "Epochs: 19 loss= 0.759893334365 训练准确率为： 0.989818 测试集准确率： 0.9682\n"
     ]
    }
   ],
   "source": [
    "batch_size=128\n",
    "with tf.Session() as sess:\n",
    "    tf.global_variables_initializer().run()\n",
    "    for epoch in range(20):\n",
    "        avg_loss=0\n",
    "        num=int(mnist.train.num_examples/batch_size)\n",
    "        for i in range(num):       \n",
    "            batch_xs,batch_ys=mnist.train.next_batch(batch_size)\n",
    "            _,l=sess.run([optimizer,loss],feed_dict={X:batch_xs,Y:batch_ys})\n",
    "            #求平均的损失\n",
    "            avg_loss+=l/num\n",
    "            \n",
    "        #print(\"Epochs:\",epoch,\"loss=\",avg_loss)\n",
    "        \n",
    "        correct_prediction=tf.equal(tf.argmax(pred,1),tf.argmax(Y,1))\n",
    "        accuracy=tf.reduce_mean(tf.cast(correct_prediction,tf.float32))\n",
    "        correct_prediction1=tf.equal(tf.argmax(pred,1),tf.argmax(Y,1))\n",
    "        accuracy1=tf.reduce_mean(tf.cast(correct_prediction1,tf.float32))\n",
    "        \n",
    "        print(\"Epochs:\",epoch,\"loss=\",avg_loss,\"训练准确率为：\",accuracy1.eval({X:mnist.train.images,Y:mnist.train.labels}),\"测试集准确率：\",accuracy.eval({X:mnist.test.images,Y:mnist.test.labels}))"
   ]
  },
  {
   "cell_type": "code",
   "execution_count": null,
   "metadata": {
    "collapsed": true
   },
   "outputs": [],
   "source": []
  },
  {
   "cell_type": "code",
   "execution_count": null,
   "metadata": {
    "collapsed": true
   },
   "outputs": [],
   "source": []
  }
 ],
 "metadata": {
  "kernelspec": {
   "display_name": "Python 3",
   "language": "python",
   "name": "python3"
  },
  "language_info": {
   "codemirror_mode": {
    "name": "ipython",
    "version": 3
   },
   "file_extension": ".py",
   "mimetype": "text/x-python",
   "name": "python",
   "nbconvert_exporter": "python",
   "pygments_lexer": "ipython3",
   "version": "3.6.0"
  }
 },
 "nbformat": 4,
 "nbformat_minor": 2
}
