{
 "cells": [
  {
   "cell_type": "code",
   "execution_count": 7,
   "metadata": {
    "collapsed": false
   },
   "outputs": [
    {
     "name": "stdout",
     "output_type": "stream",
     "text": [
      "Extracting /tmp/data/train-images-idx3-ubyte.gz\n",
      "Extracting /tmp/data/train-labels-idx1-ubyte.gz\n",
      "Extracting /tmp/data/t10k-images-idx3-ubyte.gz\n",
      "Extracting /tmp/data/t10k-labels-idx1-ubyte.gz\n"
     ]
    }
   ],
   "source": [
    "import numpy as np\n",
    "import tensorflow as tf\n",
    "from tensorflow.examples.tutorials.mnist import input_data\n",
    "mnist=input_data.read_data_sets(\"/tmp/data/\",one_hot=True)"
   ]
  },
  {
   "cell_type": "code",
   "execution_count": 8,
   "metadata": {
    "collapsed": true
   },
   "outputs": [],
   "source": [
    "n_input=784\n",
    "n_output=10\n",
    "\n",
    "weights={\n",
    "    'wc1':tf.Variable(tf.random_normal([3,3,1,32])),\n",
    "    'wc2':tf.Variable(tf.random_normal([3,3,32,64])),\n",
    "    'wd1':tf.Variable(tf.random_normal([7*7*64,50])),\n",
    "    'wd2':tf.Variable(tf.random_normal([50,n_output]))\n",
    "}\n",
    "biases={\n",
    "    'bc1':tf.Variable(tf.random_normal([32])),\n",
    "    'bc2':tf.Variable(tf.random_normal([64])),\n",
    "    'bd1':tf.Variable(tf.random_normal([50])),\n",
    "    'bd2':tf.Variable(tf.random_normal([n_output]))\n",
    "}"
   ]
  },
  {
   "cell_type": "code",
   "execution_count": 9,
   "metadata": {
    "collapsed": false
   },
   "outputs": [
    {
     "name": "stdout",
     "output_type": "stream",
     "text": [
      "CNN READY!\n"
     ]
    }
   ],
   "source": [
    "def conv_basic(X,W,b,keepratic):\n",
    "    X=tf.reshape(X,shape=[-1,28,28,1])  #-1为让tensorflow自己推段 \n",
    "    conv1=tf.nn.conv2d(X,W['wc1'],strides=[1,1,1,1],padding='SAME') \n",
    "    #strides的四维分别是batch_size,长，宽，深度，一般在长和宽上移动就可以了\n",
    "    conv1=tf.nn.relu(tf.nn.bias_add(conv1,b['bc1']))\n",
    "    \n",
    "    pool1=tf.nn.max_pool(conv1,ksize=[1,2,2,1],strides=[1,2,2,1],padding='SAME')\n",
    "    #pool1_dr1=tf.nn.dropout(pool1,keepratic)#keepratic为dropout的比例\n",
    "    \n",
    "    #ksize选择的windows,有4个维度，分别是batch_size,长，宽，深度\n",
    "    conv2=tf.nn.conv2d(pool1,W['wc2'],strides=[1,1,1,1],padding='SAME')\n",
    "    conv2=tf.nn.relu(tf.nn.bias_add(conv2,b['bc2']))\n",
    "    \n",
    "    pool2=tf.nn.max_pool(conv2,ksize=[1,2,2,1],strides=[1,2,2,1],padding='SAME')\n",
    "    #pool2_dr2=tf.nn.dropout(pool2,keepratic)\n",
    "    \n",
    "    #接下来为全连接层\n",
    "    dense1=tf.reshape(pool2,[-1,W['wd1'].get_shape().as_list()[0]])\n",
    "    fc1=tf.nn.relu(tf.add(tf.matmul(dense1,W['wd1']),b['bd1']))\n",
    "    #fc_dr1=tf.nn.dropout(fc1,keepratic)\n",
    "    \n",
    "    out=tf.add(tf.matmul(fc1,W['wd2']),b['bd2'])\n",
    "    \n",
    "    return out\n",
    "print(\"CNN READY!\")"
   ]
  },
  {
   "cell_type": "code",
   "execution_count": 10,
   "metadata": {
    "collapsed": false
   },
   "outputs": [],
   "source": [
    "X=tf.placeholder(tf.float32,shape=[None,784],name='X_input')\n",
    "Y=tf.placeholder(tf.float32,shape=[None,10],name='Y_input')\n",
    "keepratic=tf.placeholder(tf.float32)\n",
    "\n",
    "pred=conv_basic(X,weights,biases,keepratic)\n",
    "cost=tf.reduce_mean(tf.nn.softmax_cross_entropy_with_logits(logits=pred,labels=Y))\n",
    "optm=tf.train.AdamOptimizer(0.001).minimize(cost)\n",
    "corr=tf.equal(tf.argmax(pred,1),tf.argmax(Y,1))\n",
    "acrr=tf.reduce_mean(tf.cast(corr,tf.float32))"
   ]
  },
  {
   "cell_type": "code",
   "execution_count": 11,
   "metadata": {
    "collapsed": false
   },
   "outputs": [
    {
     "name": "stdout",
     "output_type": "stream",
     "text": [
      "Epoch: 0 loss: 397.105650584 测试集准确率： 0.8417\n",
      "Epoch: 1 loss: 59.9256066987 测试集准确率： 0.8942\n",
      "Epoch: 2 loss: 36.6149689912 测试集准确率： 0.9138\n",
      "Epoch: 3 loss: 25.570972292 测试集准确率： 0.9243\n",
      "Epoch: 4 loss: 19.1384784742 测试集准确率： 0.9319\n",
      "Epoch: 5 loss: 15.0406619302 测试集准确率： 0.9385\n",
      "Epoch: 6 loss: 12.0706775692 测试集准确率： 0.9464\n",
      "Epoch: 7 loss: 10.0569074074 测试集准确率： 0.946\n",
      "Epoch: 8 loss: 8.42617868241 测试集准确率： 0.9524\n",
      "Epoch: 9 loss: 6.92490983698 测试集准确率： 0.9533\n"
     ]
    }
   ],
   "source": [
    "batch_size=128\n",
    "with tf.Session() as sess:\n",
    "    tf.global_variables_initializer().run()\n",
    "    for epoch in range(10):\n",
    "        num=int(mnist.train.num_examples/batch_size)\n",
    "        avg_cost=0\n",
    "        for i in range(num):\n",
    "            batch_xs,batch_ys=mnist.train.next_batch(batch_size)\n",
    "            _,l=sess.run([optm,cost],feed_dict={X:batch_xs,Y:batch_ys,keepratic:0.7})\n",
    "            avg_cost+=l/num\n",
    "        '''corr_train=tf.equal(tf.argmax(pred,1),tf.argmax(Y,1))\n",
    "        acrr_train=tf.reduce_mean(tf.cast(corr_train,tf.float32))\n",
    "        train_acrr=sess.run(acrr_train,feed_dict={X:batch_xs,Y:batch_ys,keepratic:1.0})\n",
    "        '''   \n",
    "        corr_test=tf.equal(tf.argmax(pred,1),tf.argmax(Y,1))\n",
    "        acrr_test=tf.reduce_mean(tf.cast(corr_test,tf.float32))\n",
    "        #test_acrr=sess.run(acrr_test,feed_dict={X:mnist.test.images,Y:mnist.test.labels,keepratic:1.0})\n",
    "        print(\"Epoch:\",epoch,\"loss:\",avg_cost,\"测试集准确率：\",acrr_test.eval({X:mnist.test.images,Y:mnist.test.labels,keepratic:1.0}))"
   ]
  },
  {
   "cell_type": "code",
   "execution_count": null,
   "metadata": {
    "collapsed": true
   },
   "outputs": [],
   "source": []
  },
  {
   "cell_type": "code",
   "execution_count": null,
   "metadata": {
    "collapsed": true
   },
   "outputs": [],
   "source": []
  }
 ],
 "metadata": {
  "kernelspec": {
   "display_name": "Python 3",
   "language": "python",
   "name": "python3"
  },
  "language_info": {
   "codemirror_mode": {
    "name": "ipython",
    "version": 3
   },
   "file_extension": ".py",
   "mimetype": "text/x-python",
   "name": "python",
   "nbconvert_exporter": "python",
   "pygments_lexer": "ipython3",
   "version": "3.6.0"
  }
 },
 "nbformat": 4,
 "nbformat_minor": 2
}
