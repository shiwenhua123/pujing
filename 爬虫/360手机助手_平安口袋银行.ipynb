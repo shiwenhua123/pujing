{
 "cells": [
  {
   "cell_type": "code",
   "execution_count": 1,
   "metadata": {
    "collapsed": false
   },
   "outputs": [
    {
     "name": "stdout",
     "output_type": "stream",
     "text": [
      "加载 300 次加载了 1826 条数据！\n"
     ]
    }
   ],
   "source": [
    "from selenium import webdriver\n",
    "from bs4 import BeautifulSoup\n",
    "import pandas as pd\n",
    "import time\n",
    "import re\n",
    "\n",
    "def get_one_page(counts):#加载页面，counts为点击加载更多评论的次数\n",
    "    driver=webdriver.PhantomJS(executable_path=\"C:\\\\Users\\\\pujing\\\\Anaconda3\\\\phantomjs.exe\")\n",
    "    driver.get(\"http://zhushou.360.cn/detail/index/soft_id/3260425?recrefer=SE_D_%E5%B9%B3%E5%AE%89%E5%8F%A3%E8%A2%8B%E9%93%B6%E8%A1%8C\")\n",
    "\n",
    "    #防止引用太多，不断click，直到参考文献下不存在‘加载更多’\n",
    "    try:\n",
    "        for i in range(0,counts):\n",
    "            # 等待网站加载完成\n",
    "            time.sleep(0.2)\n",
    "            driver.find_elements_by_class_name('icon-1')[0].click()\n",
    "    except:\n",
    "        print('********************************************************')\n",
    "    html=driver.page_source      #获取加载后的网页\n",
    "    return html,counts\n",
    "\n",
    "def parse_one_page_and_write_as_csv(html,counts,file_path):#解析一个页面并保存为csv文件\n",
    "    res_pingfen=[]\n",
    "    res_users=[]\n",
    "    res_comments=[]\n",
    "    res_times=[]\n",
    "    soup=BeautifulSoup(html,'lxml')\n",
    "    comment_lists=soup.find('ul',{'id':'review-panel'}).find_all('li')\n",
    "    print(\"加载\",counts,\"次加载了\",len(comment_lists),'条数据！')\n",
    "\n",
    "\n",
    "    #获取一个页面的用户评分\n",
    "    fen_ls = '<span.*?\"scmt-result\">(.*?)</span>'\n",
    "    fen_pattern = re.compile(fen_ls, re.S)\n",
    "    fen_lists = re.findall(fen_pattern, str(comment_lists))\n",
    "    for li in fen_lists:\n",
    "        #print(li)\n",
    "        res_pingfen.append(li)\n",
    "\n",
    "    #获取一个页面的用户名称\n",
    "    user_ls = '<span.*?\"scmt-usr\">(.*?)</span>'\n",
    "    user_pattern = re.compile(user_ls, re.S)\n",
    "    user_lists = re.findall(user_pattern, str(comment_lists))\n",
    "    for li in user_lists:\n",
    "        #print(li)\n",
    "        res_users.append(li)\n",
    "\n",
    "    #获取一个页面的用户评论\n",
    "    pinglun_ls = '<span.*?\"scmt-usr\">.*?</span>.*?<span.*?\"word-break:break-all;\">(.*?)</span>'\n",
    "    pinglun_pattern = re.compile(pinglun_ls, re.S)\n",
    "    pinglun_lists = re.findall(pinglun_pattern, str(comment_lists))\n",
    "    for li in pinglun_lists:\n",
    "        #print(li)\n",
    "        res_comments.append(li)\n",
    "\n",
    "    #获取一个页面的评论时间\n",
    "    time_ls = '<p.*?\"last\">(.*?)</p>'\n",
    "    time_pattern = re.compile(time_ls, re.S)\n",
    "    time_lists = re.findall(time_pattern, str(comment_lists))\n",
    "    for li in time_lists:\n",
    "        #print(li)\n",
    "        res_times.append(li)\n",
    "        \n",
    "    data=[res_users,res_pingfen,res_times,res_comments]\n",
    "    result=pd.DataFrame(data)\n",
    "    result=result.T\n",
    "    result.columns=['用户名称','评分','时间','评论']\n",
    "    result.to_csv(file_path+'360手机助手_平安口袋银行.csv')\n",
    "\n",
    "def phone_helper_360(file_path):\n",
    "    html,counts=get_one_page(300)\n",
    "    parse_one_page_and_write_as_csv(html,counts,file_path)\n",
    "        \n",
    "if __name__=='__main__':\n",
    "    file_path='C:\\\\Users\\\\pujing\\\\Desktop\\\\长亮科技\\\\'\n",
    "    phone_helper_360(file_path)"
   ]
  },
  {
   "cell_type": "code",
   "execution_count": null,
   "metadata": {
    "collapsed": true
   },
   "outputs": [],
   "source": []
  }
 ],
 "metadata": {
  "kernelspec": {
   "display_name": "Python 3",
   "language": "python",
   "name": "python3"
  },
  "language_info": {
   "codemirror_mode": {
    "name": "ipython",
    "version": 3
   },
   "file_extension": ".py",
   "mimetype": "text/x-python",
   "name": "python",
   "nbconvert_exporter": "python",
   "pygments_lexer": "ipython3",
   "version": "3.6.0"
  }
 },
 "nbformat": 4,
 "nbformat_minor": 2
}
