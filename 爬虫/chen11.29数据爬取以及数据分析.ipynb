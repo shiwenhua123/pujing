{
 "cells": [
  {
   "cell_type": "markdown",
   "metadata": {},
   "source": [
    "## cx网站练习数据爬取"
   ]
  },
  {
   "cell_type": "code",
   "execution_count": null,
   "metadata": {
    "collapsed": true
   },
   "outputs": [],
   "source": [
    "import requests\n",
    "import json\n",
    "import time \n",
    "import pandas as pd\n",
    "from bs4 import BeautifulSoup\n",
    "\n",
    "from multiprocessing import Pool\n",
    "from multiprocessing.dummy import Pool as ThreadPool\n",
    "from requests.exceptions import RequestException\n",
    "import re\n",
    "import pandas as pd\n",
    "\n",
    "def get_one_page(url):\n",
    "    headers = {\n",
    "        \"User-Agent\":\"Mozilla/5.0 (Windows NT 10.0; Win64; x64) AppleWebKit/537.36 (KHTML, like Gecko) Chrome/61.0.3135.4 Safari/537.36\"\n",
    "    }\n",
    "    try:\n",
    "        response=requests.get(url,headers=headers)\n",
    "        if(response.status_code==200):\n",
    "            response.encoding='utf-8'\n",
    "            return response.text\n",
    "        return None\n",
    "    except RequestException:\n",
    "        print(\"error\")\n",
    "        return None \n",
    "\n",
    "def get_next_url(url):\n",
    "    html=get_one_page(url)\n",
    "    soup=BeautifulSoup(html,'lxml')\n",
    "    try:\n",
    "        next_page=soup.select('a[href]')\n",
    "        next_url=next_page[51]['href']\n",
    "        next_url='http://cxmooc.hustoj.com/'+next_url\n",
    "        return next_url\n",
    "    except:\n",
    "        return None\n",
    "\n",
    "def parse_one_page_and_write_as_csv(file_path,counts):\n",
    "    run_numbers=[]\n",
    "    users=[]\n",
    "    questions=[]\n",
    "    results=[]\n",
    "    memorys=[]\n",
    "    time_consuming=[]\n",
    "    language=[]\n",
    "    code_length=[]\n",
    "    submit_time=[]\n",
    "    question_machine=[]\n",
    "    url='http://cxmooc.hustoj.com/status.php?'\n",
    "    for i in range(counts):\n",
    "        html=get_one_page(url)\n",
    "        url=get_next_url(url)\n",
    "        if(url==None):\n",
    "            break\n",
    "        soup=BeautifulSoup(html,'lxml')\n",
    "        comment_lists=soup.find('tbody')\n",
    "        trs=comment_lists.select('tr')\n",
    "\n",
    "        for tr in trs:\n",
    "            td=tr.select('td')\n",
    "            run_numbers.append(td[0].get_text())\n",
    "            users.append(td[1].get_text())\n",
    "            questions.append(td[2].get_text())\n",
    "            results.append(td[3].get_text())\n",
    "            memorys.append(td[4].get_text())\n",
    "            time_consuming.append(td[5].get_text())\n",
    "            language.append(td[6].get_text())\n",
    "            code_length.append(td[7].get_text())\n",
    "            submit_time.append(td[8].get_text())\n",
    "            question_machine.append(td[9].get_text())\n",
    "\n",
    "    data=[run_numbers,users,questions,results,memorys,time_consuming,language,code_length,submit_time,question_machine]\n",
    "    result=pd.DataFrame(data)\n",
    "    result=result.T\n",
    "    result.columns=['运行编号','用户','问题','结果','内存','耗时','语言','代码长度','提交时间','判题机']\n",
    "    result.to_excel(file_path)\n",
    "    \n",
    "\n",
    "def main(file_path,counts):\n",
    "    parse_one_page_and_write_as_csv(file_path,counts)\n",
    "        \n",
    "if __name__=='__main__':\n",
    "    file_path='F:\\hua\\mo\\陈老师.xlsx'\n",
    "    main(file_path,3000)"
   ]
  },
  {
   "cell_type": "markdown",
   "metadata": {},
   "source": [
    "## 进行数据分析"
   ]
  },
  {
   "cell_type": "code",
   "execution_count": 1,
   "metadata": {
    "collapsed": true
   },
   "outputs": [],
   "source": [
    "import pandas as pd\n",
    "data=pd.read_excel('F:\\hua\\mo\\陈老师.xlsx')\n",
    "data=data[(data['语言']=='C') | (data['语言']=='C++')]#保留c跟c++类型的数据\n",
    "data=data.loc[:,['运行编号','用户','问题','结果','代码长度','提交时间']]\n",
    "data=data[data['运行编号']>=91688]\n",
    "data['代码长度']=data['代码长度'].apply(lambda x:x[:(len(x)-2)])#去除代码长度的单位B"
   ]
  },
  {
   "cell_type": "code",
   "execution_count": 2,
   "metadata": {
    "collapsed": false
   },
   "outputs": [],
   "source": [
    "def student(data):\n",
    "    users=data['用户'].unique()\n",
    "    users_bili=[]\n",
    "    for user in users:\n",
    "        data_user=data[data['用户']==user]\n",
    "        data_user=data_user[data_user['结果']=='正确']#保留结果为正确的题目来分析\n",
    "        data_user=data_user.drop_duplicates(['问题'])#将问题去重\n",
    "        daima_range=data_user['代码长度'].unique()\n",
    "        result= data_user.groupby([data_user['代码长度']])['问题'].count()\n",
    "        if(result[result>1].sum()==0 & result.sum()==0):\n",
    "            bili==0\n",
    "        else:\n",
    "            bili=result[result>1].sum()/result.sum()\n",
    "        users_bili.append(bili)\n",
    "    data_reault=pd.DataFrame(users_bili,users)\n",
    "    data_reault.to_csv('F:\\hua\\mo\\data_reault.csv',encoding='utf-8')\n",
    "    data_reault=pd.read_csv('F:\\hua\\mo\\data_reault.csv')\n",
    "    data_reault.columns=['用户','比例']\n",
    "    data_reault=data_reault.sort_values(['比例'],ascending=False)\n",
    "    data_reault.to_excel('F:\\hua\\mo\\data_reault.xlsx')\n",
    "\n",
    "student(data)"
   ]
  },
  {
   "cell_type": "code",
   "execution_count": 3,
   "metadata": {
    "collapsed": false
   },
   "outputs": [
    {
     "name": "stderr",
     "output_type": "stream",
     "text": [
      "C:\\Users\\pujing\\Anaconda3\\lib\\site-packages\\ipykernel\\__main__.py:11: SettingWithCopyWarning: \n",
      "A value is trying to be set on a copy of a slice from a DataFrame.\n",
      "Try using .loc[row_indexer,col_indexer] = value instead\n",
      "\n",
      "See the caveats in the documentation: http://pandas.pydata.org/pandas-docs/stable/indexing.html#indexing-view-versus-copy\n"
     ]
    }
   ],
   "source": [
    "def time_jiange(data):\n",
    "    data['提交时间']=data['提交时间'].apply(lambda x : x[:10])\n",
    "    users=data['用户'].unique()\n",
    "    users_id=[]\n",
    "    usesr_count=[]\n",
    "    zong=[]\n",
    "    zuida=[]\n",
    "    for user in users: \n",
    "        users_id.append(user)\n",
    "        data_user=data[data['用户']==user]\n",
    "        data_user['提交时间'] = pd.to_datetime(data_user['提交时间'])\n",
    "        c=data_user['提交时间']\n",
    "        jiantian=pd.Series('2017-11-27 00:00:00')\n",
    "        c=jiantian.append(c)\n",
    "        zong.append(len(c))\n",
    "        c=c.drop_duplicates()\n",
    "        jiange=[]\n",
    "        for i in range(len(c)-1):\n",
    "            a=pd.to_datetime(c.iloc[i])-pd.to_datetime(c.iloc[i+1])\n",
    "            b=int(a.total_seconds()/(60*60*24))\n",
    "            jiange.append(b)\n",
    "        count=0\n",
    "        da=max(jiange)\n",
    "        zuida.append(da)\n",
    "        for i in jiange:\n",
    "            if(i>=3):\n",
    "                count+=1\n",
    "        usesr_count.append(count)\n",
    "    result=pd.DataFrame([users_id,usesr_count,zong,zuida])\n",
    "    result=result.T\n",
    "    result.columns=['用户','间隔3天及其3天以上的次数','总提交次数','最大时间间隔']\n",
    "    result=result.sort_values(['间隔3天及其3天以上的次数'],ascending=False)\n",
    "    result.to_excel('F:\\\\hua\\\\mo\\\\result.xlsx')\n",
    "time_jiange(data)"
   ]
  },
  {
   "cell_type": "code",
   "execution_count": 10,
   "metadata": {
    "collapsed": false
   },
   "outputs": [],
   "source": []
  },
  {
   "cell_type": "code",
   "execution_count": 45,
   "metadata": {
    "collapsed": false
   },
   "outputs": [],
   "source": []
  },
  {
   "cell_type": "code",
   "execution_count": 46,
   "metadata": {
    "collapsed": false
   },
   "outputs": [],
   "source": []
  },
  {
   "cell_type": "code",
   "execution_count": 51,
   "metadata": {
    "collapsed": false
   },
   "outputs": [],
   "source": []
  },
  {
   "cell_type": "code",
   "execution_count": 53,
   "metadata": {
    "collapsed": false
   },
   "outputs": [],
   "source": []
  },
  {
   "cell_type": "code",
   "execution_count": null,
   "metadata": {
    "collapsed": true
   },
   "outputs": [],
   "source": []
  }
 ],
 "metadata": {
  "kernelspec": {
   "display_name": "Python 3",
   "language": "python",
   "name": "python3"
  },
  "language_info": {
   "codemirror_mode": {
    "name": "ipython",
    "version": 3
   },
   "file_extension": ".py",
   "mimetype": "text/x-python",
   "name": "python",
   "nbconvert_exporter": "python",
   "pygments_lexer": "ipython3",
   "version": "3.6.0"
  }
 },
 "nbformat": 4,
 "nbformat_minor": 2
}
