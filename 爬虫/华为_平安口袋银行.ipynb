{
 "cells": [
  {
   "cell_type": "code",
   "execution_count": 4,
   "metadata": {
    "collapsed": false
   },
   "outputs": [
    {
     "name": "stdout",
     "output_type": "stream",
     "text": [
      "<class 'pandas.core.frame.DataFrame'>\n",
      "RangeIndex: 440 entries, 0 to 439\n",
      "Data columns (total 4 columns):\n",
      "0    440 non-null object\n",
      "1    440 non-null object\n",
      "2    440 non-null object\n",
      "3    440 non-null object\n",
      "dtypes: object(4)\n",
      "memory usage: 13.8+ KB\n",
      "爬取成功！\n"
     ]
    }
   ],
   "source": [
    "import requests\n",
    "import json\n",
    "import time \n",
    "import pandas as pd\n",
    "from bs4 import BeautifulSoup\n",
    "\n",
    "from multiprocessing import Pool\n",
    "from multiprocessing.dummy import Pool as ThreadPool\n",
    "from requests.exceptions import RequestException\n",
    "import re\n",
    "import pandas as pd\n",
    "\n",
    "def get_one_page(url):\n",
    "    headers = {\n",
    "        \"User-Agent\":\"Mozilla/5.0 (Windows NT 10.0; Win64; x64) AppleWebKit/537.36 (KHTML, like Gecko) Chrome/61.0.3135.4 Safari/537.36\"\n",
    "    }\n",
    "    try:\n",
    "        response=requests.get(url,headers=headers)\n",
    "        if(response.status_code==200):\n",
    "            response.encoding='utf-8'\n",
    "            return response.text\n",
    "        return None\n",
    "    except RequestException:\n",
    "        print(\"error\")\n",
    "        return None \n",
    "    \n",
    "def parse_one_page(html):\n",
    "    soup=BeautifulSoup(html,'lxml')\n",
    "    comment_lists=soup.find_all('div','comment')\n",
    "    comment_lists\n",
    "\n",
    "\n",
    "    #获取一个页面的用户名\n",
    "    user_ls='p class=\"sub\">.*?<span class=\".*?\">.*?<em></em>.*?</span>.*?<span>(.*?)</span>.*?'\n",
    "    #user_ls = 'p class=\"sub\">.*?<span class=\".*?\">.*?</span>.*?<span>(.*?)</span>.*?'\n",
    "    user_pattern = re.compile(user_ls, re.S)\n",
    "    user_lists = re.findall(user_pattern, str(comment_lists))\n",
    "    for li in user_lists:\n",
    "        #print(li)\n",
    "        res_users.append(li)\n",
    "\n",
    "    #获取一个页面的评分\n",
    "    fen_ls = 'p class=\"sub\">.*?<span class=\"(.*?)\">.*?'\n",
    "    fen_pattern = re.compile(fen_ls, re.S)\n",
    "    fen_lists = re.findall(fen_pattern, str(comment_lists))\n",
    "    for li in fen_lists:\n",
    "        #print(li)\n",
    "        res_pingfen.append(li)\n",
    "    #获取一个页面的时间\n",
    "    shijians=soup.select('.comment .frt')\n",
    "    \n",
    "    for li in shijians:\n",
    "        #print(li.get_text())\n",
    "        res_times.append(li.get_text())\n",
    "    #获取一个页面的评论\n",
    "    pingluns=soup.select('.comment .content')\n",
    "    for li in pingluns:\n",
    "        #print(li.get_text())\n",
    "        res_comtents.append(li.get_text())\n",
    "        \n",
    "def pachong(offset):\n",
    "    url = 'http://app.hicloud.com/comment/commentAction.action?&appId=C10465259&appName=%E5%B9%B3%E5%AE%89%E5%8F%A3%E8%A2%8B%E9%93%B6%E8%A1%8C&rating=0&_page='+str(offset)\n",
    "    html = get_one_page(url)\n",
    "    parse_one_page(html)\n",
    "\n",
    "def Huawei_application_market(file_path):\n",
    "    start_time = time.time() \n",
    "    pool = ThreadPool(5)\n",
    "    pool.map(pachong,[i for i in range(1,87)])\n",
    "    pool.close()\n",
    "    pool.join()\n",
    "    data=[res_users,res_pingfen,res_times,res_comtents]\n",
    "    result=pd.DataFrame(data)\n",
    "    result=result.T\n",
    "    result.info()\n",
    "    result.columns=['用户名称','评分','时间','评论']\n",
    "    result.to_csv(file_path+'华为_平安口袋银行.csv')\n",
    "    print(\"爬取成功！\")\n",
    "    \n",
    "    \n",
    "if __name__ == '__main__':\n",
    "    res_users=[]\n",
    "    res_pingfen=[]\n",
    "    res_times=[]\n",
    "    res_comtents=[]\n",
    "    file_path='C:\\\\Users\\\\pujing\\\\Desktop\\\\长亮科技\\\\'\n",
    "    Huawei_application_market(file_path)"
   ]
  },
  {
   "cell_type": "code",
   "execution_count": null,
   "metadata": {
    "collapsed": true
   },
   "outputs": [],
   "source": []
  }
 ],
 "metadata": {
  "kernelspec": {
   "display_name": "Python 3",
   "language": "python",
   "name": "python3"
  },
  "language_info": {
   "codemirror_mode": {
    "name": "ipython",
    "version": 3
   },
   "file_extension": ".py",
   "mimetype": "text/x-python",
   "name": "python",
   "nbconvert_exporter": "python",
   "pygments_lexer": "ipython3",
   "version": "3.6.0"
  }
 },
 "nbformat": 4,
 "nbformat_minor": 2
}
