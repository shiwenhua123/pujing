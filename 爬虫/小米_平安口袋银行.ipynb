{
 "cells": [
  {
   "cell_type": "code",
   "execution_count": 24,
   "metadata": {
    "collapsed": false
   },
   "outputs": [
    {
     "name": "stdout",
     "output_type": "stream",
     "text": [
      "爬取完成！\n"
     ]
    }
   ],
   "source": [
    "import requests\n",
    "import time \n",
    "from bs4 import BeautifulSoup\n",
    "\n",
    "from multiprocessing import Pool\n",
    "from multiprocessing.dummy import Pool as ThreadPool\n",
    "from requests.exceptions import RequestException\n",
    "import re\n",
    "import pandas as pd\n",
    "res_users=[]\n",
    "res_pingfen=[]\n",
    "res_times=[]\n",
    "res_comments=[]\n",
    "\n",
    "def get_one_page(url):\n",
    "    headers = {\n",
    "        \"User-Agent\":\"Mozilla/5.0 (Windows NT 10.0; Win64; x64) AppleWebKit/537.36 (KHTML, like Gecko) Chrome/61.0.3135.4 Safari/537.36\"\n",
    "    }\n",
    "    try:\n",
    "        response=requests.get(url,headers=headers)\n",
    "        if(response.status_code==200):\n",
    "            response.encoding='utf-8'\n",
    "            return response.text\n",
    "        return None\n",
    "    except RequestException:\n",
    "        print(\"error\")\n",
    "        return None \n",
    "\n",
    "def parse_one_page(html):\n",
    "    soup=BeautifulSoup(html,'lxml')\n",
    "    comment_lists=soup.text\n",
    "    \n",
    "    #获取一个页面的用户名\n",
    "    user_ls='\"nickname\":\"(.*?)\"'\n",
    "    user_pattern = re.compile(user_ls, re.S)\n",
    "    user_lists = re.findall(user_pattern, str(comment_lists))\n",
    "    for li in user_lists:\n",
    "        #print(li)\n",
    "        res_users.append(li)\n",
    "     \n",
    "    #获取一个页面的评分\n",
    "    fen_ls = '\"pointValue\":(\\d)'\n",
    "    fen_pattern = re.compile(fen_ls, re.S)\n",
    "    fen_lists = re.findall(fen_pattern, str(comment_lists))\n",
    "    for li in fen_lists:\n",
    "        #print(li)\n",
    "        res_pingfen.append(li)\n",
    "        \n",
    "    #获取一个页面的时间\"\n",
    "    shijian_ls = '\"updateTime\":(\\d+)'\n",
    "    shijian_pattern = re.compile(shijian_ls, re.S)\n",
    "    shijian_lists = re.findall(shijian_pattern, str(comment_lists))\n",
    "    for li in shijian_lists:\n",
    "        #print(li)\n",
    "        res_times.append(li)\n",
    "    \n",
    "    #获取一个页面的评论\"\n",
    "    pinglun_ls = '\"commentValue\":\"(.*?)\"'\n",
    "    pinglun_pattern = re.compile(pinglun_ls, re.S)\n",
    "    pinglun_lists = re.findall(pinglun_pattern, str(comment_lists))\n",
    "    for li in pinglun_lists:\n",
    "        #print(li)\n",
    "        res_comments.append(li)\n",
    "\n",
    "def pachong(offset):\n",
    "    url='https://app.market.xiaomi.com/apm/comment/list/428633?clientId=5e7b8d12c7cfd03253f6213f9430d040&co=CN&densityScaleFactor=3.0&deviceType=0&imei=c689938c2cb64ead30ce1ae2c77504de&la=zh&lo=CN&mac=5e7b8d12c7cfd03253f6213f9430d040&marketVersion=1914103&miuiBigVersionCode=5&miuiBigVersionName=V7&model=Mi-4c&os=V7.0.9.0.LXKCNCI&page='+str(offset)+'&pageConfigVersion=171&pageRef=index&resolution=1080*1920&ro=unknown&sdk=22&session=TeIf9malXpbi1TQK&webResVersion=736'\n",
    "    html = get_one_page(url)\n",
    "    parse_one_page(html)\n",
    "\n",
    "def xiaomi(file_path):\n",
    "    start_time = time.time() \n",
    "    pool = ThreadPool(5)\n",
    "    pool.map(pachong,[i for i in range(1,200)])\n",
    "    pool.close()\n",
    "    pool.join()\n",
    "    data=[res_users,res_pingfen,res_times,res_comments]\n",
    "    result=pd.DataFrame(data)\n",
    "    result=result.T\n",
    "    result.columns=['用户名称','评分','时间','评论']\n",
    "    result.to_csv(file_path+'小米_平安口袋银行.csv')   \n",
    "\n",
    "if __name__=='__main__':\n",
    "    file_path='C:\\\\Users\\\\pujing\\\\Desktop\\\\长亮科技\\\\'\n",
    "    xiaomi(file_path)\n",
    "    print(\"爬取完成！\")"
   ]
  },
  {
   "cell_type": "code",
   "execution_count": 10,
   "metadata": {
    "collapsed": true
   },
   "outputs": [],
   "source": []
  }
 ],
 "metadata": {
  "kernelspec": {
   "display_name": "Python 3",
   "language": "python",
   "name": "python3"
  },
  "language_info": {
   "codemirror_mode": {
    "name": "ipython",
    "version": 3
   },
   "file_extension": ".py",
   "mimetype": "text/x-python",
   "name": "python",
   "nbconvert_exporter": "python",
   "pygments_lexer": "ipython3",
   "version": "3.6.0"
  }
 },
 "nbformat": 4,
 "nbformat_minor": 2
}
