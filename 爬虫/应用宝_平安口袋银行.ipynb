{
 "cells": [
  {
   "cell_type": "code",
   "execution_count": 10,
   "metadata": {
    "collapsed": false
   },
   "outputs": [
    {
     "name": "stdout",
     "output_type": "stream",
     "text": [
      "爬取的数据条数为： 1450\n",
      "运行完毕！\n"
     ]
    }
   ],
   "source": [
    "from selenium import webdriver\n",
    "from bs4 import BeautifulSoup\n",
    "import pandas as pd\n",
    "import time\n",
    "import re\n",
    "\n",
    "def get_parse_write(file_path):#加载页面，counts为点击加载更多评论的次数\n",
    "    driver=webdriver.PhantomJS(executable_path=\"C:\\\\Users\\\\pujing\\\\Anaconda3\\\\phantomjs.exe\")\n",
    "    driver.get(\"http://sj.qq.com/myapp/detail.htm?apkName=com.pingan.paces.ccms\")\n",
    "\n",
    "    #防止引用太多，不断click，直到参考文献下不存在‘加载更多’\n",
    "    try:\n",
    "        for i in range(0,300):\n",
    "            # 等待网站加载完成\n",
    "            time.sleep(0.2)\n",
    "            driver.find_elements_by_class_name('det-comment-show-more-btn')[0].click()\n",
    "    except:\n",
    "        print('********************************************************')\n",
    "    html=driver.page_source      #获取加载后的网页\n",
    "    soup=BeautifulSoup(html,'lxml')\n",
    "    comment_lists=soup.find('ul',{'id':'J_DetShowCommentList'}).find_all('li')\n",
    "    print(\"爬取的数据条数为：\",len(comment_lists))\n",
    "    \n",
    "    res_pingfen=[]\n",
    "    res_users=[]\n",
    "    res_comments=[]\n",
    "    res_times=[]\n",
    "\n",
    "    #获取一个页面的用户评分\n",
    "    fen_ls = '<div.*?\"det-comment-info\">.*?<div.*?\"comment-name-line\">.*?<div.*?\"comment-name\">.*?</div>.*?<div class=\"(.*?)\"></div>.*?<div.*?\"comment-date\">.*?</div>.*?<div.*?\"clear\"></div>.*?</div>.*?<div.*?\"comment-datatext\">.*?</div>.*?</div>'\n",
    "    \n",
    "    fen_pattern = re.compile(fen_ls, re.S)\n",
    "    fen_lists= re.findall(fen_pattern, str(comment_lists))\n",
    "    for li in fen_lists:\n",
    "        #print(li)\n",
    "        res_pingfen.append(li)\n",
    "    \n",
    "    #获取一个页面的用户名称\n",
    "    user_ls = '<div.*?\"det-comment-info\">.*?<div.*?\"comment-name-line\">.*?<div.*?\"comment-name\">(.*?)</div>'\n",
    "    user_pattern = re.compile(user_ls, re.S)\n",
    "    user_lists = re.findall(user_pattern, str(comment_lists))\n",
    "    for li in user_lists:\n",
    "        #print(li)\n",
    "        res_users.append(li)\n",
    "        \n",
    "    #获取一个页面的用户评论\n",
    "    pinglun_ls = '<div.*?\"comment-datatext\">(.*?)</div>'\n",
    "    #pinglun_ls = '<span.*?\"scmt-usr\">.*?</span>.*?<span.*?\"word-break:break-all;\">(.*?)</span>'\n",
    "    pinglun_pattern = re.compile(pinglun_ls, re.S)\n",
    "    pinglun_lists = re.findall(pinglun_pattern, str(comment_lists))\n",
    "    for li in pinglun_lists:\n",
    "        #print(li)\n",
    "        res_comments.append(li)\n",
    "    \n",
    "    #获取一个页面的评论时间\n",
    "    time_ls = '<div.*?\"comment-date\">(.*?)</div>'\n",
    "    time_pattern = re.compile(time_ls, re.S)\n",
    "    time_lists = re.findall(time_pattern, str(comment_lists))\n",
    "    for li in time_lists:\n",
    "        #print(li)\n",
    "        res_times.append(li)\n",
    "    \n",
    "    #写入文件保存\n",
    "    data=[res_users,res_pingfen,res_times,res_comments]\n",
    "    result=pd.DataFrame(data)\n",
    "    result=result.T\n",
    "    result.columns=['用户名称','评分','时间','评论']\n",
    "    result.to_csv(file_path+'应用宝_平安口袋银行.csv')\n",
    "    \n",
    "def Application_treasure():\n",
    "    file_path='C:\\\\Users\\\\pujing\\\\Desktop\\\\长亮科技\\\\'\n",
    "    get_parse_write(file_path)\n",
    "    print(\"运行完毕！\")\n",
    "if __name__=='__main__':\n",
    "    Application_treasure()"
   ]
  },
  {
   "cell_type": "code",
   "execution_count": 6,
   "metadata": {
    "collapsed": true
   },
   "outputs": [],
   "source": []
  },
  {
   "cell_type": "code",
   "execution_count": null,
   "metadata": {
    "collapsed": true
   },
   "outputs": [],
   "source": []
  }
 ],
 "metadata": {
  "kernelspec": {
   "display_name": "Python 3",
   "language": "python",
   "name": "python3"
  },
  "language_info": {
   "codemirror_mode": {
    "name": "ipython",
    "version": 3
   },
   "file_extension": ".py",
   "mimetype": "text/x-python",
   "name": "python",
   "nbconvert_exporter": "python",
   "pygments_lexer": "ipython3",
   "version": "3.6.0"
  }
 },
 "nbformat": 4,
 "nbformat_minor": 2
}
