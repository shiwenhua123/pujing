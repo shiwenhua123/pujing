{
 "cells": [
  {
   "cell_type": "code",
   "execution_count": 22,
   "metadata": {
    "collapsed": true
   },
   "outputs": [],
   "source": [
    "import re\n",
    "import requests\n",
    "import codecs\n",
    "import time\n",
    "import random\n",
    "from bs4 import BeautifulSoup\n",
    "\n",
    "'''\n",
    "absolute='https://movie.douban.com/subject/26322642/comments'\n",
    "absolute_url='https://movie.douban.com/subject/26322642/comments?start=23&limit=20&sort=new_score&status=P&precent_type='\n",
    "url='https://movie.douban.com/subject/26322642/comments?start={}&limit=20&sort=new_score&status=P'\n",
    "\n",
    "headers = {\n",
    "    \"User-Agent\":\"Mozilla/5.0 (Windows NT 10.0; Win64; x64) AppleWebKit/537.36 (KHTML, like Gecko) Chrome/61.0.3135.4 Safari/537.36\"\n",
    "}\n",
    "\n",
    "'''\n",
    "from selenium import webdriver\n",
    "browser = webdriver.Chrome(executable_path='C:/Users/pujing/AppData/Local/Google/Chrome/Application/chromedriver.exe')\n",
    "browser.get('https://movie.douban.com/subject/26322642/comments?start=0&limit=20&sort=new_score&status=P&percent_type=')\n",
    "time.sleep(3)"
   ]
  },
  {
   "cell_type": "code",
   "execution_count": 10,
   "metadata": {
    "collapsed": true
   },
   "outputs": [],
   "source": [
    "html=browser.page_source"
   ]
  },
  {
   "cell_type": "code",
   "execution_count": 11,
   "metadata": {
    "collapsed": false
   },
   "outputs": [],
   "source": [
    "soup=BeautifulSoup(html,'lxml')"
   ]
  },
  {
   "cell_type": "code",
   "execution_count": 12,
   "metadata": {
    "collapsed": true
   },
   "outputs": [],
   "source": [
    "comment_list=soup.select('.mod-bd')"
   ]
  },
  {
   "cell_type": "code",
   "execution_count": 13,
   "metadata": {
    "collapsed": false
   },
   "outputs": [],
   "source": [
    "next_page=soup.select('#paginator .next')[0].get('href')"
   ]
  },
  {
   "cell_type": "code",
   "execution_count": 14,
   "metadata": {
    "collapsed": false
   },
   "outputs": [
    {
     "data": {
      "text/plain": [
       "'?start=20&limit=20&sort=new_score&status=P&percent_type='"
      ]
     },
     "execution_count": 14,
     "metadata": {},
     "output_type": "execute_result"
    }
   ],
   "source": [
    "next_page"
   ]
  },
  {
   "cell_type": "code",
   "execution_count": 15,
   "metadata": {
    "collapsed": true
   },
   "outputs": [],
   "source": [
    "browser.get('https://movie.douban.com/subject/26322642/comments'+next_page)\n",
    "html=browser.page_source\n",
    "soup=BeautifulSoup(html,'lxml')\n",
    "comment_list=soup.select('.mod-bd')\n",
    "next_page=soup.select('#paginator .next')[0].get('href')"
   ]
  },
  {
   "cell_type": "code",
   "execution_count": 16,
   "metadata": {
    "collapsed": false
   },
   "outputs": [
    {
     "data": {
      "text/plain": [
       "'?start=40&limit=20&sort=new_score&status=P&percent_type='"
      ]
     },
     "execution_count": 16,
     "metadata": {},
     "output_type": "execute_result"
    }
   ],
   "source": [
    "next_page"
   ]
  },
  {
   "cell_type": "code",
   "execution_count": 23,
   "metadata": {
    "collapsed": true
   },
   "outputs": [],
   "source": [
    "def jiexi(soup,res_users,res_scores,res_times,res_comment):\n",
    "    comment_info=soup.select('.mod-bd .comment-info > a')\n",
    "    for i in range(len(comment_info)):\n",
    "        res_users.append(comment_info[i].get_text())\n",
    "\n",
    "    comment_pingfen=soup.select('.mod-bd .comment-info > span')\n",
    "    fen_ls = '<span class=\"allstar.*?\" title=\"(.*?)\"></span>'\n",
    "    fen_pattern = re.compile(fen_ls, re.S)\n",
    "    fen_lists = re.findall(fen_pattern, str(comment_pingfen))\n",
    "    for li in fen_lists:\n",
    "        #print(li)\n",
    "        res_scores.append(li)\n",
    "\n",
    "    #获取一个页面的评论时间\n",
    "    time_ls = '<span class=\"comment-time \" title=\"(.*?)\">.*?</span>'\n",
    "    time_pattern = re.compile(time_ls, re.S)\n",
    "    time_lists = re.findall(time_pattern, str(comment_pingfen))\n",
    "    for li in time_lists:\n",
    "        #print(li)\n",
    "        res_times.append(li)\n",
    "\n",
    "    comment_lists=soup.select('.mod-bd p')\n",
    "    for i in(range(len(comment_lists))):\n",
    "        res_comment.append(comment_lists[i].get_text())"
   ]
  },
  {
   "cell_type": "code",
   "execution_count": 24,
   "metadata": {
    "collapsed": true
   },
   "outputs": [],
   "source": [
    "def get_next_html(browser):\n",
    "    html=browser.page_source\n",
    "    soup=BeautifulSoup(html,'lxml')\n",
    "    comment_list=soup.select('.mod-bd')\n",
    "    next_page=soup.select('#paginator .next')[0].get('href')\n",
    "    return next_page,soup"
   ]
  },
  {
   "cell_type": "code",
   "execution_count": 25,
   "metadata": {
    "collapsed": true
   },
   "outputs": [],
   "source": [
    "import pandas as pd\n",
    "import time"
   ]
  },
  {
   "cell_type": "code",
   "execution_count": 36,
   "metadata": {
    "collapsed": false
   },
   "outputs": [],
   "source": [
    "#next_page='?start=0&limit=20&sort=new_score&status=P&percent_type='\n",
    "def main():\n",
    "    res_users=[]\n",
    "    res_scores=[]\n",
    "    res_times=[]\n",
    "    res_comment=[]\n",
    "    i=0;\n",
    "    item=0\n",
    "    #while(next_page!=[]):\n",
    "    browser.get('https://movie.douban.com/subject/26322642/comments?start=0&limit=20&sort=new_score&status=P&percent_type=')\n",
    "    for j in range(100):\n",
    "        i=i+1\n",
    "        next_page,soup=get_next_html(browser)\n",
    "        if(next_page==None):\n",
    "            break\n",
    "        browser.get('https://movie.douban.com/subject/26322642/comments'+next_page)\n",
    "        jiexi(soup,res_users,res_scores,res_times,res_comment)\n",
    "        result=pd.DataFrame([res_users,res_scores,res_times,res_comment])\n",
    "        result=result.T\n",
    "        result.to_excel('F:\\\\hua\\\\mo\\\\aa\\\\result.xlsx')\n",
    "        time.sleep(1)\n",
    "    "
   ]
  },
  {
   "cell_type": "code",
   "execution_count": 37,
   "metadata": {
    "collapsed": false
   },
   "outputs": [],
   "source": [
    "main()"
   ]
  },
  {
   "cell_type": "code",
   "execution_count": 104,
   "metadata": {
    "collapsed": true
   },
   "outputs": [],
   "source": []
  },
  {
   "cell_type": "code",
   "execution_count": 108,
   "metadata": {
    "collapsed": true
   },
   "outputs": [],
   "source": []
  },
  {
   "cell_type": "code",
   "execution_count": 115,
   "metadata": {
    "collapsed": false
   },
   "outputs": [],
   "source": []
  },
  {
   "cell_type": "code",
   "execution_count": null,
   "metadata": {
    "collapsed": true
   },
   "outputs": [],
   "source": []
  }
 ],
 "metadata": {
  "kernelspec": {
   "display_name": "Python 3",
   "language": "python",
   "name": "python3"
  },
  "language_info": {
   "codemirror_mode": {
    "name": "ipython",
    "version": 3
   },
   "file_extension": ".py",
   "mimetype": "text/x-python",
   "name": "python",
   "nbconvert_exporter": "python",
   "pygments_lexer": "ipython3",
   "version": "3.6.0"
  }
 },
 "nbformat": 4,
 "nbformat_minor": 2
}
