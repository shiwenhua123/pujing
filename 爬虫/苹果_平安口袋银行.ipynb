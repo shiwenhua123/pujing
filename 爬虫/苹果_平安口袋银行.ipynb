{
 "cells": [
  {
   "cell_type": "code",
   "execution_count": 5,
   "metadata": {
    "collapsed": true
   },
   "outputs": [],
   "source": [
    "import time\n",
    "import re\n",
    "from selenium import webdriver\n",
    "from selenium.webdriver.common.desired_capabilities import DesiredCapabilities\n",
    "from bs4 import BeautifulSoup\n",
    "import pandas as pd\n",
    "\n",
    "def Google_Chrome():  \n",
    "    browser = webdriver.Chrome(executable_path='C:/Users/pujing/AppData/Local/Google/Chrome/Application/chromedriver.exe')\n",
    "    browser.get('https://aso100.com/app/commentList/appid/1085016815/country/cn')\n",
    "    time.sleep(3)\n",
    "    try:#点击登录按钮\n",
    "        browser.find_element_by_xpath('/html/body/div[2]/div/div[2]/ul[2]/li[1]/a').click()\n",
    "        print('click success!')\n",
    "    except:\n",
    "        print('click error!')\n",
    "    try:#输入用户名\n",
    "        browser.find_element_by_xpath('//*[@id=\"username\"]').send_keys('pujing')\n",
    "        print('pw success!')\n",
    "    except:\n",
    "        print('pw error!')\n",
    "    time.sleep(1)\n",
    "    try:#输入密码\n",
    "        browser.find_element_by_xpath('//*[@id=\"password\"]').send_keys('pujing13559778873')\n",
    "        print('pw success!')\n",
    "    except:\n",
    "        print('pw error!')\n",
    "    time.sleep(6)#程序暂停6秒来手动输入验证码\n",
    "    try:#手动输入验证码后，实现登录\n",
    "        browser.find_element_by_xpath('//*[@id=\"submit\"]').click()\n",
    "        print('click success!')\n",
    "    except:\n",
    "        print('click error!')\n",
    "    return browser\n",
    "\n",
    "def parse_one_page_and_write_as_csv(browser,file_path):\n",
    "    res_pingfen=[]\n",
    "    res_users=[]\n",
    "    res_comments=[]\n",
    "    res_times=[]\n",
    "    for i in range(5,48):\n",
    "        url='https://aso100.com/app/commentList/appid/1085016815/country/cn/star/all/commentType/default/orderType/default/sdate/2017-11-14/edate/2017-11-21%2023:59:59?page='+str(i)\n",
    "        browser.get(url)\n",
    "        html=browser.page_source\n",
    "        soup=BeautifulSoup(html,'lxml')\n",
    "        comment_lists=soup.find('table',attrs={\"class\":\"table table-border\"}).find('tbody')\n",
    "\n",
    "        #获取一个页面的用户名称\n",
    "        user_ls = '<a.*?\"author\" href=\".*?\".*?\"_blank\">(.*?)</a>'\n",
    "        user_pattern = re.compile(user_ls, re.S)\n",
    "        user_lists = re.findall(user_pattern, str(comment_lists))\n",
    "        for li in user_lists:\n",
    "            #print(li)\n",
    "            res_users.append(li)\n",
    "\n",
    "        #获取一个页面的用户评分\n",
    "        fen_ls = '<p.*?\"star pc-hide\"><span.*?\"shadow\" style=\"(.*?)\"></span>'\n",
    "        fen_pattern = re.compile(fen_ls, re.S)\n",
    "        fen_lists = re.findall(fen_pattern, str(comment_lists))\n",
    "        for li in fen_lists:\n",
    "            #print(li)\n",
    "            res_pingfen.append(li)\n",
    "\n",
    "        #获取一个页面的用户评论\n",
    "        pinglun_ls = '<p class=\"pc-hide\">(.*?)</p>'\n",
    "        pinglun_pattern = re.compile(pinglun_ls, re.S)\n",
    "        pinglun_lists = re.findall(pinglun_pattern, str(comment_lists))\n",
    "        for li in pinglun_lists:\n",
    "            #print(li)\n",
    "            res_comments.append(li)\n",
    "\n",
    "        #获取一个页面的评论时间\n",
    "        time_ls = '<td.*?\"center\".*?\"comment-date mobile-hide\">(.*?)</td>'\n",
    "        time_pattern = re.compile(time_ls, re.S)\n",
    "        time_lists = re.findall(time_pattern, str(comment_lists))\n",
    "        for li in time_lists:\n",
    "            #print(li)\n",
    "            res_times.append(li)\n",
    "        time.sleep(1)\n",
    "\n",
    "    data=[res_users,res_pingfen,res_times,res_comments]\n",
    "    result=pd.DataFrame(data)\n",
    "    result=result.T\n",
    "    result.columns=['用户名称','评分','时间','评论']\n",
    "    result.to_csv(file_path+'苹果_平安口袋银行.csv')\n",
    "    \n",
    "def iPhone(file_path):\n",
    "    browser=Google_Chrome()\n",
    "    parse_one_page_and_write_as_csv(browser,file_path)\n",
    "        \n",
    "if __name__=='__main__':\n",
    "    file_path='C:\\\\Users\\\\pujing\\\\Desktop\\\\长亮科技\\\\'\n",
    "    iPhone(file_path)"
   ]
  },
  {
   "cell_type": "code",
   "execution_count": 2,
   "metadata": {
    "collapsed": false
   },
   "outputs": [
    {
     "name": "stdout",
     "output_type": "stream",
     "text": [
      "click success!\n",
      "pw success!\n",
      "pw success!\n",
      "click success!\n"
     ]
    }
   ],
   "source": [
    "browser=Google_Chrome()"
   ]
  },
  {
   "cell_type": "code",
   "execution_count": 6,
   "metadata": {
    "collapsed": true
   },
   "outputs": [],
   "source": [
    "parse_one_page_and_write_as_csv(browser)"
   ]
  },
  {
   "cell_type": "code",
   "execution_count": 4,
   "metadata": {
    "collapsed": true
   },
   "outputs": [],
   "source": []
  },
  {
   "cell_type": "code",
   "execution_count": null,
   "metadata": {
    "collapsed": true
   },
   "outputs": [],
   "source": []
  }
 ],
 "metadata": {
  "kernelspec": {
   "display_name": "Python 3",
   "language": "python",
   "name": "python3"
  },
  "language_info": {
   "codemirror_mode": {
    "name": "ipython",
    "version": 3
   },
   "file_extension": ".py",
   "mimetype": "text/x-python",
   "name": "python",
   "nbconvert_exporter": "python",
   "pygments_lexer": "ipython3",
   "version": "3.6.0"
  }
 },
 "nbformat": 4,
 "nbformat_minor": 2
}
