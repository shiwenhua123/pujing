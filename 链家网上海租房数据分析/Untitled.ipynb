{
 "cells": [
  {
   "cell_type": "markdown",
   "metadata": {},
   "source": [
    "## 链家网上海租房数据分析"
   ]
  },
  {
   "cell_type": "markdown",
   "metadata": {},
   "source": [
    "## 一、数据读取"
   ]
  },
  {
   "cell_type": "code",
   "execution_count": 1,
   "metadata": {
    "collapsed": false
   },
   "outputs": [
    {
     "data": {
      "text/html": [
       "<div>\n",
       "<table border=\"1\" class=\"dataframe\">\n",
       "  <thead>\n",
       "    <tr style=\"text-align: right;\">\n",
       "      <th></th>\n",
       "      <th>ceng</th>\n",
       "      <th>chaoxiang</th>\n",
       "      <th>date</th>\n",
       "      <th>kanguo</th>\n",
       "      <th>mianji</th>\n",
       "      <th>price</th>\n",
       "      <th>region</th>\n",
       "      <th>shiting</th>\n",
       "      <th>street</th>\n",
       "      <th>title</th>\n",
       "      <th>xiaoqu</th>\n",
       "    </tr>\n",
       "  </thead>\n",
       "  <tbody>\n",
       "    <tr>\n",
       "      <th>0</th>\n",
       "      <td>中区/8层</td>\n",
       "      <td>朝南</td>\n",
       "      <td>2017.08.20\\n\\t\\t\\t\\t\\t\\t\\t上架</td>\n",
       "      <td>17</td>\n",
       "      <td>66平</td>\n",
       "      <td>4600</td>\n",
       "      <td>浦东</td>\n",
       "      <td>2室1厅</td>\n",
       "      <td>唐镇</td>\n",
       "      <td>好房好心情，钥匙在链家，受欢迎好房，精致户型</td>\n",
       "      <td>毕加索小镇（一期）（公寓）</td>\n",
       "    </tr>\n",
       "    <tr>\n",
       "      <th>1</th>\n",
       "      <td>高区/7层</td>\n",
       "      <td>朝南北</td>\n",
       "      <td>2017.08.19\\n\\t\\t\\t\\t\\t\\t\\t上架</td>\n",
       "      <td>26</td>\n",
       "      <td>50平</td>\n",
       "      <td>3700</td>\n",
       "      <td>闵行</td>\n",
       "      <td>1室1厅</td>\n",
       "      <td>静安新城</td>\n",
       "      <td>静安新城，南北通，光线非常好，人气房源</td>\n",
       "      <td>静安新城（三区）</td>\n",
       "    </tr>\n",
       "    <tr>\n",
       "      <th>2</th>\n",
       "      <td>中区/11层</td>\n",
       "      <td>朝南北</td>\n",
       "      <td>2017.08.14\\n\\t\\t\\t\\t\\t\\t\\t上架</td>\n",
       "      <td>27</td>\n",
       "      <td>89平</td>\n",
       "      <td>7500</td>\n",
       "      <td>浦东</td>\n",
       "      <td>3室2厅</td>\n",
       "      <td>三林</td>\n",
       "      <td>万科金色雅筑，链家好房，3房出租，有钥匙房源</td>\n",
       "      <td>万科金色雅筑</td>\n",
       "    </tr>\n",
       "    <tr>\n",
       "      <th>3</th>\n",
       "      <td>中区/4层</td>\n",
       "      <td>朝南</td>\n",
       "      <td>2017.08.13\\n\\t\\t\\t\\t\\t\\t\\t上架</td>\n",
       "      <td>11</td>\n",
       "      <td>32平</td>\n",
       "      <td>7000</td>\n",
       "      <td>静安</td>\n",
       "      <td>1室0厅</td>\n",
       "      <td>南京西路</td>\n",
       "      <td>升平小区，低楼层，实地看房，上门实拍</td>\n",
       "      <td>升平小区</td>\n",
       "    </tr>\n",
       "    <tr>\n",
       "      <th>4</th>\n",
       "      <td>中区/6层</td>\n",
       "      <td>无朝向数据</td>\n",
       "      <td>2017.08.09\\n\\t\\t\\t\\t\\t\\t\\t上架</td>\n",
       "      <td>24</td>\n",
       "      <td>57平</td>\n",
       "      <td>3800</td>\n",
       "      <td>杨浦</td>\n",
       "      <td>2室1厅</td>\n",
       "      <td>中原</td>\n",
       "      <td>市光三村，交通方便，放心好房，有钥匙方便看</td>\n",
       "      <td>市光三村</td>\n",
       "    </tr>\n",
       "  </tbody>\n",
       "</table>\n",
       "</div>"
      ],
      "text/plain": [
       "     ceng chaoxiang                          date  kanguo mianji  price  \\\n",
       "0   中区/8层        朝南  2017.08.20\\n\\t\\t\\t\\t\\t\\t\\t上架      17  66平     4600   \n",
       "1   高区/7层       朝南北  2017.08.19\\n\\t\\t\\t\\t\\t\\t\\t上架      26  50平     3700   \n",
       "2  中区/11层       朝南北  2017.08.14\\n\\t\\t\\t\\t\\t\\t\\t上架      27  89平     7500   \n",
       "3   中区/4层        朝南  2017.08.13\\n\\t\\t\\t\\t\\t\\t\\t上架      11  32平     7000   \n",
       "4   中区/6层     无朝向数据  2017.08.09\\n\\t\\t\\t\\t\\t\\t\\t上架      24  57平     3800   \n",
       "\n",
       "  region shiting street                   title         xiaoqu  \n",
       "0     浦东  2室1厅       唐镇  好房好心情，钥匙在链家，受欢迎好房，精致户型  毕加索小镇（一期）（公寓）  \n",
       "1     闵行  1室1厅     静安新城     静安新城，南北通，光线非常好，人气房源       静安新城（三区）  \n",
       "2     浦东  3室2厅       三林  万科金色雅筑，链家好房，3房出租，有钥匙房源         万科金色雅筑  \n",
       "3     静安  1室0厅     南京西路      升平小区，低楼层，实地看房，上门实拍           升平小区  \n",
       "4     杨浦  2室1厅       中原   市光三村，交通方便，放心好房，有钥匙方便看           市光三村  "
      ]
     },
     "execution_count": 1,
     "metadata": {},
     "output_type": "execute_result"
    }
   ],
   "source": [
    "import seaborn as sns\n",
    "import pandas as pd\n",
    "import numpy as np\n",
    "import matplotlib.pyplot as plt\n",
    "data=pd.read_excel(\"链家网上海租房信息汇总.xlsx\")\n",
    "data.head()"
   ]
  },
  {
   "cell_type": "markdown",
   "metadata": {},
   "source": [
    "## 二、数据概况"
   ]
  },
  {
   "cell_type": "code",
   "execution_count": 2,
   "metadata": {
    "collapsed": false
   },
   "outputs": [
    {
     "name": "stdout",
     "output_type": "stream",
     "text": [
      "<class 'pandas.core.frame.DataFrame'>\n",
      "Int64Index: 31129 entries, 0 to 31128\n",
      "Data columns (total 11 columns):\n",
      "ceng         31129 non-null object\n",
      "chaoxiang    31129 non-null object\n",
      "date         31129 non-null object\n",
      "kanguo       31129 non-null int64\n",
      "mianji       31129 non-null object\n",
      "price        31129 non-null int64\n",
      "region       31129 non-null object\n",
      "shiting      31129 non-null object\n",
      "street       31129 non-null object\n",
      "title        31129 non-null object\n",
      "xiaoqu       31129 non-null object\n",
      "dtypes: int64(2), object(9)\n",
      "memory usage: 2.8+ MB\n"
     ]
    }
   ],
   "source": [
    "data.info()"
   ]
  },
  {
   "cell_type": "code",
   "execution_count": 3,
   "metadata": {
    "collapsed": false
   },
   "outputs": [
    {
     "data": {
      "text/html": [
       "<div>\n",
       "<table border=\"1\" class=\"dataframe\">\n",
       "  <thead>\n",
       "    <tr style=\"text-align: right;\">\n",
       "      <th></th>\n",
       "      <th>kanguo</th>\n",
       "      <th>price</th>\n",
       "    </tr>\n",
       "  </thead>\n",
       "  <tbody>\n",
       "    <tr>\n",
       "      <th>count</th>\n",
       "      <td>31129.000000</td>\n",
       "      <td>31129.000000</td>\n",
       "    </tr>\n",
       "    <tr>\n",
       "      <th>mean</th>\n",
       "      <td>2.878281</td>\n",
       "      <td>8693.488130</td>\n",
       "    </tr>\n",
       "    <tr>\n",
       "      <th>std</th>\n",
       "      <td>5.091049</td>\n",
       "      <td>10677.906353</td>\n",
       "    </tr>\n",
       "    <tr>\n",
       "      <th>min</th>\n",
       "      <td>0.000000</td>\n",
       "      <td>960.000000</td>\n",
       "    </tr>\n",
       "    <tr>\n",
       "      <th>25%</th>\n",
       "      <td>0.000000</td>\n",
       "      <td>3900.000000</td>\n",
       "    </tr>\n",
       "    <tr>\n",
       "      <th>50%</th>\n",
       "      <td>1.000000</td>\n",
       "      <td>5500.000000</td>\n",
       "    </tr>\n",
       "    <tr>\n",
       "      <th>75%</th>\n",
       "      <td>3.000000</td>\n",
       "      <td>9500.000000</td>\n",
       "    </tr>\n",
       "    <tr>\n",
       "      <th>max</th>\n",
       "      <td>77.000000</td>\n",
       "      <td>580000.000000</td>\n",
       "    </tr>\n",
       "  </tbody>\n",
       "</table>\n",
       "</div>"
      ],
      "text/plain": [
       "             kanguo          price\n",
       "count  31129.000000   31129.000000\n",
       "mean       2.878281    8693.488130\n",
       "std        5.091049   10677.906353\n",
       "min        0.000000     960.000000\n",
       "25%        0.000000    3900.000000\n",
       "50%        1.000000    5500.000000\n",
       "75%        3.000000    9500.000000\n",
       "max       77.000000  580000.000000"
      ]
     },
     "execution_count": 3,
     "metadata": {},
     "output_type": "execute_result"
    }
   ],
   "source": [
    "data.describe()"
   ]
  },
  {
   "cell_type": "code",
   "execution_count": 4,
   "metadata": {
    "collapsed": false
   },
   "outputs": [
    {
     "data": {
      "text/plain": [
       "ceng         0\n",
       "chaoxiang    0\n",
       "date         0\n",
       "kanguo       0\n",
       "mianji       0\n",
       "price        0\n",
       "region       0\n",
       "shiting      0\n",
       "street       0\n",
       "title        0\n",
       "xiaoqu       0\n",
       "dtype: int64"
      ]
     },
     "execution_count": 4,
     "metadata": {},
     "output_type": "execute_result"
    }
   ],
   "source": [
    "data.apply(lambda x:sum(x.isnull()))\n",
    "#http://blog.csdn.net/u010099080/article/details/53019844\n",
    "#apply主要用于数据聚合运算"
   ]
  },
  {
   "cell_type": "code",
   "execution_count": 5,
   "metadata": {
    "collapsed": false,
    "scrolled": false
   },
   "outputs": [],
   "source": [
    "data10wan=data[data['price']>100000]#价格大于10万的数据"
   ]
  },
  {
   "cell_type": "code",
   "execution_count": 6,
   "metadata": {
    "collapsed": false
   },
   "outputs": [
    {
     "data": {
      "text/plain": [
       "25"
      ]
     },
     "execution_count": 6,
     "metadata": {},
     "output_type": "execute_result"
    }
   ],
   "source": [
    "len(data10wan)"
   ]
  },
  {
   "cell_type": "code",
   "execution_count": 7,
   "metadata": {
    "collapsed": false
   },
   "outputs": [
    {
     "data": {
      "image/png": "[encoded data removed]",
      "text/plain": [
       "<matplotlib.figure.Figure at 0x34fd266438>"
      ]
     },
     "metadata": {},
     "output_type": "display_data"
    }
   ],
   "source": [
    "from pylab import *\n",
    "mpl.rcParams['font.sans-serif']=['SimHei']\n",
    "data[\"price\"].plot(kind=\"box\",fontsize=15)\n",
    "plt.ylim(0,50000)\n",
    "plt.title(\"上海租房价格分布箱型图\")\n",
    "plt.show()"
   ]
  },
  {
   "cell_type": "markdown",
   "metadata": {},
   "source": [
    "## 三、数据清洗和探索分析"
   ]
  },
  {
   "cell_type": "code",
   "execution_count": 8,
   "metadata": {
    "collapsed": false
   },
   "outputs": [
    {
     "data": {
      "text/html": [
       "<div>\n",
       "<table border=\"1\" class=\"dataframe\">\n",
       "  <thead>\n",
       "    <tr style=\"text-align: right;\">\n",
       "      <th></th>\n",
       "      <th>ceng</th>\n",
       "      <th>chaoxiang</th>\n",
       "      <th>date</th>\n",
       "      <th>kanguo</th>\n",
       "      <th>mianji</th>\n",
       "      <th>price</th>\n",
       "      <th>region</th>\n",
       "      <th>shiting</th>\n",
       "      <th>street</th>\n",
       "      <th>title</th>\n",
       "      <th>xiaoqu</th>\n",
       "    </tr>\n",
       "  </thead>\n",
       "  <tbody>\n",
       "    <tr>\n",
       "      <th>0</th>\n",
       "      <td>中区/8层</td>\n",
       "      <td>朝南</td>\n",
       "      <td>2017.08.20\\n\\t\\t\\t\\t\\t\\t\\t上架</td>\n",
       "      <td>17</td>\n",
       "      <td>66平</td>\n",
       "      <td>4600</td>\n",
       "      <td>浦东</td>\n",
       "      <td>2室1厅</td>\n",
       "      <td>唐镇</td>\n",
       "      <td>好房好心情，钥匙在链家，受欢迎好房，精致户型</td>\n",
       "      <td>毕加索小镇（一期）（公寓）</td>\n",
       "    </tr>\n",
       "    <tr>\n",
       "      <th>1</th>\n",
       "      <td>高区/7层</td>\n",
       "      <td>朝南北</td>\n",
       "      <td>2017.08.19\\n\\t\\t\\t\\t\\t\\t\\t上架</td>\n",
       "      <td>26</td>\n",
       "      <td>50平</td>\n",
       "      <td>3700</td>\n",
       "      <td>闵行</td>\n",
       "      <td>1室1厅</td>\n",
       "      <td>静安新城</td>\n",
       "      <td>静安新城，南北通，光线非常好，人气房源</td>\n",
       "      <td>静安新城（三区）</td>\n",
       "    </tr>\n",
       "    <tr>\n",
       "      <th>2</th>\n",
       "      <td>中区/11层</td>\n",
       "      <td>朝南北</td>\n",
       "      <td>2017.08.14\\n\\t\\t\\t\\t\\t\\t\\t上架</td>\n",
       "      <td>27</td>\n",
       "      <td>89平</td>\n",
       "      <td>7500</td>\n",
       "      <td>浦东</td>\n",
       "      <td>3室2厅</td>\n",
       "      <td>三林</td>\n",
       "      <td>万科金色雅筑，链家好房，3房出租，有钥匙房源</td>\n",
       "      <td>万科金色雅筑</td>\n",
       "    </tr>\n",
       "    <tr>\n",
       "      <th>3</th>\n",
       "      <td>中区/4层</td>\n",
       "      <td>朝南</td>\n",
       "      <td>2017.08.13\\n\\t\\t\\t\\t\\t\\t\\t上架</td>\n",
       "      <td>11</td>\n",
       "      <td>32平</td>\n",
       "      <td>7000</td>\n",
       "      <td>静安</td>\n",
       "      <td>1室0厅</td>\n",
       "      <td>南京西路</td>\n",
       "      <td>升平小区，低楼层，实地看房，上门实拍</td>\n",
       "      <td>升平小区</td>\n",
       "    </tr>\n",
       "    <tr>\n",
       "      <th>4</th>\n",
       "      <td>中区/6层</td>\n",
       "      <td>无朝向数据</td>\n",
       "      <td>2017.08.09\\n\\t\\t\\t\\t\\t\\t\\t上架</td>\n",
       "      <td>24</td>\n",
       "      <td>57平</td>\n",
       "      <td>3800</td>\n",
       "      <td>杨浦</td>\n",
       "      <td>2室1厅</td>\n",
       "      <td>中原</td>\n",
       "      <td>市光三村，交通方便，放心好房，有钥匙方便看</td>\n",
       "      <td>市光三村</td>\n",
       "    </tr>\n",
       "  </tbody>\n",
       "</table>\n",
       "</div>"
      ],
      "text/plain": [
       "     ceng chaoxiang                          date  kanguo mianji  price  \\\n",
       "0   中区/8层        朝南  2017.08.20\\n\\t\\t\\t\\t\\t\\t\\t上架      17  66平     4600   \n",
       "1   高区/7层       朝南北  2017.08.19\\n\\t\\t\\t\\t\\t\\t\\t上架      26  50平     3700   \n",
       "2  中区/11层       朝南北  2017.08.14\\n\\t\\t\\t\\t\\t\\t\\t上架      27  89平     7500   \n",
       "3   中区/4层        朝南  2017.08.13\\n\\t\\t\\t\\t\\t\\t\\t上架      11  32平     7000   \n",
       "4   中区/6层     无朝向数据  2017.08.09\\n\\t\\t\\t\\t\\t\\t\\t上架      24  57平     3800   \n",
       "\n",
       "  region shiting street                   title         xiaoqu  \n",
       "0     浦东  2室1厅       唐镇  好房好心情，钥匙在链家，受欢迎好房，精致户型  毕加索小镇（一期）（公寓）  \n",
       "1     闵行  1室1厅     静安新城     静安新城，南北通，光线非常好，人气房源       静安新城（三区）  \n",
       "2     浦东  3室2厅       三林  万科金色雅筑，链家好房，3房出租，有钥匙房源         万科金色雅筑  \n",
       "3     静安  1室0厅     南京西路      升平小区，低楼层，实地看房，上门实拍           升平小区  \n",
       "4     杨浦  2室1厅       中原   市光三村，交通方便，放心好房，有钥匙方便看           市光三村  "
      ]
     },
     "execution_count": 8,
     "metadata": {},
     "output_type": "execute_result"
    }
   ],
   "source": [
    "data.head()"
   ]
  },
  {
   "cell_type": "code",
   "execution_count": 9,
   "metadata": {
    "collapsed": true
   },
   "outputs": [],
   "source": [
    "import re\n",
    "a=r\"(.*?)区\"\n",
    "b=r\"\\d+\"\n",
    "def get_water_supply_region(x):\n",
    "    if(len(re.findall(a,x))==0):\n",
    "        return \"无\"\n",
    "    else:\n",
    "        return re.findall(a,x)[0]\n",
    "#x.strip()移除字符串头尾指定的字符(默认为空格)\n",
    "#语法 strip()方法语法: str.strip([chars]);参数 chars --移除字符串头尾指定的\n",
    "data['ceng']=data['ceng'].apply(lambda x:x.strip())\n",
    "data['water_supply_region']=data['ceng'].apply(get_water_supply_region)\n",
    "data['floor']=data['ceng'].apply(lambda x:re.findall(b,x)[0])\n",
    "data['floor']=data['floor'].astype(np.int64)\n",
    "data.drop(\"ceng\",axis=1,inplace=True)"
   ]
  },
  {
   "cell_type": "code",
   "execution_count": 10,
   "metadata": {
    "collapsed": false
   },
   "outputs": [],
   "source": [
    "water=data[\"water_supply_region\"].value_counts()"
   ]
  },
  {
   "cell_type": "code",
   "execution_count": 11,
   "metadata": {
    "collapsed": false
   },
   "outputs": [
    {
     "data": {
      "text/plain": [
       "pandas.core.series.Series"
      ]
     },
     "execution_count": 11,
     "metadata": {},
     "output_type": "execute_result"
    }
   ],
   "source": [
    "type(water)"
   ]
  },
  {
   "cell_type": "code",
   "execution_count": 12,
   "metadata": {
    "collapsed": false
   },
   "outputs": [],
   "source": [
    "water=pd.DataFrame(water)"
   ]
  },
  {
   "cell_type": "code",
   "execution_count": 13,
   "metadata": {
    "collapsed": false
   },
   "outputs": [
    {
     "data": {
      "image/png": "[encoded data removed]",
      "text/plain": [
       "<matplotlib.figure.Figure at 0x34fdbce5f8>"
      ]
     },
     "metadata": {},
     "output_type": "display_data"
    }
   ],
   "source": [
    "water.plot(kind='bar')\n",
    "plt.xticks(rotation=0)\n",
    "plt.xlabel(\"供水区\")\n",
    "plt.ylabel(\"counts\")\n",
    "plt.title(\"上海租房供水区分布柱状图\")\n",
    "plt.show()"
   ]
  },
  {
   "cell_type": "markdown",
   "metadata": {},
   "source": [
    "## 楼层切段：0为1-5层，1为6-10层，2为11-20层，3为21-30层，4为30层以上"
   ]
  },
  {
   "cell_type": "code",
   "execution_count": 14,
   "metadata": {
    "collapsed": true
   },
   "outputs": [],
   "source": [
    "data[\"floor\"]=data[\"floor\"].apply(lambda x: 0 if(1<=x<=5) else x)\n",
    "data['floor']=data['floor'].apply(lambda x: 1 if(6<=x<=10) else x)\n",
    "data['floor']=data['floor'].apply(lambda x: 2 if(11<=x<=20) else x)\n",
    "data['floor']=data['floor'].apply(lambda x: 3 if(21<=x<=30) else x)\n",
    "data['floor']=data['floor'].apply(lambda x: 4 if(x>30) else x)"
   ]
  },
  {
   "cell_type": "code",
   "execution_count": 15,
   "metadata": {
    "collapsed": false
   },
   "outputs": [],
   "source": [
    "aa=data['floor'].value_counts()"
   ]
  },
  {
   "cell_type": "code",
   "execution_count": 16,
   "metadata": {
    "collapsed": false
   },
   "outputs": [],
   "source": [
    "cc=pd.DataFrame(aa)"
   ]
  },
  {
   "cell_type": "code",
   "execution_count": 17,
   "metadata": {
    "collapsed": false
   },
   "outputs": [
    {
     "data": {
      "text/html": [
       "<div>\n",
       "<table border=\"1\" class=\"dataframe\">\n",
       "  <thead>\n",
       "    <tr style=\"text-align: right;\">\n",
       "      <th></th>\n",
       "      <th>floor</th>\n",
       "    </tr>\n",
       "  </thead>\n",
       "  <tbody>\n",
       "    <tr>\n",
       "      <th>1</th>\n",
       "      <td>12889</td>\n",
       "    </tr>\n",
       "    <tr>\n",
       "      <th>2</th>\n",
       "      <td>8359</td>\n",
       "    </tr>\n",
       "    <tr>\n",
       "      <th>0</th>\n",
       "      <td>4155</td>\n",
       "    </tr>\n",
       "    <tr>\n",
       "      <th>3</th>\n",
       "      <td>3760</td>\n",
       "    </tr>\n",
       "    <tr>\n",
       "      <th>4</th>\n",
       "      <td>1966</td>\n",
       "    </tr>\n",
       "  </tbody>\n",
       "</table>\n",
       "</div>"
      ],
      "text/plain": [
       "   floor\n",
       "1  12889\n",
       "2   8359\n",
       "0   4155\n",
       "3   3760\n",
       "4   1966"
      ]
     },
     "execution_count": 17,
     "metadata": {},
     "output_type": "execute_result"
    }
   ],
   "source": [
    "cc"
   ]
  },
  {
   "cell_type": "code",
   "execution_count": 18,
   "metadata": {
    "collapsed": false
   },
   "outputs": [],
   "source": [
    "cc.columns=['counts']\n",
    "cc['floor']=cc.index"
   ]
  },
  {
   "cell_type": "code",
   "execution_count": 19,
   "metadata": {
    "collapsed": false
   },
   "outputs": [
    {
     "data": {
      "text/html": [
       "<div>\n",
       "<table border=\"1\" class=\"dataframe\">\n",
       "  <thead>\n",
       "    <tr style=\"text-align: right;\">\n",
       "      <th></th>\n",
       "      <th>counts</th>\n",
       "      <th>floor</th>\n",
       "    </tr>\n",
       "  </thead>\n",
       "  <tbody>\n",
       "    <tr>\n",
       "      <th>1</th>\n",
       "      <td>12889</td>\n",
       "      <td>1</td>\n",
       "    </tr>\n",
       "    <tr>\n",
       "      <th>2</th>\n",
       "      <td>8359</td>\n",
       "      <td>2</td>\n",
       "    </tr>\n",
       "    <tr>\n",
       "      <th>0</th>\n",
       "      <td>4155</td>\n",
       "      <td>0</td>\n",
       "    </tr>\n",
       "    <tr>\n",
       "      <th>3</th>\n",
       "      <td>3760</td>\n",
       "      <td>3</td>\n",
       "    </tr>\n",
       "    <tr>\n",
       "      <th>4</th>\n",
       "      <td>1966</td>\n",
       "      <td>4</td>\n",
       "    </tr>\n",
       "  </tbody>\n",
       "</table>\n",
       "</div>"
      ],
      "text/plain": [
       "   counts  floor\n",
       "1   12889      1\n",
       "2    8359      2\n",
       "0    4155      0\n",
       "3    3760      3\n",
       "4    1966      4"
      ]
     },
     "execution_count": 19,
     "metadata": {},
     "output_type": "execute_result"
    }
   ],
   "source": [
    "cc"
   ]
  },
  {
   "cell_type": "code",
   "execution_count": 20,
   "metadata": {
    "collapsed": false
   },
   "outputs": [
    {
     "data": {
      "text/html": [
       "<div>\n",
       "<table border=\"1\" class=\"dataframe\">\n",
       "  <thead>\n",
       "    <tr style=\"text-align: right;\">\n",
       "      <th></th>\n",
       "      <th>counts</th>\n",
       "      <th>floor</th>\n",
       "    </tr>\n",
       "  </thead>\n",
       "  <tbody>\n",
       "    <tr>\n",
       "      <th>0</th>\n",
       "      <td>4155</td>\n",
       "      <td>0</td>\n",
       "    </tr>\n",
       "    <tr>\n",
       "      <th>1</th>\n",
       "      <td>12889</td>\n",
       "      <td>1</td>\n",
       "    </tr>\n",
       "    <tr>\n",
       "      <th>2</th>\n",
       "      <td>8359</td>\n",
       "      <td>2</td>\n",
       "    </tr>\n",
       "    <tr>\n",
       "      <th>3</th>\n",
       "      <td>3760</td>\n",
       "      <td>3</td>\n",
       "    </tr>\n",
       "    <tr>\n",
       "      <th>4</th>\n",
       "      <td>1966</td>\n",
       "      <td>4</td>\n",
       "    </tr>\n",
       "  </tbody>\n",
       "</table>\n",
       "</div>"
      ],
      "text/plain": [
       "   counts  floor\n",
       "0    4155      0\n",
       "1   12889      1\n",
       "2    8359      2\n",
       "3    3760      3\n",
       "4    1966      4"
      ]
     },
     "execution_count": 20,
     "metadata": {},
     "output_type": "execute_result"
    }
   ],
   "source": [
    "cc.sort_index()"
   ]
  },
  {
   "cell_type": "code",
   "execution_count": 21,
   "metadata": {
    "collapsed": false
   },
   "outputs": [
    {
     "data": {
      "image/png": "[encoded data removed]",
      "text/plain": [
       "<matplotlib.figure.Figure at 0x34fe230978>"
      ]
     },
     "metadata": {},
     "output_type": "display_data"
    }
   ],
   "source": [
    "plt.bar(cc['floor'],cc['counts'])\n",
    "plt.xticks(cc['floor'],[\"1-5层\", \"6-10层\", \"11-20层\", \"21-30层\", \"30层以上\"],rotation=0)\n",
    "plt.xlabel(\"楼层\")\n",
    "plt.ylabel(\"count\")\n",
    "plt.title(\"上海租房楼层分布柱状图\")\n",
    "plt.show()"
   ]
  },
  {
   "cell_type": "markdown",
   "metadata": {},
   "source": [
    "## 2处理朝向"
   ]
  },
  {
   "cell_type": "code",
   "execution_count": 22,
   "metadata": {
    "collapsed": false
   },
   "outputs": [
    {
     "data": {
      "text/plain": [
       "无朝向数据    14961\n",
       "朝南        8506\n",
       "朝南北       6118\n",
       "朝北         406\n",
       "朝西南        307\n",
       "朝东南        286\n",
       "朝西         182\n",
       "朝东         172\n",
       "朝西北         67\n",
       "朝东西         64\n",
       "朝东北         60\n",
       "Name: chaoxiang, dtype: int64"
      ]
     },
     "execution_count": 22,
     "metadata": {},
     "output_type": "execute_result"
    }
   ],
   "source": [
    "chaoxiang=data['chaoxiang'].value_counts()\n",
    "chaoxiang"
   ]
  },
  {
   "cell_type": "code",
   "execution_count": 23,
   "metadata": {
    "collapsed": true
   },
   "outputs": [],
   "source": [
    "chao=pd.DataFrame(chaoxiang)"
   ]
  },
  {
   "cell_type": "code",
   "execution_count": 24,
   "metadata": {
    "collapsed": false
   },
   "outputs": [
    {
     "data": {
      "text/html": [
       "<div>\n",
       "<table border=\"1\" class=\"dataframe\">\n",
       "  <thead>\n",
       "    <tr style=\"text-align: right;\">\n",
       "      <th></th>\n",
       "      <th>counts</th>\n",
       "    </tr>\n",
       "  </thead>\n",
       "  <tbody>\n",
       "    <tr>\n",
       "      <th>无朝向数据</th>\n",
       "      <td>14961</td>\n",
       "    </tr>\n",
       "    <tr>\n",
       "      <th>朝南</th>\n",
       "      <td>8506</td>\n",
       "    </tr>\n",
       "    <tr>\n",
       "      <th>朝南北</th>\n",
       "      <td>6118</td>\n",
       "    </tr>\n",
       "    <tr>\n",
       "      <th>朝北</th>\n",
       "      <td>406</td>\n",
       "    </tr>\n",
       "    <tr>\n",
       "      <th>朝西南</th>\n",
       "      <td>307</td>\n",
       "    </tr>\n",
       "    <tr>\n",
       "      <th>朝东南</th>\n",
       "      <td>286</td>\n",
       "    </tr>\n",
       "    <tr>\n",
       "      <th>朝西</th>\n",
       "      <td>182</td>\n",
       "    </tr>\n",
       "    <tr>\n",
       "      <th>朝东</th>\n",
       "      <td>172</td>\n",
       "    </tr>\n",
       "    <tr>\n",
       "      <th>朝西北</th>\n",
       "      <td>67</td>\n",
       "    </tr>\n",
       "    <tr>\n",
       "      <th>朝东西</th>\n",
       "      <td>64</td>\n",
       "    </tr>\n",
       "    <tr>\n",
       "      <th>朝东北</th>\n",
       "      <td>60</td>\n",
       "    </tr>\n",
       "  </tbody>\n",
       "</table>\n",
       "</div>"
      ],
      "text/plain": [
       "       counts\n",
       "无朝向数据   14961\n",
       "朝南       8506\n",
       "朝南北      6118\n",
       "朝北        406\n",
       "朝西南       307\n",
       "朝东南       286\n",
       "朝西        182\n",
       "朝东        172\n",
       "朝西北        67\n",
       "朝东西        64\n",
       "朝东北        60"
      ]
     },
     "execution_count": 24,
     "metadata": {},
     "output_type": "execute_result"
    }
   ],
   "source": [
    "chao.columns=['counts']\n",
    "chao"
   ]
  },
  {
   "cell_type": "code",
   "execution_count": 25,
   "metadata": {
    "collapsed": false
   },
   "outputs": [
    {
     "data": {
      "image/png": "[encoded data removed]",
      "text/plain": [
       "<matplotlib.figure.Figure at 0x34fe3358d0>"
      ]
     },
     "metadata": {},
     "output_type": "display_data"
    }
   ],
   "source": [
    "chao.plot(kind=\"bar\")\n",
    "plt.xlabel(\"朝向\")\n",
    "plt.ylabel(\"counts\")\n",
    "plt.title(\"上海租房朝向分布柱状图\")\n",
    "plt.show()"
   ]
  },
  {
   "cell_type": "code",
   "execution_count": 26,
   "metadata": {
    "collapsed": true
   },
   "outputs": [],
   "source": [
    "data['chaoxiang']=data['chaoxiang'].apply(lambda x:x.strip())\n",
    "qita = [\"朝北\", \"朝东\", \"朝东北\", \"朝东南\", \"朝东西\", \"朝西\", \"朝西北\", \"朝西南\"]\n",
    "for each in qita:\n",
    "    data['chaoxiang']=data['chaoxiang'].apply(lambda x:\"其他\" if x==each else x)\n",
    "    "
   ]
  },
  {
   "cell_type": "code",
   "execution_count": 27,
   "metadata": {
    "collapsed": false
   },
   "outputs": [
    {
     "data": {
      "image/png": "[encoded data removed]",
      "text/plain": [
       "<matplotlib.figure.Figure at 0x34fe474a58>"
      ]
     },
     "metadata": {},
     "output_type": "display_data"
    }
   ],
   "source": [
    "data['chaoxiang'].value_counts().plot(kind=\"bar\")\n",
    "plt.xlabel(\"朝向\")\n",
    "plt.ylabel(\"counts\")\n",
    "plt.title(\"上海租房朝向分布图\")\n",
    "plt.show()"
   ]
  },
  {
   "cell_type": "markdown",
   "metadata": {},
   "source": [
    "### 3、处理title"
   ]
  },
  {
   "cell_type": "markdown",
   "metadata": {},
   "source": [
    "### 没用的直接去掉就好"
   ]
  },
  {
   "cell_type": "code",
   "execution_count": 28,
   "metadata": {
    "collapsed": true
   },
   "outputs": [],
   "source": [
    "data.drop(\"title\",axis=1,inplace=True)"
   ]
  },
  {
   "cell_type": "code",
   "execution_count": 29,
   "metadata": {
    "collapsed": false
   },
   "outputs": [
    {
     "data": {
      "text/html": [
       "<div>\n",
       "<table border=\"1\" class=\"dataframe\">\n",
       "  <thead>\n",
       "    <tr style=\"text-align: right;\">\n",
       "      <th></th>\n",
       "      <th>chaoxiang</th>\n",
       "      <th>date</th>\n",
       "      <th>kanguo</th>\n",
       "      <th>mianji</th>\n",
       "      <th>price</th>\n",
       "      <th>region</th>\n",
       "      <th>shiting</th>\n",
       "      <th>street</th>\n",
       "      <th>xiaoqu</th>\n",
       "      <th>water_supply_region</th>\n",
       "      <th>floor</th>\n",
       "    </tr>\n",
       "  </thead>\n",
       "  <tbody>\n",
       "    <tr>\n",
       "      <th>0</th>\n",
       "      <td>朝南</td>\n",
       "      <td>2017.08.20\\n\\t\\t\\t\\t\\t\\t\\t上架</td>\n",
       "      <td>17</td>\n",
       "      <td>66平</td>\n",
       "      <td>4600</td>\n",
       "      <td>浦东</td>\n",
       "      <td>2室1厅</td>\n",
       "      <td>唐镇</td>\n",
       "      <td>毕加索小镇（一期）（公寓）</td>\n",
       "      <td>中</td>\n",
       "      <td>1</td>\n",
       "    </tr>\n",
       "  </tbody>\n",
       "</table>\n",
       "</div>"
      ],
      "text/plain": [
       "  chaoxiang                          date  kanguo mianji  price region  \\\n",
       "0        朝南  2017.08.20\\n\\t\\t\\t\\t\\t\\t\\t上架      17  66平     4600     浦东   \n",
       "\n",
       "  shiting street         xiaoqu water_supply_region  floor  \n",
       "0  2室1厅       唐镇  毕加索小镇（一期）（公寓）                   中      1  "
      ]
     },
     "execution_count": 29,
     "metadata": {},
     "output_type": "execute_result"
    }
   ],
   "source": [
    "data.head(1)"
   ]
  },
  {
   "cell_type": "markdown",
   "metadata": {},
   "source": [
    "### 4、处理日期"
   ]
  },
  {
   "cell_type": "code",
   "execution_count": 30,
   "metadata": {
    "collapsed": false
   },
   "outputs": [
    {
     "data": {
      "text/plain": [
       "2017.09.06\\n\\t\\t\\t\\t\\t\\t\\t上架    708\n",
       "2017.09.03\\n\\t\\t\\t\\t\\t\\t\\t上架    683\n",
       "2017.09.10\\n\\t\\t\\t\\t\\t\\t\\t上架    681\n",
       "2017.09.02\\n\\t\\t\\t\\t\\t\\t\\t上架    659\n",
       "2017.09.09\\n\\t\\t\\t\\t\\t\\t\\t上架    656\n",
       "Name: date, dtype: int64"
      ]
     },
     "execution_count": 30,
     "metadata": {},
     "output_type": "execute_result"
    }
   ],
   "source": [
    "date=data[\"date\"].value_counts()\n",
    "date.head()"
   ]
  },
  {
   "cell_type": "code",
   "execution_count": 31,
   "metadata": {
    "collapsed": true
   },
   "outputs": [],
   "source": [
    "data['date']=data['date'].apply(lambda x:x[:10])"
   ]
  },
  {
   "cell_type": "code",
   "execution_count": 32,
   "metadata": {
    "collapsed": false
   },
   "outputs": [
    {
     "data": {
      "text/plain": [
       "str"
      ]
     },
     "execution_count": 32,
     "metadata": {},
     "output_type": "execute_result"
    }
   ],
   "source": [
    "type(data['date'][0])"
   ]
  },
  {
   "cell_type": "code",
   "execution_count": 33,
   "metadata": {
    "collapsed": true
   },
   "outputs": [],
   "source": [
    "data['date']=pd.to_datetime(data['date'])"
   ]
  },
  {
   "cell_type": "code",
   "execution_count": 34,
   "metadata": {
    "collapsed": false
   },
   "outputs": [
    {
     "data": {
      "text/plain": [
       "pandas.tslib.Timestamp"
      ]
     },
     "execution_count": 34,
     "metadata": {},
     "output_type": "execute_result"
    }
   ],
   "source": [
    "type(data['date'][0])"
   ]
  },
  {
   "cell_type": "code",
   "execution_count": 35,
   "metadata": {
    "collapsed": true
   },
   "outputs": [],
   "source": [
    "date=data['date'].value_counts()"
   ]
  },
  {
   "cell_type": "code",
   "execution_count": 36,
   "metadata": {
    "collapsed": false
   },
   "outputs": [
    {
     "data": {
      "image/png": "[encoded data removed]",
      "text/plain": [
       "<matplotlib.figure.Figure at 0x34fe4bd9b0>"
      ]
     },
     "metadata": {},
     "output_type": "display_data"
    }
   ],
   "source": [
    "date.plot()\n",
    "plt.xlabel(\"日期\")\n",
    "plt.ylabel(\"counts\")\n",
    "plt.title(\"上海租房发布数据走势\")\n",
    "plt.show()"
   ]
  },
  {
   "cell_type": "markdown",
   "metadata": {},
   "source": [
    "### 5、处理带看次数"
   ]
  },
  {
   "cell_type": "markdown",
   "metadata": {},
   "source": [
    "### 切段：0为0次，1为1次，2为2-5次，3为6-10次，4为10次以上\n"
   ]
  },
  {
   "cell_type": "code",
   "execution_count": 37,
   "metadata": {
    "collapsed": true
   },
   "outputs": [],
   "source": [
    "data[\"kanguo\"]=data[\"kanguo\"].apply(lambda x: 2 if (2<=x<=5) else x)\n",
    "data['kanguo']=data['kanguo'].apply(lambda x:3 if(6<=x<=10) else x)\n",
    "data[\"kanguo\"]=data[\"kanguo\"].apply(lambda x:4 if(x>10) else x)\n",
    "kan=data['kanguo'].value_counts()"
   ]
  },
  {
   "cell_type": "code",
   "execution_count": 38,
   "metadata": {
    "collapsed": false
   },
   "outputs": [],
   "source": [
    "kan=pd.DataFrame(kan)"
   ]
  },
  {
   "cell_type": "code",
   "execution_count": 39,
   "metadata": {
    "collapsed": false
   },
   "outputs": [
    {
     "data": {
      "text/html": [
       "<div>\n",
       "<table border=\"1\" class=\"dataframe\">\n",
       "  <thead>\n",
       "    <tr style=\"text-align: right;\">\n",
       "      <th></th>\n",
       "      <th>kanguo</th>\n",
       "    </tr>\n",
       "  </thead>\n",
       "  <tbody>\n",
       "    <tr>\n",
       "      <th>0</th>\n",
       "      <td>12859</td>\n",
       "    </tr>\n",
       "    <tr>\n",
       "      <th>2</th>\n",
       "      <td>8107</td>\n",
       "    </tr>\n",
       "    <tr>\n",
       "      <th>1</th>\n",
       "      <td>5146</td>\n",
       "    </tr>\n",
       "    <tr>\n",
       "      <th>3</th>\n",
       "      <td>2916</td>\n",
       "    </tr>\n",
       "    <tr>\n",
       "      <th>4</th>\n",
       "      <td>2101</td>\n",
       "    </tr>\n",
       "  </tbody>\n",
       "</table>\n",
       "</div>"
      ],
      "text/plain": [
       "   kanguo\n",
       "0   12859\n",
       "2    8107\n",
       "1    5146\n",
       "3    2916\n",
       "4    2101"
      ]
     },
     "execution_count": 39,
     "metadata": {},
     "output_type": "execute_result"
    }
   ],
   "source": [
    "kan"
   ]
  },
  {
   "cell_type": "code",
   "execution_count": 40,
   "metadata": {
    "collapsed": false
   },
   "outputs": [],
   "source": [
    "kan=kan.sort_index()"
   ]
  },
  {
   "cell_type": "code",
   "execution_count": 41,
   "metadata": {
    "collapsed": false
   },
   "outputs": [
    {
     "data": {
      "text/html": [
       "<div>\n",
       "<table border=\"1\" class=\"dataframe\">\n",
       "  <thead>\n",
       "    <tr style=\"text-align: right;\">\n",
       "      <th></th>\n",
       "      <th>kanguo</th>\n",
       "    </tr>\n",
       "  </thead>\n",
       "  <tbody>\n",
       "    <tr>\n",
       "      <th>0</th>\n",
       "      <td>12859</td>\n",
       "    </tr>\n",
       "    <tr>\n",
       "      <th>1</th>\n",
       "      <td>5146</td>\n",
       "    </tr>\n",
       "    <tr>\n",
       "      <th>2</th>\n",
       "      <td>8107</td>\n",
       "    </tr>\n",
       "    <tr>\n",
       "      <th>3</th>\n",
       "      <td>2916</td>\n",
       "    </tr>\n",
       "    <tr>\n",
       "      <th>4</th>\n",
       "      <td>2101</td>\n",
       "    </tr>\n",
       "  </tbody>\n",
       "</table>\n",
       "</div>"
      ],
      "text/plain": [
       "   kanguo\n",
       "0   12859\n",
       "1    5146\n",
       "2    8107\n",
       "3    2916\n",
       "4    2101"
      ]
     },
     "execution_count": 41,
     "metadata": {},
     "output_type": "execute_result"
    }
   ],
   "source": [
    "kan"
   ]
  },
  {
   "cell_type": "code",
   "execution_count": 42,
   "metadata": {
    "collapsed": false
   },
   "outputs": [
    {
     "data": {
      "image/png": "[encoded data removed]",
      "text/plain": [
       "<matplotlib.figure.Figure at 0x34fe4c2b00>"
      ]
     },
     "metadata": {},
     "output_type": "display_data"
    }
   ],
   "source": [
    "kan.plot(kind='bar')\n",
    "plt.xlabel(\"带看次数\")\n",
    "plt.ylabel(\"counts\")\n",
    "plt.title(\"上海租房带看次数分布柱状图\")\n",
    "plt.xticks([0,1,2,3,4],[\"0\",\"1\",\"2-5\",\"6-10\",\">10\"],rotation=0)\n",
    "plt.show()"
   ]
  },
  {
   "cell_type": "markdown",
   "metadata": {},
   "source": [
    "### 6、处理面积"
   ]
  },
  {
   "cell_type": "code",
   "execution_count": 43,
   "metadata": {
    "collapsed": false
   },
   "outputs": [],
   "source": [
    "a=r'(.*?)平'\n",
    "data['mianji']=data['mianji'].apply(lambda x:re.findall(a,x)[0])\n",
    "data['mianji']=data['mianji'].astype(np.int64)"
   ]
  },
  {
   "cell_type": "code",
   "execution_count": 44,
   "metadata": {
    "collapsed": false
   },
   "outputs": [
    {
     "data": {
      "text/plain": [
       "count    31129.000000\n",
       "mean       102.962061\n",
       "std         76.504647\n",
       "min          1.000000\n",
       "25%         61.000000\n",
       "50%         89.000000\n",
       "75%        123.000000\n",
       "max       5500.000000\n",
       "Name: mianji, dtype: float64"
      ]
     },
     "execution_count": 44,
     "metadata": {},
     "output_type": "execute_result"
    }
   ],
   "source": [
    "data['mianji'].describe()"
   ]
  },
  {
   "cell_type": "markdown",
   "metadata": {},
   "source": [
    "### 7、处理区"
   ]
  },
  {
   "cell_type": "code",
   "execution_count": 45,
   "metadata": {
    "collapsed": false
   },
   "outputs": [
    {
     "data": {
      "image/png": "[encoded data removed]",
      "text/plain": [
       "<matplotlib.figure.Figure at 0x34fe881898>"
      ]
     },
     "metadata": {},
     "output_type": "display_data"
    }
   ],
   "source": [
    "data['region'].value_counts().plot(kind='barh')\n",
    "plt.xlabel(\"counts\")\n",
    "plt.title(\"上海各区租房数目数量分布条形图\")\n",
    "plt.show()"
   ]
  },
  {
   "cell_type": "code",
   "execution_count": 46,
   "metadata": {
    "collapsed": false
   },
   "outputs": [
    {
     "data": {
      "image/png": "[encoded data removed]",
      "text/plain": [
       "<matplotlib.figure.Figure at 0x34fe51e278>"
      ]
     },
     "metadata": {},
     "output_type": "display_data"
    }
   ],
   "source": [
    "data['region'].value_counts().plot(kind='bar')\n",
    "plt.xlabel(\"区\")\n",
    "plt.ylabel('counts')\n",
    "plt.title(\"上海各区租房数目数量分布柱状图\")\n",
    "plt.show()"
   ]
  },
  {
   "cell_type": "markdown",
   "metadata": {},
   "source": [
    "### 8、分离X室X厅"
   ]
  },
  {
   "cell_type": "code",
   "execution_count": 47,
   "metadata": {
    "collapsed": false
   },
   "outputs": [],
   "source": [
    "data['room']=data['shiting'].apply(lambda x:re.findall(r'(.*?)室',x)[0])\n",
    "data['living_rooms']=data['shiting'].apply(lambda x:re.findall(r'室(.*?)厅',x)[0])\n",
    "data['room']=data['room'].astype(np.int64)\n",
    "data['living_rooms']=data['living_rooms'].astype(np.int64)"
   ]
  },
  {
   "cell_type": "code",
   "execution_count": 48,
   "metadata": {
    "collapsed": false
   },
   "outputs": [],
   "source": [
    "data['shiting']=data['shiting'].apply(lambda x:x.strip())"
   ]
  },
  {
   "cell_type": "code",
   "execution_count": 49,
   "metadata": {
    "collapsed": true
   },
   "outputs": [],
   "source": [
    "aa=data['shiting'].value_counts()"
   ]
  },
  {
   "cell_type": "code",
   "execution_count": 50,
   "metadata": {
    "collapsed": false
   },
   "outputs": [],
   "source": [
    "#将计数为500以下的纳入其他\n",
    "qita=aa[:10].sum()\n",
    "aa=aa[:10]"
   ]
  },
  {
   "cell_type": "code",
   "execution_count": 51,
   "metadata": {
    "collapsed": false
   },
   "outputs": [
    {
     "data": {
      "text/plain": [
       "2室2厅    6673\n",
       "3室2厅    6368\n",
       "2室1厅    5962\n",
       "1室1厅    4249\n",
       "4室2厅    1776\n",
       "3室1厅    1730\n",
       "1室0厅    1020\n",
       "1室2厅     718\n",
       "2室0厅     657\n",
       "4室1厅     504\n",
       "Name: shiting, dtype: int64"
      ]
     },
     "execution_count": 51,
     "metadata": {},
     "output_type": "execute_result"
    }
   ],
   "source": [
    "aa"
   ]
  },
  {
   "cell_type": "code",
   "execution_count": 52,
   "metadata": {
    "collapsed": true
   },
   "outputs": [],
   "source": [
    "aa['其他']=qita"
   ]
  },
  {
   "cell_type": "code",
   "execution_count": 53,
   "metadata": {
    "collapsed": false
   },
   "outputs": [
    {
     "data": {
      "text/plain": [
       "2室2厅     6673\n",
       "3室2厅     6368\n",
       "2室1厅     5962\n",
       "1室1厅     4249\n",
       "4室2厅     1776\n",
       "3室1厅     1730\n",
       "1室0厅     1020\n",
       "1室2厅      718\n",
       "2室0厅      657\n",
       "4室1厅      504\n",
       "其他      29657\n",
       "Name: shiting, dtype: int64"
      ]
     },
     "execution_count": 53,
     "metadata": {},
     "output_type": "execute_result"
    }
   ],
   "source": [
    "aa"
   ]
  },
  {
   "cell_type": "code",
   "execution_count": 54,
   "metadata": {
    "collapsed": true
   },
   "outputs": [],
   "source": [
    "cc=pd.DataFrame(aa)"
   ]
  },
  {
   "cell_type": "code",
   "execution_count": 55,
   "metadata": {
    "collapsed": false
   },
   "outputs": [],
   "source": [
    "cc['huxing']=cc.index"
   ]
  },
  {
   "cell_type": "code",
   "execution_count": 56,
   "metadata": {
    "collapsed": false
   },
   "outputs": [
    {
     "data": {
      "text/html": [
       "<div>\n",
       "<table border=\"1\" class=\"dataframe\">\n",
       "  <thead>\n",
       "    <tr style=\"text-align: right;\">\n",
       "      <th></th>\n",
       "      <th>shiting</th>\n",
       "      <th>huxing</th>\n",
       "    </tr>\n",
       "  </thead>\n",
       "  <tbody>\n",
       "    <tr>\n",
       "      <th>2室2厅</th>\n",
       "      <td>6673</td>\n",
       "      <td>2室2厅</td>\n",
       "    </tr>\n",
       "    <tr>\n",
       "      <th>3室2厅</th>\n",
       "      <td>6368</td>\n",
       "      <td>3室2厅</td>\n",
       "    </tr>\n",
       "    <tr>\n",
       "      <th>2室1厅</th>\n",
       "      <td>5962</td>\n",
       "      <td>2室1厅</td>\n",
       "    </tr>\n",
       "    <tr>\n",
       "      <th>1室1厅</th>\n",
       "      <td>4249</td>\n",
       "      <td>1室1厅</td>\n",
       "    </tr>\n",
       "    <tr>\n",
       "      <th>4室2厅</th>\n",
       "      <td>1776</td>\n",
       "      <td>4室2厅</td>\n",
       "    </tr>\n",
       "    <tr>\n",
       "      <th>3室1厅</th>\n",
       "      <td>1730</td>\n",
       "      <td>3室1厅</td>\n",
       "    </tr>\n",
       "    <tr>\n",
       "      <th>1室0厅</th>\n",
       "      <td>1020</td>\n",
       "      <td>1室0厅</td>\n",
       "    </tr>\n",
       "    <tr>\n",
       "      <th>1室2厅</th>\n",
       "      <td>718</td>\n",
       "      <td>1室2厅</td>\n",
       "    </tr>\n",
       "    <tr>\n",
       "      <th>2室0厅</th>\n",
       "      <td>657</td>\n",
       "      <td>2室0厅</td>\n",
       "    </tr>\n",
       "    <tr>\n",
       "      <th>4室1厅</th>\n",
       "      <td>504</td>\n",
       "      <td>4室1厅</td>\n",
       "    </tr>\n",
       "    <tr>\n",
       "      <th>其他</th>\n",
       "      <td>29657</td>\n",
       "      <td>其他</td>\n",
       "    </tr>\n",
       "  </tbody>\n",
       "</table>\n",
       "</div>"
      ],
      "text/plain": [
       "      shiting huxing\n",
       "2室2厅     6673   2室2厅\n",
       "3室2厅     6368   3室2厅\n",
       "2室1厅     5962   2室1厅\n",
       "1室1厅     4249   1室1厅\n",
       "4室2厅     1776   4室2厅\n",
       "3室1厅     1730   3室1厅\n",
       "1室0厅     1020   1室0厅\n",
       "1室2厅      718   1室2厅\n",
       "2室0厅      657   2室0厅\n",
       "4室1厅      504   4室1厅\n",
       "其他      29657     其他"
      ]
     },
     "execution_count": 56,
     "metadata": {},
     "output_type": "execute_result"
    }
   ],
   "source": [
    "cc"
   ]
  },
  {
   "cell_type": "code",
   "execution_count": 57,
   "metadata": {
    "collapsed": false
   },
   "outputs": [
    {
     "data": {
      "image/png": "[encoded data removed]",
      "text/plain": [
       "<matplotlib.figure.Figure at 0x34fd2d9898>"
      ]
     },
     "metadata": {},
     "output_type": "display_data"
    }
   ],
   "source": [
    "fig, (ax, ax2) = plt.subplots(2, 1, sharex=True)\n",
    "ax.bar(range(1, 12), cc[\"shiting\"])\n",
    "ax2.bar(range(1, 12), cc[\"shiting\"])\n",
    "ax.set_ylim(28000, 30000)\n",
    "ax2.set_ylim(0, 10000)\n",
    "ax.spines[\"bottom\"].set_visible(False)\n",
    "ax2.spines[\"top\"].set_visible(False)\n",
    "ax.xaxis.tick_top()\n",
    "ax.tick_params(labeltop = \"off\")\n",
    "ax2.xaxis.tick_bottom()\n",
    "plt.xticks(range(1, 12), list(cc[\"huxing\"]), rotation = 60)\n",
    "\n",
    "#绘制坐标轴截断线\n",
    "d = .015\n",
    "kwargs = dict(transform=ax.transAxes, color='k', clip_on=False)\n",
    "ax.plot((-d, +d), (-d, +d), **kwargs)\n",
    "ax.plot((1 - d, 1 + d), (-d, +d), **kwargs)\n",
    "kwargs.update(transform=ax2.transAxes)\n",
    "ax2.plot((-d, +d), (1 - d, 1 + d), **kwargs)\n",
    "ax2.plot((1 - d, 1 + d), (1 - d, 1 + d), **kwargs)\n",
    "\n",
    "plt.xlabel(\"户型\")\n",
    "ax.set_title(\"上海租房户型分布柱状图\")\n",
    "ax.set_ylabel(\"count\", position = (0, 0))\n",
    "plt.show()"
   ]
  },
  {
   "cell_type": "markdown",
   "metadata": {},
   "source": [
    "### 画完图把shiting一列丢掉"
   ]
  },
  {
   "cell_type": "code",
   "execution_count": 58,
   "metadata": {
    "collapsed": false
   },
   "outputs": [
    {
     "data": {
      "text/html": [
       "<div>\n",
       "<table border=\"1\" class=\"dataframe\">\n",
       "  <thead>\n",
       "    <tr style=\"text-align: right;\">\n",
       "      <th></th>\n",
       "      <th>chaoxiang</th>\n",
       "      <th>kanguo</th>\n",
       "      <th>mianji</th>\n",
       "      <th>price</th>\n",
       "      <th>region</th>\n",
       "      <th>street</th>\n",
       "      <th>xiaoqu</th>\n",
       "      <th>water_supply_region</th>\n",
       "      <th>floor</th>\n",
       "      <th>room</th>\n",
       "      <th>living_rooms</th>\n",
       "    </tr>\n",
       "  </thead>\n",
       "  <tbody>\n",
       "    <tr>\n",
       "      <th>0</th>\n",
       "      <td>朝南</td>\n",
       "      <td>4</td>\n",
       "      <td>66</td>\n",
       "      <td>4600</td>\n",
       "      <td>浦东</td>\n",
       "      <td>唐镇</td>\n",
       "      <td>毕加索小镇（一期）（公寓）</td>\n",
       "      <td>中</td>\n",
       "      <td>1</td>\n",
       "      <td>2</td>\n",
       "      <td>1</td>\n",
       "    </tr>\n",
       "    <tr>\n",
       "      <th>1</th>\n",
       "      <td>朝南北</td>\n",
       "      <td>4</td>\n",
       "      <td>50</td>\n",
       "      <td>3700</td>\n",
       "      <td>闵行</td>\n",
       "      <td>静安新城</td>\n",
       "      <td>静安新城（三区）</td>\n",
       "      <td>高</td>\n",
       "      <td>1</td>\n",
       "      <td>1</td>\n",
       "      <td>1</td>\n",
       "    </tr>\n",
       "    <tr>\n",
       "      <th>2</th>\n",
       "      <td>朝南北</td>\n",
       "      <td>4</td>\n",
       "      <td>89</td>\n",
       "      <td>7500</td>\n",
       "      <td>浦东</td>\n",
       "      <td>三林</td>\n",
       "      <td>万科金色雅筑</td>\n",
       "      <td>中</td>\n",
       "      <td>2</td>\n",
       "      <td>3</td>\n",
       "      <td>2</td>\n",
       "    </tr>\n",
       "    <tr>\n",
       "      <th>3</th>\n",
       "      <td>朝南</td>\n",
       "      <td>4</td>\n",
       "      <td>32</td>\n",
       "      <td>7000</td>\n",
       "      <td>静安</td>\n",
       "      <td>南京西路</td>\n",
       "      <td>升平小区</td>\n",
       "      <td>中</td>\n",
       "      <td>0</td>\n",
       "      <td>1</td>\n",
       "      <td>0</td>\n",
       "    </tr>\n",
       "    <tr>\n",
       "      <th>4</th>\n",
       "      <td>无朝向数据</td>\n",
       "      <td>4</td>\n",
       "      <td>57</td>\n",
       "      <td>3800</td>\n",
       "      <td>杨浦</td>\n",
       "      <td>中原</td>\n",
       "      <td>市光三村</td>\n",
       "      <td>中</td>\n",
       "      <td>1</td>\n",
       "      <td>2</td>\n",
       "      <td>1</td>\n",
       "    </tr>\n",
       "  </tbody>\n",
       "</table>\n",
       "</div>"
      ],
      "text/plain": [
       "  chaoxiang  kanguo  mianji  price region street         xiaoqu  \\\n",
       "0        朝南       4      66   4600     浦东     唐镇  毕加索小镇（一期）（公寓）   \n",
       "1       朝南北       4      50   3700     闵行   静安新城       静安新城（三区）   \n",
       "2       朝南北       4      89   7500     浦东     三林         万科金色雅筑   \n",
       "3        朝南       4      32   7000     静安   南京西路           升平小区   \n",
       "4     无朝向数据       4      57   3800     杨浦     中原           市光三村   \n",
       "\n",
       "  water_supply_region  floor  room  living_rooms  \n",
       "0                   中      1     2             1  \n",
       "1                   高      1     1             1  \n",
       "2                   中      2     3             2  \n",
       "3                   中      0     1             0  \n",
       "4                   中      1     2             1  "
      ]
     },
     "execution_count": 58,
     "metadata": {},
     "output_type": "execute_result"
    }
   ],
   "source": [
    "data.drop(\"shiting\",axis=1,inplace=True)\n",
    "data.drop(\"date\",axis=1,inplace=True)\n",
    "data.head()"
   ]
  },
  {
   "cell_type": "markdown",
   "metadata": {},
   "source": [
    "### 9、处理街道、小区"
   ]
  },
  {
   "cell_type": "markdown",
   "metadata": {},
   "source": [
    "### 比较杂乱，直接去掉就好"
   ]
  },
  {
   "cell_type": "code",
   "execution_count": 59,
   "metadata": {
    "collapsed": true
   },
   "outputs": [],
   "source": [
    "data.drop(['street','xiaoqu'],axis=1,inplace=True)"
   ]
  },
  {
   "cell_type": "code",
   "execution_count": 60,
   "metadata": {
    "collapsed": false
   },
   "outputs": [
    {
     "data": {
      "text/html": [
       "<div>\n",
       "<table border=\"1\" class=\"dataframe\">\n",
       "  <thead>\n",
       "    <tr style=\"text-align: right;\">\n",
       "      <th></th>\n",
       "      <th>chaoxiang</th>\n",
       "      <th>kanguo</th>\n",
       "      <th>mianji</th>\n",
       "      <th>price</th>\n",
       "      <th>region</th>\n",
       "      <th>water_supply_region</th>\n",
       "      <th>floor</th>\n",
       "      <th>room</th>\n",
       "      <th>living_rooms</th>\n",
       "    </tr>\n",
       "  </thead>\n",
       "  <tbody>\n",
       "    <tr>\n",
       "      <th>0</th>\n",
       "      <td>朝南</td>\n",
       "      <td>4</td>\n",
       "      <td>66</td>\n",
       "      <td>4600</td>\n",
       "      <td>浦东</td>\n",
       "      <td>中</td>\n",
       "      <td>1</td>\n",
       "      <td>2</td>\n",
       "      <td>1</td>\n",
       "    </tr>\n",
       "    <tr>\n",
       "      <th>1</th>\n",
       "      <td>朝南北</td>\n",
       "      <td>4</td>\n",
       "      <td>50</td>\n",
       "      <td>3700</td>\n",
       "      <td>闵行</td>\n",
       "      <td>高</td>\n",
       "      <td>1</td>\n",
       "      <td>1</td>\n",
       "      <td>1</td>\n",
       "    </tr>\n",
       "    <tr>\n",
       "      <th>2</th>\n",
       "      <td>朝南北</td>\n",
       "      <td>4</td>\n",
       "      <td>89</td>\n",
       "      <td>7500</td>\n",
       "      <td>浦东</td>\n",
       "      <td>中</td>\n",
       "      <td>2</td>\n",
       "      <td>3</td>\n",
       "      <td>2</td>\n",
       "    </tr>\n",
       "    <tr>\n",
       "      <th>3</th>\n",
       "      <td>朝南</td>\n",
       "      <td>4</td>\n",
       "      <td>32</td>\n",
       "      <td>7000</td>\n",
       "      <td>静安</td>\n",
       "      <td>中</td>\n",
       "      <td>0</td>\n",
       "      <td>1</td>\n",
       "      <td>0</td>\n",
       "    </tr>\n",
       "    <tr>\n",
       "      <th>4</th>\n",
       "      <td>无朝向数据</td>\n",
       "      <td>4</td>\n",
       "      <td>57</td>\n",
       "      <td>3800</td>\n",
       "      <td>杨浦</td>\n",
       "      <td>中</td>\n",
       "      <td>1</td>\n",
       "      <td>2</td>\n",
       "      <td>1</td>\n",
       "    </tr>\n",
       "  </tbody>\n",
       "</table>\n",
       "</div>"
      ],
      "text/plain": [
       "  chaoxiang  kanguo  mianji  price region water_supply_region  floor  room  \\\n",
       "0        朝南       4      66   4600     浦东                   中      1     2   \n",
       "1       朝南北       4      50   3700     闵行                   高      1     1   \n",
       "2       朝南北       4      89   7500     浦东                   中      2     3   \n",
       "3        朝南       4      32   7000     静安                   中      0     1   \n",
       "4     无朝向数据       4      57   3800     杨浦                   中      1     2   \n",
       "\n",
       "   living_rooms  \n",
       "0             1  \n",
       "1             1  \n",
       "2             2  \n",
       "3             0  \n",
       "4             1  "
      ]
     },
     "execution_count": 60,
     "metadata": {},
     "output_type": "execute_result"
    }
   ],
   "source": [
    "data.head()"
   ]
  },
  {
   "cell_type": "code",
   "execution_count": 61,
   "metadata": {
    "collapsed": false
   },
   "outputs": [
    {
     "name": "stdout",
     "output_type": "stream",
     "text": [
      "<class 'pandas.core.frame.DataFrame'>\n",
      "Int64Index: 31129 entries, 0 to 31128\n",
      "Data columns (total 9 columns):\n",
      "chaoxiang              31129 non-null object\n",
      "kanguo                 31129 non-null int64\n",
      "mianji                 31129 non-null int64\n",
      "price                  31129 non-null int64\n",
      "region                 31129 non-null object\n",
      "water_supply_region    31129 non-null object\n",
      "floor                  31129 non-null int64\n",
      "room                   31129 non-null int64\n",
      "living_rooms           31129 non-null int64\n",
      "dtypes: int64(6), object(3)\n",
      "memory usage: 2.4+ MB\n"
     ]
    }
   ],
   "source": [
    "data.info()"
   ]
  },
  {
   "cell_type": "markdown",
   "metadata": {},
   "source": [
    "## 四、多变量分析"
   ]
  },
  {
   "cell_type": "markdown",
   "metadata": {},
   "source": [
    "### 1、各区租房价格"
   ]
  },
  {
   "cell_type": "code",
   "execution_count": 62,
   "metadata": {
    "collapsed": false
   },
   "outputs": [
    {
     "data": {
      "image/png": "[encoded data removed]",
      "text/plain": [
       "<matplotlib.figure.Figure at 0x34fe85dbe0>"
      ]
     },
     "metadata": {},
     "output_type": "display_data"
    }
   ],
   "source": [
    "from pylab import *\n",
    "mpl.rcParams['font.sans-serif']=['SimHei']\n",
    "sns.boxplot(x='price',y='region',data=data)\n",
    "plt.title(\"上海各区租房价格分布箱型图\")\n",
    "plt.xlim(0,40000)\n",
    "plt.show()"
   ]
  },
  {
   "cell_type": "markdown",
   "metadata": {},
   "source": [
    "### 2、各区租房面积"
   ]
  },
  {
   "cell_type": "code",
   "execution_count": 63,
   "metadata": {
    "collapsed": false
   },
   "outputs": [
    {
     "data": {
      "image/png": "[encoded data removed]",
      "text/plain": [
       "<matplotlib.figure.Figure at 0x34fd43e5f8>"
      ]
     },
     "metadata": {},
     "output_type": "display_data"
    }
   ],
   "source": [
    "sns.boxplot(x='mianji',y='region',data=data)\n",
    "plt.title(\"上海各区租房面积分布箱型图\")\n",
    "plt.xlim(0,1000)\n",
    "plt.show()"
   ]
  },
  {
   "cell_type": "markdown",
   "metadata": {},
   "source": [
    "### 3、各区租房单价"
   ]
  },
  {
   "cell_type": "code",
   "execution_count": 64,
   "metadata": {
    "collapsed": false
   },
   "outputs": [
    {
     "data": {
      "image/png": "[encoded data removed]",
      "text/plain": [
       "<matplotlib.figure.Figure at 0x34fe26af60>"
      ]
     },
     "metadata": {},
     "output_type": "display_data"
    }
   ],
   "source": [
    "data['unit_price']=data['price']/data['mianji']\n",
    "sns.boxplot(x='unit_price',y='region',data=data)\n",
    "plt.title(\"上海各区租房单价分布箱型图\")\n",
    "plt.xlim(0,600)\n",
    "plt.show()"
   ]
  },
  {
   "cell_type": "code",
   "execution_count": 65,
   "metadata": {
    "collapsed": true
   },
   "outputs": [],
   "source": [
    "aa=data['unit_price'].groupby(data['region']).median().sort_values(ascending=True)\n",
    "cc=pd.DataFrame(aa)"
   ]
  },
  {
   "cell_type": "code",
   "execution_count": 66,
   "metadata": {
    "collapsed": false
   },
   "outputs": [],
   "source": [
    "cc['region']=cc.index"
   ]
  },
  {
   "cell_type": "code",
   "execution_count": 67,
   "metadata": {
    "collapsed": false
   },
   "outputs": [],
   "source": [
    "cc['place_holder']=(150-cc['unit_price'])/2"
   ]
  },
  {
   "cell_type": "code",
   "execution_count": 68,
   "metadata": {
    "collapsed": false
   },
   "outputs": [
    {
     "data": {
      "image/png": "[encoded data removed]",
      "text/plain": [
       "<matplotlib.figure.Figure at 0x34fe484438>"
      ]
     },
     "metadata": {},
     "output_type": "display_data"
    }
   ],
   "source": [
    "fig, ax = plt.subplots()\n",
    "ax.barh(range(len(cc)), cc[\"unit_price\"], align = \"center\", left = cc[\"place_holder\"])\n",
    "plt.yticks(range(len(cc)), cc[\"region\"], rotation = 0)\n",
    "labels = [\"%.2f\"%each for each in cc[\"unit_price\"]]\n",
    "for i in range(len(cc.iloc[4:, :])):\n",
    "    ax.text(x = 69, y = [k for k in range(len(cc))][i] - .2, s = labels[i], color = \"black\", size = 10)\n",
    "for i in range(len(cc.iloc[0:4, :])):\n",
    "    ax.text(x = 67.3, y = [14,15,16,17][i] - .2, s = labels[i + 14], color = \"black\", size = 10)\n",
    "plt.xlabel(\"unit_price\")\n",
    "plt.title(\"上海各区租房单价中位数漏斗图\")\n",
    "plt.show()"
   ]
  },
  {
   "cell_type": "markdown",
   "metadata": {},
   "source": [
    "### 4、朝向对价格的影响"
   ]
  },
  {
   "cell_type": "code",
   "execution_count": 69,
   "metadata": {
    "collapsed": false
   },
   "outputs": [
    {
     "data": {
      "image/png": "[encoded data removed]",
      "text/plain": [
       "<matplotlib.figure.Figure at 0x34fe85df98>"
      ]
     },
     "metadata": {},
     "output_type": "display_data"
    }
   ],
   "source": [
    "from pylab import *\n",
    "mpl.rcParams['font.sans-serif']=['SimHei']\n",
    "sns.boxplot(x='chaoxiang',y='price',data=data)\n",
    "plt.xlabel('朝向')\n",
    "plt.ylabel('价格')\n",
    "plt.title('上海租房个朝向价格分布箱型图')\n",
    "plt.ylim(0,50000)\n",
    "plt.show()"
   ]
  },
  {
   "cell_type": "markdown",
   "metadata": {},
   "source": [
    "## 五、租房价格预测"
   ]
  },
  {
   "cell_type": "markdown",
   "metadata": {},
   "source": [
    "### 1、预处理"
   ]
  },
  {
   "cell_type": "markdown",
   "metadata": {},
   "source": [
    "### 变量分布one-hot encoding"
   ]
  },
  {
   "cell_type": "code",
   "execution_count": 70,
   "metadata": {
    "collapsed": false
   },
   "outputs": [
    {
     "data": {
      "text/html": [
       "<div>\n",
       "<table border=\"1\" class=\"dataframe\">\n",
       "  <thead>\n",
       "    <tr style=\"text-align: right;\">\n",
       "      <th></th>\n",
       "      <th>chaoxiang</th>\n",
       "      <th>kanguo</th>\n",
       "      <th>mianji</th>\n",
       "      <th>price</th>\n",
       "      <th>region</th>\n",
       "      <th>water_supply_region</th>\n",
       "      <th>floor</th>\n",
       "      <th>room</th>\n",
       "      <th>living_rooms</th>\n",
       "      <th>unit_price</th>\n",
       "    </tr>\n",
       "  </thead>\n",
       "  <tbody>\n",
       "    <tr>\n",
       "      <th>0</th>\n",
       "      <td>朝南</td>\n",
       "      <td>4</td>\n",
       "      <td>66</td>\n",
       "      <td>4600</td>\n",
       "      <td>浦东</td>\n",
       "      <td>中</td>\n",
       "      <td>1</td>\n",
       "      <td>2</td>\n",
       "      <td>1</td>\n",
       "      <td>69.696970</td>\n",
       "    </tr>\n",
       "    <tr>\n",
       "      <th>1</th>\n",
       "      <td>朝南北</td>\n",
       "      <td>4</td>\n",
       "      <td>50</td>\n",
       "      <td>3700</td>\n",
       "      <td>闵行</td>\n",
       "      <td>高</td>\n",
       "      <td>1</td>\n",
       "      <td>1</td>\n",
       "      <td>1</td>\n",
       "      <td>74.000000</td>\n",
       "    </tr>\n",
       "    <tr>\n",
       "      <th>2</th>\n",
       "      <td>朝南北</td>\n",
       "      <td>4</td>\n",
       "      <td>89</td>\n",
       "      <td>7500</td>\n",
       "      <td>浦东</td>\n",
       "      <td>中</td>\n",
       "      <td>2</td>\n",
       "      <td>3</td>\n",
       "      <td>2</td>\n",
       "      <td>84.269663</td>\n",
       "    </tr>\n",
       "    <tr>\n",
       "      <th>3</th>\n",
       "      <td>朝南</td>\n",
       "      <td>4</td>\n",
       "      <td>32</td>\n",
       "      <td>7000</td>\n",
       "      <td>静安</td>\n",
       "      <td>中</td>\n",
       "      <td>0</td>\n",
       "      <td>1</td>\n",
       "      <td>0</td>\n",
       "      <td>218.750000</td>\n",
       "    </tr>\n",
       "    <tr>\n",
       "      <th>4</th>\n",
       "      <td>无朝向数据</td>\n",
       "      <td>4</td>\n",
       "      <td>57</td>\n",
       "      <td>3800</td>\n",
       "      <td>杨浦</td>\n",
       "      <td>中</td>\n",
       "      <td>1</td>\n",
       "      <td>2</td>\n",
       "      <td>1</td>\n",
       "      <td>66.666667</td>\n",
       "    </tr>\n",
       "  </tbody>\n",
       "</table>\n",
       "</div>"
      ],
      "text/plain": [
       "  chaoxiang  kanguo  mianji  price region water_supply_region  floor  room  \\\n",
       "0        朝南       4      66   4600     浦东                   中      1     2   \n",
       "1       朝南北       4      50   3700     闵行                   高      1     1   \n",
       "2       朝南北       4      89   7500     浦东                   中      2     3   \n",
       "3        朝南       4      32   7000     静安                   中      0     1   \n",
       "4     无朝向数据       4      57   3800     杨浦                   中      1     2   \n",
       "\n",
       "   living_rooms  unit_price  \n",
       "0             1   69.696970  \n",
       "1             1   74.000000  \n",
       "2             2   84.269663  \n",
       "3             0  218.750000  \n",
       "4             1   66.666667  "
      ]
     },
     "execution_count": 70,
     "metadata": {},
     "output_type": "execute_result"
    }
   ],
   "source": [
    "data.head()"
   ]
  },
  {
   "cell_type": "code",
   "execution_count": 71,
   "metadata": {
    "collapsed": false
   },
   "outputs": [
    {
     "name": "stdout",
     "output_type": "stream",
     "text": [
      "<class 'pandas.core.frame.DataFrame'>\n",
      "Int64Index: 31129 entries, 0 to 31128\n",
      "Data columns (total 10 columns):\n",
      "chaoxiang              31129 non-null object\n",
      "kanguo                 31129 non-null int64\n",
      "mianji                 31129 non-null int64\n",
      "price                  31129 non-null int64\n",
      "region                 31129 non-null object\n",
      "water_supply_region    31129 non-null object\n",
      "floor                  31129 non-null int64\n",
      "room                   31129 non-null int64\n",
      "living_rooms           31129 non-null int64\n",
      "unit_price             31129 non-null float64\n",
      "dtypes: float64(1), int64(6), object(3)\n",
      "memory usage: 2.6+ MB\n"
     ]
    }
   ],
   "source": [
    "data.info()"
   ]
  },
  {
   "cell_type": "code",
   "execution_count": 72,
   "metadata": {
    "collapsed": false
   },
   "outputs": [
    {
     "name": "stdout",
     "output_type": "stream",
     "text": [
      "<class 'pandas.core.frame.DataFrame'>\n",
      "Int64Index: 31129 entries, 0 to 31128\n",
      "Data columns (total 10 columns):\n",
      "chaoxiang              31129 non-null object\n",
      "kanguo                 31129 non-null object\n",
      "mianji                 31129 non-null int64\n",
      "price                  31129 non-null int64\n",
      "region                 31129 non-null object\n",
      "water_supply_region    31129 non-null object\n",
      "floor                  31129 non-null object\n",
      "room                   31129 non-null int64\n",
      "living_rooms           31129 non-null int64\n",
      "unit_price             31129 non-null float64\n",
      "dtypes: float64(1), int64(4), object(5)\n",
      "memory usage: 2.6+ MB\n"
     ]
    }
   ],
   "source": [
    "data['kanguo']=data['kanguo'].astype(str)\n",
    "data['floor']=data['floor'].astype(str)\n",
    "data.info()"
   ]
  },
  {
   "cell_type": "code",
   "execution_count": 73,
   "metadata": {
    "collapsed": false
   },
   "outputs": [
    {
     "data": {
      "text/html": [
       "<div>\n",
       "<table border=\"1\" class=\"dataframe\">\n",
       "  <thead>\n",
       "    <tr style=\"text-align: right;\">\n",
       "      <th></th>\n",
       "      <th>mianji</th>\n",
       "      <th>price</th>\n",
       "      <th>room</th>\n",
       "      <th>living_rooms</th>\n",
       "      <th>unit_price</th>\n",
       "      <th>chaoxiang_其他</th>\n",
       "      <th>chaoxiang_无朝向数据</th>\n",
       "      <th>chaoxiang_朝南</th>\n",
       "      <th>chaoxiang_朝南北</th>\n",
       "      <th>kanguo_0</th>\n",
       "      <th>...</th>\n",
       "      <th>region_黄浦</th>\n",
       "      <th>water_supply_region_中</th>\n",
       "      <th>water_supply_region_低</th>\n",
       "      <th>water_supply_region_无</th>\n",
       "      <th>water_supply_region_高</th>\n",
       "      <th>floor_0</th>\n",
       "      <th>floor_1</th>\n",
       "      <th>floor_2</th>\n",
       "      <th>floor_3</th>\n",
       "      <th>floor_4</th>\n",
       "    </tr>\n",
       "  </thead>\n",
       "  <tbody>\n",
       "    <tr>\n",
       "      <th>0</th>\n",
       "      <td>66</td>\n",
       "      <td>4600</td>\n",
       "      <td>2</td>\n",
       "      <td>1</td>\n",
       "      <td>69.696970</td>\n",
       "      <td>0</td>\n",
       "      <td>0</td>\n",
       "      <td>1</td>\n",
       "      <td>0</td>\n",
       "      <td>0</td>\n",
       "      <td>...</td>\n",
       "      <td>0</td>\n",
       "      <td>1</td>\n",
       "      <td>0</td>\n",
       "      <td>0</td>\n",
       "      <td>0</td>\n",
       "      <td>0</td>\n",
       "      <td>1</td>\n",
       "      <td>0</td>\n",
       "      <td>0</td>\n",
       "      <td>0</td>\n",
       "    </tr>\n",
       "    <tr>\n",
       "      <th>1</th>\n",
       "      <td>50</td>\n",
       "      <td>3700</td>\n",
       "      <td>1</td>\n",
       "      <td>1</td>\n",
       "      <td>74.000000</td>\n",
       "      <td>0</td>\n",
       "      <td>0</td>\n",
       "      <td>0</td>\n",
       "      <td>1</td>\n",
       "      <td>0</td>\n",
       "      <td>...</td>\n",
       "      <td>0</td>\n",
       "      <td>0</td>\n",
       "      <td>0</td>\n",
       "      <td>0</td>\n",
       "      <td>1</td>\n",
       "      <td>0</td>\n",
       "      <td>1</td>\n",
       "      <td>0</td>\n",
       "      <td>0</td>\n",
       "      <td>0</td>\n",
       "    </tr>\n",
       "    <tr>\n",
       "      <th>2</th>\n",
       "      <td>89</td>\n",
       "      <td>7500</td>\n",
       "      <td>3</td>\n",
       "      <td>2</td>\n",
       "      <td>84.269663</td>\n",
       "      <td>0</td>\n",
       "      <td>0</td>\n",
       "      <td>0</td>\n",
       "      <td>1</td>\n",
       "      <td>0</td>\n",
       "      <td>...</td>\n",
       "      <td>0</td>\n",
       "      <td>1</td>\n",
       "      <td>0</td>\n",
       "      <td>0</td>\n",
       "      <td>0</td>\n",
       "      <td>0</td>\n",
       "      <td>0</td>\n",
       "      <td>1</td>\n",
       "      <td>0</td>\n",
       "      <td>0</td>\n",
       "    </tr>\n",
       "    <tr>\n",
       "      <th>3</th>\n",
       "      <td>32</td>\n",
       "      <td>7000</td>\n",
       "      <td>1</td>\n",
       "      <td>0</td>\n",
       "      <td>218.750000</td>\n",
       "      <td>0</td>\n",
       "      <td>0</td>\n",
       "      <td>1</td>\n",
       "      <td>0</td>\n",
       "      <td>0</td>\n",
       "      <td>...</td>\n",
       "      <td>0</td>\n",
       "      <td>1</td>\n",
       "      <td>0</td>\n",
       "      <td>0</td>\n",
       "      <td>0</td>\n",
       "      <td>1</td>\n",
       "      <td>0</td>\n",
       "      <td>0</td>\n",
       "      <td>0</td>\n",
       "      <td>0</td>\n",
       "    </tr>\n",
       "    <tr>\n",
       "      <th>4</th>\n",
       "      <td>57</td>\n",
       "      <td>3800</td>\n",
       "      <td>2</td>\n",
       "      <td>1</td>\n",
       "      <td>66.666667</td>\n",
       "      <td>0</td>\n",
       "      <td>1</td>\n",
       "      <td>0</td>\n",
       "      <td>0</td>\n",
       "      <td>0</td>\n",
       "      <td>...</td>\n",
       "      <td>0</td>\n",
       "      <td>1</td>\n",
       "      <td>0</td>\n",
       "      <td>0</td>\n",
       "      <td>0</td>\n",
       "      <td>0</td>\n",
       "      <td>1</td>\n",
       "      <td>0</td>\n",
       "      <td>0</td>\n",
       "      <td>0</td>\n",
       "    </tr>\n",
       "  </tbody>\n",
       "</table>\n",
       "<p>5 rows × 41 columns</p>\n",
       "</div>"
      ],
      "text/plain": [
       "   mianji  price  room  living_rooms  unit_price  chaoxiang_其他  \\\n",
       "0      66   4600     2             1   69.696970             0   \n",
       "1      50   3700     1             1   74.000000             0   \n",
       "2      89   7500     3             2   84.269663             0   \n",
       "3      32   7000     1             0  218.750000             0   \n",
       "4      57   3800     2             1   66.666667             0   \n",
       "\n",
       "   chaoxiang_无朝向数据  chaoxiang_朝南  chaoxiang_朝南北  kanguo_0   ...     region_黄浦  \\\n",
       "0                0             1              0         0   ...             0   \n",
       "1                0             0              1         0   ...             0   \n",
       "2                0             0              1         0   ...             0   \n",
       "3                0             1              0         0   ...             0   \n",
       "4                1             0              0         0   ...             0   \n",
       "\n",
       "   water_supply_region_中  water_supply_region_低  water_supply_region_无  \\\n",
       "0                      1                      0                      0   \n",
       "1                      0                      0                      0   \n",
       "2                      1                      0                      0   \n",
       "3                      1                      0                      0   \n",
       "4                      1                      0                      0   \n",
       "\n",
       "   water_supply_region_高  floor_0  floor_1  floor_2  floor_3  floor_4  \n",
       "0                      0        0        1        0        0        0  \n",
       "1                      1        0        1        0        0        0  \n",
       "2                      0        0        0        1        0        0  \n",
       "3                      0        1        0        0        0        0  \n",
       "4                      0        0        1        0        0        0  \n",
       "\n",
       "[5 rows x 41 columns]"
      ]
     },
     "execution_count": 73,
     "metadata": {},
     "output_type": "execute_result"
    }
   ],
   "source": [
    "#one_hot编码http://blog.csdn.net/lujiandong1/article/details/52836051\n",
    "new_data=pd.get_dummies(data)\n",
    "new_data.head()"
   ]
  },
  {
   "cell_type": "code",
   "execution_count": 74,
   "metadata": {
    "collapsed": true
   },
   "outputs": [],
   "source": [
    "new_data.drop('unit_price',axis=1,inplace=True)"
   ]
  },
  {
   "cell_type": "code",
   "execution_count": 75,
   "metadata": {
    "collapsed": false
   },
   "outputs": [
    {
     "data": {
      "text/plain": [
       "Index(['mianji', 'price', 'room', 'living_rooms', 'chaoxiang_其他',\n",
       "       'chaoxiang_无朝向数据', 'chaoxiang_朝南', 'chaoxiang_朝南北', 'kanguo_0',\n",
       "       'kanguo_1', 'kanguo_2', 'kanguo_3', 'kanguo_4', 'region_上海周边',\n",
       "       'region_嘉定', 'region_奉贤', 'region_宝山', 'region_崇明', 'region_徐汇',\n",
       "       'region_普陀', 'region_杨浦', 'region_松江', 'region_浦东', 'region_虹口',\n",
       "       'region_金山', 'region_长宁', 'region_闵行', 'region_闸北', 'region_青浦',\n",
       "       'region_静安', 'region_黄浦', 'water_supply_region_中',\n",
       "       'water_supply_region_低', 'water_supply_region_无',\n",
       "       'water_supply_region_高', 'floor_0', 'floor_1', 'floor_2', 'floor_3',\n",
       "       'floor_4'],\n",
       "      dtype='object')"
      ]
     },
     "execution_count": 75,
     "metadata": {},
     "output_type": "execute_result"
    }
   ],
   "source": [
    "new_data.columns"
   ]
  },
  {
   "cell_type": "code",
   "execution_count": 79,
   "metadata": {
    "collapsed": true
   },
   "outputs": [],
   "source": [
    "new_data.to_csv('new_data.csv',encoding='utf-8')"
   ]
  },
  {
   "cell_type": "markdown",
   "metadata": {},
   "source": [
    "### 2、分集"
   ]
  },
  {
   "cell_type": "code",
   "execution_count": 76,
   "metadata": {
    "collapsed": false
   },
   "outputs": [
    {
     "name": "stdout",
     "output_type": "stream",
     "text": [
      "(21790, 39)\n",
      "(9339, 39)\n",
      "(21790,)\n",
      "(9339,)\n"
     ]
    }
   ],
   "source": [
    "from sklearn.model_selection import train_test_split\n",
    "X=new_data.drop('price',axis=1).values\n",
    "y=new_data['price'].values\n",
    "X_train,X_test,y_train,y_test=train_test_split(X,y,test_size=0.3,random_state=71)\n",
    "print(X_train.shape)\n",
    "print(X_test.shape)\n",
    "print(y_train.shape)\n",
    "print(y_test.shape)"
   ]
  },
  {
   "cell_type": "markdown",
   "metadata": {},
   "source": [
    "### 3、随机森林"
   ]
  },
  {
   "cell_type": "code",
   "execution_count": 77,
   "metadata": {
    "collapsed": false
   },
   "outputs": [
    {
     "data": {
      "text/plain": [
       "RandomForestClassifier(bootstrap=True, class_weight=None, criterion='gini',\n",
       "            max_depth=10, max_features='auto', max_leaf_nodes=None,\n",
       "            min_impurity_split=1e-07, min_samples_leaf=1,\n",
       "            min_samples_split=2, min_weight_fraction_leaf=0.0,\n",
       "            n_estimators=10, n_jobs=7, oob_score=False, random_state=71,\n",
       "            verbose=0, warm_start=False)"
      ]
     },
     "execution_count": 77,
     "metadata": {},
     "output_type": "execute_result"
    }
   ],
   "source": [
    "from sklearn.ensemble import RandomForestClassifier\n",
    "from sklearn.metrics import r2_score\n",
    "rf=RandomForestClassifier(n_estimators=10,n_jobs=7,max_depth=10,random_state=71)\n",
    "rf.fit(X_train,y_train)"
   ]
  },
  {
   "cell_type": "code",
   "execution_count": 78,
   "metadata": {
    "collapsed": false
   },
   "outputs": [
    {
     "name": "stdout",
     "output_type": "stream",
     "text": [
      "R^2 train: 0.666, test: 0.390\n"
     ]
    }
   ],
   "source": [
    "y_train_pred = rf.predict(X_train)\n",
    "y_test_pred = rf.predict(X_test)\n",
    "print(\"R^2 train: %.3f, test: %.3f\" % (r2_score(y_train, y_train_pred), r2_score(y_test, y_test_pred)))"
   ]
  },
  {
   "cell_type": "code",
   "execution_count": null,
   "metadata": {
    "collapsed": true
   },
   "outputs": [],
   "source": []
  },
  {
   "cell_type": "code",
   "execution_count": null,
   "metadata": {
    "collapsed": true
   },
   "outputs": [],
   "source": []
  },
  {
   "cell_type": "code",
   "execution_count": null,
   "metadata": {
    "collapsed": true
   },
   "outputs": [],
   "source": []
  },
  {
   "cell_type": "code",
   "execution_count": null,
   "metadata": {
    "collapsed": true
   },
   "outputs": [],
   "source": []
  },
  {
   "cell_type": "code",
   "execution_count": null,
   "metadata": {
    "collapsed": true
   },
   "outputs": [],
   "source": []
  },
  {
   "cell_type": "code",
   "execution_count": null,
   "metadata": {
    "collapsed": true
   },
   "outputs": [],
   "source": []
  }
 ],
 "metadata": {
  "kernelspec": {
   "display_name": "Python 3",
   "language": "python",
   "name": "python3"
  },
  "language_info": {
   "codemirror_mode": {
    "name": "ipython",
    "version": 3
   },
   "file_extension": ".py",
   "mimetype": "text/x-python",
   "name": "python",
   "nbconvert_exporter": "python",
   "pygments_lexer": "ipython3",
   "version": "3.6.0"
  }
 },
 "nbformat": 4,
 "nbformat_minor": 2
}
