{
 "cells": [
  {
   "cell_type": "markdown",
   "metadata": {
    "deletable": true,
    "editable": true
   },
   "source": [
    "# **链家网上海租房数据分析**"
   ]
  },
  {
   "cell_type": "markdown",
   "metadata": {
    "deletable": true,
    "editable": true
   },
   "source": [
    "## 一、数据读取"
   ]
  },
  {
   "cell_type": "code",
   "execution_count": 1,
   "metadata": {
    "collapsed": false,
    "deletable": true,
    "editable": true,
    "scrolled": false
   },
   "outputs": [
    {
     "data": {
      "text/html": [
       "<div>\n",
       "<table border=\"1\" class=\"dataframe\">\n",
       "  <thead>\n",
       "    <tr style=\"text-align: right;\">\n",
       "      <th></th>\n",
       "      <th>ceng</th>\n",
       "      <th>chaoxiang</th>\n",
       "      <th>date</th>\n",
       "      <th>kanguo</th>\n",
       "      <th>mianji</th>\n",
       "      <th>price</th>\n",
       "      <th>region</th>\n",
       "      <th>shiting</th>\n",
       "      <th>street</th>\n",
       "      <th>title</th>\n",
       "      <th>xiaoqu</th>\n",
       "    </tr>\n",
       "  </thead>\n",
       "  <tbody>\n",
       "    <tr>\n",
       "      <th>0</th>\n",
       "      <td>中区/8层</td>\n",
       "      <td>朝南</td>\n",
       "      <td>2017.08.20\\n\\t\\t\\t\\t\\t\\t\\t上架</td>\n",
       "      <td>17</td>\n",
       "      <td>66平</td>\n",
       "      <td>4600</td>\n",
       "      <td>浦东</td>\n",
       "      <td>2室1厅</td>\n",
       "      <td>唐镇</td>\n",
       "      <td>好房好心情，钥匙在链家，受欢迎好房，精致户型</td>\n",
       "      <td>毕加索小镇（一期）（公寓）</td>\n",
       "    </tr>\n",
       "    <tr>\n",
       "      <th>1</th>\n",
       "      <td>高区/7层</td>\n",
       "      <td>朝南北</td>\n",
       "      <td>2017.08.19\\n\\t\\t\\t\\t\\t\\t\\t上架</td>\n",
       "      <td>26</td>\n",
       "      <td>50平</td>\n",
       "      <td>3700</td>\n",
       "      <td>闵行</td>\n",
       "      <td>1室1厅</td>\n",
       "      <td>静安新城</td>\n",
       "      <td>静安新城，南北通，光线非常好，人气房源</td>\n",
       "      <td>静安新城（三区）</td>\n",
       "    </tr>\n",
       "    <tr>\n",
       "      <th>2</th>\n",
       "      <td>中区/11层</td>\n",
       "      <td>朝南北</td>\n",
       "      <td>2017.08.14\\n\\t\\t\\t\\t\\t\\t\\t上架</td>\n",
       "      <td>27</td>\n",
       "      <td>89平</td>\n",
       "      <td>7500</td>\n",
       "      <td>浦东</td>\n",
       "      <td>3室2厅</td>\n",
       "      <td>三林</td>\n",
       "      <td>万科金色雅筑，链家好房，3房出租，有钥匙房源</td>\n",
       "      <td>万科金色雅筑</td>\n",
       "    </tr>\n",
       "    <tr>\n",
       "      <th>3</th>\n",
       "      <td>中区/4层</td>\n",
       "      <td>朝南</td>\n",
       "      <td>2017.08.13\\n\\t\\t\\t\\t\\t\\t\\t上架</td>\n",
       "      <td>11</td>\n",
       "      <td>32平</td>\n",
       "      <td>7000</td>\n",
       "      <td>静安</td>\n",
       "      <td>1室0厅</td>\n",
       "      <td>南京西路</td>\n",
       "      <td>升平小区，低楼层，实地看房，上门实拍</td>\n",
       "      <td>升平小区</td>\n",
       "    </tr>\n",
       "    <tr>\n",
       "      <th>4</th>\n",
       "      <td>中区/6层</td>\n",
       "      <td>无朝向数据</td>\n",
       "      <td>2017.08.09\\n\\t\\t\\t\\t\\t\\t\\t上架</td>\n",
       "      <td>24</td>\n",
       "      <td>57平</td>\n",
       "      <td>3800</td>\n",
       "      <td>杨浦</td>\n",
       "      <td>2室1厅</td>\n",
       "      <td>中原</td>\n",
       "      <td>市光三村，交通方便，放心好房，有钥匙方便看</td>\n",
       "      <td>市光三村</td>\n",
       "    </tr>\n",
       "  </tbody>\n",
       "</table>\n",
       "</div>"
      ],
      "text/plain": [
       "     ceng chaoxiang                          date  kanguo mianji  price  \\\n",
       "0   中区/8层        朝南  2017.08.20\\n\\t\\t\\t\\t\\t\\t\\t上架      17  66平     4600   \n",
       "1   高区/7层       朝南北  2017.08.19\\n\\t\\t\\t\\t\\t\\t\\t上架      26  50平     3700   \n",
       "2  中区/11层       朝南北  2017.08.14\\n\\t\\t\\t\\t\\t\\t\\t上架      27  89平     7500   \n",
       "3   中区/4层        朝南  2017.08.13\\n\\t\\t\\t\\t\\t\\t\\t上架      11  32平     7000   \n",
       "4   中区/6层     无朝向数据  2017.08.09\\n\\t\\t\\t\\t\\t\\t\\t上架      24  57平     3800   \n",
       "\n",
       "  region shiting street                   title         xiaoqu  \n",
       "0     浦东  2室1厅       唐镇  好房好心情，钥匙在链家，受欢迎好房，精致户型  毕加索小镇（一期）（公寓）  \n",
       "1     闵行  1室1厅     静安新城     静安新城，南北通，光线非常好，人气房源       静安新城（三区）  \n",
       "2     浦东  3室2厅       三林  万科金色雅筑，链家好房，3房出租，有钥匙房源         万科金色雅筑  \n",
       "3     静安  1室0厅     南京西路      升平小区，低楼层，实地看房，上门实拍           升平小区  \n",
       "4     杨浦  2室1厅       中原   市光三村，交通方便，放心好房，有钥匙方便看           市光三村  "
      ]
     },
     "execution_count": 1,
     "metadata": {},
     "output_type": "execute_result"
    }
   ],
   "source": [
    "import seaborn as sns\n",
    "import pandas as pd \n",
    "import numpy as np\n",
    "import matplotlib.pyplot as plt\n",
    "\n",
    "data = pd.read_excel(\"链家网上海租房信息汇总.xlsx\")\n",
    "data.head()"
   ]
  },
  {
   "cell_type": "markdown",
   "metadata": {
    "deletable": true,
    "editable": true
   },
   "source": [
    "## 二、数据概况"
   ]
  },
  {
   "cell_type": "code",
   "execution_count": 2,
   "metadata": {
    "collapsed": false,
    "deletable": true,
    "editable": true
   },
   "outputs": [
    {
     "name": "stdout",
     "output_type": "stream",
     "text": [
      "<class 'pandas.core.frame.DataFrame'>\n",
      "Int64Index: 31129 entries, 0 to 31128\n",
      "Data columns (total 11 columns):\n",
      "ceng         31129 non-null object\n",
      "chaoxiang    31129 non-null object\n",
      "date         31129 non-null object\n",
      "kanguo       31129 non-null int64\n",
      "mianji       31129 non-null object\n",
      "price        31129 non-null int64\n",
      "region       31129 non-null object\n",
      "shiting      31129 non-null object\n",
      "street       31129 non-null object\n",
      "title        31129 non-null object\n",
      "xiaoqu       31129 non-null object\n",
      "dtypes: int64(2), object(9)\n",
      "memory usage: 2.8+ MB\n"
     ]
    }
   ],
   "source": [
    "data.info()"
   ]
  },
  {
   "cell_type": "code",
   "execution_count": 3,
   "metadata": {
    "collapsed": false,
    "deletable": true,
    "editable": true
   },
   "outputs": [
    {
     "data": {
      "text/plain": [
       "ceng         0\n",
       "chaoxiang    0\n",
       "date         0\n",
       "kanguo       0\n",
       "mianji       0\n",
       "price        0\n",
       "region       0\n",
       "shiting      0\n",
       "street       0\n",
       "title        0\n",
       "xiaoqu       0\n",
       "dtype: int64"
      ]
     },
     "execution_count": 3,
     "metadata": {},
     "output_type": "execute_result"
    }
   ],
   "source": [
    "data.apply(lambda x : sum(x.isnull()))"
   ]
  },
  {
   "cell_type": "code",
   "execution_count": 4,
   "metadata": {
    "collapsed": false,
    "deletable": true,
    "editable": true
   },
   "outputs": [
    {
     "data": {
      "text/html": [
       "<div>\n",
       "<table border=\"1\" class=\"dataframe\">\n",
       "  <thead>\n",
       "    <tr style=\"text-align: right;\">\n",
       "      <th></th>\n",
       "      <th>ceng</th>\n",
       "      <th>chaoxiang</th>\n",
       "      <th>date</th>\n",
       "      <th>kanguo</th>\n",
       "      <th>mianji</th>\n",
       "      <th>price</th>\n",
       "      <th>region</th>\n",
       "      <th>shiting</th>\n",
       "      <th>street</th>\n",
       "      <th>title</th>\n",
       "      <th>xiaoqu</th>\n",
       "    </tr>\n",
       "  </thead>\n",
       "  <tbody>\n",
       "    <tr>\n",
       "      <th>1652</th>\n",
       "      <td>低区/3层</td>\n",
       "      <td>朝南北</td>\n",
       "      <td>2017.08.12\\n\\t\\t\\t\\t\\t\\t\\t上架</td>\n",
       "      <td>7</td>\n",
       "      <td>740平</td>\n",
       "      <td>180000</td>\n",
       "      <td>黄浦</td>\n",
       "      <td>9室2厅</td>\n",
       "      <td>淮海中路</td>\n",
       "      <td>曲园，房型正气，低楼层，链家房源</td>\n",
       "      <td>曲园</td>\n",
       "    </tr>\n",
       "    <tr>\n",
       "      <th>2286</th>\n",
       "      <td>低区/3层</td>\n",
       "      <td>朝南</td>\n",
       "      <td>2017.03.08\\n\\t\\t\\t\\t\\t\\t\\t上架</td>\n",
       "      <td>6</td>\n",
       "      <td>394平</td>\n",
       "      <td>120000</td>\n",
       "      <td>静安</td>\n",
       "      <td>6室2厅</td>\n",
       "      <td>静安寺</td>\n",
       "      <td>钥匙在店，出行方便，实地看房，低楼层</td>\n",
       "      <td>乌鲁木齐中路15弄</td>\n",
       "    </tr>\n",
       "    <tr>\n",
       "      <th>4669</th>\n",
       "      <td>地上2层</td>\n",
       "      <td>无朝向数据</td>\n",
       "      <td>2017.08.11\\n\\t\\t\\t\\t\\t\\t\\t上架</td>\n",
       "      <td>12</td>\n",
       "      <td>806平</td>\n",
       "      <td>130000</td>\n",
       "      <td>浦东</td>\n",
       "      <td>5室4厅</td>\n",
       "      <td>花木</td>\n",
       "      <td>御翠园，好房待租，近地铁，上门实拍</td>\n",
       "      <td>御翠园</td>\n",
       "    </tr>\n",
       "    <tr>\n",
       "      <th>6331</th>\n",
       "      <td>地上2层</td>\n",
       "      <td>无朝向数据</td>\n",
       "      <td>2017.05.07\\n\\t\\t\\t\\t\\t\\t\\t上架</td>\n",
       "      <td>13</td>\n",
       "      <td>483平</td>\n",
       "      <td>120000</td>\n",
       "      <td>浦东</td>\n",
       "      <td>5室3厅</td>\n",
       "      <td>花木</td>\n",
       "      <td>御翠园，多次带看，近地铁，5室3厅6卫</td>\n",
       "      <td>御翠园</td>\n",
       "    </tr>\n",
       "    <tr>\n",
       "      <th>8658</th>\n",
       "      <td>低区/4层</td>\n",
       "      <td>朝南北</td>\n",
       "      <td>2017.03.03\\n\\t\\t\\t\\t\\t\\t\\t上架</td>\n",
       "      <td>4</td>\n",
       "      <td>1338平</td>\n",
       "      <td>580000</td>\n",
       "      <td>黄浦</td>\n",
       "      <td>9室9厅</td>\n",
       "      <td>人民广场</td>\n",
       "      <td>低楼层，上门实勘，近地铁，南北通</td>\n",
       "      <td>凤阳路338号</td>\n",
       "    </tr>\n",
       "    <tr>\n",
       "      <th>11181</th>\n",
       "      <td>高区/40层</td>\n",
       "      <td>朝西</td>\n",
       "      <td>2017.08.23\\n\\t\\t\\t\\t\\t\\t\\t上架</td>\n",
       "      <td>3</td>\n",
       "      <td>362平</td>\n",
       "      <td>120000</td>\n",
       "      <td>浦东</td>\n",
       "      <td>4室2厅</td>\n",
       "      <td>陆家嘴</td>\n",
       "      <td>在租四房，真实在租，地铁沿线，视野开阔</td>\n",
       "      <td>中粮海景壹号</td>\n",
       "    </tr>\n",
       "    <tr>\n",
       "      <th>11441</th>\n",
       "      <td>低区/1层</td>\n",
       "      <td>朝南</td>\n",
       "      <td>2017.08.02\\n\\t\\t\\t\\t\\t\\t\\t上架</td>\n",
       "      <td>6</td>\n",
       "      <td>329平</td>\n",
       "      <td>120000</td>\n",
       "      <td>静安</td>\n",
       "      <td>5室3厅</td>\n",
       "      <td>南京西路</td>\n",
       "      <td>新闸路1748号，人气房源，地铁沿线，上下楼方便</td>\n",
       "      <td>新闸路1748号</td>\n",
       "    </tr>\n",
       "    <tr>\n",
       "      <th>11826</th>\n",
       "      <td>地上2层</td>\n",
       "      <td>无朝向数据</td>\n",
       "      <td>2017.05.26\\n\\t\\t\\t\\t\\t\\t\\t上架</td>\n",
       "      <td>4</td>\n",
       "      <td>349平</td>\n",
       "      <td>105000</td>\n",
       "      <td>闵行</td>\n",
       "      <td>4室4厅</td>\n",
       "      <td>古美</td>\n",
       "      <td>万源城御溪，附近有地铁，4室4厅，实地看房</td>\n",
       "      <td>万源城御溪（别墅）</td>\n",
       "    </tr>\n",
       "    <tr>\n",
       "      <th>15288</th>\n",
       "      <td>中区/10层</td>\n",
       "      <td>朝南北</td>\n",
       "      <td>2017.07.23\\n\\t\\t\\t\\t\\t\\t\\t上架</td>\n",
       "      <td>1</td>\n",
       "      <td>324平</td>\n",
       "      <td>120000</td>\n",
       "      <td>黄浦</td>\n",
       "      <td>5室3厅</td>\n",
       "      <td>新天地</td>\n",
       "      <td>翠湖天地御苑，5室3厅，链家好房，光线充足</td>\n",
       "      <td>翠湖天地御苑</td>\n",
       "    </tr>\n",
       "    <tr>\n",
       "      <th>16396</th>\n",
       "      <td>地上2层 地下1层</td>\n",
       "      <td>无朝向数据</td>\n",
       "      <td>2017.04.29\\n\\t\\t\\t\\t\\t\\t\\t上架</td>\n",
       "      <td>1</td>\n",
       "      <td>1000平</td>\n",
       "      <td>250000</td>\n",
       "      <td>松江</td>\n",
       "      <td>5室4厅</td>\n",
       "      <td>佘山</td>\n",
       "      <td>佘山高尔夫郡，5室4厅，高清大图，附近有地铁</td>\n",
       "      <td>佘山高尔夫郡</td>\n",
       "    </tr>\n",
       "    <tr>\n",
       "      <th>20486</th>\n",
       "      <td>中区/28层</td>\n",
       "      <td>无朝向数据</td>\n",
       "      <td>2017.07.05\\n\\t\\t\\t\\t\\t\\t\\t上架</td>\n",
       "      <td>1</td>\n",
       "      <td>268平</td>\n",
       "      <td>230000</td>\n",
       "      <td>黄浦</td>\n",
       "      <td>4室2厅</td>\n",
       "      <td>淮海中路</td>\n",
       "      <td>凯德茂名公馆，有爱有家，交通便利，大气四室</td>\n",
       "      <td>凯德茂名公馆</td>\n",
       "    </tr>\n",
       "    <tr>\n",
       "      <th>20993</th>\n",
       "      <td>地上46层</td>\n",
       "      <td>无朝向数据</td>\n",
       "      <td>2017.08.25\\n\\t\\t\\t\\t\\t\\t\\t上架</td>\n",
       "      <td>0</td>\n",
       "      <td>593平</td>\n",
       "      <td>150000</td>\n",
       "      <td>闸北</td>\n",
       "      <td>6室2厅</td>\n",
       "      <td>西藏北路</td>\n",
       "      <td>华侨城苏河湾，生活很便利，6室2厅3卫，真实在租</td>\n",
       "      <td>华侨城苏河湾（别墅）</td>\n",
       "    </tr>\n",
       "    <tr>\n",
       "      <th>21028</th>\n",
       "      <td>高区/62层</td>\n",
       "      <td>无朝向数据</td>\n",
       "      <td>2017.04.29\\n\\t\\t\\t\\t\\t\\t\\t上架</td>\n",
       "      <td>1</td>\n",
       "      <td>326平</td>\n",
       "      <td>110000</td>\n",
       "      <td>闸北</td>\n",
       "      <td>4室2厅</td>\n",
       "      <td>西藏北路</td>\n",
       "      <td>华侨城苏河湾，链家好房，高区阳光房，生活很便利</td>\n",
       "      <td>华侨城苏河湾（公寓）</td>\n",
       "    </tr>\n",
       "    <tr>\n",
       "      <th>21152</th>\n",
       "      <td>地上2层</td>\n",
       "      <td>无朝向数据</td>\n",
       "      <td>2017.04.03\\n\\t\\t\\t\\t\\t\\t\\t上架</td>\n",
       "      <td>0</td>\n",
       "      <td>576平</td>\n",
       "      <td>120000</td>\n",
       "      <td>浦东</td>\n",
       "      <td>6室2厅</td>\n",
       "      <td>花木</td>\n",
       "      <td>御翠园，附近有地铁，如您所见，6室2厅</td>\n",
       "      <td>御翠园</td>\n",
       "    </tr>\n",
       "    <tr>\n",
       "      <th>22092</th>\n",
       "      <td>地上2层</td>\n",
       "      <td>无朝向数据</td>\n",
       "      <td>2017.01.19\\n\\t\\t\\t\\t\\t\\t\\t上架</td>\n",
       "      <td>3</td>\n",
       "      <td>1011平</td>\n",
       "      <td>400000</td>\n",
       "      <td>长宁</td>\n",
       "      <td>6室3厅</td>\n",
       "      <td>西郊</td>\n",
       "      <td>檀宫，上门实拍，人气房源，如您所见</td>\n",
       "      <td>檀宫</td>\n",
       "    </tr>\n",
       "    <tr>\n",
       "      <th>22466</th>\n",
       "      <td>低区/1层</td>\n",
       "      <td>无朝向数据</td>\n",
       "      <td>2017.08.02\\n\\t\\t\\t\\t\\t\\t\\t上架</td>\n",
       "      <td>0</td>\n",
       "      <td>330平</td>\n",
       "      <td>111600</td>\n",
       "      <td>闵行</td>\n",
       "      <td>3室0厅</td>\n",
       "      <td>古美</td>\n",
       "      <td>万源路440，442,446,448号，上下楼方便，3房出租，地铁沿线</td>\n",
       "      <td>万源路440，442,446,448号</td>\n",
       "    </tr>\n",
       "    <tr>\n",
       "      <th>24144</th>\n",
       "      <td>高区/62层</td>\n",
       "      <td>无朝向数据</td>\n",
       "      <td>2017.08.08\\n\\t\\t\\t\\t\\t\\t\\t上架</td>\n",
       "      <td>0</td>\n",
       "      <td>325平</td>\n",
       "      <td>120000</td>\n",
       "      <td>闸北</td>\n",
       "      <td>4室2厅</td>\n",
       "      <td>西藏北路</td>\n",
       "      <td>4室2厅3卫，附近有地铁，享受好房，光线棒</td>\n",
       "      <td>华侨城苏河湾（公寓）</td>\n",
       "    </tr>\n",
       "    <tr>\n",
       "      <th>24364</th>\n",
       "      <td>低区/3层</td>\n",
       "      <td>朝南</td>\n",
       "      <td>2017.01.06\\n\\t\\t\\t\\t\\t\\t\\t上架</td>\n",
       "      <td>1</td>\n",
       "      <td>298平</td>\n",
       "      <td>180000</td>\n",
       "      <td>长宁</td>\n",
       "      <td>4室3厅</td>\n",
       "      <td>镇宁路</td>\n",
       "      <td>4室3厅4卫，低区出入方便，近地铁，链家好房</td>\n",
       "      <td>卫乐园</td>\n",
       "    </tr>\n",
       "    <tr>\n",
       "      <th>29149</th>\n",
       "      <td>中区/18层</td>\n",
       "      <td>朝西南</td>\n",
       "      <td>2017.07.23\\n\\t\\t\\t\\t\\t\\t\\t上架</td>\n",
       "      <td>0</td>\n",
       "      <td>345平</td>\n",
       "      <td>108000</td>\n",
       "      <td>浦东</td>\n",
       "      <td>4室2厅</td>\n",
       "      <td>陆家嘴</td>\n",
       "      <td>滨江凯旋门，有爱有家，空气清新，大气四室</td>\n",
       "      <td>滨江凯旋门</td>\n",
       "    </tr>\n",
       "    <tr>\n",
       "      <th>29362</th>\n",
       "      <td>地上2层</td>\n",
       "      <td>无朝向数据</td>\n",
       "      <td>2017.06.02\\n\\t\\t\\t\\t\\t\\t\\t上架</td>\n",
       "      <td>3</td>\n",
       "      <td>450平</td>\n",
       "      <td>200000</td>\n",
       "      <td>浦东</td>\n",
       "      <td>7室4厅</td>\n",
       "      <td>花木</td>\n",
       "      <td>九间堂，7室4厅，享受好房</td>\n",
       "      <td>九间堂</td>\n",
       "    </tr>\n",
       "    <tr>\n",
       "      <th>29510</th>\n",
       "      <td>地上3层</td>\n",
       "      <td>无朝向数据</td>\n",
       "      <td>2017.05.10\\n\\t\\t\\t\\t\\t\\t\\t上架</td>\n",
       "      <td>0</td>\n",
       "      <td>395平</td>\n",
       "      <td>120000</td>\n",
       "      <td>浦东</td>\n",
       "      <td>5室2厅</td>\n",
       "      <td>花木</td>\n",
       "      <td>四季雅苑，如您所见，5室2厅3卫</td>\n",
       "      <td>四季雅苑（别墅）</td>\n",
       "    </tr>\n",
       "    <tr>\n",
       "      <th>29599</th>\n",
       "      <td>地上3层</td>\n",
       "      <td>无朝向数据</td>\n",
       "      <td>2017.04.21\\n\\t\\t\\t\\t\\t\\t\\t上架</td>\n",
       "      <td>0</td>\n",
       "      <td>863平</td>\n",
       "      <td>120000</td>\n",
       "      <td>浦东</td>\n",
       "      <td>8室4厅</td>\n",
       "      <td>张江</td>\n",
       "      <td>汤臣高尔夫，如您所见，南北户型，8室4厅</td>\n",
       "      <td>汤臣高尔夫（别墅）</td>\n",
       "    </tr>\n",
       "    <tr>\n",
       "      <th>29931</th>\n",
       "      <td>低区/1层</td>\n",
       "      <td>无朝向数据</td>\n",
       "      <td>2017.08.14\\n\\t\\t\\t\\t\\t\\t\\t上架</td>\n",
       "      <td>4</td>\n",
       "      <td>3577平</td>\n",
       "      <td>500000</td>\n",
       "      <td>青浦</td>\n",
       "      <td>9室5厅</td>\n",
       "      <td>徐泾</td>\n",
       "      <td>西郊大公馆，上下楼方便，好房好心情，9室5厅6卫</td>\n",
       "      <td>西郊大公馆</td>\n",
       "    </tr>\n",
       "    <tr>\n",
       "      <th>30602</th>\n",
       "      <td>地上3层</td>\n",
       "      <td>无朝向数据</td>\n",
       "      <td>2017.08.14\\n\\t\\t\\t\\t\\t\\t\\t上架</td>\n",
       "      <td>0</td>\n",
       "      <td>572平</td>\n",
       "      <td>120000</td>\n",
       "      <td>浦东</td>\n",
       "      <td>5室2厅</td>\n",
       "      <td>张江</td>\n",
       "      <td>汤臣湖庭，一链倾城，5室2厅</td>\n",
       "      <td>汤臣湖庭（别墅）</td>\n",
       "    </tr>\n",
       "    <tr>\n",
       "      <th>30655</th>\n",
       "      <td>地上2层</td>\n",
       "      <td>无朝向数据</td>\n",
       "      <td>2017.08.06\\n\\t\\t\\t\\t\\t\\t\\t上架</td>\n",
       "      <td>0</td>\n",
       "      <td>798平</td>\n",
       "      <td>200000</td>\n",
       "      <td>闵行</td>\n",
       "      <td>7室4厅</td>\n",
       "      <td>马桥</td>\n",
       "      <td>绿城玫瑰园，7室4厅，好房待租</td>\n",
       "      <td>绿城玫瑰园</td>\n",
       "    </tr>\n",
       "  </tbody>\n",
       "</table>\n",
       "</div>"
      ],
      "text/plain": [
       "            ceng chaoxiang                          date  kanguo   mianji  \\\n",
       "1652       低区/3层       朝南北  2017.08.12\\n\\t\\t\\t\\t\\t\\t\\t上架       7   740平     \n",
       "2286       低区/3层        朝南  2017.03.08\\n\\t\\t\\t\\t\\t\\t\\t上架       6   394平     \n",
       "4669        地上2层     无朝向数据  2017.08.11\\n\\t\\t\\t\\t\\t\\t\\t上架      12   806平     \n",
       "6331        地上2层     无朝向数据  2017.05.07\\n\\t\\t\\t\\t\\t\\t\\t上架      13   483平     \n",
       "8658       低区/4层       朝南北  2017.03.03\\n\\t\\t\\t\\t\\t\\t\\t上架       4  1338平     \n",
       "11181     高区/40层        朝西  2017.08.23\\n\\t\\t\\t\\t\\t\\t\\t上架       3   362平     \n",
       "11441      低区/1层        朝南  2017.08.02\\n\\t\\t\\t\\t\\t\\t\\t上架       6   329平     \n",
       "11826       地上2层     无朝向数据  2017.05.26\\n\\t\\t\\t\\t\\t\\t\\t上架       4   349平     \n",
       "15288     中区/10层       朝南北  2017.07.23\\n\\t\\t\\t\\t\\t\\t\\t上架       1   324平     \n",
       "16396  地上2层 地下1层     无朝向数据  2017.04.29\\n\\t\\t\\t\\t\\t\\t\\t上架       1  1000平     \n",
       "20486     中区/28层     无朝向数据  2017.07.05\\n\\t\\t\\t\\t\\t\\t\\t上架       1   268平     \n",
       "20993      地上46层     无朝向数据  2017.08.25\\n\\t\\t\\t\\t\\t\\t\\t上架       0   593平     \n",
       "21028     高区/62层     无朝向数据  2017.04.29\\n\\t\\t\\t\\t\\t\\t\\t上架       1   326平     \n",
       "21152       地上2层     无朝向数据  2017.04.03\\n\\t\\t\\t\\t\\t\\t\\t上架       0   576平     \n",
       "22092       地上2层     无朝向数据  2017.01.19\\n\\t\\t\\t\\t\\t\\t\\t上架       3  1011平     \n",
       "22466      低区/1层     无朝向数据  2017.08.02\\n\\t\\t\\t\\t\\t\\t\\t上架       0   330平     \n",
       "24144     高区/62层     无朝向数据  2017.08.08\\n\\t\\t\\t\\t\\t\\t\\t上架       0   325平     \n",
       "24364      低区/3层        朝南  2017.01.06\\n\\t\\t\\t\\t\\t\\t\\t上架       1   298平     \n",
       "29149     中区/18层       朝西南  2017.07.23\\n\\t\\t\\t\\t\\t\\t\\t上架       0   345平     \n",
       "29362       地上2层     无朝向数据  2017.06.02\\n\\t\\t\\t\\t\\t\\t\\t上架       3   450平     \n",
       "29510       地上3层     无朝向数据  2017.05.10\\n\\t\\t\\t\\t\\t\\t\\t上架       0   395平     \n",
       "29599       地上3层     无朝向数据  2017.04.21\\n\\t\\t\\t\\t\\t\\t\\t上架       0   863平     \n",
       "29931      低区/1层     无朝向数据  2017.08.14\\n\\t\\t\\t\\t\\t\\t\\t上架       4  3577平     \n",
       "30602       地上3层     无朝向数据  2017.08.14\\n\\t\\t\\t\\t\\t\\t\\t上架       0   572平     \n",
       "30655       地上2层     无朝向数据  2017.08.06\\n\\t\\t\\t\\t\\t\\t\\t上架       0   798平     \n",
       "\n",
       "        price region shiting street                                title  \\\n",
       "1652   180000     黄浦  9室2厅     淮海中路                     曲园，房型正气，低楼层，链家房源   \n",
       "2286   120000     静安  6室2厅      静安寺                   钥匙在店，出行方便，实地看房，低楼层   \n",
       "4669   130000     浦东  5室4厅       花木                    御翠园，好房待租，近地铁，上门实拍   \n",
       "6331   120000     浦东  5室3厅       花木                  御翠园，多次带看，近地铁，5室3厅6卫   \n",
       "8658   580000     黄浦  9室9厅     人民广场                     低楼层，上门实勘，近地铁，南北通   \n",
       "11181  120000     浦东  4室2厅      陆家嘴                  在租四房，真实在租，地铁沿线，视野开阔   \n",
       "11441  120000     静安  5室3厅     南京西路             新闸路1748号，人气房源，地铁沿线，上下楼方便   \n",
       "11826  105000     闵行  4室4厅       古美                万源城御溪，附近有地铁，4室4厅，实地看房   \n",
       "15288  120000     黄浦  5室3厅      新天地                翠湖天地御苑，5室3厅，链家好房，光线充足   \n",
       "16396  250000     松江  5室4厅       佘山               佘山高尔夫郡，5室4厅，高清大图，附近有地铁   \n",
       "20486  230000     黄浦  4室2厅     淮海中路                凯德茂名公馆，有爱有家，交通便利，大气四室   \n",
       "20993  150000     闸北  6室2厅     西藏北路             华侨城苏河湾，生活很便利，6室2厅3卫，真实在租   \n",
       "21028  110000     闸北  4室2厅     西藏北路              华侨城苏河湾，链家好房，高区阳光房，生活很便利   \n",
       "21152  120000     浦东  6室2厅       花木                  御翠园，附近有地铁，如您所见，6室2厅   \n",
       "22092  400000     长宁  6室3厅       西郊                    檀宫，上门实拍，人气房源，如您所见   \n",
       "22466  111600     闵行  3室0厅       古美  万源路440，442,446,448号，上下楼方便，3房出租，地铁沿线   \n",
       "24144  120000     闸北  4室2厅     西藏北路                4室2厅3卫，附近有地铁，享受好房，光线棒   \n",
       "24364  180000     长宁  4室3厅      镇宁路               4室3厅4卫，低区出入方便，近地铁，链家好房   \n",
       "29149  108000     浦东  4室2厅      陆家嘴                 滨江凯旋门，有爱有家，空气清新，大气四室   \n",
       "29362  200000     浦东  7室4厅       花木                        九间堂，7室4厅，享受好房   \n",
       "29510  120000     浦东  5室2厅       花木                     四季雅苑，如您所见，5室2厅3卫   \n",
       "29599  120000     浦东  8室4厅       张江                 汤臣高尔夫，如您所见，南北户型，8室4厅   \n",
       "29931  500000     青浦  9室5厅       徐泾             西郊大公馆，上下楼方便，好房好心情，9室5厅6卫   \n",
       "30602  120000     浦东  5室2厅       张江                       汤臣湖庭，一链倾城，5室2厅   \n",
       "30655  200000     闵行  7室4厅       马桥                      绿城玫瑰园，7室4厅，好房待租   \n",
       "\n",
       "                    xiaoqu  \n",
       "1652                    曲园  \n",
       "2286             乌鲁木齐中路15弄  \n",
       "4669                   御翠园  \n",
       "6331                   御翠园  \n",
       "8658               凤阳路338号  \n",
       "11181               中粮海景壹号  \n",
       "11441             新闸路1748号  \n",
       "11826            万源城御溪（别墅）  \n",
       "15288               翠湖天地御苑  \n",
       "16396               佘山高尔夫郡  \n",
       "20486               凯德茂名公馆  \n",
       "20993           华侨城苏河湾（别墅）  \n",
       "21028           华侨城苏河湾（公寓）  \n",
       "21152                  御翠园  \n",
       "22092                   檀宫  \n",
       "22466  万源路440，442,446,448号  \n",
       "24144           华侨城苏河湾（公寓）  \n",
       "24364                  卫乐园  \n",
       "29149                滨江凯旋门  \n",
       "29362                  九间堂  \n",
       "29510             四季雅苑（别墅）  \n",
       "29599            汤臣高尔夫（别墅）  \n",
       "29931                西郊大公馆  \n",
       "30602             汤臣湖庭（别墅）  \n",
       "30655                绿城玫瑰园  "
      ]
     },
     "execution_count": 4,
     "metadata": {},
     "output_type": "execute_result"
    }
   ],
   "source": [
    "data[data[\"price\"] > 100000]"
   ]
  },
  {
   "cell_type": "code",
   "execution_count": 5,
   "metadata": {
    "collapsed": false,
    "deletable": true,
    "editable": true
   },
   "outputs": [
    {
     "data": {
      "image/png": "[encoded data removed]",
      "text/plain": [
       "<matplotlib.figure.Figure at 0x17579d64518>"
      ]
     },
     "metadata": {},
     "output_type": "display_data"
    }
   ],
   "source": [
    "from pylab import *  \n",
    "mpl.rcParams['font.sans-serif'] = ['SimHei']  \n",
    "data[\"price\"].plot(kind = \"box\", fontsize = 15)\n",
    "plt.ylim(0,50000)\n",
    "plt.title(\"上海租房价格分布箱线图\")\n",
    "plt.show()"
   ]
  },
  {
   "cell_type": "markdown",
   "metadata": {
    "deletable": true,
    "editable": true
   },
   "source": [
    "## 三、数据清洗和探索分析"
   ]
  },
  {
   "cell_type": "code",
   "execution_count": 6,
   "metadata": {
    "collapsed": false,
    "deletable": true,
    "editable": true
   },
   "outputs": [
    {
     "data": {
      "text/html": [
       "<div>\n",
       "<table border=\"1\" class=\"dataframe\">\n",
       "  <thead>\n",
       "    <tr style=\"text-align: right;\">\n",
       "      <th></th>\n",
       "      <th>ceng</th>\n",
       "      <th>chaoxiang</th>\n",
       "      <th>date</th>\n",
       "      <th>kanguo</th>\n",
       "      <th>mianji</th>\n",
       "      <th>price</th>\n",
       "      <th>region</th>\n",
       "      <th>shiting</th>\n",
       "      <th>street</th>\n",
       "      <th>title</th>\n",
       "      <th>xiaoqu</th>\n",
       "    </tr>\n",
       "  </thead>\n",
       "  <tbody>\n",
       "    <tr>\n",
       "      <th>0</th>\n",
       "      <td>中区/8层</td>\n",
       "      <td>朝南</td>\n",
       "      <td>2017.08.20\\n\\t\\t\\t\\t\\t\\t\\t上架</td>\n",
       "      <td>17</td>\n",
       "      <td>66平</td>\n",
       "      <td>4600</td>\n",
       "      <td>浦东</td>\n",
       "      <td>2室1厅</td>\n",
       "      <td>唐镇</td>\n",
       "      <td>好房好心情，钥匙在链家，受欢迎好房，精致户型</td>\n",
       "      <td>毕加索小镇（一期）（公寓）</td>\n",
       "    </tr>\n",
       "    <tr>\n",
       "      <th>1</th>\n",
       "      <td>高区/7层</td>\n",
       "      <td>朝南北</td>\n",
       "      <td>2017.08.19\\n\\t\\t\\t\\t\\t\\t\\t上架</td>\n",
       "      <td>26</td>\n",
       "      <td>50平</td>\n",
       "      <td>3700</td>\n",
       "      <td>闵行</td>\n",
       "      <td>1室1厅</td>\n",
       "      <td>静安新城</td>\n",
       "      <td>静安新城，南北通，光线非常好，人气房源</td>\n",
       "      <td>静安新城（三区）</td>\n",
       "    </tr>\n",
       "    <tr>\n",
       "      <th>2</th>\n",
       "      <td>中区/11层</td>\n",
       "      <td>朝南北</td>\n",
       "      <td>2017.08.14\\n\\t\\t\\t\\t\\t\\t\\t上架</td>\n",
       "      <td>27</td>\n",
       "      <td>89平</td>\n",
       "      <td>7500</td>\n",
       "      <td>浦东</td>\n",
       "      <td>3室2厅</td>\n",
       "      <td>三林</td>\n",
       "      <td>万科金色雅筑，链家好房，3房出租，有钥匙房源</td>\n",
       "      <td>万科金色雅筑</td>\n",
       "    </tr>\n",
       "    <tr>\n",
       "      <th>3</th>\n",
       "      <td>中区/4层</td>\n",
       "      <td>朝南</td>\n",
       "      <td>2017.08.13\\n\\t\\t\\t\\t\\t\\t\\t上架</td>\n",
       "      <td>11</td>\n",
       "      <td>32平</td>\n",
       "      <td>7000</td>\n",
       "      <td>静安</td>\n",
       "      <td>1室0厅</td>\n",
       "      <td>南京西路</td>\n",
       "      <td>升平小区，低楼层，实地看房，上门实拍</td>\n",
       "      <td>升平小区</td>\n",
       "    </tr>\n",
       "    <tr>\n",
       "      <th>4</th>\n",
       "      <td>中区/6层</td>\n",
       "      <td>无朝向数据</td>\n",
       "      <td>2017.08.09\\n\\t\\t\\t\\t\\t\\t\\t上架</td>\n",
       "      <td>24</td>\n",
       "      <td>57平</td>\n",
       "      <td>3800</td>\n",
       "      <td>杨浦</td>\n",
       "      <td>2室1厅</td>\n",
       "      <td>中原</td>\n",
       "      <td>市光三村，交通方便，放心好房，有钥匙方便看</td>\n",
       "      <td>市光三村</td>\n",
       "    </tr>\n",
       "  </tbody>\n",
       "</table>\n",
       "</div>"
      ],
      "text/plain": [
       "     ceng chaoxiang                          date  kanguo mianji  price  \\\n",
       "0   中区/8层        朝南  2017.08.20\\n\\t\\t\\t\\t\\t\\t\\t上架      17  66平     4600   \n",
       "1   高区/7层       朝南北  2017.08.19\\n\\t\\t\\t\\t\\t\\t\\t上架      26  50平     3700   \n",
       "2  中区/11层       朝南北  2017.08.14\\n\\t\\t\\t\\t\\t\\t\\t上架      27  89平     7500   \n",
       "3   中区/4层        朝南  2017.08.13\\n\\t\\t\\t\\t\\t\\t\\t上架      11  32平     7000   \n",
       "4   中区/6层     无朝向数据  2017.08.09\\n\\t\\t\\t\\t\\t\\t\\t上架      24  57平     3800   \n",
       "\n",
       "  region shiting street                   title         xiaoqu  \n",
       "0     浦东  2室1厅       唐镇  好房好心情，钥匙在链家，受欢迎好房，精致户型  毕加索小镇（一期）（公寓）  \n",
       "1     闵行  1室1厅     静安新城     静安新城，南北通，光线非常好，人气房源       静安新城（三区）  \n",
       "2     浦东  3室2厅       三林  万科金色雅筑，链家好房，3房出租，有钥匙房源         万科金色雅筑  \n",
       "3     静安  1室0厅     南京西路      升平小区，低楼层，实地看房，上门实拍           升平小区  \n",
       "4     杨浦  2室1厅       中原   市光三村，交通方便，放心好房，有钥匙方便看           市光三村  "
      ]
     },
     "execution_count": 6,
     "metadata": {},
     "output_type": "execute_result"
    }
   ],
   "source": [
    "data.head()"
   ]
  },
  {
   "cell_type": "markdown",
   "metadata": {
    "deletable": true,
    "editable": true
   },
   "source": [
    "### 1、处理供水区和楼层"
   ]
  },
  {
   "cell_type": "code",
   "execution_count": 7,
   "metadata": {
    "collapsed": true,
    "deletable": true,
    "editable": true,
    "scrolled": true
   },
   "outputs": [],
   "source": [
    "import re\n",
    "a = r\"(.*?)区\"\n",
    "b = r\"\\d+\"\n",
    "\n",
    "def get_water_supply_region(x):\n",
    "    if len(re.findall(a, x)) == 0:\n",
    "        return \"无\"\n",
    "    else:\n",
    "        return re.findall(a,x)[0]\n",
    "    \n",
    "data[\"ceng\"] = data[\"ceng\"].apply(lambda x : x.strip())\n",
    "data[\"water_supply_region\"] = data[\"ceng\"].apply(get_water_supply_region)\n",
    "data[\"floor\"] = data[\"ceng\"].apply(lambda x : re.findall(b, x)[0])\n",
    "data[\"floor\"] = data[\"floor\"].astype(np.int64)\n",
    "data.drop(\"ceng\", axis = 1, inplace = True)"
   ]
  },
  {
   "cell_type": "code",
   "execution_count": 8,
   "metadata": {
    "collapsed": false,
    "deletable": true,
    "editable": true,
    "scrolled": true
   },
   "outputs": [
    {
     "data": {
      "image/png": "[encoded data removed]",
      "text/plain": [
       "<matplotlib.figure.Figure at 0x1757aa216d8>"
      ]
     },
     "metadata": {},
     "output_type": "display_data"
    }
   ],
   "source": [
    "data[\"water_supply_region\"].value_counts().plot(kind = \"bar\")\n",
    "plt.xticks(rotation = 0)\n",
    "plt.xlabel(\"供水区\")\n",
    "plt.ylabel(\"count\")\n",
    "plt.title(\"上海租房供水区分布柱状图\")\n",
    "plt.show()"
   ]
  },
  {
   "cell_type": "markdown",
   "metadata": {
    "deletable": true,
    "editable": true
   },
   "source": [
    "### 楼层切段：0为1-5层，1为6-10层，2为11-20层，3为21-30层，4为30层以上"
   ]
  },
  {
   "cell_type": "code",
   "execution_count": 9,
   "metadata": {
    "collapsed": false,
    "deletable": true,
    "editable": true
   },
   "outputs": [],
   "source": [
    "data[\"floor\"] = data[\"floor\"].apply(lambda x : 0 if (1 <= x <= 5) else x)\n",
    "data[\"floor\"] = data[\"floor\"].apply(lambda x : 1 if (6 <= x <= 10) else x)\n",
    "data[\"floor\"] = data[\"floor\"].apply(lambda x : 2 if (11 <= x <= 20) else x)\n",
    "data[\"floor\"] = data[\"floor\"].apply(lambda x : 3 if (21 <= x <= 30) else x)\n",
    "data[\"floor\"] = data[\"floor\"].apply(lambda x : 4 if (x > 30) else x)"
   ]
  },
  {
   "cell_type": "code",
   "execution_count": 10,
   "metadata": {
    "collapsed": false,
    "deletable": true,
    "editable": true
   },
   "outputs": [
    {
     "data": {
      "image/png": "[encoded data removed]",
      "text/plain": [
       "<matplotlib.figure.Figure at 0x1757ae7cb70>"
      ]
     },
     "metadata": {},
     "output_type": "display_data"
    }
   ],
   "source": [
    "aa = data[\"floor\"].value_counts()\n",
    "cc = pd.DataFrame(aa)\n",
    "cc.columns = [\"count\"]\n",
    "cc[\"floor\"] = cc.index\n",
    "cc = cc.sort_values(by = \"floor\")\n",
    "plt.bar(cc[\"floor\"], cc[\"count\"])\n",
    "plt.xticks(cc[\"floor\"], [\"1-5层\", \"6-10层\", \"11-20层\", \"21-30层\", \"30层以上\"], rotation = 0)\n",
    "plt.xlabel(\"楼层\")\n",
    "plt.ylabel(\"count\")\n",
    "plt.title(\"上海租房楼层分布柱状图\")\n",
    "plt.show()"
   ]
  },
  {
   "cell_type": "markdown",
   "metadata": {
    "deletable": true,
    "editable": true
   },
   "source": [
    "### 2、处理朝向"
   ]
  },
  {
   "cell_type": "code",
   "execution_count": 11,
   "metadata": {
    "collapsed": false,
    "deletable": true,
    "editable": true
   },
   "outputs": [
    {
     "data": {
      "text/plain": [
       "无朝向数据    14961\n",
       "朝南        8506\n",
       "朝南北       6118\n",
       "朝北         406\n",
       "朝西南        307\n",
       "朝东南        286\n",
       "朝西         182\n",
       "朝东         172\n",
       "朝西北         67\n",
       "朝东西         64\n",
       "朝东北         60\n",
       "Name: chaoxiang, dtype: int64"
      ]
     },
     "execution_count": 11,
     "metadata": {},
     "output_type": "execute_result"
    }
   ],
   "source": [
    "data[\"chaoxiang\"].value_counts()"
   ]
  },
  {
   "cell_type": "code",
   "execution_count": 12,
   "metadata": {
    "collapsed": false,
    "deletable": true,
    "editable": true
   },
   "outputs": [
    {
     "data": {
      "image/png": "[encoded data removed]",
      "text/plain": [
       "<matplotlib.figure.Figure at 0x1757a3b4cf8>"
      ]
     },
     "metadata": {},
     "output_type": "display_data"
    }
   ],
   "source": [
    "data[\"chaoxiang\"].value_counts().plot(kind = \"bar\")\n",
    "plt.xlabel(\"朝向\")\n",
    "plt.ylabel(\"count\")\n",
    "plt.title(\"上海租房朝向分布柱状图\")\n",
    "plt.show()\n"
   ]
  },
  {
   "cell_type": "code",
   "execution_count": 13,
   "metadata": {
    "collapsed": false,
    "deletable": true,
    "editable": true
   },
   "outputs": [],
   "source": [
    "data[\"chaoxiang\"] = data[\"chaoxiang\"].apply(lambda x : x.strip())"
   ]
  },
  {
   "cell_type": "code",
   "execution_count": 14,
   "metadata": {
    "collapsed": true,
    "deletable": true,
    "editable": true
   },
   "outputs": [],
   "source": [
    "qita = [\"朝北\", \"朝东\", \"朝东北\", \"朝东南\", \"朝东西\", \"朝西\", \"朝西北\", \"朝西南\"]\n",
    "for each in qita:\n",
    "    data[\"chaoxiang\"] = data[\"chaoxiang\"].apply(lambda x : \"其他\" if x == each else x)"
   ]
  },
  {
   "cell_type": "code",
   "execution_count": 15,
   "metadata": {
    "collapsed": false,
    "deletable": true,
    "editable": true
   },
   "outputs": [
    {
     "data": {
      "text/plain": [
       "无朝向数据    14961\n",
       "朝南        8506\n",
       "朝南北       6118\n",
       "其他        1544\n",
       "Name: chaoxiang, dtype: int64"
      ]
     },
     "execution_count": 15,
     "metadata": {},
     "output_type": "execute_result"
    }
   ],
   "source": [
    "data[\"chaoxiang\"].value_counts()"
   ]
  },
  {
   "cell_type": "markdown",
   "metadata": {
    "deletable": true,
    "editable": true
   },
   "source": [
    "### 3、处理title"
   ]
  },
  {
   "cell_type": "markdown",
   "metadata": {
    "deletable": true,
    "editable": true
   },
   "source": [
    "###        没什么用，直接去掉好了"
   ]
  },
  {
   "cell_type": "code",
   "execution_count": 16,
   "metadata": {
    "collapsed": true,
    "deletable": true,
    "editable": true
   },
   "outputs": [],
   "source": [
    "data.drop(\"title\", axis = 1, inplace = True)"
   ]
  },
  {
   "cell_type": "markdown",
   "metadata": {
    "deletable": true,
    "editable": true
   },
   "source": [
    "### 4、处理日期"
   ]
  },
  {
   "cell_type": "code",
   "execution_count": 17,
   "metadata": {
    "collapsed": false,
    "deletable": true,
    "editable": true
   },
   "outputs": [
    {
     "data": {
      "text/plain": [
       "2017.09.06\\n\\t\\t\\t\\t\\t\\t\\t上架    708\n",
       "2017.09.03\\n\\t\\t\\t\\t\\t\\t\\t上架    683\n",
       "2017.09.10\\n\\t\\t\\t\\t\\t\\t\\t上架    681\n",
       "2017.09.02\\n\\t\\t\\t\\t\\t\\t\\t上架    659\n",
       "2017.09.09\\n\\t\\t\\t\\t\\t\\t\\t上架    656\n",
       "Name: date, dtype: int64"
      ]
     },
     "execution_count": 17,
     "metadata": {},
     "output_type": "execute_result"
    }
   ],
   "source": [
    "data[\"date\"].value_counts().head()"
   ]
  },
  {
   "cell_type": "code",
   "execution_count": 18,
   "metadata": {
    "collapsed": false,
    "deletable": true,
    "editable": true
   },
   "outputs": [],
   "source": [
    "data[\"date\"] = data[\"date\"].apply(lambda x : x[: 10])\n",
    "data[\"date\"] = pd.to_datetime(data[\"date\"])"
   ]
  },
  {
   "cell_type": "code",
   "execution_count": 19,
   "metadata": {
    "collapsed": false,
    "deletable": true,
    "editable": true
   },
   "outputs": [
    {
     "data": {
      "image/png": "[encoded data removed]",
      "text/plain": [
       "<matplotlib.figure.Figure at 0x1757afe5f60>"
      ]
     },
     "metadata": {},
     "output_type": "display_data"
    }
   ],
   "source": [
    "data[\"date\"].value_counts().plot()\n",
    "plt.xlabel(\"日期\")\n",
    "plt.ylabel(\"count\")\n",
    "plt.title(\"上海租房发布数量走势\")\n",
    "plt.show()"
   ]
  },
  {
   "cell_type": "markdown",
   "metadata": {
    "deletable": true,
    "editable": true
   },
   "source": [
    "### 5、处理带看次数"
   ]
  },
  {
   "cell_type": "markdown",
   "metadata": {
    "deletable": true,
    "editable": true
   },
   "source": [
    "### 切段：0为0次，1为1次，2为2-5次，3为6-10次，4为10次以上"
   ]
  },
  {
   "cell_type": "code",
   "execution_count": 20,
   "metadata": {
    "collapsed": false,
    "deletable": true,
    "editable": true
   },
   "outputs": [
    {
     "data": {
      "image/png": "[encoded data removed]",
      "text/plain": [
       "<matplotlib.figure.Figure at 0x1757b067be0>"
      ]
     },
     "metadata": {},
     "output_type": "display_data"
    }
   ],
   "source": [
    "data[\"kanguo\"] = data[\"kanguo\"].apply(lambda x : 2 if (2 <= x <= 5) else x)\n",
    "data[\"kanguo\"] = data[\"kanguo\"].apply(lambda x : 3 if (6 <= x <= 10) else x)\n",
    "data[\"kanguo\"] = data[\"kanguo\"].apply(lambda x : 4 if (x > 10) else x)\n",
    "data[\"kanguo\"].value_counts().plot(kind = \"bar\")\n",
    "plt.xlabel(\"带看次数\")\n",
    "plt.ylabel(\"count\")\n",
    "plt.title(\"上海租房带看次数分布柱状图\")\n",
    "plt.xticks([0, 1, 2, 3, 4], [\"0\", \"2-5\", \"1\", \"6-10\", \"> 10\"], rotation = 0)\n",
    "plt.show()"
   ]
  },
  {
   "cell_type": "code",
   "execution_count": 21,
   "metadata": {
    "collapsed": false,
    "deletable": true,
    "editable": true
   },
   "outputs": [
    {
     "data": {
      "text/plain": [
       "0    12859\n",
       "2     8107\n",
       "1     5146\n",
       "3     2916\n",
       "4     2101\n",
       "Name: kanguo, dtype: int64"
      ]
     },
     "execution_count": 21,
     "metadata": {},
     "output_type": "execute_result"
    }
   ],
   "source": [
    "data[\"kanguo\"].value_counts()"
   ]
  },
  {
   "cell_type": "markdown",
   "metadata": {
    "deletable": true,
    "editable": true
   },
   "source": [
    "### 6、处理面积"
   ]
  },
  {
   "cell_type": "code",
   "execution_count": 22,
   "metadata": {
    "collapsed": false,
    "deletable": true,
    "editable": true
   },
   "outputs": [],
   "source": [
    "a = r\"(.*?)平\"\n",
    "data[\"mianji\"] = data[\"mianji\"].apply(lambda x : re.findall(a, x)[0])\n",
    "data[\"mianji\"] = data[\"mianji\"].astype(np.int64)"
   ]
  },
  {
   "cell_type": "code",
   "execution_count": 21,
   "metadata": {
    "collapsed": false,
    "deletable": true,
    "editable": true
   },
   "outputs": [
    {
     "data": {
      "text/plain": [
       "count    31129.000000\n",
       "mean       102.962061\n",
       "std         76.504647\n",
       "min          1.000000\n",
       "25%         61.000000\n",
       "50%         89.000000\n",
       "75%        123.000000\n",
       "max       5500.000000\n",
       "Name: mianji, dtype: float64"
      ]
     },
     "execution_count": 21,
     "metadata": {},
     "output_type": "execute_result"
    }
   ],
   "source": [
    "data[\"mianji\"].describe()"
   ]
  },
  {
   "cell_type": "markdown",
   "metadata": {
    "deletable": true,
    "editable": true
   },
   "source": [
    "### 7、处理区"
   ]
  },
  {
   "cell_type": "code",
   "execution_count": 23,
   "metadata": {
    "collapsed": false,
    "deletable": true,
    "editable": true
   },
   "outputs": [
    {
     "data": {
      "image/png": "[encoded data removed]",
      "text/plain": [
       "<matplotlib.figure.Figure at 0x1757c553f98>"
      ]
     },
     "metadata": {},
     "output_type": "display_data"
    }
   ],
   "source": [
    "data[\"region\"].value_counts().plot(kind = \"barh\")\n",
    "plt.xlabel(\"count\")\n",
    "plt.title(\"上海各区租房数量分布条形图\")\n",
    "plt.show()"
   ]
  },
  {
   "cell_type": "markdown",
   "metadata": {
    "deletable": true,
    "editable": true
   },
   "source": [
    "### 8、分离X室X厅"
   ]
  },
  {
   "cell_type": "code",
   "execution_count": 24,
   "metadata": {
    "collapsed": false,
    "deletable": true,
    "editable": true
   },
   "outputs": [],
   "source": [
    "data[\"rooms\"] = data[\"shiting\"].apply(lambda x : re.findall(r\"(.*?)室\", x)[0])\n",
    "data[\"living_rooms\"] = data[\"shiting\"].apply(lambda x : re.findall(r\"室(.*?)厅\", x)[0])\n",
    "data[\"rooms\"] = data[\"rooms\"].astype(np.int64)\n",
    "data[\"living_rooms\"] = data[\"living_rooms\"].astype(np.int64)"
   ]
  },
  {
   "cell_type": "code",
   "execution_count": 25,
   "metadata": {
    "collapsed": false,
    "deletable": true,
    "editable": true
   },
   "outputs": [
    {
     "data": {
      "image/png": "[encoded data removed]",
      "text/plain": [
       "<matplotlib.figure.Figure at 0x1757b0f4be0>"
      ]
     },
     "metadata": {},
     "output_type": "display_data"
    }
   ],
   "source": [
    "data[\"shiting\"] = data[\"shiting\"].apply(lambda x : x.strip())\n",
    "aa = data[\"shiting\"].value_counts()\n",
    "#将计数为500以下的户型都纳入“其他”\n",
    "qita = aa[: 10].sum()\n",
    "aa = aa[: 10]\n",
    "aa[\"其他\"] = qita\n",
    "cc = pd.DataFrame(aa)\n",
    "cc[\"huxing\"] = cc.index\n",
    "fig, (ax, ax2) = plt.subplots(2, 1, sharex=True)\n",
    "ax.bar(range(1, 12), cc[\"shiting\"])\n",
    "ax2.bar(range(1, 12), cc[\"shiting\"])\n",
    "ax.set_ylim(28000, 30000)\n",
    "ax2.set_ylim(0, 10000)\n",
    "ax.spines[\"bottom\"].set_visible(False)\n",
    "ax2.spines[\"top\"].set_visible(False)\n",
    "ax.xaxis.tick_top()\n",
    "ax.tick_params(labeltop = \"off\")\n",
    "ax2.xaxis.tick_bottom()\n",
    "plt.xticks(range(1, 12), list(cc[\"huxing\"]), rotation = 60)\n",
    "\n",
    "#绘制坐标轴截断线\n",
    "d = .015\n",
    "kwargs = dict(transform=ax.transAxes, color='k', clip_on=False)\n",
    "ax.plot((-d, +d), (-d, +d), **kwargs)\n",
    "ax.plot((1 - d, 1 + d), (-d, +d), **kwargs)\n",
    "kwargs.update(transform=ax2.transAxes)\n",
    "ax2.plot((-d, +d), (1 - d, 1 + d), **kwargs)\n",
    "ax2.plot((1 - d, 1 + d), (1 - d, 1 + d), **kwargs)\n",
    "\n",
    "plt.xlabel(\"户型\")\n",
    "ax.set_title(\"上海租房户型分布柱状图\")\n",
    "ax.set_ylabel(\"count\", position = (0, 0))\n",
    "plt.show()"
   ]
  },
  {
   "cell_type": "markdown",
   "metadata": {
    "deletable": true,
    "editable": true
   },
   "source": [
    "### 画完图把shiting一列丢掉"
   ]
  },
  {
   "cell_type": "code",
   "execution_count": 26,
   "metadata": {
    "collapsed": false,
    "deletable": true,
    "editable": true
   },
   "outputs": [],
   "source": [
    "data.drop(\"shiting\", axis = 1, inplace = True)\n",
    "data.drop(\"date\", axis = 1, inplace = True)"
   ]
  },
  {
   "cell_type": "code",
   "execution_count": 33,
   "metadata": {
    "collapsed": false,
    "deletable": true,
    "editable": true
   },
   "outputs": [
    {
     "data": {
      "text/html": [
       "<div>\n",
       "<table border=\"1\" class=\"dataframe\">\n",
       "  <thead>\n",
       "    <tr style=\"text-align: right;\">\n",
       "      <th></th>\n",
       "      <th>chaoxiang</th>\n",
       "      <th>kanguo</th>\n",
       "      <th>mianji</th>\n",
       "      <th>price</th>\n",
       "      <th>region</th>\n",
       "      <th>water_supply_region</th>\n",
       "      <th>floor</th>\n",
       "      <th>rooms</th>\n",
       "      <th>living_rooms</th>\n",
       "    </tr>\n",
       "  </thead>\n",
       "  <tbody>\n",
       "    <tr>\n",
       "      <th>0</th>\n",
       "      <td>朝南</td>\n",
       "      <td>4</td>\n",
       "      <td>66</td>\n",
       "      <td>4600</td>\n",
       "      <td>浦东</td>\n",
       "      <td>中</td>\n",
       "      <td>1</td>\n",
       "      <td>2</td>\n",
       "      <td>1</td>\n",
       "    </tr>\n",
       "    <tr>\n",
       "      <th>1</th>\n",
       "      <td>朝南北</td>\n",
       "      <td>4</td>\n",
       "      <td>50</td>\n",
       "      <td>3700</td>\n",
       "      <td>闵行</td>\n",
       "      <td>高</td>\n",
       "      <td>1</td>\n",
       "      <td>1</td>\n",
       "      <td>1</td>\n",
       "    </tr>\n",
       "    <tr>\n",
       "      <th>2</th>\n",
       "      <td>朝南北</td>\n",
       "      <td>4</td>\n",
       "      <td>89</td>\n",
       "      <td>7500</td>\n",
       "      <td>浦东</td>\n",
       "      <td>中</td>\n",
       "      <td>2</td>\n",
       "      <td>3</td>\n",
       "      <td>2</td>\n",
       "    </tr>\n",
       "    <tr>\n",
       "      <th>3</th>\n",
       "      <td>朝南</td>\n",
       "      <td>4</td>\n",
       "      <td>32</td>\n",
       "      <td>7000</td>\n",
       "      <td>静安</td>\n",
       "      <td>中</td>\n",
       "      <td>0</td>\n",
       "      <td>1</td>\n",
       "      <td>0</td>\n",
       "    </tr>\n",
       "    <tr>\n",
       "      <th>4</th>\n",
       "      <td>无朝向数据</td>\n",
       "      <td>4</td>\n",
       "      <td>57</td>\n",
       "      <td>3800</td>\n",
       "      <td>杨浦</td>\n",
       "      <td>中</td>\n",
       "      <td>1</td>\n",
       "      <td>2</td>\n",
       "      <td>1</td>\n",
       "    </tr>\n",
       "  </tbody>\n",
       "</table>\n",
       "</div>"
      ],
      "text/plain": [
       "  chaoxiang  kanguo  mianji  price region water_supply_region  floor  rooms  \\\n",
       "0        朝南       4      66   4600     浦东                   中      1      2   \n",
       "1       朝南北       4      50   3700     闵行                   高      1      1   \n",
       "2       朝南北       4      89   7500     浦东                   中      2      3   \n",
       "3        朝南       4      32   7000     静安                   中      0      1   \n",
       "4     无朝向数据       4      57   3800     杨浦                   中      1      2   \n",
       "\n",
       "   living_rooms  \n",
       "0             1  \n",
       "1             1  \n",
       "2             2  \n",
       "3             0  \n",
       "4             1  "
      ]
     },
     "execution_count": 33,
     "metadata": {},
     "output_type": "execute_result"
    }
   ],
   "source": [
    "data.head()"
   ]
  },
  {
   "cell_type": "markdown",
   "metadata": {
    "deletable": true,
    "editable": true
   },
   "source": [
    "### 9、处理街道、小区"
   ]
  },
  {
   "cell_type": "markdown",
   "metadata": {
    "deletable": true,
    "editable": true
   },
   "source": [
    "### 比较杂乱，去掉好了"
   ]
  },
  {
   "cell_type": "code",
   "execution_count": 27,
   "metadata": {
    "collapsed": false,
    "deletable": true,
    "editable": true
   },
   "outputs": [],
   "source": [
    "data.drop([\"street\", \"xiaoqu\"], axis = 1, inplace = True)"
   ]
  },
  {
   "cell_type": "code",
   "execution_count": 28,
   "metadata": {
    "collapsed": false,
    "deletable": true,
    "editable": true,
    "scrolled": true
   },
   "outputs": [
    {
     "data": {
      "text/html": [
       "<div>\n",
       "<table border=\"1\" class=\"dataframe\">\n",
       "  <thead>\n",
       "    <tr style=\"text-align: right;\">\n",
       "      <th></th>\n",
       "      <th>chaoxiang</th>\n",
       "      <th>kanguo</th>\n",
       "      <th>mianji</th>\n",
       "      <th>price</th>\n",
       "      <th>region</th>\n",
       "      <th>water_supply_region</th>\n",
       "      <th>floor</th>\n",
       "      <th>rooms</th>\n",
       "      <th>living_rooms</th>\n",
       "    </tr>\n",
       "  </thead>\n",
       "  <tbody>\n",
       "    <tr>\n",
       "      <th>0</th>\n",
       "      <td>朝南</td>\n",
       "      <td>4</td>\n",
       "      <td>66</td>\n",
       "      <td>4600</td>\n",
       "      <td>浦东</td>\n",
       "      <td>中</td>\n",
       "      <td>1</td>\n",
       "      <td>2</td>\n",
       "      <td>1</td>\n",
       "    </tr>\n",
       "    <tr>\n",
       "      <th>1</th>\n",
       "      <td>朝南北</td>\n",
       "      <td>4</td>\n",
       "      <td>50</td>\n",
       "      <td>3700</td>\n",
       "      <td>闵行</td>\n",
       "      <td>高</td>\n",
       "      <td>1</td>\n",
       "      <td>1</td>\n",
       "      <td>1</td>\n",
       "    </tr>\n",
       "    <tr>\n",
       "      <th>2</th>\n",
       "      <td>朝南北</td>\n",
       "      <td>4</td>\n",
       "      <td>89</td>\n",
       "      <td>7500</td>\n",
       "      <td>浦东</td>\n",
       "      <td>中</td>\n",
       "      <td>2</td>\n",
       "      <td>3</td>\n",
       "      <td>2</td>\n",
       "    </tr>\n",
       "    <tr>\n",
       "      <th>3</th>\n",
       "      <td>朝南</td>\n",
       "      <td>4</td>\n",
       "      <td>32</td>\n",
       "      <td>7000</td>\n",
       "      <td>静安</td>\n",
       "      <td>中</td>\n",
       "      <td>0</td>\n",
       "      <td>1</td>\n",
       "      <td>0</td>\n",
       "    </tr>\n",
       "    <tr>\n",
       "      <th>4</th>\n",
       "      <td>无朝向数据</td>\n",
       "      <td>4</td>\n",
       "      <td>57</td>\n",
       "      <td>3800</td>\n",
       "      <td>杨浦</td>\n",
       "      <td>中</td>\n",
       "      <td>1</td>\n",
       "      <td>2</td>\n",
       "      <td>1</td>\n",
       "    </tr>\n",
       "  </tbody>\n",
       "</table>\n",
       "</div>"
      ],
      "text/plain": [
       "  chaoxiang  kanguo  mianji  price region water_supply_region  floor  rooms  \\\n",
       "0        朝南       4      66   4600     浦东                   中      1      2   \n",
       "1       朝南北       4      50   3700     闵行                   高      1      1   \n",
       "2       朝南北       4      89   7500     浦东                   中      2      3   \n",
       "3        朝南       4      32   7000     静安                   中      0      1   \n",
       "4     无朝向数据       4      57   3800     杨浦                   中      1      2   \n",
       "\n",
       "   living_rooms  \n",
       "0             1  \n",
       "1             1  \n",
       "2             2  \n",
       "3             0  \n",
       "4             1  "
      ]
     },
     "execution_count": 28,
     "metadata": {},
     "output_type": "execute_result"
    }
   ],
   "source": [
    "data.head()"
   ]
  },
  {
   "cell_type": "code",
   "execution_count": 36,
   "metadata": {
    "collapsed": false,
    "deletable": true,
    "editable": true
   },
   "outputs": [
    {
     "name": "stdout",
     "output_type": "stream",
     "text": [
      "<class 'pandas.core.frame.DataFrame'>\n",
      "Int64Index: 31129 entries, 0 to 31128\n",
      "Data columns (total 9 columns):\n",
      "chaoxiang              31129 non-null object\n",
      "kanguo                 31129 non-null int64\n",
      "mianji                 31129 non-null int64\n",
      "price                  31129 non-null int64\n",
      "region                 31129 non-null object\n",
      "water_supply_region    31129 non-null object\n",
      "floor                  31129 non-null int64\n",
      "rooms                  31129 non-null int64\n",
      "living_rooms           31129 non-null int64\n",
      "dtypes: int64(6), object(3)\n",
      "memory usage: 2.4+ MB\n"
     ]
    }
   ],
   "source": [
    "data.info()"
   ]
  },
  {
   "cell_type": "markdown",
   "metadata": {
    "deletable": true,
    "editable": true
   },
   "source": [
    "## 四、多变量分析"
   ]
  },
  {
   "cell_type": "markdown",
   "metadata": {
    "deletable": true,
    "editable": true
   },
   "source": [
    "### 1、各区租房价格"
   ]
  },
  {
   "cell_type": "code",
   "execution_count": 42,
   "metadata": {
    "collapsed": false,
    "deletable": true,
    "editable": true,
    "scrolled": true
   },
   "outputs": [
    {
     "data": {
      "image/png": "[encoded data removed]",
      "text/plain": [
       "<matplotlib.figure.Figure at 0x201fb885eb8>"
      ]
     },
     "metadata": {},
     "output_type": "display_data"
    }
   ],
   "source": [
    "from pylab import *  \n",
    "mpl.rcParams['font.sans-serif'] = ['SimHei']  \n",
    "sns.boxplot(x = \"price\", y = \"region\", data = data)\n",
    "plt.title(\"上海各区租房价格分布箱线图\")\n",
    "plt.xlim(0, 40000)\n",
    "plt.show()"
   ]
  },
  {
   "cell_type": "markdown",
   "metadata": {
    "deletable": true,
    "editable": true
   },
   "source": [
    "### 2、各区租房面积"
   ]
  },
  {
   "cell_type": "code",
   "execution_count": 43,
   "metadata": {
    "collapsed": false,
    "deletable": true,
    "editable": true
   },
   "outputs": [
    {
     "data": {
      "image/png": "[encoded data removed]",
      "text/plain": [
       "<matplotlib.figure.Figure at 0x201f96cd978>"
      ]
     },
     "metadata": {},
     "output_type": "display_data"
    }
   ],
   "source": [
    "sns.boxplot(x = \"mianji\", y = \"region\", data = data)\n",
    "plt.title(\"上海各区租房面积分布箱线图\")\n",
    "plt.xlim(0, 1000)\n",
    "plt.show()"
   ]
  },
  {
   "cell_type": "markdown",
   "metadata": {
    "deletable": true,
    "editable": true
   },
   "source": [
    "### 3、各区租房单价"
   ]
  },
  {
   "cell_type": "code",
   "execution_count": 45,
   "metadata": {
    "collapsed": false,
    "deletable": true,
    "editable": true
   },
   "outputs": [
    {
     "data": {
      "image/png": "[encoded data removed]",
      "text/plain": [
       "<matplotlib.figure.Figure at 0x201f8efbc50>"
      ]
     },
     "metadata": {},
     "output_type": "display_data"
    }
   ],
   "source": [
    "data[\"unit_price\"] = data[\"price\"] / data[\"mianji\"]\n",
    "sns.boxplot(x = \"unit_price\", y = \"region\", data = data)\n",
    "plt.title(\"上海各区租房单价分布箱线图\")\n",
    "plt.xlim(0, 600)\n",
    "plt.show()"
   ]
  },
  {
   "cell_type": "code",
   "execution_count": 44,
   "metadata": {
    "collapsed": false,
    "deletable": true,
    "editable": true
   },
   "outputs": [
    {
     "data": {
      "image/png": "[encoded data removed]",
      "text/plain": [
       "<matplotlib.figure.Figure at 0x201f9c31c88>"
      ]
     },
     "metadata": {},
     "output_type": "display_data"
    }
   ],
   "source": [
    "aa = data[\"unit_price\"].groupby(data[\"region\"]).median().sort_values(ascending = True)\n",
    "cc = pd.DataFrame(aa)\n",
    "cc[\"region\"] = cc.index\n",
    "cc[\"place_holder\"] = (150 - cc[\"unit_price\"]) / 2\n",
    "fig, ax = plt.subplots()\n",
    "ax.barh(range(len(cc)), cc[\"unit_price\"], align = \"center\", left = cc[\"place_holder\"])\n",
    "plt.yticks(range(len(cc)), cc[\"region\"], rotation = 0)\n",
    "labels = [\"%.2f\"%each for each in cc[\"unit_price\"]]\n",
    "for i in range(len(cc.iloc[4:, :])):\n",
    "    ax.text(x = 69, y = [k for k in range(len(cc))][i] - .2, s = labels[i], color = \"black\", size = 10)\n",
    "for i in range(len(cc.iloc[0:4, :])):\n",
    "    ax.text(x = 67.3, y = [14,15,16,17][i] - .2, s = labels[i + 14], color = \"black\", size = 10)\n",
    "plt.xlabel(\"unit_price\")\n",
    "plt.title(\"上海各区租房单价中位数漏斗图\")\n",
    "plt.show()"
   ]
  },
  {
   "cell_type": "markdown",
   "metadata": {
    "deletable": true,
    "editable": true
   },
   "source": [
    "### 4、朝向对价格的影响"
   ]
  },
  {
   "cell_type": "code",
   "execution_count": 32,
   "metadata": {
    "collapsed": false,
    "deletable": true,
    "editable": true
   },
   "outputs": [
    {
     "data": {
      "image/png": "[encoded data removed]",
      "text/plain": [
       "<matplotlib.figure.Figure at 0x1757c596f60>"
      ]
     },
     "metadata": {},
     "output_type": "display_data"
    }
   ],
   "source": [
    "from pylab import *  \n",
    "mpl.rcParams['font.sans-serif'] = ['SimHei']  \n",
    "sns.boxplot(x = \"chaoxiang\", y = \"price\", data = data)\n",
    "plt.xlabel(\"朝向\")\n",
    "plt.ylabel(\"价格\")\n",
    "plt.title(\"上海租房各朝向价格分布箱线图\")\n",
    "plt.ylim(0,50000)\n",
    "plt.show()"
   ]
  },
  {
   "cell_type": "markdown",
   "metadata": {
    "deletable": true,
    "editable": true
   },
   "source": [
    "## 五、租房价格预测"
   ]
  },
  {
   "cell_type": "markdown",
   "metadata": {
    "deletable": true,
    "editable": true
   },
   "source": [
    "### 1、预处理"
   ]
  },
  {
   "cell_type": "markdown",
   "metadata": {
    "deletable": true,
    "editable": true
   },
   "source": [
    "#### 分类变量one-hot encode"
   ]
  },
  {
   "cell_type": "code",
   "execution_count": 36,
   "metadata": {
    "collapsed": false,
    "deletable": true,
    "editable": true
   },
   "outputs": [
    {
     "data": {
      "text/html": [
       "<div>\n",
       "<table border=\"1\" class=\"dataframe\">\n",
       "  <thead>\n",
       "    <tr style=\"text-align: right;\">\n",
       "      <th></th>\n",
       "      <th>chaoxiang</th>\n",
       "      <th>kanguo</th>\n",
       "      <th>mianji</th>\n",
       "      <th>price</th>\n",
       "      <th>region</th>\n",
       "      <th>water_supply_region</th>\n",
       "      <th>floor</th>\n",
       "      <th>rooms</th>\n",
       "      <th>living_rooms</th>\n",
       "    </tr>\n",
       "  </thead>\n",
       "  <tbody>\n",
       "    <tr>\n",
       "      <th>0</th>\n",
       "      <td>朝南</td>\n",
       "      <td>4</td>\n",
       "      <td>66</td>\n",
       "      <td>4600</td>\n",
       "      <td>浦东</td>\n",
       "      <td>中</td>\n",
       "      <td>1</td>\n",
       "      <td>2</td>\n",
       "      <td>1</td>\n",
       "    </tr>\n",
       "    <tr>\n",
       "      <th>1</th>\n",
       "      <td>朝南北</td>\n",
       "      <td>4</td>\n",
       "      <td>50</td>\n",
       "      <td>3700</td>\n",
       "      <td>闵行</td>\n",
       "      <td>高</td>\n",
       "      <td>1</td>\n",
       "      <td>1</td>\n",
       "      <td>1</td>\n",
       "    </tr>\n",
       "    <tr>\n",
       "      <th>2</th>\n",
       "      <td>朝南北</td>\n",
       "      <td>4</td>\n",
       "      <td>89</td>\n",
       "      <td>7500</td>\n",
       "      <td>浦东</td>\n",
       "      <td>中</td>\n",
       "      <td>2</td>\n",
       "      <td>3</td>\n",
       "      <td>2</td>\n",
       "    </tr>\n",
       "    <tr>\n",
       "      <th>3</th>\n",
       "      <td>朝南</td>\n",
       "      <td>4</td>\n",
       "      <td>32</td>\n",
       "      <td>7000</td>\n",
       "      <td>静安</td>\n",
       "      <td>中</td>\n",
       "      <td>0</td>\n",
       "      <td>1</td>\n",
       "      <td>0</td>\n",
       "    </tr>\n",
       "    <tr>\n",
       "      <th>4</th>\n",
       "      <td>无朝向数据</td>\n",
       "      <td>4</td>\n",
       "      <td>57</td>\n",
       "      <td>3800</td>\n",
       "      <td>杨浦</td>\n",
       "      <td>中</td>\n",
       "      <td>1</td>\n",
       "      <td>2</td>\n",
       "      <td>1</td>\n",
       "    </tr>\n",
       "    <tr>\n",
       "      <th>5</th>\n",
       "      <td>朝南北</td>\n",
       "      <td>4</td>\n",
       "      <td>90</td>\n",
       "      <td>4600</td>\n",
       "      <td>松江</td>\n",
       "      <td>高</td>\n",
       "      <td>2</td>\n",
       "      <td>2</td>\n",
       "      <td>2</td>\n",
       "    </tr>\n",
       "    <tr>\n",
       "      <th>6</th>\n",
       "      <td>朝南</td>\n",
       "      <td>4</td>\n",
       "      <td>68</td>\n",
       "      <td>5500</td>\n",
       "      <td>闵行</td>\n",
       "      <td>高</td>\n",
       "      <td>1</td>\n",
       "      <td>2</td>\n",
       "      <td>2</td>\n",
       "    </tr>\n",
       "    <tr>\n",
       "      <th>7</th>\n",
       "      <td>朝南</td>\n",
       "      <td>3</td>\n",
       "      <td>68</td>\n",
       "      <td>5300</td>\n",
       "      <td>闵行</td>\n",
       "      <td>中</td>\n",
       "      <td>1</td>\n",
       "      <td>2</td>\n",
       "      <td>1</td>\n",
       "    </tr>\n",
       "    <tr>\n",
       "      <th>8</th>\n",
       "      <td>其他</td>\n",
       "      <td>3</td>\n",
       "      <td>98</td>\n",
       "      <td>12000</td>\n",
       "      <td>黄浦</td>\n",
       "      <td>高</td>\n",
       "      <td>4</td>\n",
       "      <td>2</td>\n",
       "      <td>2</td>\n",
       "    </tr>\n",
       "    <tr>\n",
       "      <th>9</th>\n",
       "      <td>无朝向数据</td>\n",
       "      <td>4</td>\n",
       "      <td>50</td>\n",
       "      <td>5960</td>\n",
       "      <td>静安</td>\n",
       "      <td>高</td>\n",
       "      <td>4</td>\n",
       "      <td>1</td>\n",
       "      <td>1</td>\n",
       "    </tr>\n",
       "  </tbody>\n",
       "</table>\n",
       "</div>"
      ],
      "text/plain": [
       "  chaoxiang  kanguo  mianji  price region water_supply_region  floor  rooms  \\\n",
       "0        朝南       4      66   4600     浦东                   中      1      2   \n",
       "1       朝南北       4      50   3700     闵行                   高      1      1   \n",
       "2       朝南北       4      89   7500     浦东                   中      2      3   \n",
       "3        朝南       4      32   7000     静安                   中      0      1   \n",
       "4     无朝向数据       4      57   3800     杨浦                   中      1      2   \n",
       "5       朝南北       4      90   4600     松江                   高      2      2   \n",
       "6        朝南       4      68   5500     闵行                   高      1      2   \n",
       "7        朝南       3      68   5300     闵行                   中      1      2   \n",
       "8        其他       3      98  12000     黄浦                   高      4      2   \n",
       "9     无朝向数据       4      50   5960     静安                   高      4      1   \n",
       "\n",
       "   living_rooms  \n",
       "0             1  \n",
       "1             1  \n",
       "2             2  \n",
       "3             0  \n",
       "4             1  \n",
       "5             2  \n",
       "6             2  \n",
       "7             1  \n",
       "8             2  \n",
       "9             1  "
      ]
     },
     "execution_count": 36,
     "metadata": {},
     "output_type": "execute_result"
    }
   ],
   "source": [
    "data.head(10)"
   ]
  },
  {
   "cell_type": "code",
   "execution_count": 35,
   "metadata": {
    "collapsed": false,
    "deletable": true,
    "editable": true
   },
   "outputs": [
    {
     "name": "stdout",
     "output_type": "stream",
     "text": [
      "<class 'pandas.core.frame.DataFrame'>\n",
      "Int64Index: 31129 entries, 0 to 31128\n",
      "Data columns (total 9 columns):\n",
      "chaoxiang              31129 non-null object\n",
      "kanguo                 31129 non-null int64\n",
      "mianji                 31129 non-null int64\n",
      "price                  31129 non-null int64\n",
      "region                 31129 non-null object\n",
      "water_supply_region    31129 non-null object\n",
      "floor                  31129 non-null int64\n",
      "rooms                  31129 non-null int64\n",
      "living_rooms           31129 non-null int64\n",
      "dtypes: int64(6), object(3)\n",
      "memory usage: 2.4+ MB\n"
     ]
    }
   ],
   "source": [
    "data.info()"
   ]
  },
  {
   "cell_type": "code",
   "execution_count": 37,
   "metadata": {
    "collapsed": false,
    "deletable": true,
    "editable": true
   },
   "outputs": [
    {
     "name": "stdout",
     "output_type": "stream",
     "text": [
      "<class 'pandas.core.frame.DataFrame'>\n",
      "Int64Index: 31129 entries, 0 to 31128\n",
      "Data columns (total 9 columns):\n",
      "chaoxiang              31129 non-null object\n",
      "kanguo                 31129 non-null object\n",
      "mianji                 31129 non-null int64\n",
      "price                  31129 non-null int64\n",
      "region                 31129 non-null object\n",
      "water_supply_region    31129 non-null object\n",
      "floor                  31129 non-null object\n",
      "rooms                  31129 non-null int64\n",
      "living_rooms           31129 non-null int64\n",
      "dtypes: int64(4), object(5)\n",
      "memory usage: 2.4+ MB\n"
     ]
    }
   ],
   "source": [
    "data[\"kanguo\"] = data[\"kanguo\"].astype(str)\n",
    "data[\"floor\"] = data[\"floor\"].astype(str)\n",
    "data.info()"
   ]
  },
  {
   "cell_type": "code",
   "execution_count": 38,
   "metadata": {
    "collapsed": false,
    "deletable": true,
    "editable": true
   },
   "outputs": [
    {
     "data": {
      "text/html": [
       "<div>\n",
       "<table border=\"1\" class=\"dataframe\">\n",
       "  <thead>\n",
       "    <tr style=\"text-align: right;\">\n",
       "      <th></th>\n",
       "      <th>mianji</th>\n",
       "      <th>price</th>\n",
       "      <th>rooms</th>\n",
       "      <th>living_rooms</th>\n",
       "      <th>chaoxiang_其他</th>\n",
       "      <th>chaoxiang_无朝向数据</th>\n",
       "      <th>chaoxiang_朝南</th>\n",
       "      <th>chaoxiang_朝南北</th>\n",
       "      <th>kanguo_0</th>\n",
       "      <th>kanguo_1</th>\n",
       "      <th>...</th>\n",
       "      <th>region_黄浦</th>\n",
       "      <th>water_supply_region_中</th>\n",
       "      <th>water_supply_region_低</th>\n",
       "      <th>water_supply_region_无</th>\n",
       "      <th>water_supply_region_高</th>\n",
       "      <th>floor_0</th>\n",
       "      <th>floor_1</th>\n",
       "      <th>floor_2</th>\n",
       "      <th>floor_3</th>\n",
       "      <th>floor_4</th>\n",
       "    </tr>\n",
       "  </thead>\n",
       "  <tbody>\n",
       "    <tr>\n",
       "      <th>0</th>\n",
       "      <td>66</td>\n",
       "      <td>4600</td>\n",
       "      <td>2</td>\n",
       "      <td>1</td>\n",
       "      <td>0</td>\n",
       "      <td>0</td>\n",
       "      <td>1</td>\n",
       "      <td>0</td>\n",
       "      <td>0</td>\n",
       "      <td>0</td>\n",
       "      <td>...</td>\n",
       "      <td>0</td>\n",
       "      <td>1</td>\n",
       "      <td>0</td>\n",
       "      <td>0</td>\n",
       "      <td>0</td>\n",
       "      <td>0</td>\n",
       "      <td>1</td>\n",
       "      <td>0</td>\n",
       "      <td>0</td>\n",
       "      <td>0</td>\n",
       "    </tr>\n",
       "    <tr>\n",
       "      <th>1</th>\n",
       "      <td>50</td>\n",
       "      <td>3700</td>\n",
       "      <td>1</td>\n",
       "      <td>1</td>\n",
       "      <td>0</td>\n",
       "      <td>0</td>\n",
       "      <td>0</td>\n",
       "      <td>1</td>\n",
       "      <td>0</td>\n",
       "      <td>0</td>\n",
       "      <td>...</td>\n",
       "      <td>0</td>\n",
       "      <td>0</td>\n",
       "      <td>0</td>\n",
       "      <td>0</td>\n",
       "      <td>1</td>\n",
       "      <td>0</td>\n",
       "      <td>1</td>\n",
       "      <td>0</td>\n",
       "      <td>0</td>\n",
       "      <td>0</td>\n",
       "    </tr>\n",
       "    <tr>\n",
       "      <th>2</th>\n",
       "      <td>89</td>\n",
       "      <td>7500</td>\n",
       "      <td>3</td>\n",
       "      <td>2</td>\n",
       "      <td>0</td>\n",
       "      <td>0</td>\n",
       "      <td>0</td>\n",
       "      <td>1</td>\n",
       "      <td>0</td>\n",
       "      <td>0</td>\n",
       "      <td>...</td>\n",
       "      <td>0</td>\n",
       "      <td>1</td>\n",
       "      <td>0</td>\n",
       "      <td>0</td>\n",
       "      <td>0</td>\n",
       "      <td>0</td>\n",
       "      <td>0</td>\n",
       "      <td>1</td>\n",
       "      <td>0</td>\n",
       "      <td>0</td>\n",
       "    </tr>\n",
       "    <tr>\n",
       "      <th>3</th>\n",
       "      <td>32</td>\n",
       "      <td>7000</td>\n",
       "      <td>1</td>\n",
       "      <td>0</td>\n",
       "      <td>0</td>\n",
       "      <td>0</td>\n",
       "      <td>1</td>\n",
       "      <td>0</td>\n",
       "      <td>0</td>\n",
       "      <td>0</td>\n",
       "      <td>...</td>\n",
       "      <td>0</td>\n",
       "      <td>1</td>\n",
       "      <td>0</td>\n",
       "      <td>0</td>\n",
       "      <td>0</td>\n",
       "      <td>1</td>\n",
       "      <td>0</td>\n",
       "      <td>0</td>\n",
       "      <td>0</td>\n",
       "      <td>0</td>\n",
       "    </tr>\n",
       "    <tr>\n",
       "      <th>4</th>\n",
       "      <td>57</td>\n",
       "      <td>3800</td>\n",
       "      <td>2</td>\n",
       "      <td>1</td>\n",
       "      <td>0</td>\n",
       "      <td>1</td>\n",
       "      <td>0</td>\n",
       "      <td>0</td>\n",
       "      <td>0</td>\n",
       "      <td>0</td>\n",
       "      <td>...</td>\n",
       "      <td>0</td>\n",
       "      <td>1</td>\n",
       "      <td>0</td>\n",
       "      <td>0</td>\n",
       "      <td>0</td>\n",
       "      <td>0</td>\n",
       "      <td>1</td>\n",
       "      <td>0</td>\n",
       "      <td>0</td>\n",
       "      <td>0</td>\n",
       "    </tr>\n",
       "  </tbody>\n",
       "</table>\n",
       "<p>5 rows × 40 columns</p>\n",
       "</div>"
      ],
      "text/plain": [
       "   mianji  price  rooms  living_rooms  chaoxiang_其他  chaoxiang_无朝向数据  \\\n",
       "0      66   4600      2             1             0                0   \n",
       "1      50   3700      1             1             0                0   \n",
       "2      89   7500      3             2             0                0   \n",
       "3      32   7000      1             0             0                0   \n",
       "4      57   3800      2             1             0                1   \n",
       "\n",
       "   chaoxiang_朝南  chaoxiang_朝南北  kanguo_0  kanguo_1   ...     region_黄浦  \\\n",
       "0             1              0         0         0   ...             0   \n",
       "1             0              1         0         0   ...             0   \n",
       "2             0              1         0         0   ...             0   \n",
       "3             1              0         0         0   ...             0   \n",
       "4             0              0         0         0   ...             0   \n",
       "\n",
       "   water_supply_region_中  water_supply_region_低  water_supply_region_无  \\\n",
       "0                      1                      0                      0   \n",
       "1                      0                      0                      0   \n",
       "2                      1                      0                      0   \n",
       "3                      1                      0                      0   \n",
       "4                      1                      0                      0   \n",
       "\n",
       "   water_supply_region_高  floor_0  floor_1  floor_2  floor_3  floor_4  \n",
       "0                      0        0        1        0        0        0  \n",
       "1                      1        0        1        0        0        0  \n",
       "2                      0        0        0        1        0        0  \n",
       "3                      0        1        0        0        0        0  \n",
       "4                      0        0        1        0        0        0  \n",
       "\n",
       "[5 rows x 40 columns]"
      ]
     },
     "execution_count": 38,
     "metadata": {},
     "output_type": "execute_result"
    }
   ],
   "source": [
    "new_data = pd.get_dummies(data)\n",
    "new_data.head()"
   ]
  },
  {
   "cell_type": "code",
   "execution_count": 39,
   "metadata": {
    "collapsed": false,
    "deletable": true,
    "editable": true
   },
   "outputs": [
    {
     "data": {
      "text/plain": [
       "Index(['mianji', 'price', 'rooms', 'living_rooms', 'chaoxiang_其他',\n",
       "       'chaoxiang_无朝向数据', 'chaoxiang_朝南', 'chaoxiang_朝南北', 'kanguo_0',\n",
       "       'kanguo_1', 'kanguo_2', 'kanguo_3', 'kanguo_4', 'region_上海周边',\n",
       "       'region_嘉定', 'region_奉贤', 'region_宝山', 'region_崇明', 'region_徐汇',\n",
       "       'region_普陀', 'region_杨浦', 'region_松江', 'region_浦东', 'region_虹口',\n",
       "       'region_金山', 'region_长宁', 'region_闵行', 'region_闸北', 'region_青浦',\n",
       "       'region_静安', 'region_黄浦', 'water_supply_region_中',\n",
       "       'water_supply_region_低', 'water_supply_region_无',\n",
       "       'water_supply_region_高', 'floor_0', 'floor_1', 'floor_2', 'floor_3',\n",
       "       'floor_4'],\n",
       "      dtype='object')"
      ]
     },
     "execution_count": 39,
     "metadata": {},
     "output_type": "execute_result"
    }
   ],
   "source": [
    "new_data.columns"
   ]
  },
  {
   "cell_type": "markdown",
   "metadata": {
    "deletable": true,
    "editable": true
   },
   "source": [
    "### 2、分集"
   ]
  },
  {
   "cell_type": "code",
   "execution_count": 49,
   "metadata": {
    "collapsed": false,
    "deletable": true,
    "editable": true
   },
   "outputs": [
    {
     "name": "stdout",
     "output_type": "stream",
     "text": [
      "(21790, 39)\n",
      "(9339, 39)\n",
      "(21790,)\n",
      "(9339,)\n"
     ]
    }
   ],
   "source": [
    "from sklearn.model_selection import train_test_split\n",
    "\n",
    "X = new_data.drop(\"price\", axis = 1).values\n",
    "y = new_data[\"price\"].values\n",
    "X_train, X_test, y_train, y_test = train_test_split(X, y, test_size = .3, random_state = 71)\n",
    "print(X_train.shape)\n",
    "print(X_test.shape)\n",
    "print(y_train.shape)\n",
    "print(y_test.shape)"
   ]
  },
  {
   "cell_type": "markdown",
   "metadata": {
    "deletable": true,
    "editable": true
   },
   "source": [
    "### 3、随机森林"
   ]
  },
  {
   "cell_type": "code",
   "execution_count": 50,
   "metadata": {
    "collapsed": false,
    "deletable": true,
    "editable": true
   },
   "outputs": [
    {
     "name": "stdout",
     "output_type": "stream",
     "text": [
      "R^2 train: 0.845, test: 0.627\n"
     ]
    }
   ],
   "source": [
    "from sklearn.ensemble import RandomForestRegressor\n",
    "from sklearn.metrics import r2_score\n",
    "\n",
    "rf = RandomForestRegressor(n_estimators = 1000, n_jobs = 7, max_depth = 10, random_state = 71)\n",
    "rf.fit(X_train, y_train)\n",
    "y_train_pred = rf.predict(X_train)\n",
    "y_test_pred = rf.predict(X_test)\n",
    "print(\"R^2 train: %.3f, test: %.3f\" % (r2_score(y_train, y_train_pred), r2_score(y_test, y_test_pred)))"
   ]
  }
 ],
 "metadata": {
  "kernelspec": {
   "display_name": "Python 3",
   "language": "python",
   "name": "python3"
  },
  "language_info": {
   "codemirror_mode": {
    "name": "ipython",
    "version": 3
   },
   "file_extension": ".py",
   "mimetype": "text/x-python",
   "name": "python",
   "nbconvert_exporter": "python",
   "pygments_lexer": "ipython3",
   "version": "3.6.0"
  }
 },
 "nbformat": 4,
 "nbformat_minor": 2
}
